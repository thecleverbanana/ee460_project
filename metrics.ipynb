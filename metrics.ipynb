{
 "cells": [
  {
   "cell_type": "code",
   "execution_count": 1,
   "id": "aa74a21b",
   "metadata": {},
   "outputs": [
    {
     "name": "stderr",
     "output_type": "stream",
     "text": [
      "/opt/anaconda3/envs/ee460_new_310/lib/python3.10/site-packages/tqdm/auto.py:21: TqdmWarning: IProgress not found. Please update jupyter and ipywidgets. See https://ipywidgets.readthedocs.io/en/stable/user_install.html\n",
      "  from .autonotebook import tqdm as notebook_tqdm\n"
     ]
    }
   ],
   "source": [
    "import os\n",
    "import csv\n",
    "import datetime\n",
    "import pandas as pd\n",
    "import optuna\n",
    "import optuna.visualization as vis\n",
    "from models.fir_regression import FIR_Regression\n",
    "from models.support_vector_regression_with_RBF import SVR_RBF\n",
    "from utils.loader import load_data_with_logReturn\n",
    "from utils.device import get_best_device"
   ]
  },
  {
   "cell_type": "code",
   "execution_count": 2,
   "id": "d836f3dc",
   "metadata": {},
   "outputs": [],
   "source": [
    "class BacktestRunner:\n",
    "    def __init__(self, model_class, model_config):\n",
    "        self.model_class = model_class\n",
    "        self.model_config = model_config\n",
    "        self.model = model_class(**model_config)\n",
    "        self.best_model = None\n",
    "        self.eval_result = None\n",
    "        self.sim_result = None\n",
    "        self.sim_fig = None\n",
    "\n",
    "    def train_optimal_model(self):\n",
    "        self.model.train()\n",
    "        self.best_model = self.model\n",
    "        return self.best_model\n",
    "\n",
    "    def evaluate_model(self):\n",
    "        self.eval_result = self.model.evaluate()\n",
    "        return self.eval_result\n",
    "\n",
    "    def run_real_world_simulation(self, sim_class, sim_config):\n",
    "        sim = sim_class(model=self.best_model.model,\n",
    "                        scaler=self.model.scaler,\n",
    "                        **sim_config)\n",
    "        self.sim_result, self.sim_fig = sim.run_simulation()\n",
    "        return self.sim_result, self.sim_fig\n",
    "\n",
    "    def log_results(self, log_root=\"log\", log_name=None):\n",
    "        if self.eval_result is None or self.sim_result is None:\n",
    "            raise ValueError(\"Must run evaluate_model and run_real_world_simulation before logging.\")\n",
    "\n",
    "        if log_name is None:\n",
    "            timestamp = datetime.now().strftime(\"%Y%m%d_%H%M%S\")\n",
    "            log_name = f\"log_{timestamp}\"\n",
    "\n",
    "        model_name = self.model_class.__name__\n",
    "        log_dir = os.path.join(log_root, model_name)\n",
    "        fig_dir = os.path.join(log_dir, \"figs\")\n",
    "        os.makedirs(log_dir, exist_ok=True)\n",
    "        os.makedirs(fig_dir, exist_ok=True)\n",
    "\n",
    "        csv_path = os.path.join(log_dir, f\"{log_name}.csv\")\n",
    "\n",
    "        # Unified config handling\n",
    "        config_to_log = self.model_config[\"config\"] if \"config\" in self.model_config else self.model_config.copy()\n",
    "        config_to_log = config_to_log.copy()\n",
    "        config_to_log[\"device\"] = str(config_to_log.get(\"device\", \"\"))\n",
    "\n",
    "        log_entry = {\n",
    "            \"train_val_start\": self.model_config[\"train_val_test_start\"],\n",
    "            \"train_val_end\": self.model_config[\"train_val_test_end\"],\n",
    "            \"test_start\": self.model_config[\"train_val_test_start\"],\n",
    "            \"test_end\": self.model_config[\"train_val_test_end\"],\n",
    "            **self.eval_result,\n",
    "            **self.sim_result,\n",
    "            **config_to_log\n",
    "        }\n",
    "\n",
    "        file_exists = os.path.isfile(csv_path)\n",
    "        with open(csv_path, mode=\"a\", newline=\"\") as f:\n",
    "            writer = csv.DictWriter(f, fieldnames=log_entry.keys())\n",
    "            if not file_exists:\n",
    "                writer.writeheader()\n",
    "            writer.writerow(log_entry)\n",
    "\n",
    "        # Save figure if available\n",
    "        if hasattr(self, \"sim_fig\") and self.sim_fig is not None:\n",
    "            fig_path = os.path.join(fig_dir, f\"{log_name}.png\")\n",
    "            self.sim_fig.savefig(fig_path)\n",
    "            print(f\"[INFO] Saved figure to {fig_path}\")\n"
   ]
  },
  {
   "cell_type": "code",
   "execution_count": 3,
   "id": "67be3684",
   "metadata": {},
   "outputs": [],
   "source": [
    "device = get_best_device()"
   ]
  },
  {
   "cell_type": "markdown",
   "id": "32fa554e",
   "metadata": {},
   "source": [
    "## MLP"
   ]
  },
  {
   "cell_type": "code",
   "execution_count": 4,
   "id": "44b9c27f",
   "metadata": {},
   "outputs": [],
   "source": [
    "from models.mlp import MLP_Regression, MLP_Simulation"
   ]
  },
  {
   "cell_type": "code",
   "execution_count": 5,
   "id": "809ec5a2",
   "metadata": {},
   "outputs": [],
   "source": [
    "features = [\n",
    "    \"Open\", \"High\", \"Low\", \"Close\", \"Volume\",\n",
    "    \"LogReturn_Lag1\", \"LogReturn_Lag2\", \"LogReturn_Lag3\",\n",
    "    \"LogReturn_Lag4\", \"LogReturn_Lag5\"\n",
    "]\n",
    "\n",
    "base_config_template = {\n",
    "    \"csv_path\": \"stocks/AAPL.csv\",\n",
    "    \"features\": features,\n",
    "    \"target\": \"LogReturn\",\n",
    "    \"loader_func\": load_data_with_logReturn,\n",
    "}\n",
    "\n",
    "\n",
    "# Define candidate date ranges\n",
    "date_ranges = [\n",
    "    ('1990-01-01', '2000-01-01'),\n",
    "    ('1992-01-01', '2002-01-01'),\n",
    "    ('1994-01-01', '2004-01-01'),\n",
    "    ('1996-01-01', '2006-01-01'),\n",
    "    ('1998-01-01', '2008-01-01'),\n",
    "    ('2000-01-01', '2010-01-01'),\n",
    "    ('2002-01-01', '2012-01-01'),\n",
    "    ('2004-01-01', '2014-01-01'),\n",
    "    ('2006-01-01', '2016-01-01'),\n",
    "    ('2008-01-01', '2018-01-01'),\n",
    "    ('2010-01-01', '2020-01-01'),\n",
    "    ('2012-01-01', '2022-01-01'),\n",
    "    ('2014-01-01', '2024-01-01')\n",
    "]\n",
    "\n",
    "def objective(trial):\n",
    "    # Select a training date range\n",
    "    train_start, train_end = trial.suggest_categorical(\"train_date_range\", date_ranges)\n",
    "\n",
    "    # More granular and diverse hyperparameter space\n",
    "    config = {\n",
    "        \"window\": trial.suggest_int(\"window\", 10, 120, step=10),\n",
    "        \"stride\": trial.suggest_int(\"stride\", 5, 100, step=5),\n",
    "        \"batch_size\": trial.suggest_categorical(\"batch_size\", [16, 32, 64, 128]),\n",
    "        \"shuffle_train_set\": False,\n",
    "        \"lr\": trial.suggest_float(\"lr\", 1e-5, 1e-2, log=True),\n",
    "        \"epochs\": trial.suggest_int(\"epochs\", 10, 50, step=5),\n",
    "        \"dropout_rate\": trial.suggest_float(\"dropout_rate\", 0.0, 0.6, step=0.05),\n",
    "        \"device\": device,\n",
    "        \"hidden_sizes\": trial.suggest_categorical(\"hidden_sizes\", [\n",
    "            [64], [128, 64], [256, 128], [256, 128, 64],\n",
    "            [512, 256, 128], [512, 256, 128, 64]\n",
    "        ])\n",
    "    }\n",
    "\n",
    "    # Inject time range into config\n",
    "    base_config = {\n",
    "        **base_config_template,\n",
    "        \"train_val_test_start\": train_start,\n",
    "        \"train_val_test_end\": train_end\n",
    "    }\n",
    "\n",
    "    mlp_config = {\n",
    "        **base_config,\n",
    "        \"config\": config\n",
    "    }\n",
    "\n",
    "    runner = BacktestRunner(MLP_Regression, mlp_config)\n",
    "    runner.train_optimal_model()\n",
    "    eval_result = runner.evaluate_model()\n",
    "    \n",
    "    return -eval_result[\"Val RMSE\"]"
   ]
  },
  {
   "cell_type": "code",
   "execution_count": 6,
   "id": "a7280548",
   "metadata": {},
   "outputs": [
    {
     "name": "stderr",
     "output_type": "stream",
     "text": [
      "[I 2025-05-07 12:02:28,025] A new study created in memory with name: no-name-4a9ab730-cccc-4dc7-926b-31bc9ac05773\n",
      "/opt/anaconda3/envs/ee460_new_310/lib/python3.10/site-packages/optuna/distributions.py:515: UserWarning: Choices for a categorical distribution should be a tuple of None, bool, int, float and str for persistent storage but contains ('1990-01-01', '2000-01-01') which is of type tuple.\n",
      "  warnings.warn(message)\n",
      "/opt/anaconda3/envs/ee460_new_310/lib/python3.10/site-packages/optuna/distributions.py:515: UserWarning: Choices for a categorical distribution should be a tuple of None, bool, int, float and str for persistent storage but contains ('1992-01-01', '2002-01-01') which is of type tuple.\n",
      "  warnings.warn(message)\n",
      "/opt/anaconda3/envs/ee460_new_310/lib/python3.10/site-packages/optuna/distributions.py:515: UserWarning: Choices for a categorical distribution should be a tuple of None, bool, int, float and str for persistent storage but contains ('1994-01-01', '2004-01-01') which is of type tuple.\n",
      "  warnings.warn(message)\n",
      "/opt/anaconda3/envs/ee460_new_310/lib/python3.10/site-packages/optuna/distributions.py:515: UserWarning: Choices for a categorical distribution should be a tuple of None, bool, int, float and str for persistent storage but contains ('1996-01-01', '2006-01-01') which is of type tuple.\n",
      "  warnings.warn(message)\n",
      "/opt/anaconda3/envs/ee460_new_310/lib/python3.10/site-packages/optuna/distributions.py:515: UserWarning: Choices for a categorical distribution should be a tuple of None, bool, int, float and str for persistent storage but contains ('1998-01-01', '2008-01-01') which is of type tuple.\n",
      "  warnings.warn(message)\n",
      "/opt/anaconda3/envs/ee460_new_310/lib/python3.10/site-packages/optuna/distributions.py:515: UserWarning: Choices for a categorical distribution should be a tuple of None, bool, int, float and str for persistent storage but contains ('2000-01-01', '2010-01-01') which is of type tuple.\n",
      "  warnings.warn(message)\n",
      "/opt/anaconda3/envs/ee460_new_310/lib/python3.10/site-packages/optuna/distributions.py:515: UserWarning: Choices for a categorical distribution should be a tuple of None, bool, int, float and str for persistent storage but contains ('2002-01-01', '2012-01-01') which is of type tuple.\n",
      "  warnings.warn(message)\n",
      "/opt/anaconda3/envs/ee460_new_310/lib/python3.10/site-packages/optuna/distributions.py:515: UserWarning: Choices for a categorical distribution should be a tuple of None, bool, int, float and str for persistent storage but contains ('2004-01-01', '2014-01-01') which is of type tuple.\n",
      "  warnings.warn(message)\n",
      "/opt/anaconda3/envs/ee460_new_310/lib/python3.10/site-packages/optuna/distributions.py:515: UserWarning: Choices for a categorical distribution should be a tuple of None, bool, int, float and str for persistent storage but contains ('2006-01-01', '2016-01-01') which is of type tuple.\n",
      "  warnings.warn(message)\n",
      "/opt/anaconda3/envs/ee460_new_310/lib/python3.10/site-packages/optuna/distributions.py:515: UserWarning: Choices for a categorical distribution should be a tuple of None, bool, int, float and str for persistent storage but contains ('2008-01-01', '2018-01-01') which is of type tuple.\n",
      "  warnings.warn(message)\n",
      "/opt/anaconda3/envs/ee460_new_310/lib/python3.10/site-packages/optuna/distributions.py:515: UserWarning: Choices for a categorical distribution should be a tuple of None, bool, int, float and str for persistent storage but contains ('2010-01-01', '2020-01-01') which is of type tuple.\n",
      "  warnings.warn(message)\n",
      "/opt/anaconda3/envs/ee460_new_310/lib/python3.10/site-packages/optuna/distributions.py:515: UserWarning: Choices for a categorical distribution should be a tuple of None, bool, int, float and str for persistent storage but contains ('2012-01-01', '2022-01-01') which is of type tuple.\n",
      "  warnings.warn(message)\n",
      "/opt/anaconda3/envs/ee460_new_310/lib/python3.10/site-packages/optuna/distributions.py:515: UserWarning: Choices for a categorical distribution should be a tuple of None, bool, int, float and str for persistent storage but contains ('2014-01-01', '2024-01-01') which is of type tuple.\n",
      "  warnings.warn(message)\n",
      "/opt/anaconda3/envs/ee460_new_310/lib/python3.10/site-packages/optuna/distributions.py:515: UserWarning: Choices for a categorical distribution should be a tuple of None, bool, int, float and str for persistent storage but contains [64] which is of type list.\n",
      "  warnings.warn(message)\n",
      "/opt/anaconda3/envs/ee460_new_310/lib/python3.10/site-packages/optuna/distributions.py:515: UserWarning: Choices for a categorical distribution should be a tuple of None, bool, int, float and str for persistent storage but contains [128, 64] which is of type list.\n",
      "  warnings.warn(message)\n",
      "/opt/anaconda3/envs/ee460_new_310/lib/python3.10/site-packages/optuna/distributions.py:515: UserWarning: Choices for a categorical distribution should be a tuple of None, bool, int, float and str for persistent storage but contains [256, 128] which is of type list.\n",
      "  warnings.warn(message)\n",
      "/opt/anaconda3/envs/ee460_new_310/lib/python3.10/site-packages/optuna/distributions.py:515: UserWarning: Choices for a categorical distribution should be a tuple of None, bool, int, float and str for persistent storage but contains [256, 128, 64] which is of type list.\n",
      "  warnings.warn(message)\n",
      "/opt/anaconda3/envs/ee460_new_310/lib/python3.10/site-packages/optuna/distributions.py:515: UserWarning: Choices for a categorical distribution should be a tuple of None, bool, int, float and str for persistent storage but contains [512, 256, 128] which is of type list.\n",
      "  warnings.warn(message)\n",
      "/opt/anaconda3/envs/ee460_new_310/lib/python3.10/site-packages/optuna/distributions.py:515: UserWarning: Choices for a categorical distribution should be a tuple of None, bool, int, float and str for persistent storage but contains [512, 256, 128, 64] which is of type list.\n",
      "  warnings.warn(message)\n",
      "[I 2025-05-07 12:02:29,059] Trial 0 finished with value: -0.0573275201022625 and parameters: {'train_date_range': ('1994-01-01', '2004-01-01'), 'window': 40, 'stride': 65, 'batch_size': 16, 'lr': 0.007934665820650784, 'epochs': 15, 'dropout_rate': 0.1, 'hidden_sizes': [64]}. Best is trial 0 with value: -0.0573275201022625.\n",
      "/opt/anaconda3/envs/ee460_new_310/lib/python3.10/site-packages/optuna/distributions.py:515: UserWarning: Choices for a categorical distribution should be a tuple of None, bool, int, float and str for persistent storage but contains ('1990-01-01', '2000-01-01') which is of type tuple.\n",
      "  warnings.warn(message)\n",
      "/opt/anaconda3/envs/ee460_new_310/lib/python3.10/site-packages/optuna/distributions.py:515: UserWarning: Choices for a categorical distribution should be a tuple of None, bool, int, float and str for persistent storage but contains ('1992-01-01', '2002-01-01') which is of type tuple.\n",
      "  warnings.warn(message)\n",
      "/opt/anaconda3/envs/ee460_new_310/lib/python3.10/site-packages/optuna/distributions.py:515: UserWarning: Choices for a categorical distribution should be a tuple of None, bool, int, float and str for persistent storage but contains ('1994-01-01', '2004-01-01') which is of type tuple.\n",
      "  warnings.warn(message)\n",
      "/opt/anaconda3/envs/ee460_new_310/lib/python3.10/site-packages/optuna/distributions.py:515: UserWarning: Choices for a categorical distribution should be a tuple of None, bool, int, float and str for persistent storage but contains ('1996-01-01', '2006-01-01') which is of type tuple.\n",
      "  warnings.warn(message)\n",
      "/opt/anaconda3/envs/ee460_new_310/lib/python3.10/site-packages/optuna/distributions.py:515: UserWarning: Choices for a categorical distribution should be a tuple of None, bool, int, float and str for persistent storage but contains ('1998-01-01', '2008-01-01') which is of type tuple.\n",
      "  warnings.warn(message)\n",
      "/opt/anaconda3/envs/ee460_new_310/lib/python3.10/site-packages/optuna/distributions.py:515: UserWarning: Choices for a categorical distribution should be a tuple of None, bool, int, float and str for persistent storage but contains ('2000-01-01', '2010-01-01') which is of type tuple.\n",
      "  warnings.warn(message)\n",
      "/opt/anaconda3/envs/ee460_new_310/lib/python3.10/site-packages/optuna/distributions.py:515: UserWarning: Choices for a categorical distribution should be a tuple of None, bool, int, float and str for persistent storage but contains ('2002-01-01', '2012-01-01') which is of type tuple.\n",
      "  warnings.warn(message)\n",
      "/opt/anaconda3/envs/ee460_new_310/lib/python3.10/site-packages/optuna/distributions.py:515: UserWarning: Choices for a categorical distribution should be a tuple of None, bool, int, float and str for persistent storage but contains ('2004-01-01', '2014-01-01') which is of type tuple.\n",
      "  warnings.warn(message)\n",
      "/opt/anaconda3/envs/ee460_new_310/lib/python3.10/site-packages/optuna/distributions.py:515: UserWarning: Choices for a categorical distribution should be a tuple of None, bool, int, float and str for persistent storage but contains ('2006-01-01', '2016-01-01') which is of type tuple.\n",
      "  warnings.warn(message)\n",
      "/opt/anaconda3/envs/ee460_new_310/lib/python3.10/site-packages/optuna/distributions.py:515: UserWarning: Choices for a categorical distribution should be a tuple of None, bool, int, float and str for persistent storage but contains ('2008-01-01', '2018-01-01') which is of type tuple.\n",
      "  warnings.warn(message)\n",
      "/opt/anaconda3/envs/ee460_new_310/lib/python3.10/site-packages/optuna/distributions.py:515: UserWarning: Choices for a categorical distribution should be a tuple of None, bool, int, float and str for persistent storage but contains ('2010-01-01', '2020-01-01') which is of type tuple.\n",
      "  warnings.warn(message)\n",
      "/opt/anaconda3/envs/ee460_new_310/lib/python3.10/site-packages/optuna/distributions.py:515: UserWarning: Choices for a categorical distribution should be a tuple of None, bool, int, float and str for persistent storage but contains ('2012-01-01', '2022-01-01') which is of type tuple.\n",
      "  warnings.warn(message)\n",
      "/opt/anaconda3/envs/ee460_new_310/lib/python3.10/site-packages/optuna/distributions.py:515: UserWarning: Choices for a categorical distribution should be a tuple of None, bool, int, float and str for persistent storage but contains ('2014-01-01', '2024-01-01') which is of type tuple.\n",
      "  warnings.warn(message)\n",
      "/opt/anaconda3/envs/ee460_new_310/lib/python3.10/site-packages/optuna/distributions.py:515: UserWarning: Choices for a categorical distribution should be a tuple of None, bool, int, float and str for persistent storage but contains [64] which is of type list.\n",
      "  warnings.warn(message)\n",
      "/opt/anaconda3/envs/ee460_new_310/lib/python3.10/site-packages/optuna/distributions.py:515: UserWarning: Choices for a categorical distribution should be a tuple of None, bool, int, float and str for persistent storage but contains [128, 64] which is of type list.\n",
      "  warnings.warn(message)\n",
      "/opt/anaconda3/envs/ee460_new_310/lib/python3.10/site-packages/optuna/distributions.py:515: UserWarning: Choices for a categorical distribution should be a tuple of None, bool, int, float and str for persistent storage but contains [256, 128] which is of type list.\n",
      "  warnings.warn(message)\n",
      "/opt/anaconda3/envs/ee460_new_310/lib/python3.10/site-packages/optuna/distributions.py:515: UserWarning: Choices for a categorical distribution should be a tuple of None, bool, int, float and str for persistent storage but contains [256, 128, 64] which is of type list.\n",
      "  warnings.warn(message)\n",
      "/opt/anaconda3/envs/ee460_new_310/lib/python3.10/site-packages/optuna/distributions.py:515: UserWarning: Choices for a categorical distribution should be a tuple of None, bool, int, float and str for persistent storage but contains [512, 256, 128] which is of type list.\n",
      "  warnings.warn(message)\n",
      "/opt/anaconda3/envs/ee460_new_310/lib/python3.10/site-packages/optuna/distributions.py:515: UserWarning: Choices for a categorical distribution should be a tuple of None, bool, int, float and str for persistent storage but contains [512, 256, 128, 64] which is of type list.\n",
      "  warnings.warn(message)\n",
      "[I 2025-05-07 12:02:29,402] Trial 1 finished with value: -0.04266154021024704 and parameters: {'train_date_range': ('2000-01-01', '2010-01-01'), 'window': 30, 'stride': 55, 'batch_size': 16, 'lr': 0.0003984885823732006, 'epochs': 20, 'dropout_rate': 0.15000000000000002, 'hidden_sizes': [128, 64]}. Best is trial 1 with value: -0.04266154021024704.\n",
      "/opt/anaconda3/envs/ee460_new_310/lib/python3.10/site-packages/optuna/distributions.py:515: UserWarning: Choices for a categorical distribution should be a tuple of None, bool, int, float and str for persistent storage but contains ('1990-01-01', '2000-01-01') which is of type tuple.\n",
      "  warnings.warn(message)\n",
      "/opt/anaconda3/envs/ee460_new_310/lib/python3.10/site-packages/optuna/distributions.py:515: UserWarning: Choices for a categorical distribution should be a tuple of None, bool, int, float and str for persistent storage but contains ('1992-01-01', '2002-01-01') which is of type tuple.\n",
      "  warnings.warn(message)\n",
      "/opt/anaconda3/envs/ee460_new_310/lib/python3.10/site-packages/optuna/distributions.py:515: UserWarning: Choices for a categorical distribution should be a tuple of None, bool, int, float and str for persistent storage but contains ('1994-01-01', '2004-01-01') which is of type tuple.\n",
      "  warnings.warn(message)\n",
      "/opt/anaconda3/envs/ee460_new_310/lib/python3.10/site-packages/optuna/distributions.py:515: UserWarning: Choices for a categorical distribution should be a tuple of None, bool, int, float and str for persistent storage but contains ('1996-01-01', '2006-01-01') which is of type tuple.\n",
      "  warnings.warn(message)\n",
      "/opt/anaconda3/envs/ee460_new_310/lib/python3.10/site-packages/optuna/distributions.py:515: UserWarning: Choices for a categorical distribution should be a tuple of None, bool, int, float and str for persistent storage but contains ('1998-01-01', '2008-01-01') which is of type tuple.\n",
      "  warnings.warn(message)\n",
      "/opt/anaconda3/envs/ee460_new_310/lib/python3.10/site-packages/optuna/distributions.py:515: UserWarning: Choices for a categorical distribution should be a tuple of None, bool, int, float and str for persistent storage but contains ('2000-01-01', '2010-01-01') which is of type tuple.\n",
      "  warnings.warn(message)\n",
      "/opt/anaconda3/envs/ee460_new_310/lib/python3.10/site-packages/optuna/distributions.py:515: UserWarning: Choices for a categorical distribution should be a tuple of None, bool, int, float and str for persistent storage but contains ('2002-01-01', '2012-01-01') which is of type tuple.\n",
      "  warnings.warn(message)\n",
      "/opt/anaconda3/envs/ee460_new_310/lib/python3.10/site-packages/optuna/distributions.py:515: UserWarning: Choices for a categorical distribution should be a tuple of None, bool, int, float and str for persistent storage but contains ('2004-01-01', '2014-01-01') which is of type tuple.\n",
      "  warnings.warn(message)\n",
      "/opt/anaconda3/envs/ee460_new_310/lib/python3.10/site-packages/optuna/distributions.py:515: UserWarning: Choices for a categorical distribution should be a tuple of None, bool, int, float and str for persistent storage but contains ('2006-01-01', '2016-01-01') which is of type tuple.\n",
      "  warnings.warn(message)\n",
      "/opt/anaconda3/envs/ee460_new_310/lib/python3.10/site-packages/optuna/distributions.py:515: UserWarning: Choices for a categorical distribution should be a tuple of None, bool, int, float and str for persistent storage but contains ('2008-01-01', '2018-01-01') which is of type tuple.\n",
      "  warnings.warn(message)\n",
      "/opt/anaconda3/envs/ee460_new_310/lib/python3.10/site-packages/optuna/distributions.py:515: UserWarning: Choices for a categorical distribution should be a tuple of None, bool, int, float and str for persistent storage but contains ('2010-01-01', '2020-01-01') which is of type tuple.\n",
      "  warnings.warn(message)\n",
      "/opt/anaconda3/envs/ee460_new_310/lib/python3.10/site-packages/optuna/distributions.py:515: UserWarning: Choices for a categorical distribution should be a tuple of None, bool, int, float and str for persistent storage but contains ('2012-01-01', '2022-01-01') which is of type tuple.\n",
      "  warnings.warn(message)\n",
      "/opt/anaconda3/envs/ee460_new_310/lib/python3.10/site-packages/optuna/distributions.py:515: UserWarning: Choices for a categorical distribution should be a tuple of None, bool, int, float and str for persistent storage but contains ('2014-01-01', '2024-01-01') which is of type tuple.\n",
      "  warnings.warn(message)\n",
      "/opt/anaconda3/envs/ee460_new_310/lib/python3.10/site-packages/optuna/distributions.py:515: UserWarning: Choices for a categorical distribution should be a tuple of None, bool, int, float and str for persistent storage but contains [64] which is of type list.\n",
      "  warnings.warn(message)\n",
      "/opt/anaconda3/envs/ee460_new_310/lib/python3.10/site-packages/optuna/distributions.py:515: UserWarning: Choices for a categorical distribution should be a tuple of None, bool, int, float and str for persistent storage but contains [128, 64] which is of type list.\n",
      "  warnings.warn(message)\n",
      "/opt/anaconda3/envs/ee460_new_310/lib/python3.10/site-packages/optuna/distributions.py:515: UserWarning: Choices for a categorical distribution should be a tuple of None, bool, int, float and str for persistent storage but contains [256, 128] which is of type list.\n",
      "  warnings.warn(message)\n",
      "/opt/anaconda3/envs/ee460_new_310/lib/python3.10/site-packages/optuna/distributions.py:515: UserWarning: Choices for a categorical distribution should be a tuple of None, bool, int, float and str for persistent storage but contains [256, 128, 64] which is of type list.\n",
      "  warnings.warn(message)\n",
      "/opt/anaconda3/envs/ee460_new_310/lib/python3.10/site-packages/optuna/distributions.py:515: UserWarning: Choices for a categorical distribution should be a tuple of None, bool, int, float and str for persistent storage but contains [512, 256, 128] which is of type list.\n",
      "  warnings.warn(message)\n",
      "/opt/anaconda3/envs/ee460_new_310/lib/python3.10/site-packages/optuna/distributions.py:515: UserWarning: Choices for a categorical distribution should be a tuple of None, bool, int, float and str for persistent storage but contains [512, 256, 128, 64] which is of type list.\n",
      "  warnings.warn(message)\n",
      "[I 2025-05-07 12:02:29,959] Trial 2 finished with value: -0.024667736142873764 and parameters: {'train_date_range': ('2006-01-01', '2016-01-01'), 'window': 20, 'stride': 80, 'batch_size': 64, 'lr': 0.00012529423813260806, 'epochs': 45, 'dropout_rate': 0.2, 'hidden_sizes': [512, 256, 128]}. Best is trial 2 with value: -0.024667736142873764.\n",
      "/opt/anaconda3/envs/ee460_new_310/lib/python3.10/site-packages/optuna/distributions.py:515: UserWarning: Choices for a categorical distribution should be a tuple of None, bool, int, float and str for persistent storage but contains ('1990-01-01', '2000-01-01') which is of type tuple.\n",
      "  warnings.warn(message)\n",
      "/opt/anaconda3/envs/ee460_new_310/lib/python3.10/site-packages/optuna/distributions.py:515: UserWarning: Choices for a categorical distribution should be a tuple of None, bool, int, float and str for persistent storage but contains ('1992-01-01', '2002-01-01') which is of type tuple.\n",
      "  warnings.warn(message)\n",
      "/opt/anaconda3/envs/ee460_new_310/lib/python3.10/site-packages/optuna/distributions.py:515: UserWarning: Choices for a categorical distribution should be a tuple of None, bool, int, float and str for persistent storage but contains ('1994-01-01', '2004-01-01') which is of type tuple.\n",
      "  warnings.warn(message)\n",
      "/opt/anaconda3/envs/ee460_new_310/lib/python3.10/site-packages/optuna/distributions.py:515: UserWarning: Choices for a categorical distribution should be a tuple of None, bool, int, float and str for persistent storage but contains ('1996-01-01', '2006-01-01') which is of type tuple.\n",
      "  warnings.warn(message)\n",
      "/opt/anaconda3/envs/ee460_new_310/lib/python3.10/site-packages/optuna/distributions.py:515: UserWarning: Choices for a categorical distribution should be a tuple of None, bool, int, float and str for persistent storage but contains ('1998-01-01', '2008-01-01') which is of type tuple.\n",
      "  warnings.warn(message)\n",
      "/opt/anaconda3/envs/ee460_new_310/lib/python3.10/site-packages/optuna/distributions.py:515: UserWarning: Choices for a categorical distribution should be a tuple of None, bool, int, float and str for persistent storage but contains ('2000-01-01', '2010-01-01') which is of type tuple.\n",
      "  warnings.warn(message)\n",
      "/opt/anaconda3/envs/ee460_new_310/lib/python3.10/site-packages/optuna/distributions.py:515: UserWarning: Choices for a categorical distribution should be a tuple of None, bool, int, float and str for persistent storage but contains ('2002-01-01', '2012-01-01') which is of type tuple.\n",
      "  warnings.warn(message)\n",
      "/opt/anaconda3/envs/ee460_new_310/lib/python3.10/site-packages/optuna/distributions.py:515: UserWarning: Choices for a categorical distribution should be a tuple of None, bool, int, float and str for persistent storage but contains ('2004-01-01', '2014-01-01') which is of type tuple.\n",
      "  warnings.warn(message)\n",
      "/opt/anaconda3/envs/ee460_new_310/lib/python3.10/site-packages/optuna/distributions.py:515: UserWarning: Choices for a categorical distribution should be a tuple of None, bool, int, float and str for persistent storage but contains ('2006-01-01', '2016-01-01') which is of type tuple.\n",
      "  warnings.warn(message)\n",
      "/opt/anaconda3/envs/ee460_new_310/lib/python3.10/site-packages/optuna/distributions.py:515: UserWarning: Choices for a categorical distribution should be a tuple of None, bool, int, float and str for persistent storage but contains ('2008-01-01', '2018-01-01') which is of type tuple.\n",
      "  warnings.warn(message)\n",
      "/opt/anaconda3/envs/ee460_new_310/lib/python3.10/site-packages/optuna/distributions.py:515: UserWarning: Choices for a categorical distribution should be a tuple of None, bool, int, float and str for persistent storage but contains ('2010-01-01', '2020-01-01') which is of type tuple.\n",
      "  warnings.warn(message)\n",
      "/opt/anaconda3/envs/ee460_new_310/lib/python3.10/site-packages/optuna/distributions.py:515: UserWarning: Choices for a categorical distribution should be a tuple of None, bool, int, float and str for persistent storage but contains ('2012-01-01', '2022-01-01') which is of type tuple.\n",
      "  warnings.warn(message)\n",
      "/opt/anaconda3/envs/ee460_new_310/lib/python3.10/site-packages/optuna/distributions.py:515: UserWarning: Choices for a categorical distribution should be a tuple of None, bool, int, float and str for persistent storage but contains ('2014-01-01', '2024-01-01') which is of type tuple.\n",
      "  warnings.warn(message)\n",
      "/opt/anaconda3/envs/ee460_new_310/lib/python3.10/site-packages/optuna/distributions.py:515: UserWarning: Choices for a categorical distribution should be a tuple of None, bool, int, float and str for persistent storage but contains [64] which is of type list.\n",
      "  warnings.warn(message)\n",
      "/opt/anaconda3/envs/ee460_new_310/lib/python3.10/site-packages/optuna/distributions.py:515: UserWarning: Choices for a categorical distribution should be a tuple of None, bool, int, float and str for persistent storage but contains [128, 64] which is of type list.\n",
      "  warnings.warn(message)\n",
      "/opt/anaconda3/envs/ee460_new_310/lib/python3.10/site-packages/optuna/distributions.py:515: UserWarning: Choices for a categorical distribution should be a tuple of None, bool, int, float and str for persistent storage but contains [256, 128] which is of type list.\n",
      "  warnings.warn(message)\n",
      "/opt/anaconda3/envs/ee460_new_310/lib/python3.10/site-packages/optuna/distributions.py:515: UserWarning: Choices for a categorical distribution should be a tuple of None, bool, int, float and str for persistent storage but contains [256, 128, 64] which is of type list.\n",
      "  warnings.warn(message)\n",
      "/opt/anaconda3/envs/ee460_new_310/lib/python3.10/site-packages/optuna/distributions.py:515: UserWarning: Choices for a categorical distribution should be a tuple of None, bool, int, float and str for persistent storage but contains [512, 256, 128] which is of type list.\n",
      "  warnings.warn(message)\n",
      "/opt/anaconda3/envs/ee460_new_310/lib/python3.10/site-packages/optuna/distributions.py:515: UserWarning: Choices for a categorical distribution should be a tuple of None, bool, int, float and str for persistent storage but contains [512, 256, 128, 64] which is of type list.\n",
      "  warnings.warn(message)\n",
      "[I 2025-05-07 12:02:30,970] Trial 3 finished with value: -0.04189107567071915 and parameters: {'train_date_range': ('1998-01-01', '2008-01-01'), 'window': 50, 'stride': 10, 'batch_size': 64, 'lr': 0.004998651660820274, 'epochs': 50, 'dropout_rate': 0.2, 'hidden_sizes': [512, 256, 128]}. Best is trial 2 with value: -0.024667736142873764.\n",
      "/opt/anaconda3/envs/ee460_new_310/lib/python3.10/site-packages/optuna/distributions.py:515: UserWarning: Choices for a categorical distribution should be a tuple of None, bool, int, float and str for persistent storage but contains ('1990-01-01', '2000-01-01') which is of type tuple.\n",
      "  warnings.warn(message)\n",
      "/opt/anaconda3/envs/ee460_new_310/lib/python3.10/site-packages/optuna/distributions.py:515: UserWarning: Choices for a categorical distribution should be a tuple of None, bool, int, float and str for persistent storage but contains ('1992-01-01', '2002-01-01') which is of type tuple.\n",
      "  warnings.warn(message)\n",
      "/opt/anaconda3/envs/ee460_new_310/lib/python3.10/site-packages/optuna/distributions.py:515: UserWarning: Choices for a categorical distribution should be a tuple of None, bool, int, float and str for persistent storage but contains ('1994-01-01', '2004-01-01') which is of type tuple.\n",
      "  warnings.warn(message)\n",
      "/opt/anaconda3/envs/ee460_new_310/lib/python3.10/site-packages/optuna/distributions.py:515: UserWarning: Choices for a categorical distribution should be a tuple of None, bool, int, float and str for persistent storage but contains ('1996-01-01', '2006-01-01') which is of type tuple.\n",
      "  warnings.warn(message)\n",
      "/opt/anaconda3/envs/ee460_new_310/lib/python3.10/site-packages/optuna/distributions.py:515: UserWarning: Choices for a categorical distribution should be a tuple of None, bool, int, float and str for persistent storage but contains ('1998-01-01', '2008-01-01') which is of type tuple.\n",
      "  warnings.warn(message)\n",
      "/opt/anaconda3/envs/ee460_new_310/lib/python3.10/site-packages/optuna/distributions.py:515: UserWarning: Choices for a categorical distribution should be a tuple of None, bool, int, float and str for persistent storage but contains ('2000-01-01', '2010-01-01') which is of type tuple.\n",
      "  warnings.warn(message)\n",
      "/opt/anaconda3/envs/ee460_new_310/lib/python3.10/site-packages/optuna/distributions.py:515: UserWarning: Choices for a categorical distribution should be a tuple of None, bool, int, float and str for persistent storage but contains ('2002-01-01', '2012-01-01') which is of type tuple.\n",
      "  warnings.warn(message)\n",
      "/opt/anaconda3/envs/ee460_new_310/lib/python3.10/site-packages/optuna/distributions.py:515: UserWarning: Choices for a categorical distribution should be a tuple of None, bool, int, float and str for persistent storage but contains ('2004-01-01', '2014-01-01') which is of type tuple.\n",
      "  warnings.warn(message)\n",
      "/opt/anaconda3/envs/ee460_new_310/lib/python3.10/site-packages/optuna/distributions.py:515: UserWarning: Choices for a categorical distribution should be a tuple of None, bool, int, float and str for persistent storage but contains ('2006-01-01', '2016-01-01') which is of type tuple.\n",
      "  warnings.warn(message)\n",
      "/opt/anaconda3/envs/ee460_new_310/lib/python3.10/site-packages/optuna/distributions.py:515: UserWarning: Choices for a categorical distribution should be a tuple of None, bool, int, float and str for persistent storage but contains ('2008-01-01', '2018-01-01') which is of type tuple.\n",
      "  warnings.warn(message)\n",
      "/opt/anaconda3/envs/ee460_new_310/lib/python3.10/site-packages/optuna/distributions.py:515: UserWarning: Choices for a categorical distribution should be a tuple of None, bool, int, float and str for persistent storage but contains ('2010-01-01', '2020-01-01') which is of type tuple.\n",
      "  warnings.warn(message)\n",
      "/opt/anaconda3/envs/ee460_new_310/lib/python3.10/site-packages/optuna/distributions.py:515: UserWarning: Choices for a categorical distribution should be a tuple of None, bool, int, float and str for persistent storage but contains ('2012-01-01', '2022-01-01') which is of type tuple.\n",
      "  warnings.warn(message)\n",
      "/opt/anaconda3/envs/ee460_new_310/lib/python3.10/site-packages/optuna/distributions.py:515: UserWarning: Choices for a categorical distribution should be a tuple of None, bool, int, float and str for persistent storage but contains ('2014-01-01', '2024-01-01') which is of type tuple.\n",
      "  warnings.warn(message)\n",
      "/opt/anaconda3/envs/ee460_new_310/lib/python3.10/site-packages/optuna/distributions.py:515: UserWarning: Choices for a categorical distribution should be a tuple of None, bool, int, float and str for persistent storage but contains [64] which is of type list.\n",
      "  warnings.warn(message)\n",
      "/opt/anaconda3/envs/ee460_new_310/lib/python3.10/site-packages/optuna/distributions.py:515: UserWarning: Choices for a categorical distribution should be a tuple of None, bool, int, float and str for persistent storage but contains [128, 64] which is of type list.\n",
      "  warnings.warn(message)\n",
      "/opt/anaconda3/envs/ee460_new_310/lib/python3.10/site-packages/optuna/distributions.py:515: UserWarning: Choices for a categorical distribution should be a tuple of None, bool, int, float and str for persistent storage but contains [256, 128] which is of type list.\n",
      "  warnings.warn(message)\n",
      "/opt/anaconda3/envs/ee460_new_310/lib/python3.10/site-packages/optuna/distributions.py:515: UserWarning: Choices for a categorical distribution should be a tuple of None, bool, int, float and str for persistent storage but contains [256, 128, 64] which is of type list.\n",
      "  warnings.warn(message)\n",
      "/opt/anaconda3/envs/ee460_new_310/lib/python3.10/site-packages/optuna/distributions.py:515: UserWarning: Choices for a categorical distribution should be a tuple of None, bool, int, float and str for persistent storage but contains [512, 256, 128] which is of type list.\n",
      "  warnings.warn(message)\n",
      "/opt/anaconda3/envs/ee460_new_310/lib/python3.10/site-packages/optuna/distributions.py:515: UserWarning: Choices for a categorical distribution should be a tuple of None, bool, int, float and str for persistent storage but contains [512, 256, 128, 64] which is of type list.\n",
      "  warnings.warn(message)\n",
      "[I 2025-05-07 12:02:31,455] Trial 4 finished with value: -0.028500229120254517 and parameters: {'train_date_range': ('2006-01-01', '2016-01-01'), 'window': 60, 'stride': 30, 'batch_size': 64, 'lr': 0.0019568610809569498, 'epochs': 50, 'dropout_rate': 0.05, 'hidden_sizes': [256, 128]}. Best is trial 2 with value: -0.024667736142873764.\n",
      "/opt/anaconda3/envs/ee460_new_310/lib/python3.10/site-packages/optuna/distributions.py:515: UserWarning: Choices for a categorical distribution should be a tuple of None, bool, int, float and str for persistent storage but contains ('1990-01-01', '2000-01-01') which is of type tuple.\n",
      "  warnings.warn(message)\n",
      "/opt/anaconda3/envs/ee460_new_310/lib/python3.10/site-packages/optuna/distributions.py:515: UserWarning: Choices for a categorical distribution should be a tuple of None, bool, int, float and str for persistent storage but contains ('1992-01-01', '2002-01-01') which is of type tuple.\n",
      "  warnings.warn(message)\n",
      "/opt/anaconda3/envs/ee460_new_310/lib/python3.10/site-packages/optuna/distributions.py:515: UserWarning: Choices for a categorical distribution should be a tuple of None, bool, int, float and str for persistent storage but contains ('1994-01-01', '2004-01-01') which is of type tuple.\n",
      "  warnings.warn(message)\n",
      "/opt/anaconda3/envs/ee460_new_310/lib/python3.10/site-packages/optuna/distributions.py:515: UserWarning: Choices for a categorical distribution should be a tuple of None, bool, int, float and str for persistent storage but contains ('1996-01-01', '2006-01-01') which is of type tuple.\n",
      "  warnings.warn(message)\n",
      "/opt/anaconda3/envs/ee460_new_310/lib/python3.10/site-packages/optuna/distributions.py:515: UserWarning: Choices for a categorical distribution should be a tuple of None, bool, int, float and str for persistent storage but contains ('1998-01-01', '2008-01-01') which is of type tuple.\n",
      "  warnings.warn(message)\n",
      "/opt/anaconda3/envs/ee460_new_310/lib/python3.10/site-packages/optuna/distributions.py:515: UserWarning: Choices for a categorical distribution should be a tuple of None, bool, int, float and str for persistent storage but contains ('2000-01-01', '2010-01-01') which is of type tuple.\n",
      "  warnings.warn(message)\n",
      "/opt/anaconda3/envs/ee460_new_310/lib/python3.10/site-packages/optuna/distributions.py:515: UserWarning: Choices for a categorical distribution should be a tuple of None, bool, int, float and str for persistent storage but contains ('2002-01-01', '2012-01-01') which is of type tuple.\n",
      "  warnings.warn(message)\n",
      "/opt/anaconda3/envs/ee460_new_310/lib/python3.10/site-packages/optuna/distributions.py:515: UserWarning: Choices for a categorical distribution should be a tuple of None, bool, int, float and str for persistent storage but contains ('2004-01-01', '2014-01-01') which is of type tuple.\n",
      "  warnings.warn(message)\n",
      "/opt/anaconda3/envs/ee460_new_310/lib/python3.10/site-packages/optuna/distributions.py:515: UserWarning: Choices for a categorical distribution should be a tuple of None, bool, int, float and str for persistent storage but contains ('2006-01-01', '2016-01-01') which is of type tuple.\n",
      "  warnings.warn(message)\n",
      "/opt/anaconda3/envs/ee460_new_310/lib/python3.10/site-packages/optuna/distributions.py:515: UserWarning: Choices for a categorical distribution should be a tuple of None, bool, int, float and str for persistent storage but contains ('2008-01-01', '2018-01-01') which is of type tuple.\n",
      "  warnings.warn(message)\n",
      "/opt/anaconda3/envs/ee460_new_310/lib/python3.10/site-packages/optuna/distributions.py:515: UserWarning: Choices for a categorical distribution should be a tuple of None, bool, int, float and str for persistent storage but contains ('2010-01-01', '2020-01-01') which is of type tuple.\n",
      "  warnings.warn(message)\n",
      "/opt/anaconda3/envs/ee460_new_310/lib/python3.10/site-packages/optuna/distributions.py:515: UserWarning: Choices for a categorical distribution should be a tuple of None, bool, int, float and str for persistent storage but contains ('2012-01-01', '2022-01-01') which is of type tuple.\n",
      "  warnings.warn(message)\n",
      "/opt/anaconda3/envs/ee460_new_310/lib/python3.10/site-packages/optuna/distributions.py:515: UserWarning: Choices for a categorical distribution should be a tuple of None, bool, int, float and str for persistent storage but contains ('2014-01-01', '2024-01-01') which is of type tuple.\n",
      "  warnings.warn(message)\n",
      "/opt/anaconda3/envs/ee460_new_310/lib/python3.10/site-packages/optuna/distributions.py:515: UserWarning: Choices for a categorical distribution should be a tuple of None, bool, int, float and str for persistent storage but contains [64] which is of type list.\n",
      "  warnings.warn(message)\n",
      "/opt/anaconda3/envs/ee460_new_310/lib/python3.10/site-packages/optuna/distributions.py:515: UserWarning: Choices for a categorical distribution should be a tuple of None, bool, int, float and str for persistent storage but contains [128, 64] which is of type list.\n",
      "  warnings.warn(message)\n",
      "/opt/anaconda3/envs/ee460_new_310/lib/python3.10/site-packages/optuna/distributions.py:515: UserWarning: Choices for a categorical distribution should be a tuple of None, bool, int, float and str for persistent storage but contains [256, 128] which is of type list.\n",
      "  warnings.warn(message)\n",
      "/opt/anaconda3/envs/ee460_new_310/lib/python3.10/site-packages/optuna/distributions.py:515: UserWarning: Choices for a categorical distribution should be a tuple of None, bool, int, float and str for persistent storage but contains [256, 128, 64] which is of type list.\n",
      "  warnings.warn(message)\n",
      "/opt/anaconda3/envs/ee460_new_310/lib/python3.10/site-packages/optuna/distributions.py:515: UserWarning: Choices for a categorical distribution should be a tuple of None, bool, int, float and str for persistent storage but contains [512, 256, 128] which is of type list.\n",
      "  warnings.warn(message)\n",
      "/opt/anaconda3/envs/ee460_new_310/lib/python3.10/site-packages/optuna/distributions.py:515: UserWarning: Choices for a categorical distribution should be a tuple of None, bool, int, float and str for persistent storage but contains [512, 256, 128, 64] which is of type list.\n",
      "  warnings.warn(message)\n",
      "[I 2025-05-07 12:02:31,908] Trial 5 finished with value: -0.03363228961825371 and parameters: {'train_date_range': ('2012-01-01', '2022-01-01'), 'window': 50, 'stride': 65, 'batch_size': 64, 'lr': 0.0002695973670615611, 'epochs': 45, 'dropout_rate': 0.55, 'hidden_sizes': [256, 128, 64]}. Best is trial 2 with value: -0.024667736142873764.\n",
      "/opt/anaconda3/envs/ee460_new_310/lib/python3.10/site-packages/optuna/distributions.py:515: UserWarning: Choices for a categorical distribution should be a tuple of None, bool, int, float and str for persistent storage but contains ('1990-01-01', '2000-01-01') which is of type tuple.\n",
      "  warnings.warn(message)\n",
      "/opt/anaconda3/envs/ee460_new_310/lib/python3.10/site-packages/optuna/distributions.py:515: UserWarning: Choices for a categorical distribution should be a tuple of None, bool, int, float and str for persistent storage but contains ('1992-01-01', '2002-01-01') which is of type tuple.\n",
      "  warnings.warn(message)\n",
      "/opt/anaconda3/envs/ee460_new_310/lib/python3.10/site-packages/optuna/distributions.py:515: UserWarning: Choices for a categorical distribution should be a tuple of None, bool, int, float and str for persistent storage but contains ('1994-01-01', '2004-01-01') which is of type tuple.\n",
      "  warnings.warn(message)\n",
      "/opt/anaconda3/envs/ee460_new_310/lib/python3.10/site-packages/optuna/distributions.py:515: UserWarning: Choices for a categorical distribution should be a tuple of None, bool, int, float and str for persistent storage but contains ('1996-01-01', '2006-01-01') which is of type tuple.\n",
      "  warnings.warn(message)\n",
      "/opt/anaconda3/envs/ee460_new_310/lib/python3.10/site-packages/optuna/distributions.py:515: UserWarning: Choices for a categorical distribution should be a tuple of None, bool, int, float and str for persistent storage but contains ('1998-01-01', '2008-01-01') which is of type tuple.\n",
      "  warnings.warn(message)\n",
      "/opt/anaconda3/envs/ee460_new_310/lib/python3.10/site-packages/optuna/distributions.py:515: UserWarning: Choices for a categorical distribution should be a tuple of None, bool, int, float and str for persistent storage but contains ('2000-01-01', '2010-01-01') which is of type tuple.\n",
      "  warnings.warn(message)\n",
      "/opt/anaconda3/envs/ee460_new_310/lib/python3.10/site-packages/optuna/distributions.py:515: UserWarning: Choices for a categorical distribution should be a tuple of None, bool, int, float and str for persistent storage but contains ('2002-01-01', '2012-01-01') which is of type tuple.\n",
      "  warnings.warn(message)\n",
      "/opt/anaconda3/envs/ee460_new_310/lib/python3.10/site-packages/optuna/distributions.py:515: UserWarning: Choices for a categorical distribution should be a tuple of None, bool, int, float and str for persistent storage but contains ('2004-01-01', '2014-01-01') which is of type tuple.\n",
      "  warnings.warn(message)\n",
      "/opt/anaconda3/envs/ee460_new_310/lib/python3.10/site-packages/optuna/distributions.py:515: UserWarning: Choices for a categorical distribution should be a tuple of None, bool, int, float and str for persistent storage but contains ('2006-01-01', '2016-01-01') which is of type tuple.\n",
      "  warnings.warn(message)\n",
      "/opt/anaconda3/envs/ee460_new_310/lib/python3.10/site-packages/optuna/distributions.py:515: UserWarning: Choices for a categorical distribution should be a tuple of None, bool, int, float and str for persistent storage but contains ('2008-01-01', '2018-01-01') which is of type tuple.\n",
      "  warnings.warn(message)\n",
      "/opt/anaconda3/envs/ee460_new_310/lib/python3.10/site-packages/optuna/distributions.py:515: UserWarning: Choices for a categorical distribution should be a tuple of None, bool, int, float and str for persistent storage but contains ('2010-01-01', '2020-01-01') which is of type tuple.\n",
      "  warnings.warn(message)\n",
      "/opt/anaconda3/envs/ee460_new_310/lib/python3.10/site-packages/optuna/distributions.py:515: UserWarning: Choices for a categorical distribution should be a tuple of None, bool, int, float and str for persistent storage but contains ('2012-01-01', '2022-01-01') which is of type tuple.\n",
      "  warnings.warn(message)\n",
      "/opt/anaconda3/envs/ee460_new_310/lib/python3.10/site-packages/optuna/distributions.py:515: UserWarning: Choices for a categorical distribution should be a tuple of None, bool, int, float and str for persistent storage but contains ('2014-01-01', '2024-01-01') which is of type tuple.\n",
      "  warnings.warn(message)\n",
      "/opt/anaconda3/envs/ee460_new_310/lib/python3.10/site-packages/optuna/distributions.py:515: UserWarning: Choices for a categorical distribution should be a tuple of None, bool, int, float and str for persistent storage but contains [64] which is of type list.\n",
      "  warnings.warn(message)\n",
      "/opt/anaconda3/envs/ee460_new_310/lib/python3.10/site-packages/optuna/distributions.py:515: UserWarning: Choices for a categorical distribution should be a tuple of None, bool, int, float and str for persistent storage but contains [128, 64] which is of type list.\n",
      "  warnings.warn(message)\n",
      "/opt/anaconda3/envs/ee460_new_310/lib/python3.10/site-packages/optuna/distributions.py:515: UserWarning: Choices for a categorical distribution should be a tuple of None, bool, int, float and str for persistent storage but contains [256, 128] which is of type list.\n",
      "  warnings.warn(message)\n",
      "/opt/anaconda3/envs/ee460_new_310/lib/python3.10/site-packages/optuna/distributions.py:515: UserWarning: Choices for a categorical distribution should be a tuple of None, bool, int, float and str for persistent storage but contains [256, 128, 64] which is of type list.\n",
      "  warnings.warn(message)\n",
      "/opt/anaconda3/envs/ee460_new_310/lib/python3.10/site-packages/optuna/distributions.py:515: UserWarning: Choices for a categorical distribution should be a tuple of None, bool, int, float and str for persistent storage but contains [512, 256, 128] which is of type list.\n",
      "  warnings.warn(message)\n",
      "/opt/anaconda3/envs/ee460_new_310/lib/python3.10/site-packages/optuna/distributions.py:515: UserWarning: Choices for a categorical distribution should be a tuple of None, bool, int, float and str for persistent storage but contains [512, 256, 128, 64] which is of type list.\n",
      "  warnings.warn(message)\n",
      "[I 2025-05-07 12:02:32,961] Trial 6 finished with value: -0.07873596996068954 and parameters: {'train_date_range': ('2014-01-01', '2024-01-01'), 'window': 30, 'stride': 100, 'batch_size': 16, 'lr': 0.004316608150135173, 'epochs': 40, 'dropout_rate': 0.55, 'hidden_sizes': [512, 256, 128]}. Best is trial 2 with value: -0.024667736142873764.\n",
      "/opt/anaconda3/envs/ee460_new_310/lib/python3.10/site-packages/optuna/distributions.py:515: UserWarning: Choices for a categorical distribution should be a tuple of None, bool, int, float and str for persistent storage but contains ('1990-01-01', '2000-01-01') which is of type tuple.\n",
      "  warnings.warn(message)\n",
      "/opt/anaconda3/envs/ee460_new_310/lib/python3.10/site-packages/optuna/distributions.py:515: UserWarning: Choices for a categorical distribution should be a tuple of None, bool, int, float and str for persistent storage but contains ('1992-01-01', '2002-01-01') which is of type tuple.\n",
      "  warnings.warn(message)\n",
      "/opt/anaconda3/envs/ee460_new_310/lib/python3.10/site-packages/optuna/distributions.py:515: UserWarning: Choices for a categorical distribution should be a tuple of None, bool, int, float and str for persistent storage but contains ('1994-01-01', '2004-01-01') which is of type tuple.\n",
      "  warnings.warn(message)\n",
      "/opt/anaconda3/envs/ee460_new_310/lib/python3.10/site-packages/optuna/distributions.py:515: UserWarning: Choices for a categorical distribution should be a tuple of None, bool, int, float and str for persistent storage but contains ('1996-01-01', '2006-01-01') which is of type tuple.\n",
      "  warnings.warn(message)\n",
      "/opt/anaconda3/envs/ee460_new_310/lib/python3.10/site-packages/optuna/distributions.py:515: UserWarning: Choices for a categorical distribution should be a tuple of None, bool, int, float and str for persistent storage but contains ('1998-01-01', '2008-01-01') which is of type tuple.\n",
      "  warnings.warn(message)\n",
      "/opt/anaconda3/envs/ee460_new_310/lib/python3.10/site-packages/optuna/distributions.py:515: UserWarning: Choices for a categorical distribution should be a tuple of None, bool, int, float and str for persistent storage but contains ('2000-01-01', '2010-01-01') which is of type tuple.\n",
      "  warnings.warn(message)\n",
      "/opt/anaconda3/envs/ee460_new_310/lib/python3.10/site-packages/optuna/distributions.py:515: UserWarning: Choices for a categorical distribution should be a tuple of None, bool, int, float and str for persistent storage but contains ('2002-01-01', '2012-01-01') which is of type tuple.\n",
      "  warnings.warn(message)\n",
      "/opt/anaconda3/envs/ee460_new_310/lib/python3.10/site-packages/optuna/distributions.py:515: UserWarning: Choices for a categorical distribution should be a tuple of None, bool, int, float and str for persistent storage but contains ('2004-01-01', '2014-01-01') which is of type tuple.\n",
      "  warnings.warn(message)\n",
      "/opt/anaconda3/envs/ee460_new_310/lib/python3.10/site-packages/optuna/distributions.py:515: UserWarning: Choices for a categorical distribution should be a tuple of None, bool, int, float and str for persistent storage but contains ('2006-01-01', '2016-01-01') which is of type tuple.\n",
      "  warnings.warn(message)\n",
      "/opt/anaconda3/envs/ee460_new_310/lib/python3.10/site-packages/optuna/distributions.py:515: UserWarning: Choices for a categorical distribution should be a tuple of None, bool, int, float and str for persistent storage but contains ('2008-01-01', '2018-01-01') which is of type tuple.\n",
      "  warnings.warn(message)\n",
      "/opt/anaconda3/envs/ee460_new_310/lib/python3.10/site-packages/optuna/distributions.py:515: UserWarning: Choices for a categorical distribution should be a tuple of None, bool, int, float and str for persistent storage but contains ('2010-01-01', '2020-01-01') which is of type tuple.\n",
      "  warnings.warn(message)\n",
      "/opt/anaconda3/envs/ee460_new_310/lib/python3.10/site-packages/optuna/distributions.py:515: UserWarning: Choices for a categorical distribution should be a tuple of None, bool, int, float and str for persistent storage but contains ('2012-01-01', '2022-01-01') which is of type tuple.\n",
      "  warnings.warn(message)\n",
      "/opt/anaconda3/envs/ee460_new_310/lib/python3.10/site-packages/optuna/distributions.py:515: UserWarning: Choices for a categorical distribution should be a tuple of None, bool, int, float and str for persistent storage but contains ('2014-01-01', '2024-01-01') which is of type tuple.\n",
      "  warnings.warn(message)\n",
      "/opt/anaconda3/envs/ee460_new_310/lib/python3.10/site-packages/optuna/distributions.py:515: UserWarning: Choices for a categorical distribution should be a tuple of None, bool, int, float and str for persistent storage but contains [64] which is of type list.\n",
      "  warnings.warn(message)\n",
      "/opt/anaconda3/envs/ee460_new_310/lib/python3.10/site-packages/optuna/distributions.py:515: UserWarning: Choices for a categorical distribution should be a tuple of None, bool, int, float and str for persistent storage but contains [128, 64] which is of type list.\n",
      "  warnings.warn(message)\n",
      "/opt/anaconda3/envs/ee460_new_310/lib/python3.10/site-packages/optuna/distributions.py:515: UserWarning: Choices for a categorical distribution should be a tuple of None, bool, int, float and str for persistent storage but contains [256, 128] which is of type list.\n",
      "  warnings.warn(message)\n",
      "/opt/anaconda3/envs/ee460_new_310/lib/python3.10/site-packages/optuna/distributions.py:515: UserWarning: Choices for a categorical distribution should be a tuple of None, bool, int, float and str for persistent storage but contains [256, 128, 64] which is of type list.\n",
      "  warnings.warn(message)\n",
      "/opt/anaconda3/envs/ee460_new_310/lib/python3.10/site-packages/optuna/distributions.py:515: UserWarning: Choices for a categorical distribution should be a tuple of None, bool, int, float and str for persistent storage but contains [512, 256, 128] which is of type list.\n",
      "  warnings.warn(message)\n",
      "/opt/anaconda3/envs/ee460_new_310/lib/python3.10/site-packages/optuna/distributions.py:515: UserWarning: Choices for a categorical distribution should be a tuple of None, bool, int, float and str for persistent storage but contains [512, 256, 128, 64] which is of type list.\n",
      "  warnings.warn(message)\n",
      "[I 2025-05-07 12:02:33,722] Trial 7 finished with value: -0.04526889696717262 and parameters: {'train_date_range': ('1994-01-01', '2004-01-01'), 'window': 110, 'stride': 25, 'batch_size': 64, 'lr': 0.0001296919081731308, 'epochs': 50, 'dropout_rate': 0.25, 'hidden_sizes': [512, 256, 128]}. Best is trial 2 with value: -0.024667736142873764.\n",
      "/opt/anaconda3/envs/ee460_new_310/lib/python3.10/site-packages/optuna/distributions.py:515: UserWarning: Choices for a categorical distribution should be a tuple of None, bool, int, float and str for persistent storage but contains ('1990-01-01', '2000-01-01') which is of type tuple.\n",
      "  warnings.warn(message)\n",
      "/opt/anaconda3/envs/ee460_new_310/lib/python3.10/site-packages/optuna/distributions.py:515: UserWarning: Choices for a categorical distribution should be a tuple of None, bool, int, float and str for persistent storage but contains ('1992-01-01', '2002-01-01') which is of type tuple.\n",
      "  warnings.warn(message)\n",
      "/opt/anaconda3/envs/ee460_new_310/lib/python3.10/site-packages/optuna/distributions.py:515: UserWarning: Choices for a categorical distribution should be a tuple of None, bool, int, float and str for persistent storage but contains ('1994-01-01', '2004-01-01') which is of type tuple.\n",
      "  warnings.warn(message)\n",
      "/opt/anaconda3/envs/ee460_new_310/lib/python3.10/site-packages/optuna/distributions.py:515: UserWarning: Choices for a categorical distribution should be a tuple of None, bool, int, float and str for persistent storage but contains ('1996-01-01', '2006-01-01') which is of type tuple.\n",
      "  warnings.warn(message)\n",
      "/opt/anaconda3/envs/ee460_new_310/lib/python3.10/site-packages/optuna/distributions.py:515: UserWarning: Choices for a categorical distribution should be a tuple of None, bool, int, float and str for persistent storage but contains ('1998-01-01', '2008-01-01') which is of type tuple.\n",
      "  warnings.warn(message)\n",
      "/opt/anaconda3/envs/ee460_new_310/lib/python3.10/site-packages/optuna/distributions.py:515: UserWarning: Choices for a categorical distribution should be a tuple of None, bool, int, float and str for persistent storage but contains ('2000-01-01', '2010-01-01') which is of type tuple.\n",
      "  warnings.warn(message)\n",
      "/opt/anaconda3/envs/ee460_new_310/lib/python3.10/site-packages/optuna/distributions.py:515: UserWarning: Choices for a categorical distribution should be a tuple of None, bool, int, float and str for persistent storage but contains ('2002-01-01', '2012-01-01') which is of type tuple.\n",
      "  warnings.warn(message)\n",
      "/opt/anaconda3/envs/ee460_new_310/lib/python3.10/site-packages/optuna/distributions.py:515: UserWarning: Choices for a categorical distribution should be a tuple of None, bool, int, float and str for persistent storage but contains ('2004-01-01', '2014-01-01') which is of type tuple.\n",
      "  warnings.warn(message)\n",
      "/opt/anaconda3/envs/ee460_new_310/lib/python3.10/site-packages/optuna/distributions.py:515: UserWarning: Choices for a categorical distribution should be a tuple of None, bool, int, float and str for persistent storage but contains ('2006-01-01', '2016-01-01') which is of type tuple.\n",
      "  warnings.warn(message)\n",
      "/opt/anaconda3/envs/ee460_new_310/lib/python3.10/site-packages/optuna/distributions.py:515: UserWarning: Choices for a categorical distribution should be a tuple of None, bool, int, float and str for persistent storage but contains ('2008-01-01', '2018-01-01') which is of type tuple.\n",
      "  warnings.warn(message)\n",
      "/opt/anaconda3/envs/ee460_new_310/lib/python3.10/site-packages/optuna/distributions.py:515: UserWarning: Choices for a categorical distribution should be a tuple of None, bool, int, float and str for persistent storage but contains ('2010-01-01', '2020-01-01') which is of type tuple.\n",
      "  warnings.warn(message)\n",
      "/opt/anaconda3/envs/ee460_new_310/lib/python3.10/site-packages/optuna/distributions.py:515: UserWarning: Choices for a categorical distribution should be a tuple of None, bool, int, float and str for persistent storage but contains ('2012-01-01', '2022-01-01') which is of type tuple.\n",
      "  warnings.warn(message)\n",
      "/opt/anaconda3/envs/ee460_new_310/lib/python3.10/site-packages/optuna/distributions.py:515: UserWarning: Choices for a categorical distribution should be a tuple of None, bool, int, float and str for persistent storage but contains ('2014-01-01', '2024-01-01') which is of type tuple.\n",
      "  warnings.warn(message)\n",
      "/opt/anaconda3/envs/ee460_new_310/lib/python3.10/site-packages/optuna/distributions.py:515: UserWarning: Choices for a categorical distribution should be a tuple of None, bool, int, float and str for persistent storage but contains [64] which is of type list.\n",
      "  warnings.warn(message)\n",
      "/opt/anaconda3/envs/ee460_new_310/lib/python3.10/site-packages/optuna/distributions.py:515: UserWarning: Choices for a categorical distribution should be a tuple of None, bool, int, float and str for persistent storage but contains [128, 64] which is of type list.\n",
      "  warnings.warn(message)\n",
      "/opt/anaconda3/envs/ee460_new_310/lib/python3.10/site-packages/optuna/distributions.py:515: UserWarning: Choices for a categorical distribution should be a tuple of None, bool, int, float and str for persistent storage but contains [256, 128] which is of type list.\n",
      "  warnings.warn(message)\n",
      "/opt/anaconda3/envs/ee460_new_310/lib/python3.10/site-packages/optuna/distributions.py:515: UserWarning: Choices for a categorical distribution should be a tuple of None, bool, int, float and str for persistent storage but contains [256, 128, 64] which is of type list.\n",
      "  warnings.warn(message)\n",
      "/opt/anaconda3/envs/ee460_new_310/lib/python3.10/site-packages/optuna/distributions.py:515: UserWarning: Choices for a categorical distribution should be a tuple of None, bool, int, float and str for persistent storage but contains [512, 256, 128] which is of type list.\n",
      "  warnings.warn(message)\n",
      "/opt/anaconda3/envs/ee460_new_310/lib/python3.10/site-packages/optuna/distributions.py:515: UserWarning: Choices for a categorical distribution should be a tuple of None, bool, int, float and str for persistent storage but contains [512, 256, 128, 64] which is of type list.\n",
      "  warnings.warn(message)\n",
      "[I 2025-05-07 12:02:33,958] Trial 8 finished with value: -0.06251249462366104 and parameters: {'train_date_range': ('2004-01-01', '2014-01-01'), 'window': 60, 'stride': 80, 'batch_size': 32, 'lr': 6.642304427251069e-05, 'epochs': 20, 'dropout_rate': 0.45, 'hidden_sizes': [256, 128, 64]}. Best is trial 2 with value: -0.024667736142873764.\n",
      "/opt/anaconda3/envs/ee460_new_310/lib/python3.10/site-packages/optuna/distributions.py:515: UserWarning: Choices for a categorical distribution should be a tuple of None, bool, int, float and str for persistent storage but contains ('1990-01-01', '2000-01-01') which is of type tuple.\n",
      "  warnings.warn(message)\n",
      "/opt/anaconda3/envs/ee460_new_310/lib/python3.10/site-packages/optuna/distributions.py:515: UserWarning: Choices for a categorical distribution should be a tuple of None, bool, int, float and str for persistent storage but contains ('1992-01-01', '2002-01-01') which is of type tuple.\n",
      "  warnings.warn(message)\n",
      "/opt/anaconda3/envs/ee460_new_310/lib/python3.10/site-packages/optuna/distributions.py:515: UserWarning: Choices for a categorical distribution should be a tuple of None, bool, int, float and str for persistent storage but contains ('1994-01-01', '2004-01-01') which is of type tuple.\n",
      "  warnings.warn(message)\n",
      "/opt/anaconda3/envs/ee460_new_310/lib/python3.10/site-packages/optuna/distributions.py:515: UserWarning: Choices for a categorical distribution should be a tuple of None, bool, int, float and str for persistent storage but contains ('1996-01-01', '2006-01-01') which is of type tuple.\n",
      "  warnings.warn(message)\n",
      "/opt/anaconda3/envs/ee460_new_310/lib/python3.10/site-packages/optuna/distributions.py:515: UserWarning: Choices for a categorical distribution should be a tuple of None, bool, int, float and str for persistent storage but contains ('1998-01-01', '2008-01-01') which is of type tuple.\n",
      "  warnings.warn(message)\n",
      "/opt/anaconda3/envs/ee460_new_310/lib/python3.10/site-packages/optuna/distributions.py:515: UserWarning: Choices for a categorical distribution should be a tuple of None, bool, int, float and str for persistent storage but contains ('2000-01-01', '2010-01-01') which is of type tuple.\n",
      "  warnings.warn(message)\n",
      "/opt/anaconda3/envs/ee460_new_310/lib/python3.10/site-packages/optuna/distributions.py:515: UserWarning: Choices for a categorical distribution should be a tuple of None, bool, int, float and str for persistent storage but contains ('2002-01-01', '2012-01-01') which is of type tuple.\n",
      "  warnings.warn(message)\n",
      "/opt/anaconda3/envs/ee460_new_310/lib/python3.10/site-packages/optuna/distributions.py:515: UserWarning: Choices for a categorical distribution should be a tuple of None, bool, int, float and str for persistent storage but contains ('2004-01-01', '2014-01-01') which is of type tuple.\n",
      "  warnings.warn(message)\n",
      "/opt/anaconda3/envs/ee460_new_310/lib/python3.10/site-packages/optuna/distributions.py:515: UserWarning: Choices for a categorical distribution should be a tuple of None, bool, int, float and str for persistent storage but contains ('2006-01-01', '2016-01-01') which is of type tuple.\n",
      "  warnings.warn(message)\n",
      "/opt/anaconda3/envs/ee460_new_310/lib/python3.10/site-packages/optuna/distributions.py:515: UserWarning: Choices for a categorical distribution should be a tuple of None, bool, int, float and str for persistent storage but contains ('2008-01-01', '2018-01-01') which is of type tuple.\n",
      "  warnings.warn(message)\n",
      "/opt/anaconda3/envs/ee460_new_310/lib/python3.10/site-packages/optuna/distributions.py:515: UserWarning: Choices for a categorical distribution should be a tuple of None, bool, int, float and str for persistent storage but contains ('2010-01-01', '2020-01-01') which is of type tuple.\n",
      "  warnings.warn(message)\n",
      "/opt/anaconda3/envs/ee460_new_310/lib/python3.10/site-packages/optuna/distributions.py:515: UserWarning: Choices for a categorical distribution should be a tuple of None, bool, int, float and str for persistent storage but contains ('2012-01-01', '2022-01-01') which is of type tuple.\n",
      "  warnings.warn(message)\n",
      "/opt/anaconda3/envs/ee460_new_310/lib/python3.10/site-packages/optuna/distributions.py:515: UserWarning: Choices for a categorical distribution should be a tuple of None, bool, int, float and str for persistent storage but contains ('2014-01-01', '2024-01-01') which is of type tuple.\n",
      "  warnings.warn(message)\n",
      "/opt/anaconda3/envs/ee460_new_310/lib/python3.10/site-packages/optuna/distributions.py:515: UserWarning: Choices for a categorical distribution should be a tuple of None, bool, int, float and str for persistent storage but contains [64] which is of type list.\n",
      "  warnings.warn(message)\n",
      "/opt/anaconda3/envs/ee460_new_310/lib/python3.10/site-packages/optuna/distributions.py:515: UserWarning: Choices for a categorical distribution should be a tuple of None, bool, int, float and str for persistent storage but contains [128, 64] which is of type list.\n",
      "  warnings.warn(message)\n",
      "/opt/anaconda3/envs/ee460_new_310/lib/python3.10/site-packages/optuna/distributions.py:515: UserWarning: Choices for a categorical distribution should be a tuple of None, bool, int, float and str for persistent storage but contains [256, 128] which is of type list.\n",
      "  warnings.warn(message)\n",
      "/opt/anaconda3/envs/ee460_new_310/lib/python3.10/site-packages/optuna/distributions.py:515: UserWarning: Choices for a categorical distribution should be a tuple of None, bool, int, float and str for persistent storage but contains [256, 128, 64] which is of type list.\n",
      "  warnings.warn(message)\n",
      "/opt/anaconda3/envs/ee460_new_310/lib/python3.10/site-packages/optuna/distributions.py:515: UserWarning: Choices for a categorical distribution should be a tuple of None, bool, int, float and str for persistent storage but contains [512, 256, 128] which is of type list.\n",
      "  warnings.warn(message)\n",
      "/opt/anaconda3/envs/ee460_new_310/lib/python3.10/site-packages/optuna/distributions.py:515: UserWarning: Choices for a categorical distribution should be a tuple of None, bool, int, float and str for persistent storage but contains [512, 256, 128, 64] which is of type list.\n",
      "  warnings.warn(message)\n",
      "[I 2025-05-07 12:02:34,353] Trial 9 finished with value: -0.02967969700694084 and parameters: {'train_date_range': ('2004-01-01', '2014-01-01'), 'window': 60, 'stride': 35, 'batch_size': 32, 'lr': 0.00011281915932638805, 'epochs': 35, 'dropout_rate': 0.25, 'hidden_sizes': [256, 128]}. Best is trial 2 with value: -0.024667736142873764.\n",
      "/opt/anaconda3/envs/ee460_new_310/lib/python3.10/site-packages/optuna/distributions.py:515: UserWarning: Choices for a categorical distribution should be a tuple of None, bool, int, float and str for persistent storage but contains ('1990-01-01', '2000-01-01') which is of type tuple.\n",
      "  warnings.warn(message)\n",
      "/opt/anaconda3/envs/ee460_new_310/lib/python3.10/site-packages/optuna/distributions.py:515: UserWarning: Choices for a categorical distribution should be a tuple of None, bool, int, float and str for persistent storage but contains ('1992-01-01', '2002-01-01') which is of type tuple.\n",
      "  warnings.warn(message)\n",
      "/opt/anaconda3/envs/ee460_new_310/lib/python3.10/site-packages/optuna/distributions.py:515: UserWarning: Choices for a categorical distribution should be a tuple of None, bool, int, float and str for persistent storage but contains ('1994-01-01', '2004-01-01') which is of type tuple.\n",
      "  warnings.warn(message)\n",
      "/opt/anaconda3/envs/ee460_new_310/lib/python3.10/site-packages/optuna/distributions.py:515: UserWarning: Choices for a categorical distribution should be a tuple of None, bool, int, float and str for persistent storage but contains ('1996-01-01', '2006-01-01') which is of type tuple.\n",
      "  warnings.warn(message)\n",
      "/opt/anaconda3/envs/ee460_new_310/lib/python3.10/site-packages/optuna/distributions.py:515: UserWarning: Choices for a categorical distribution should be a tuple of None, bool, int, float and str for persistent storage but contains ('1998-01-01', '2008-01-01') which is of type tuple.\n",
      "  warnings.warn(message)\n",
      "/opt/anaconda3/envs/ee460_new_310/lib/python3.10/site-packages/optuna/distributions.py:515: UserWarning: Choices for a categorical distribution should be a tuple of None, bool, int, float and str for persistent storage but contains ('2000-01-01', '2010-01-01') which is of type tuple.\n",
      "  warnings.warn(message)\n",
      "/opt/anaconda3/envs/ee460_new_310/lib/python3.10/site-packages/optuna/distributions.py:515: UserWarning: Choices for a categorical distribution should be a tuple of None, bool, int, float and str for persistent storage but contains ('2002-01-01', '2012-01-01') which is of type tuple.\n",
      "  warnings.warn(message)\n",
      "/opt/anaconda3/envs/ee460_new_310/lib/python3.10/site-packages/optuna/distributions.py:515: UserWarning: Choices for a categorical distribution should be a tuple of None, bool, int, float and str for persistent storage but contains ('2004-01-01', '2014-01-01') which is of type tuple.\n",
      "  warnings.warn(message)\n",
      "/opt/anaconda3/envs/ee460_new_310/lib/python3.10/site-packages/optuna/distributions.py:515: UserWarning: Choices for a categorical distribution should be a tuple of None, bool, int, float and str for persistent storage but contains ('2006-01-01', '2016-01-01') which is of type tuple.\n",
      "  warnings.warn(message)\n",
      "/opt/anaconda3/envs/ee460_new_310/lib/python3.10/site-packages/optuna/distributions.py:515: UserWarning: Choices for a categorical distribution should be a tuple of None, bool, int, float and str for persistent storage but contains ('2008-01-01', '2018-01-01') which is of type tuple.\n",
      "  warnings.warn(message)\n",
      "/opt/anaconda3/envs/ee460_new_310/lib/python3.10/site-packages/optuna/distributions.py:515: UserWarning: Choices for a categorical distribution should be a tuple of None, bool, int, float and str for persistent storage but contains ('2010-01-01', '2020-01-01') which is of type tuple.\n",
      "  warnings.warn(message)\n",
      "/opt/anaconda3/envs/ee460_new_310/lib/python3.10/site-packages/optuna/distributions.py:515: UserWarning: Choices for a categorical distribution should be a tuple of None, bool, int, float and str for persistent storage but contains ('2012-01-01', '2022-01-01') which is of type tuple.\n",
      "  warnings.warn(message)\n",
      "/opt/anaconda3/envs/ee460_new_310/lib/python3.10/site-packages/optuna/distributions.py:515: UserWarning: Choices for a categorical distribution should be a tuple of None, bool, int, float and str for persistent storage but contains ('2014-01-01', '2024-01-01') which is of type tuple.\n",
      "  warnings.warn(message)\n",
      "/opt/anaconda3/envs/ee460_new_310/lib/python3.10/site-packages/optuna/distributions.py:515: UserWarning: Choices for a categorical distribution should be a tuple of None, bool, int, float and str for persistent storage but contains [64] which is of type list.\n",
      "  warnings.warn(message)\n",
      "/opt/anaconda3/envs/ee460_new_310/lib/python3.10/site-packages/optuna/distributions.py:515: UserWarning: Choices for a categorical distribution should be a tuple of None, bool, int, float and str for persistent storage but contains [128, 64] which is of type list.\n",
      "  warnings.warn(message)\n",
      "/opt/anaconda3/envs/ee460_new_310/lib/python3.10/site-packages/optuna/distributions.py:515: UserWarning: Choices for a categorical distribution should be a tuple of None, bool, int, float and str for persistent storage but contains [256, 128] which is of type list.\n",
      "  warnings.warn(message)\n",
      "/opt/anaconda3/envs/ee460_new_310/lib/python3.10/site-packages/optuna/distributions.py:515: UserWarning: Choices for a categorical distribution should be a tuple of None, bool, int, float and str for persistent storage but contains [256, 128, 64] which is of type list.\n",
      "  warnings.warn(message)\n",
      "/opt/anaconda3/envs/ee460_new_310/lib/python3.10/site-packages/optuna/distributions.py:515: UserWarning: Choices for a categorical distribution should be a tuple of None, bool, int, float and str for persistent storage but contains [512, 256, 128] which is of type list.\n",
      "  warnings.warn(message)\n",
      "/opt/anaconda3/envs/ee460_new_310/lib/python3.10/site-packages/optuna/distributions.py:515: UserWarning: Choices for a categorical distribution should be a tuple of None, bool, int, float and str for persistent storage but contains [512, 256, 128, 64] which is of type list.\n",
      "  warnings.warn(message)\n",
      "[I 2025-05-07 12:02:34,742] Trial 10 finished with value: -0.05848614126443863 and parameters: {'train_date_range': ('2006-01-01', '2016-01-01'), 'window': 90, 'stride': 100, 'batch_size': 128, 'lr': 1.3185905186874883e-05, 'epochs': 30, 'dropout_rate': 0.4, 'hidden_sizes': [512, 256, 128, 64]}. Best is trial 2 with value: -0.024667736142873764.\n",
      "/opt/anaconda3/envs/ee460_new_310/lib/python3.10/site-packages/optuna/distributions.py:515: UserWarning: Choices for a categorical distribution should be a tuple of None, bool, int, float and str for persistent storage but contains ('1990-01-01', '2000-01-01') which is of type tuple.\n",
      "  warnings.warn(message)\n",
      "/opt/anaconda3/envs/ee460_new_310/lib/python3.10/site-packages/optuna/distributions.py:515: UserWarning: Choices for a categorical distribution should be a tuple of None, bool, int, float and str for persistent storage but contains ('1992-01-01', '2002-01-01') which is of type tuple.\n",
      "  warnings.warn(message)\n",
      "/opt/anaconda3/envs/ee460_new_310/lib/python3.10/site-packages/optuna/distributions.py:515: UserWarning: Choices for a categorical distribution should be a tuple of None, bool, int, float and str for persistent storage but contains ('1994-01-01', '2004-01-01') which is of type tuple.\n",
      "  warnings.warn(message)\n",
      "/opt/anaconda3/envs/ee460_new_310/lib/python3.10/site-packages/optuna/distributions.py:515: UserWarning: Choices for a categorical distribution should be a tuple of None, bool, int, float and str for persistent storage but contains ('1996-01-01', '2006-01-01') which is of type tuple.\n",
      "  warnings.warn(message)\n",
      "/opt/anaconda3/envs/ee460_new_310/lib/python3.10/site-packages/optuna/distributions.py:515: UserWarning: Choices for a categorical distribution should be a tuple of None, bool, int, float and str for persistent storage but contains ('1998-01-01', '2008-01-01') which is of type tuple.\n",
      "  warnings.warn(message)\n",
      "/opt/anaconda3/envs/ee460_new_310/lib/python3.10/site-packages/optuna/distributions.py:515: UserWarning: Choices for a categorical distribution should be a tuple of None, bool, int, float and str for persistent storage but contains ('2000-01-01', '2010-01-01') which is of type tuple.\n",
      "  warnings.warn(message)\n",
      "/opt/anaconda3/envs/ee460_new_310/lib/python3.10/site-packages/optuna/distributions.py:515: UserWarning: Choices for a categorical distribution should be a tuple of None, bool, int, float and str for persistent storage but contains ('2002-01-01', '2012-01-01') which is of type tuple.\n",
      "  warnings.warn(message)\n",
      "/opt/anaconda3/envs/ee460_new_310/lib/python3.10/site-packages/optuna/distributions.py:515: UserWarning: Choices for a categorical distribution should be a tuple of None, bool, int, float and str for persistent storage but contains ('2004-01-01', '2014-01-01') which is of type tuple.\n",
      "  warnings.warn(message)\n",
      "/opt/anaconda3/envs/ee460_new_310/lib/python3.10/site-packages/optuna/distributions.py:515: UserWarning: Choices for a categorical distribution should be a tuple of None, bool, int, float and str for persistent storage but contains ('2006-01-01', '2016-01-01') which is of type tuple.\n",
      "  warnings.warn(message)\n",
      "/opt/anaconda3/envs/ee460_new_310/lib/python3.10/site-packages/optuna/distributions.py:515: UserWarning: Choices for a categorical distribution should be a tuple of None, bool, int, float and str for persistent storage but contains ('2008-01-01', '2018-01-01') which is of type tuple.\n",
      "  warnings.warn(message)\n",
      "/opt/anaconda3/envs/ee460_new_310/lib/python3.10/site-packages/optuna/distributions.py:515: UserWarning: Choices for a categorical distribution should be a tuple of None, bool, int, float and str for persistent storage but contains ('2010-01-01', '2020-01-01') which is of type tuple.\n",
      "  warnings.warn(message)\n",
      "/opt/anaconda3/envs/ee460_new_310/lib/python3.10/site-packages/optuna/distributions.py:515: UserWarning: Choices for a categorical distribution should be a tuple of None, bool, int, float and str for persistent storage but contains ('2012-01-01', '2022-01-01') which is of type tuple.\n",
      "  warnings.warn(message)\n",
      "/opt/anaconda3/envs/ee460_new_310/lib/python3.10/site-packages/optuna/distributions.py:515: UserWarning: Choices for a categorical distribution should be a tuple of None, bool, int, float and str for persistent storage but contains ('2014-01-01', '2024-01-01') which is of type tuple.\n",
      "  warnings.warn(message)\n",
      "/opt/anaconda3/envs/ee460_new_310/lib/python3.10/site-packages/optuna/distributions.py:515: UserWarning: Choices for a categorical distribution should be a tuple of None, bool, int, float and str for persistent storage but contains [64] which is of type list.\n",
      "  warnings.warn(message)\n",
      "/opt/anaconda3/envs/ee460_new_310/lib/python3.10/site-packages/optuna/distributions.py:515: UserWarning: Choices for a categorical distribution should be a tuple of None, bool, int, float and str for persistent storage but contains [128, 64] which is of type list.\n",
      "  warnings.warn(message)\n",
      "/opt/anaconda3/envs/ee460_new_310/lib/python3.10/site-packages/optuna/distributions.py:515: UserWarning: Choices for a categorical distribution should be a tuple of None, bool, int, float and str for persistent storage but contains [256, 128] which is of type list.\n",
      "  warnings.warn(message)\n",
      "/opt/anaconda3/envs/ee460_new_310/lib/python3.10/site-packages/optuna/distributions.py:515: UserWarning: Choices for a categorical distribution should be a tuple of None, bool, int, float and str for persistent storage but contains [256, 128, 64] which is of type list.\n",
      "  warnings.warn(message)\n",
      "/opt/anaconda3/envs/ee460_new_310/lib/python3.10/site-packages/optuna/distributions.py:515: UserWarning: Choices for a categorical distribution should be a tuple of None, bool, int, float and str for persistent storage but contains [512, 256, 128] which is of type list.\n",
      "  warnings.warn(message)\n",
      "/opt/anaconda3/envs/ee460_new_310/lib/python3.10/site-packages/optuna/distributions.py:515: UserWarning: Choices for a categorical distribution should be a tuple of None, bool, int, float and str for persistent storage but contains [512, 256, 128, 64] which is of type list.\n",
      "  warnings.warn(message)\n",
      "[I 2025-05-07 12:02:35,061] Trial 11 finished with value: -0.04238513484597206 and parameters: {'train_date_range': ('2006-01-01', '2016-01-01'), 'window': 10, 'stride': 30, 'batch_size': 64, 'lr': 0.0012368839727018906, 'epochs': 40, 'dropout_rate': 0.0, 'hidden_sizes': [256, 128]}. Best is trial 2 with value: -0.024667736142873764.\n",
      "/opt/anaconda3/envs/ee460_new_310/lib/python3.10/site-packages/optuna/distributions.py:515: UserWarning: Choices for a categorical distribution should be a tuple of None, bool, int, float and str for persistent storage but contains ('1990-01-01', '2000-01-01') which is of type tuple.\n",
      "  warnings.warn(message)\n",
      "/opt/anaconda3/envs/ee460_new_310/lib/python3.10/site-packages/optuna/distributions.py:515: UserWarning: Choices for a categorical distribution should be a tuple of None, bool, int, float and str for persistent storage but contains ('1992-01-01', '2002-01-01') which is of type tuple.\n",
      "  warnings.warn(message)\n",
      "/opt/anaconda3/envs/ee460_new_310/lib/python3.10/site-packages/optuna/distributions.py:515: UserWarning: Choices for a categorical distribution should be a tuple of None, bool, int, float and str for persistent storage but contains ('1994-01-01', '2004-01-01') which is of type tuple.\n",
      "  warnings.warn(message)\n",
      "/opt/anaconda3/envs/ee460_new_310/lib/python3.10/site-packages/optuna/distributions.py:515: UserWarning: Choices for a categorical distribution should be a tuple of None, bool, int, float and str for persistent storage but contains ('1996-01-01', '2006-01-01') which is of type tuple.\n",
      "  warnings.warn(message)\n",
      "/opt/anaconda3/envs/ee460_new_310/lib/python3.10/site-packages/optuna/distributions.py:515: UserWarning: Choices for a categorical distribution should be a tuple of None, bool, int, float and str for persistent storage but contains ('1998-01-01', '2008-01-01') which is of type tuple.\n",
      "  warnings.warn(message)\n",
      "/opt/anaconda3/envs/ee460_new_310/lib/python3.10/site-packages/optuna/distributions.py:515: UserWarning: Choices for a categorical distribution should be a tuple of None, bool, int, float and str for persistent storage but contains ('2000-01-01', '2010-01-01') which is of type tuple.\n",
      "  warnings.warn(message)\n",
      "/opt/anaconda3/envs/ee460_new_310/lib/python3.10/site-packages/optuna/distributions.py:515: UserWarning: Choices for a categorical distribution should be a tuple of None, bool, int, float and str for persistent storage but contains ('2002-01-01', '2012-01-01') which is of type tuple.\n",
      "  warnings.warn(message)\n",
      "/opt/anaconda3/envs/ee460_new_310/lib/python3.10/site-packages/optuna/distributions.py:515: UserWarning: Choices for a categorical distribution should be a tuple of None, bool, int, float and str for persistent storage but contains ('2004-01-01', '2014-01-01') which is of type tuple.\n",
      "  warnings.warn(message)\n",
      "/opt/anaconda3/envs/ee460_new_310/lib/python3.10/site-packages/optuna/distributions.py:515: UserWarning: Choices for a categorical distribution should be a tuple of None, bool, int, float and str for persistent storage but contains ('2006-01-01', '2016-01-01') which is of type tuple.\n",
      "  warnings.warn(message)\n",
      "/opt/anaconda3/envs/ee460_new_310/lib/python3.10/site-packages/optuna/distributions.py:515: UserWarning: Choices for a categorical distribution should be a tuple of None, bool, int, float and str for persistent storage but contains ('2008-01-01', '2018-01-01') which is of type tuple.\n",
      "  warnings.warn(message)\n",
      "/opt/anaconda3/envs/ee460_new_310/lib/python3.10/site-packages/optuna/distributions.py:515: UserWarning: Choices for a categorical distribution should be a tuple of None, bool, int, float and str for persistent storage but contains ('2010-01-01', '2020-01-01') which is of type tuple.\n",
      "  warnings.warn(message)\n",
      "/opt/anaconda3/envs/ee460_new_310/lib/python3.10/site-packages/optuna/distributions.py:515: UserWarning: Choices for a categorical distribution should be a tuple of None, bool, int, float and str for persistent storage but contains ('2012-01-01', '2022-01-01') which is of type tuple.\n",
      "  warnings.warn(message)\n",
      "/opt/anaconda3/envs/ee460_new_310/lib/python3.10/site-packages/optuna/distributions.py:515: UserWarning: Choices for a categorical distribution should be a tuple of None, bool, int, float and str for persistent storage but contains ('2014-01-01', '2024-01-01') which is of type tuple.\n",
      "  warnings.warn(message)\n",
      "/opt/anaconda3/envs/ee460_new_310/lib/python3.10/site-packages/optuna/distributions.py:515: UserWarning: Choices for a categorical distribution should be a tuple of None, bool, int, float and str for persistent storage but contains [64] which is of type list.\n",
      "  warnings.warn(message)\n",
      "/opt/anaconda3/envs/ee460_new_310/lib/python3.10/site-packages/optuna/distributions.py:515: UserWarning: Choices for a categorical distribution should be a tuple of None, bool, int, float and str for persistent storage but contains [128, 64] which is of type list.\n",
      "  warnings.warn(message)\n",
      "/opt/anaconda3/envs/ee460_new_310/lib/python3.10/site-packages/optuna/distributions.py:515: UserWarning: Choices for a categorical distribution should be a tuple of None, bool, int, float and str for persistent storage but contains [256, 128] which is of type list.\n",
      "  warnings.warn(message)\n",
      "/opt/anaconda3/envs/ee460_new_310/lib/python3.10/site-packages/optuna/distributions.py:515: UserWarning: Choices for a categorical distribution should be a tuple of None, bool, int, float and str for persistent storage but contains [256, 128, 64] which is of type list.\n",
      "  warnings.warn(message)\n",
      "/opt/anaconda3/envs/ee460_new_310/lib/python3.10/site-packages/optuna/distributions.py:515: UserWarning: Choices for a categorical distribution should be a tuple of None, bool, int, float and str for persistent storage but contains [512, 256, 128] which is of type list.\n",
      "  warnings.warn(message)\n",
      "/opt/anaconda3/envs/ee460_new_310/lib/python3.10/site-packages/optuna/distributions.py:515: UserWarning: Choices for a categorical distribution should be a tuple of None, bool, int, float and str for persistent storage but contains [512, 256, 128, 64] which is of type list.\n",
      "  warnings.warn(message)\n",
      "[I 2025-05-07 12:02:35,301] Trial 12 finished with value: -0.05290205404162407 and parameters: {'train_date_range': ('2006-01-01', '2016-01-01'), 'window': 80, 'stride': 80, 'batch_size': 64, 'lr': 0.0012424260143687666, 'epochs': 50, 'dropout_rate': 0.0, 'hidden_sizes': [256, 128]}. Best is trial 2 with value: -0.024667736142873764.\n",
      "/opt/anaconda3/envs/ee460_new_310/lib/python3.10/site-packages/optuna/distributions.py:515: UserWarning: Choices for a categorical distribution should be a tuple of None, bool, int, float and str for persistent storage but contains ('1990-01-01', '2000-01-01') which is of type tuple.\n",
      "  warnings.warn(message)\n",
      "/opt/anaconda3/envs/ee460_new_310/lib/python3.10/site-packages/optuna/distributions.py:515: UserWarning: Choices for a categorical distribution should be a tuple of None, bool, int, float and str for persistent storage but contains ('1992-01-01', '2002-01-01') which is of type tuple.\n",
      "  warnings.warn(message)\n",
      "/opt/anaconda3/envs/ee460_new_310/lib/python3.10/site-packages/optuna/distributions.py:515: UserWarning: Choices for a categorical distribution should be a tuple of None, bool, int, float and str for persistent storage but contains ('1994-01-01', '2004-01-01') which is of type tuple.\n",
      "  warnings.warn(message)\n",
      "/opt/anaconda3/envs/ee460_new_310/lib/python3.10/site-packages/optuna/distributions.py:515: UserWarning: Choices for a categorical distribution should be a tuple of None, bool, int, float and str for persistent storage but contains ('1996-01-01', '2006-01-01') which is of type tuple.\n",
      "  warnings.warn(message)\n",
      "/opt/anaconda3/envs/ee460_new_310/lib/python3.10/site-packages/optuna/distributions.py:515: UserWarning: Choices for a categorical distribution should be a tuple of None, bool, int, float and str for persistent storage but contains ('1998-01-01', '2008-01-01') which is of type tuple.\n",
      "  warnings.warn(message)\n",
      "/opt/anaconda3/envs/ee460_new_310/lib/python3.10/site-packages/optuna/distributions.py:515: UserWarning: Choices for a categorical distribution should be a tuple of None, bool, int, float and str for persistent storage but contains ('2000-01-01', '2010-01-01') which is of type tuple.\n",
      "  warnings.warn(message)\n",
      "/opt/anaconda3/envs/ee460_new_310/lib/python3.10/site-packages/optuna/distributions.py:515: UserWarning: Choices for a categorical distribution should be a tuple of None, bool, int, float and str for persistent storage but contains ('2002-01-01', '2012-01-01') which is of type tuple.\n",
      "  warnings.warn(message)\n",
      "/opt/anaconda3/envs/ee460_new_310/lib/python3.10/site-packages/optuna/distributions.py:515: UserWarning: Choices for a categorical distribution should be a tuple of None, bool, int, float and str for persistent storage but contains ('2004-01-01', '2014-01-01') which is of type tuple.\n",
      "  warnings.warn(message)\n",
      "/opt/anaconda3/envs/ee460_new_310/lib/python3.10/site-packages/optuna/distributions.py:515: UserWarning: Choices for a categorical distribution should be a tuple of None, bool, int, float and str for persistent storage but contains ('2006-01-01', '2016-01-01') which is of type tuple.\n",
      "  warnings.warn(message)\n",
      "/opt/anaconda3/envs/ee460_new_310/lib/python3.10/site-packages/optuna/distributions.py:515: UserWarning: Choices for a categorical distribution should be a tuple of None, bool, int, float and str for persistent storage but contains ('2008-01-01', '2018-01-01') which is of type tuple.\n",
      "  warnings.warn(message)\n",
      "/opt/anaconda3/envs/ee460_new_310/lib/python3.10/site-packages/optuna/distributions.py:515: UserWarning: Choices for a categorical distribution should be a tuple of None, bool, int, float and str for persistent storage but contains ('2010-01-01', '2020-01-01') which is of type tuple.\n",
      "  warnings.warn(message)\n",
      "/opt/anaconda3/envs/ee460_new_310/lib/python3.10/site-packages/optuna/distributions.py:515: UserWarning: Choices for a categorical distribution should be a tuple of None, bool, int, float and str for persistent storage but contains ('2012-01-01', '2022-01-01') which is of type tuple.\n",
      "  warnings.warn(message)\n",
      "/opt/anaconda3/envs/ee460_new_310/lib/python3.10/site-packages/optuna/distributions.py:515: UserWarning: Choices for a categorical distribution should be a tuple of None, bool, int, float and str for persistent storage but contains ('2014-01-01', '2024-01-01') which is of type tuple.\n",
      "  warnings.warn(message)\n",
      "/opt/anaconda3/envs/ee460_new_310/lib/python3.10/site-packages/optuna/distributions.py:515: UserWarning: Choices for a categorical distribution should be a tuple of None, bool, int, float and str for persistent storage but contains [64] which is of type list.\n",
      "  warnings.warn(message)\n",
      "/opt/anaconda3/envs/ee460_new_310/lib/python3.10/site-packages/optuna/distributions.py:515: UserWarning: Choices for a categorical distribution should be a tuple of None, bool, int, float and str for persistent storage but contains [128, 64] which is of type list.\n",
      "  warnings.warn(message)\n",
      "/opt/anaconda3/envs/ee460_new_310/lib/python3.10/site-packages/optuna/distributions.py:515: UserWarning: Choices for a categorical distribution should be a tuple of None, bool, int, float and str for persistent storage but contains [256, 128] which is of type list.\n",
      "  warnings.warn(message)\n",
      "/opt/anaconda3/envs/ee460_new_310/lib/python3.10/site-packages/optuna/distributions.py:515: UserWarning: Choices for a categorical distribution should be a tuple of None, bool, int, float and str for persistent storage but contains [256, 128, 64] which is of type list.\n",
      "  warnings.warn(message)\n",
      "/opt/anaconda3/envs/ee460_new_310/lib/python3.10/site-packages/optuna/distributions.py:515: UserWarning: Choices for a categorical distribution should be a tuple of None, bool, int, float and str for persistent storage but contains [512, 256, 128] which is of type list.\n",
      "  warnings.warn(message)\n",
      "/opt/anaconda3/envs/ee460_new_310/lib/python3.10/site-packages/optuna/distributions.py:515: UserWarning: Choices for a categorical distribution should be a tuple of None, bool, int, float and str for persistent storage but contains [512, 256, 128, 64] which is of type list.\n",
      "  warnings.warn(message)\n",
      "[I 2025-05-07 12:02:36,450] Trial 13 finished with value: -0.02664261683821678 and parameters: {'train_date_range': ('2002-01-01', '2012-01-01'), 'window': 10, 'stride': 5, 'batch_size': 128, 'lr': 2.6118442293982028e-05, 'epochs': 30, 'dropout_rate': 0.1, 'hidden_sizes': [512, 256, 128, 64]}. Best is trial 2 with value: -0.024667736142873764.\n",
      "/opt/anaconda3/envs/ee460_new_310/lib/python3.10/site-packages/optuna/distributions.py:515: UserWarning: Choices for a categorical distribution should be a tuple of None, bool, int, float and str for persistent storage but contains ('1990-01-01', '2000-01-01') which is of type tuple.\n",
      "  warnings.warn(message)\n",
      "/opt/anaconda3/envs/ee460_new_310/lib/python3.10/site-packages/optuna/distributions.py:515: UserWarning: Choices for a categorical distribution should be a tuple of None, bool, int, float and str for persistent storage but contains ('1992-01-01', '2002-01-01') which is of type tuple.\n",
      "  warnings.warn(message)\n",
      "/opt/anaconda3/envs/ee460_new_310/lib/python3.10/site-packages/optuna/distributions.py:515: UserWarning: Choices for a categorical distribution should be a tuple of None, bool, int, float and str for persistent storage but contains ('1994-01-01', '2004-01-01') which is of type tuple.\n",
      "  warnings.warn(message)\n",
      "/opt/anaconda3/envs/ee460_new_310/lib/python3.10/site-packages/optuna/distributions.py:515: UserWarning: Choices for a categorical distribution should be a tuple of None, bool, int, float and str for persistent storage but contains ('1996-01-01', '2006-01-01') which is of type tuple.\n",
      "  warnings.warn(message)\n",
      "/opt/anaconda3/envs/ee460_new_310/lib/python3.10/site-packages/optuna/distributions.py:515: UserWarning: Choices for a categorical distribution should be a tuple of None, bool, int, float and str for persistent storage but contains ('1998-01-01', '2008-01-01') which is of type tuple.\n",
      "  warnings.warn(message)\n",
      "/opt/anaconda3/envs/ee460_new_310/lib/python3.10/site-packages/optuna/distributions.py:515: UserWarning: Choices for a categorical distribution should be a tuple of None, bool, int, float and str for persistent storage but contains ('2000-01-01', '2010-01-01') which is of type tuple.\n",
      "  warnings.warn(message)\n",
      "/opt/anaconda3/envs/ee460_new_310/lib/python3.10/site-packages/optuna/distributions.py:515: UserWarning: Choices for a categorical distribution should be a tuple of None, bool, int, float and str for persistent storage but contains ('2002-01-01', '2012-01-01') which is of type tuple.\n",
      "  warnings.warn(message)\n",
      "/opt/anaconda3/envs/ee460_new_310/lib/python3.10/site-packages/optuna/distributions.py:515: UserWarning: Choices for a categorical distribution should be a tuple of None, bool, int, float and str for persistent storage but contains ('2004-01-01', '2014-01-01') which is of type tuple.\n",
      "  warnings.warn(message)\n",
      "/opt/anaconda3/envs/ee460_new_310/lib/python3.10/site-packages/optuna/distributions.py:515: UserWarning: Choices for a categorical distribution should be a tuple of None, bool, int, float and str for persistent storage but contains ('2006-01-01', '2016-01-01') which is of type tuple.\n",
      "  warnings.warn(message)\n",
      "/opt/anaconda3/envs/ee460_new_310/lib/python3.10/site-packages/optuna/distributions.py:515: UserWarning: Choices for a categorical distribution should be a tuple of None, bool, int, float and str for persistent storage but contains ('2008-01-01', '2018-01-01') which is of type tuple.\n",
      "  warnings.warn(message)\n",
      "/opt/anaconda3/envs/ee460_new_310/lib/python3.10/site-packages/optuna/distributions.py:515: UserWarning: Choices for a categorical distribution should be a tuple of None, bool, int, float and str for persistent storage but contains ('2010-01-01', '2020-01-01') which is of type tuple.\n",
      "  warnings.warn(message)\n",
      "/opt/anaconda3/envs/ee460_new_310/lib/python3.10/site-packages/optuna/distributions.py:515: UserWarning: Choices for a categorical distribution should be a tuple of None, bool, int, float and str for persistent storage but contains ('2012-01-01', '2022-01-01') which is of type tuple.\n",
      "  warnings.warn(message)\n",
      "/opt/anaconda3/envs/ee460_new_310/lib/python3.10/site-packages/optuna/distributions.py:515: UserWarning: Choices for a categorical distribution should be a tuple of None, bool, int, float and str for persistent storage but contains ('2014-01-01', '2024-01-01') which is of type tuple.\n",
      "  warnings.warn(message)\n",
      "/opt/anaconda3/envs/ee460_new_310/lib/python3.10/site-packages/optuna/distributions.py:515: UserWarning: Choices for a categorical distribution should be a tuple of None, bool, int, float and str for persistent storage but contains [64] which is of type list.\n",
      "  warnings.warn(message)\n",
      "/opt/anaconda3/envs/ee460_new_310/lib/python3.10/site-packages/optuna/distributions.py:515: UserWarning: Choices for a categorical distribution should be a tuple of None, bool, int, float and str for persistent storage but contains [128, 64] which is of type list.\n",
      "  warnings.warn(message)\n",
      "/opt/anaconda3/envs/ee460_new_310/lib/python3.10/site-packages/optuna/distributions.py:515: UserWarning: Choices for a categorical distribution should be a tuple of None, bool, int, float and str for persistent storage but contains [256, 128] which is of type list.\n",
      "  warnings.warn(message)\n",
      "/opt/anaconda3/envs/ee460_new_310/lib/python3.10/site-packages/optuna/distributions.py:515: UserWarning: Choices for a categorical distribution should be a tuple of None, bool, int, float and str for persistent storage but contains [256, 128, 64] which is of type list.\n",
      "  warnings.warn(message)\n",
      "/opt/anaconda3/envs/ee460_new_310/lib/python3.10/site-packages/optuna/distributions.py:515: UserWarning: Choices for a categorical distribution should be a tuple of None, bool, int, float and str for persistent storage but contains [512, 256, 128] which is of type list.\n",
      "  warnings.warn(message)\n",
      "/opt/anaconda3/envs/ee460_new_310/lib/python3.10/site-packages/optuna/distributions.py:515: UserWarning: Choices for a categorical distribution should be a tuple of None, bool, int, float and str for persistent storage but contains [512, 256, 128, 64] which is of type list.\n",
      "  warnings.warn(message)\n",
      "[I 2025-05-07 12:02:37,231] Trial 14 finished with value: -0.0389152429997921 and parameters: {'train_date_range': ('2002-01-01', '2012-01-01'), 'window': 10, 'stride': 5, 'batch_size': 128, 'lr': 2.0241322602292686e-05, 'epochs': 30, 'dropout_rate': 0.35000000000000003, 'hidden_sizes': [512, 256, 128, 64]}. Best is trial 2 with value: -0.024667736142873764.\n",
      "/opt/anaconda3/envs/ee460_new_310/lib/python3.10/site-packages/optuna/distributions.py:515: UserWarning: Choices for a categorical distribution should be a tuple of None, bool, int, float and str for persistent storage but contains ('1990-01-01', '2000-01-01') which is of type tuple.\n",
      "  warnings.warn(message)\n",
      "/opt/anaconda3/envs/ee460_new_310/lib/python3.10/site-packages/optuna/distributions.py:515: UserWarning: Choices for a categorical distribution should be a tuple of None, bool, int, float and str for persistent storage but contains ('1992-01-01', '2002-01-01') which is of type tuple.\n",
      "  warnings.warn(message)\n",
      "/opt/anaconda3/envs/ee460_new_310/lib/python3.10/site-packages/optuna/distributions.py:515: UserWarning: Choices for a categorical distribution should be a tuple of None, bool, int, float and str for persistent storage but contains ('1994-01-01', '2004-01-01') which is of type tuple.\n",
      "  warnings.warn(message)\n",
      "/opt/anaconda3/envs/ee460_new_310/lib/python3.10/site-packages/optuna/distributions.py:515: UserWarning: Choices for a categorical distribution should be a tuple of None, bool, int, float and str for persistent storage but contains ('1996-01-01', '2006-01-01') which is of type tuple.\n",
      "  warnings.warn(message)\n",
      "/opt/anaconda3/envs/ee460_new_310/lib/python3.10/site-packages/optuna/distributions.py:515: UserWarning: Choices for a categorical distribution should be a tuple of None, bool, int, float and str for persistent storage but contains ('1998-01-01', '2008-01-01') which is of type tuple.\n",
      "  warnings.warn(message)\n",
      "/opt/anaconda3/envs/ee460_new_310/lib/python3.10/site-packages/optuna/distributions.py:515: UserWarning: Choices for a categorical distribution should be a tuple of None, bool, int, float and str for persistent storage but contains ('2000-01-01', '2010-01-01') which is of type tuple.\n",
      "  warnings.warn(message)\n",
      "/opt/anaconda3/envs/ee460_new_310/lib/python3.10/site-packages/optuna/distributions.py:515: UserWarning: Choices for a categorical distribution should be a tuple of None, bool, int, float and str for persistent storage but contains ('2002-01-01', '2012-01-01') which is of type tuple.\n",
      "  warnings.warn(message)\n",
      "/opt/anaconda3/envs/ee460_new_310/lib/python3.10/site-packages/optuna/distributions.py:515: UserWarning: Choices for a categorical distribution should be a tuple of None, bool, int, float and str for persistent storage but contains ('2004-01-01', '2014-01-01') which is of type tuple.\n",
      "  warnings.warn(message)\n",
      "/opt/anaconda3/envs/ee460_new_310/lib/python3.10/site-packages/optuna/distributions.py:515: UserWarning: Choices for a categorical distribution should be a tuple of None, bool, int, float and str for persistent storage but contains ('2006-01-01', '2016-01-01') which is of type tuple.\n",
      "  warnings.warn(message)\n",
      "/opt/anaconda3/envs/ee460_new_310/lib/python3.10/site-packages/optuna/distributions.py:515: UserWarning: Choices for a categorical distribution should be a tuple of None, bool, int, float and str for persistent storage but contains ('2008-01-01', '2018-01-01') which is of type tuple.\n",
      "  warnings.warn(message)\n",
      "/opt/anaconda3/envs/ee460_new_310/lib/python3.10/site-packages/optuna/distributions.py:515: UserWarning: Choices for a categorical distribution should be a tuple of None, bool, int, float and str for persistent storage but contains ('2010-01-01', '2020-01-01') which is of type tuple.\n",
      "  warnings.warn(message)\n",
      "/opt/anaconda3/envs/ee460_new_310/lib/python3.10/site-packages/optuna/distributions.py:515: UserWarning: Choices for a categorical distribution should be a tuple of None, bool, int, float and str for persistent storage but contains ('2012-01-01', '2022-01-01') which is of type tuple.\n",
      "  warnings.warn(message)\n",
      "/opt/anaconda3/envs/ee460_new_310/lib/python3.10/site-packages/optuna/distributions.py:515: UserWarning: Choices for a categorical distribution should be a tuple of None, bool, int, float and str for persistent storage but contains ('2014-01-01', '2024-01-01') which is of type tuple.\n",
      "  warnings.warn(message)\n",
      "/opt/anaconda3/envs/ee460_new_310/lib/python3.10/site-packages/optuna/distributions.py:515: UserWarning: Choices for a categorical distribution should be a tuple of None, bool, int, float and str for persistent storage but contains [64] which is of type list.\n",
      "  warnings.warn(message)\n",
      "/opt/anaconda3/envs/ee460_new_310/lib/python3.10/site-packages/optuna/distributions.py:515: UserWarning: Choices for a categorical distribution should be a tuple of None, bool, int, float and str for persistent storage but contains [128, 64] which is of type list.\n",
      "  warnings.warn(message)\n",
      "/opt/anaconda3/envs/ee460_new_310/lib/python3.10/site-packages/optuna/distributions.py:515: UserWarning: Choices for a categorical distribution should be a tuple of None, bool, int, float and str for persistent storage but contains [256, 128] which is of type list.\n",
      "  warnings.warn(message)\n",
      "/opt/anaconda3/envs/ee460_new_310/lib/python3.10/site-packages/optuna/distributions.py:515: UserWarning: Choices for a categorical distribution should be a tuple of None, bool, int, float and str for persistent storage but contains [256, 128, 64] which is of type list.\n",
      "  warnings.warn(message)\n",
      "/opt/anaconda3/envs/ee460_new_310/lib/python3.10/site-packages/optuna/distributions.py:515: UserWarning: Choices for a categorical distribution should be a tuple of None, bool, int, float and str for persistent storage but contains [512, 256, 128] which is of type list.\n",
      "  warnings.warn(message)\n",
      "/opt/anaconda3/envs/ee460_new_310/lib/python3.10/site-packages/optuna/distributions.py:515: UserWarning: Choices for a categorical distribution should be a tuple of None, bool, int, float and str for persistent storage but contains [512, 256, 128, 64] which is of type list.\n",
      "  warnings.warn(message)\n",
      "[I 2025-05-07 12:02:37,667] Trial 15 finished with value: -0.0615791380405426 and parameters: {'train_date_range': ('1996-01-01', '2006-01-01'), 'window': 20, 'stride': 45, 'batch_size': 128, 'lr': 3.590379898004342e-05, 'epochs': 25, 'dropout_rate': 0.15000000000000002, 'hidden_sizes': [512, 256, 128, 64]}. Best is trial 2 with value: -0.024667736142873764.\n",
      "/opt/anaconda3/envs/ee460_new_310/lib/python3.10/site-packages/optuna/distributions.py:515: UserWarning: Choices for a categorical distribution should be a tuple of None, bool, int, float and str for persistent storage but contains ('1990-01-01', '2000-01-01') which is of type tuple.\n",
      "  warnings.warn(message)\n",
      "/opt/anaconda3/envs/ee460_new_310/lib/python3.10/site-packages/optuna/distributions.py:515: UserWarning: Choices for a categorical distribution should be a tuple of None, bool, int, float and str for persistent storage but contains ('1992-01-01', '2002-01-01') which is of type tuple.\n",
      "  warnings.warn(message)\n",
      "/opt/anaconda3/envs/ee460_new_310/lib/python3.10/site-packages/optuna/distributions.py:515: UserWarning: Choices for a categorical distribution should be a tuple of None, bool, int, float and str for persistent storage but contains ('1994-01-01', '2004-01-01') which is of type tuple.\n",
      "  warnings.warn(message)\n",
      "/opt/anaconda3/envs/ee460_new_310/lib/python3.10/site-packages/optuna/distributions.py:515: UserWarning: Choices for a categorical distribution should be a tuple of None, bool, int, float and str for persistent storage but contains ('1996-01-01', '2006-01-01') which is of type tuple.\n",
      "  warnings.warn(message)\n",
      "/opt/anaconda3/envs/ee460_new_310/lib/python3.10/site-packages/optuna/distributions.py:515: UserWarning: Choices for a categorical distribution should be a tuple of None, bool, int, float and str for persistent storage but contains ('1998-01-01', '2008-01-01') which is of type tuple.\n",
      "  warnings.warn(message)\n",
      "/opt/anaconda3/envs/ee460_new_310/lib/python3.10/site-packages/optuna/distributions.py:515: UserWarning: Choices for a categorical distribution should be a tuple of None, bool, int, float and str for persistent storage but contains ('2000-01-01', '2010-01-01') which is of type tuple.\n",
      "  warnings.warn(message)\n",
      "/opt/anaconda3/envs/ee460_new_310/lib/python3.10/site-packages/optuna/distributions.py:515: UserWarning: Choices for a categorical distribution should be a tuple of None, bool, int, float and str for persistent storage but contains ('2002-01-01', '2012-01-01') which is of type tuple.\n",
      "  warnings.warn(message)\n",
      "/opt/anaconda3/envs/ee460_new_310/lib/python3.10/site-packages/optuna/distributions.py:515: UserWarning: Choices for a categorical distribution should be a tuple of None, bool, int, float and str for persistent storage but contains ('2004-01-01', '2014-01-01') which is of type tuple.\n",
      "  warnings.warn(message)\n",
      "/opt/anaconda3/envs/ee460_new_310/lib/python3.10/site-packages/optuna/distributions.py:515: UserWarning: Choices for a categorical distribution should be a tuple of None, bool, int, float and str for persistent storage but contains ('2006-01-01', '2016-01-01') which is of type tuple.\n",
      "  warnings.warn(message)\n",
      "/opt/anaconda3/envs/ee460_new_310/lib/python3.10/site-packages/optuna/distributions.py:515: UserWarning: Choices for a categorical distribution should be a tuple of None, bool, int, float and str for persistent storage but contains ('2008-01-01', '2018-01-01') which is of type tuple.\n",
      "  warnings.warn(message)\n",
      "/opt/anaconda3/envs/ee460_new_310/lib/python3.10/site-packages/optuna/distributions.py:515: UserWarning: Choices for a categorical distribution should be a tuple of None, bool, int, float and str for persistent storage but contains ('2010-01-01', '2020-01-01') which is of type tuple.\n",
      "  warnings.warn(message)\n",
      "/opt/anaconda3/envs/ee460_new_310/lib/python3.10/site-packages/optuna/distributions.py:515: UserWarning: Choices for a categorical distribution should be a tuple of None, bool, int, float and str for persistent storage but contains ('2012-01-01', '2022-01-01') which is of type tuple.\n",
      "  warnings.warn(message)\n",
      "/opt/anaconda3/envs/ee460_new_310/lib/python3.10/site-packages/optuna/distributions.py:515: UserWarning: Choices for a categorical distribution should be a tuple of None, bool, int, float and str for persistent storage but contains ('2014-01-01', '2024-01-01') which is of type tuple.\n",
      "  warnings.warn(message)\n",
      "/opt/anaconda3/envs/ee460_new_310/lib/python3.10/site-packages/optuna/distributions.py:515: UserWarning: Choices for a categorical distribution should be a tuple of None, bool, int, float and str for persistent storage but contains [64] which is of type list.\n",
      "  warnings.warn(message)\n",
      "/opt/anaconda3/envs/ee460_new_310/lib/python3.10/site-packages/optuna/distributions.py:515: UserWarning: Choices for a categorical distribution should be a tuple of None, bool, int, float and str for persistent storage but contains [128, 64] which is of type list.\n",
      "  warnings.warn(message)\n",
      "/opt/anaconda3/envs/ee460_new_310/lib/python3.10/site-packages/optuna/distributions.py:515: UserWarning: Choices for a categorical distribution should be a tuple of None, bool, int, float and str for persistent storage but contains [256, 128] which is of type list.\n",
      "  warnings.warn(message)\n",
      "/opt/anaconda3/envs/ee460_new_310/lib/python3.10/site-packages/optuna/distributions.py:515: UserWarning: Choices for a categorical distribution should be a tuple of None, bool, int, float and str for persistent storage but contains [256, 128, 64] which is of type list.\n",
      "  warnings.warn(message)\n",
      "/opt/anaconda3/envs/ee460_new_310/lib/python3.10/site-packages/optuna/distributions.py:515: UserWarning: Choices for a categorical distribution should be a tuple of None, bool, int, float and str for persistent storage but contains [512, 256, 128] which is of type list.\n",
      "  warnings.warn(message)\n",
      "/opt/anaconda3/envs/ee460_new_310/lib/python3.10/site-packages/optuna/distributions.py:515: UserWarning: Choices for a categorical distribution should be a tuple of None, bool, int, float and str for persistent storage but contains [512, 256, 128, 64] which is of type list.\n",
      "  warnings.warn(message)\n",
      "[I 2025-05-07 12:02:37,861] Trial 16 finished with value: -0.08515187352895737 and parameters: {'train_date_range': ('1992-01-01', '2002-01-01'), 'window': 10, 'stride': 80, 'batch_size': 128, 'lr': 3.724238173956125e-05, 'epochs': 10, 'dropout_rate': 0.30000000000000004, 'hidden_sizes': [128, 64]}. Best is trial 2 with value: -0.024667736142873764.\n",
      "/opt/anaconda3/envs/ee460_new_310/lib/python3.10/site-packages/optuna/distributions.py:515: UserWarning: Choices for a categorical distribution should be a tuple of None, bool, int, float and str for persistent storage but contains ('1990-01-01', '2000-01-01') which is of type tuple.\n",
      "  warnings.warn(message)\n",
      "/opt/anaconda3/envs/ee460_new_310/lib/python3.10/site-packages/optuna/distributions.py:515: UserWarning: Choices for a categorical distribution should be a tuple of None, bool, int, float and str for persistent storage but contains ('1992-01-01', '2002-01-01') which is of type tuple.\n",
      "  warnings.warn(message)\n",
      "/opt/anaconda3/envs/ee460_new_310/lib/python3.10/site-packages/optuna/distributions.py:515: UserWarning: Choices for a categorical distribution should be a tuple of None, bool, int, float and str for persistent storage but contains ('1994-01-01', '2004-01-01') which is of type tuple.\n",
      "  warnings.warn(message)\n",
      "/opt/anaconda3/envs/ee460_new_310/lib/python3.10/site-packages/optuna/distributions.py:515: UserWarning: Choices for a categorical distribution should be a tuple of None, bool, int, float and str for persistent storage but contains ('1996-01-01', '2006-01-01') which is of type tuple.\n",
      "  warnings.warn(message)\n",
      "/opt/anaconda3/envs/ee460_new_310/lib/python3.10/site-packages/optuna/distributions.py:515: UserWarning: Choices for a categorical distribution should be a tuple of None, bool, int, float and str for persistent storage but contains ('1998-01-01', '2008-01-01') which is of type tuple.\n",
      "  warnings.warn(message)\n",
      "/opt/anaconda3/envs/ee460_new_310/lib/python3.10/site-packages/optuna/distributions.py:515: UserWarning: Choices for a categorical distribution should be a tuple of None, bool, int, float and str for persistent storage but contains ('2000-01-01', '2010-01-01') which is of type tuple.\n",
      "  warnings.warn(message)\n",
      "/opt/anaconda3/envs/ee460_new_310/lib/python3.10/site-packages/optuna/distributions.py:515: UserWarning: Choices for a categorical distribution should be a tuple of None, bool, int, float and str for persistent storage but contains ('2002-01-01', '2012-01-01') which is of type tuple.\n",
      "  warnings.warn(message)\n",
      "/opt/anaconda3/envs/ee460_new_310/lib/python3.10/site-packages/optuna/distributions.py:515: UserWarning: Choices for a categorical distribution should be a tuple of None, bool, int, float and str for persistent storage but contains ('2004-01-01', '2014-01-01') which is of type tuple.\n",
      "  warnings.warn(message)\n",
      "/opt/anaconda3/envs/ee460_new_310/lib/python3.10/site-packages/optuna/distributions.py:515: UserWarning: Choices for a categorical distribution should be a tuple of None, bool, int, float and str for persistent storage but contains ('2006-01-01', '2016-01-01') which is of type tuple.\n",
      "  warnings.warn(message)\n",
      "/opt/anaconda3/envs/ee460_new_310/lib/python3.10/site-packages/optuna/distributions.py:515: UserWarning: Choices for a categorical distribution should be a tuple of None, bool, int, float and str for persistent storage but contains ('2008-01-01', '2018-01-01') which is of type tuple.\n",
      "  warnings.warn(message)\n",
      "/opt/anaconda3/envs/ee460_new_310/lib/python3.10/site-packages/optuna/distributions.py:515: UserWarning: Choices for a categorical distribution should be a tuple of None, bool, int, float and str for persistent storage but contains ('2010-01-01', '2020-01-01') which is of type tuple.\n",
      "  warnings.warn(message)\n",
      "/opt/anaconda3/envs/ee460_new_310/lib/python3.10/site-packages/optuna/distributions.py:515: UserWarning: Choices for a categorical distribution should be a tuple of None, bool, int, float and str for persistent storage but contains ('2012-01-01', '2022-01-01') which is of type tuple.\n",
      "  warnings.warn(message)\n",
      "/opt/anaconda3/envs/ee460_new_310/lib/python3.10/site-packages/optuna/distributions.py:515: UserWarning: Choices for a categorical distribution should be a tuple of None, bool, int, float and str for persistent storage but contains ('2014-01-01', '2024-01-01') which is of type tuple.\n",
      "  warnings.warn(message)\n",
      "/opt/anaconda3/envs/ee460_new_310/lib/python3.10/site-packages/optuna/distributions.py:515: UserWarning: Choices for a categorical distribution should be a tuple of None, bool, int, float and str for persistent storage but contains [64] which is of type list.\n",
      "  warnings.warn(message)\n",
      "/opt/anaconda3/envs/ee460_new_310/lib/python3.10/site-packages/optuna/distributions.py:515: UserWarning: Choices for a categorical distribution should be a tuple of None, bool, int, float and str for persistent storage but contains [128, 64] which is of type list.\n",
      "  warnings.warn(message)\n",
      "/opt/anaconda3/envs/ee460_new_310/lib/python3.10/site-packages/optuna/distributions.py:515: UserWarning: Choices for a categorical distribution should be a tuple of None, bool, int, float and str for persistent storage but contains [256, 128] which is of type list.\n",
      "  warnings.warn(message)\n",
      "/opt/anaconda3/envs/ee460_new_310/lib/python3.10/site-packages/optuna/distributions.py:515: UserWarning: Choices for a categorical distribution should be a tuple of None, bool, int, float and str for persistent storage but contains [256, 128, 64] which is of type list.\n",
      "  warnings.warn(message)\n",
      "/opt/anaconda3/envs/ee460_new_310/lib/python3.10/site-packages/optuna/distributions.py:515: UserWarning: Choices for a categorical distribution should be a tuple of None, bool, int, float and str for persistent storage but contains [512, 256, 128] which is of type list.\n",
      "  warnings.warn(message)\n",
      "/opt/anaconda3/envs/ee460_new_310/lib/python3.10/site-packages/optuna/distributions.py:515: UserWarning: Choices for a categorical distribution should be a tuple of None, bool, int, float and str for persistent storage but contains [512, 256, 128, 64] which is of type list.\n",
      "  warnings.warn(message)\n",
      "[I 2025-05-07 12:02:38,436] Trial 17 finished with value: -0.08455894887447357 and parameters: {'train_date_range': ('2002-01-01', '2012-01-01'), 'window': 30, 'stride': 15, 'batch_size': 128, 'lr': 0.0003672480764188798, 'epochs': 35, 'dropout_rate': 0.1, 'hidden_sizes': [64]}. Best is trial 2 with value: -0.024667736142873764.\n",
      "/opt/anaconda3/envs/ee460_new_310/lib/python3.10/site-packages/optuna/distributions.py:515: UserWarning: Choices for a categorical distribution should be a tuple of None, bool, int, float and str for persistent storage but contains ('1990-01-01', '2000-01-01') which is of type tuple.\n",
      "  warnings.warn(message)\n",
      "/opt/anaconda3/envs/ee460_new_310/lib/python3.10/site-packages/optuna/distributions.py:515: UserWarning: Choices for a categorical distribution should be a tuple of None, bool, int, float and str for persistent storage but contains ('1992-01-01', '2002-01-01') which is of type tuple.\n",
      "  warnings.warn(message)\n",
      "/opt/anaconda3/envs/ee460_new_310/lib/python3.10/site-packages/optuna/distributions.py:515: UserWarning: Choices for a categorical distribution should be a tuple of None, bool, int, float and str for persistent storage but contains ('1994-01-01', '2004-01-01') which is of type tuple.\n",
      "  warnings.warn(message)\n",
      "/opt/anaconda3/envs/ee460_new_310/lib/python3.10/site-packages/optuna/distributions.py:515: UserWarning: Choices for a categorical distribution should be a tuple of None, bool, int, float and str for persistent storage but contains ('1996-01-01', '2006-01-01') which is of type tuple.\n",
      "  warnings.warn(message)\n",
      "/opt/anaconda3/envs/ee460_new_310/lib/python3.10/site-packages/optuna/distributions.py:515: UserWarning: Choices for a categorical distribution should be a tuple of None, bool, int, float and str for persistent storage but contains ('1998-01-01', '2008-01-01') which is of type tuple.\n",
      "  warnings.warn(message)\n",
      "/opt/anaconda3/envs/ee460_new_310/lib/python3.10/site-packages/optuna/distributions.py:515: UserWarning: Choices for a categorical distribution should be a tuple of None, bool, int, float and str for persistent storage but contains ('2000-01-01', '2010-01-01') which is of type tuple.\n",
      "  warnings.warn(message)\n",
      "/opt/anaconda3/envs/ee460_new_310/lib/python3.10/site-packages/optuna/distributions.py:515: UserWarning: Choices for a categorical distribution should be a tuple of None, bool, int, float and str for persistent storage but contains ('2002-01-01', '2012-01-01') which is of type tuple.\n",
      "  warnings.warn(message)\n",
      "/opt/anaconda3/envs/ee460_new_310/lib/python3.10/site-packages/optuna/distributions.py:515: UserWarning: Choices for a categorical distribution should be a tuple of None, bool, int, float and str for persistent storage but contains ('2004-01-01', '2014-01-01') which is of type tuple.\n",
      "  warnings.warn(message)\n",
      "/opt/anaconda3/envs/ee460_new_310/lib/python3.10/site-packages/optuna/distributions.py:515: UserWarning: Choices for a categorical distribution should be a tuple of None, bool, int, float and str for persistent storage but contains ('2006-01-01', '2016-01-01') which is of type tuple.\n",
      "  warnings.warn(message)\n",
      "/opt/anaconda3/envs/ee460_new_310/lib/python3.10/site-packages/optuna/distributions.py:515: UserWarning: Choices for a categorical distribution should be a tuple of None, bool, int, float and str for persistent storage but contains ('2008-01-01', '2018-01-01') which is of type tuple.\n",
      "  warnings.warn(message)\n",
      "/opt/anaconda3/envs/ee460_new_310/lib/python3.10/site-packages/optuna/distributions.py:515: UserWarning: Choices for a categorical distribution should be a tuple of None, bool, int, float and str for persistent storage but contains ('2010-01-01', '2020-01-01') which is of type tuple.\n",
      "  warnings.warn(message)\n",
      "/opt/anaconda3/envs/ee460_new_310/lib/python3.10/site-packages/optuna/distributions.py:515: UserWarning: Choices for a categorical distribution should be a tuple of None, bool, int, float and str for persistent storage but contains ('2012-01-01', '2022-01-01') which is of type tuple.\n",
      "  warnings.warn(message)\n",
      "/opt/anaconda3/envs/ee460_new_310/lib/python3.10/site-packages/optuna/distributions.py:515: UserWarning: Choices for a categorical distribution should be a tuple of None, bool, int, float and str for persistent storage but contains ('2014-01-01', '2024-01-01') which is of type tuple.\n",
      "  warnings.warn(message)\n",
      "/opt/anaconda3/envs/ee460_new_310/lib/python3.10/site-packages/optuna/distributions.py:515: UserWarning: Choices for a categorical distribution should be a tuple of None, bool, int, float and str for persistent storage but contains [64] which is of type list.\n",
      "  warnings.warn(message)\n",
      "/opt/anaconda3/envs/ee460_new_310/lib/python3.10/site-packages/optuna/distributions.py:515: UserWarning: Choices for a categorical distribution should be a tuple of None, bool, int, float and str for persistent storage but contains [128, 64] which is of type list.\n",
      "  warnings.warn(message)\n",
      "/opt/anaconda3/envs/ee460_new_310/lib/python3.10/site-packages/optuna/distributions.py:515: UserWarning: Choices for a categorical distribution should be a tuple of None, bool, int, float and str for persistent storage but contains [256, 128] which is of type list.\n",
      "  warnings.warn(message)\n",
      "/opt/anaconda3/envs/ee460_new_310/lib/python3.10/site-packages/optuna/distributions.py:515: UserWarning: Choices for a categorical distribution should be a tuple of None, bool, int, float and str for persistent storage but contains [256, 128, 64] which is of type list.\n",
      "  warnings.warn(message)\n",
      "/opt/anaconda3/envs/ee460_new_310/lib/python3.10/site-packages/optuna/distributions.py:515: UserWarning: Choices for a categorical distribution should be a tuple of None, bool, int, float and str for persistent storage but contains [512, 256, 128] which is of type list.\n",
      "  warnings.warn(message)\n",
      "/opt/anaconda3/envs/ee460_new_310/lib/python3.10/site-packages/optuna/distributions.py:515: UserWarning: Choices for a categorical distribution should be a tuple of None, bool, int, float and str for persistent storage but contains [512, 256, 128, 64] which is of type list.\n",
      "  warnings.warn(message)\n",
      "[I 2025-05-07 12:02:39,038] Trial 18 finished with value: -0.05477534979581833 and parameters: {'train_date_range': ('2010-01-01', '2020-01-01'), 'window': 120, 'stride': 90, 'batch_size': 32, 'lr': 0.00015849851389450242, 'epochs': 40, 'dropout_rate': 0.2, 'hidden_sizes': [512, 256, 128, 64]}. Best is trial 2 with value: -0.024667736142873764.\n",
      "/opt/anaconda3/envs/ee460_new_310/lib/python3.10/site-packages/optuna/distributions.py:515: UserWarning: Choices for a categorical distribution should be a tuple of None, bool, int, float and str for persistent storage but contains ('1990-01-01', '2000-01-01') which is of type tuple.\n",
      "  warnings.warn(message)\n",
      "/opt/anaconda3/envs/ee460_new_310/lib/python3.10/site-packages/optuna/distributions.py:515: UserWarning: Choices for a categorical distribution should be a tuple of None, bool, int, float and str for persistent storage but contains ('1992-01-01', '2002-01-01') which is of type tuple.\n",
      "  warnings.warn(message)\n",
      "/opt/anaconda3/envs/ee460_new_310/lib/python3.10/site-packages/optuna/distributions.py:515: UserWarning: Choices for a categorical distribution should be a tuple of None, bool, int, float and str for persistent storage but contains ('1994-01-01', '2004-01-01') which is of type tuple.\n",
      "  warnings.warn(message)\n",
      "/opt/anaconda3/envs/ee460_new_310/lib/python3.10/site-packages/optuna/distributions.py:515: UserWarning: Choices for a categorical distribution should be a tuple of None, bool, int, float and str for persistent storage but contains ('1996-01-01', '2006-01-01') which is of type tuple.\n",
      "  warnings.warn(message)\n",
      "/opt/anaconda3/envs/ee460_new_310/lib/python3.10/site-packages/optuna/distributions.py:515: UserWarning: Choices for a categorical distribution should be a tuple of None, bool, int, float and str for persistent storage but contains ('1998-01-01', '2008-01-01') which is of type tuple.\n",
      "  warnings.warn(message)\n",
      "/opt/anaconda3/envs/ee460_new_310/lib/python3.10/site-packages/optuna/distributions.py:515: UserWarning: Choices for a categorical distribution should be a tuple of None, bool, int, float and str for persistent storage but contains ('2000-01-01', '2010-01-01') which is of type tuple.\n",
      "  warnings.warn(message)\n",
      "/opt/anaconda3/envs/ee460_new_310/lib/python3.10/site-packages/optuna/distributions.py:515: UserWarning: Choices for a categorical distribution should be a tuple of None, bool, int, float and str for persistent storage but contains ('2002-01-01', '2012-01-01') which is of type tuple.\n",
      "  warnings.warn(message)\n",
      "/opt/anaconda3/envs/ee460_new_310/lib/python3.10/site-packages/optuna/distributions.py:515: UserWarning: Choices for a categorical distribution should be a tuple of None, bool, int, float and str for persistent storage but contains ('2004-01-01', '2014-01-01') which is of type tuple.\n",
      "  warnings.warn(message)\n",
      "/opt/anaconda3/envs/ee460_new_310/lib/python3.10/site-packages/optuna/distributions.py:515: UserWarning: Choices for a categorical distribution should be a tuple of None, bool, int, float and str for persistent storage but contains ('2006-01-01', '2016-01-01') which is of type tuple.\n",
      "  warnings.warn(message)\n",
      "/opt/anaconda3/envs/ee460_new_310/lib/python3.10/site-packages/optuna/distributions.py:515: UserWarning: Choices for a categorical distribution should be a tuple of None, bool, int, float and str for persistent storage but contains ('2008-01-01', '2018-01-01') which is of type tuple.\n",
      "  warnings.warn(message)\n",
      "/opt/anaconda3/envs/ee460_new_310/lib/python3.10/site-packages/optuna/distributions.py:515: UserWarning: Choices for a categorical distribution should be a tuple of None, bool, int, float and str for persistent storage but contains ('2010-01-01', '2020-01-01') which is of type tuple.\n",
      "  warnings.warn(message)\n",
      "/opt/anaconda3/envs/ee460_new_310/lib/python3.10/site-packages/optuna/distributions.py:515: UserWarning: Choices for a categorical distribution should be a tuple of None, bool, int, float and str for persistent storage but contains ('2012-01-01', '2022-01-01') which is of type tuple.\n",
      "  warnings.warn(message)\n",
      "/opt/anaconda3/envs/ee460_new_310/lib/python3.10/site-packages/optuna/distributions.py:515: UserWarning: Choices for a categorical distribution should be a tuple of None, bool, int, float and str for persistent storage but contains ('2014-01-01', '2024-01-01') which is of type tuple.\n",
      "  warnings.warn(message)\n",
      "/opt/anaconda3/envs/ee460_new_310/lib/python3.10/site-packages/optuna/distributions.py:515: UserWarning: Choices for a categorical distribution should be a tuple of None, bool, int, float and str for persistent storage but contains [64] which is of type list.\n",
      "  warnings.warn(message)\n",
      "/opt/anaconda3/envs/ee460_new_310/lib/python3.10/site-packages/optuna/distributions.py:515: UserWarning: Choices for a categorical distribution should be a tuple of None, bool, int, float and str for persistent storage but contains [128, 64] which is of type list.\n",
      "  warnings.warn(message)\n",
      "/opt/anaconda3/envs/ee460_new_310/lib/python3.10/site-packages/optuna/distributions.py:515: UserWarning: Choices for a categorical distribution should be a tuple of None, bool, int, float and str for persistent storage but contains [256, 128] which is of type list.\n",
      "  warnings.warn(message)\n",
      "/opt/anaconda3/envs/ee460_new_310/lib/python3.10/site-packages/optuna/distributions.py:515: UserWarning: Choices for a categorical distribution should be a tuple of None, bool, int, float and str for persistent storage but contains [256, 128, 64] which is of type list.\n",
      "  warnings.warn(message)\n",
      "/opt/anaconda3/envs/ee460_new_310/lib/python3.10/site-packages/optuna/distributions.py:515: UserWarning: Choices for a categorical distribution should be a tuple of None, bool, int, float and str for persistent storage but contains [512, 256, 128] which is of type list.\n",
      "  warnings.warn(message)\n",
      "/opt/anaconda3/envs/ee460_new_310/lib/python3.10/site-packages/optuna/distributions.py:515: UserWarning: Choices for a categorical distribution should be a tuple of None, bool, int, float and str for persistent storage but contains [512, 256, 128, 64] which is of type list.\n",
      "  warnings.warn(message)\n",
      "[I 2025-05-07 12:02:39,478] Trial 19 finished with value: -0.04730210453271866 and parameters: {'train_date_range': ('1990-01-01', '2000-01-01'), 'window': 80, 'stride': 50, 'batch_size': 128, 'lr': 1.1761401420007657e-05, 'epochs': 25, 'dropout_rate': 0.1, 'hidden_sizes': [512, 256, 128]}. Best is trial 2 with value: -0.024667736142873764.\n",
      "/opt/anaconda3/envs/ee460_new_310/lib/python3.10/site-packages/optuna/distributions.py:515: UserWarning: Choices for a categorical distribution should be a tuple of None, bool, int, float and str for persistent storage but contains ('1990-01-01', '2000-01-01') which is of type tuple.\n",
      "  warnings.warn(message)\n",
      "/opt/anaconda3/envs/ee460_new_310/lib/python3.10/site-packages/optuna/distributions.py:515: UserWarning: Choices for a categorical distribution should be a tuple of None, bool, int, float and str for persistent storage but contains ('1992-01-01', '2002-01-01') which is of type tuple.\n",
      "  warnings.warn(message)\n",
      "/opt/anaconda3/envs/ee460_new_310/lib/python3.10/site-packages/optuna/distributions.py:515: UserWarning: Choices for a categorical distribution should be a tuple of None, bool, int, float and str for persistent storage but contains ('1994-01-01', '2004-01-01') which is of type tuple.\n",
      "  warnings.warn(message)\n",
      "/opt/anaconda3/envs/ee460_new_310/lib/python3.10/site-packages/optuna/distributions.py:515: UserWarning: Choices for a categorical distribution should be a tuple of None, bool, int, float and str for persistent storage but contains ('1996-01-01', '2006-01-01') which is of type tuple.\n",
      "  warnings.warn(message)\n",
      "/opt/anaconda3/envs/ee460_new_310/lib/python3.10/site-packages/optuna/distributions.py:515: UserWarning: Choices for a categorical distribution should be a tuple of None, bool, int, float and str for persistent storage but contains ('1998-01-01', '2008-01-01') which is of type tuple.\n",
      "  warnings.warn(message)\n",
      "/opt/anaconda3/envs/ee460_new_310/lib/python3.10/site-packages/optuna/distributions.py:515: UserWarning: Choices for a categorical distribution should be a tuple of None, bool, int, float and str for persistent storage but contains ('2000-01-01', '2010-01-01') which is of type tuple.\n",
      "  warnings.warn(message)\n",
      "/opt/anaconda3/envs/ee460_new_310/lib/python3.10/site-packages/optuna/distributions.py:515: UserWarning: Choices for a categorical distribution should be a tuple of None, bool, int, float and str for persistent storage but contains ('2002-01-01', '2012-01-01') which is of type tuple.\n",
      "  warnings.warn(message)\n",
      "/opt/anaconda3/envs/ee460_new_310/lib/python3.10/site-packages/optuna/distributions.py:515: UserWarning: Choices for a categorical distribution should be a tuple of None, bool, int, float and str for persistent storage but contains ('2004-01-01', '2014-01-01') which is of type tuple.\n",
      "  warnings.warn(message)\n",
      "/opt/anaconda3/envs/ee460_new_310/lib/python3.10/site-packages/optuna/distributions.py:515: UserWarning: Choices for a categorical distribution should be a tuple of None, bool, int, float and str for persistent storage but contains ('2006-01-01', '2016-01-01') which is of type tuple.\n",
      "  warnings.warn(message)\n",
      "/opt/anaconda3/envs/ee460_new_310/lib/python3.10/site-packages/optuna/distributions.py:515: UserWarning: Choices for a categorical distribution should be a tuple of None, bool, int, float and str for persistent storage but contains ('2008-01-01', '2018-01-01') which is of type tuple.\n",
      "  warnings.warn(message)\n",
      "/opt/anaconda3/envs/ee460_new_310/lib/python3.10/site-packages/optuna/distributions.py:515: UserWarning: Choices for a categorical distribution should be a tuple of None, bool, int, float and str for persistent storage but contains ('2010-01-01', '2020-01-01') which is of type tuple.\n",
      "  warnings.warn(message)\n",
      "/opt/anaconda3/envs/ee460_new_310/lib/python3.10/site-packages/optuna/distributions.py:515: UserWarning: Choices for a categorical distribution should be a tuple of None, bool, int, float and str for persistent storage but contains ('2012-01-01', '2022-01-01') which is of type tuple.\n",
      "  warnings.warn(message)\n",
      "/opt/anaconda3/envs/ee460_new_310/lib/python3.10/site-packages/optuna/distributions.py:515: UserWarning: Choices for a categorical distribution should be a tuple of None, bool, int, float and str for persistent storage but contains ('2014-01-01', '2024-01-01') which is of type tuple.\n",
      "  warnings.warn(message)\n",
      "/opt/anaconda3/envs/ee460_new_310/lib/python3.10/site-packages/optuna/distributions.py:515: UserWarning: Choices for a categorical distribution should be a tuple of None, bool, int, float and str for persistent storage but contains [64] which is of type list.\n",
      "  warnings.warn(message)\n",
      "/opt/anaconda3/envs/ee460_new_310/lib/python3.10/site-packages/optuna/distributions.py:515: UserWarning: Choices for a categorical distribution should be a tuple of None, bool, int, float and str for persistent storage but contains [128, 64] which is of type list.\n",
      "  warnings.warn(message)\n",
      "/opt/anaconda3/envs/ee460_new_310/lib/python3.10/site-packages/optuna/distributions.py:515: UserWarning: Choices for a categorical distribution should be a tuple of None, bool, int, float and str for persistent storage but contains [256, 128] which is of type list.\n",
      "  warnings.warn(message)\n",
      "/opt/anaconda3/envs/ee460_new_310/lib/python3.10/site-packages/optuna/distributions.py:515: UserWarning: Choices for a categorical distribution should be a tuple of None, bool, int, float and str for persistent storage but contains [256, 128, 64] which is of type list.\n",
      "  warnings.warn(message)\n",
      "/opt/anaconda3/envs/ee460_new_310/lib/python3.10/site-packages/optuna/distributions.py:515: UserWarning: Choices for a categorical distribution should be a tuple of None, bool, int, float and str for persistent storage but contains [512, 256, 128] which is of type list.\n",
      "  warnings.warn(message)\n",
      "/opt/anaconda3/envs/ee460_new_310/lib/python3.10/site-packages/optuna/distributions.py:515: UserWarning: Choices for a categorical distribution should be a tuple of None, bool, int, float and str for persistent storage but contains [512, 256, 128, 64] which is of type list.\n",
      "  warnings.warn(message)\n",
      "[I 2025-05-07 12:02:39,815] Trial 20 finished with value: -0.05171050503849983 and parameters: {'train_date_range': ('2008-01-01', '2018-01-01'), 'window': 20, 'stride': 65, 'batch_size': 64, 'lr': 5.800261095055858e-05, 'epochs': 35, 'dropout_rate': 0.30000000000000004, 'hidden_sizes': [512, 256, 128, 64]}. Best is trial 2 with value: -0.024667736142873764.\n",
      "/opt/anaconda3/envs/ee460_new_310/lib/python3.10/site-packages/optuna/distributions.py:515: UserWarning: Choices for a categorical distribution should be a tuple of None, bool, int, float and str for persistent storage but contains ('1990-01-01', '2000-01-01') which is of type tuple.\n",
      "  warnings.warn(message)\n",
      "/opt/anaconda3/envs/ee460_new_310/lib/python3.10/site-packages/optuna/distributions.py:515: UserWarning: Choices for a categorical distribution should be a tuple of None, bool, int, float and str for persistent storage but contains ('1992-01-01', '2002-01-01') which is of type tuple.\n",
      "  warnings.warn(message)\n",
      "/opt/anaconda3/envs/ee460_new_310/lib/python3.10/site-packages/optuna/distributions.py:515: UserWarning: Choices for a categorical distribution should be a tuple of None, bool, int, float and str for persistent storage but contains ('1994-01-01', '2004-01-01') which is of type tuple.\n",
      "  warnings.warn(message)\n",
      "/opt/anaconda3/envs/ee460_new_310/lib/python3.10/site-packages/optuna/distributions.py:515: UserWarning: Choices for a categorical distribution should be a tuple of None, bool, int, float and str for persistent storage but contains ('1996-01-01', '2006-01-01') which is of type tuple.\n",
      "  warnings.warn(message)\n",
      "/opt/anaconda3/envs/ee460_new_310/lib/python3.10/site-packages/optuna/distributions.py:515: UserWarning: Choices for a categorical distribution should be a tuple of None, bool, int, float and str for persistent storage but contains ('1998-01-01', '2008-01-01') which is of type tuple.\n",
      "  warnings.warn(message)\n",
      "/opt/anaconda3/envs/ee460_new_310/lib/python3.10/site-packages/optuna/distributions.py:515: UserWarning: Choices for a categorical distribution should be a tuple of None, bool, int, float and str for persistent storage but contains ('2000-01-01', '2010-01-01') which is of type tuple.\n",
      "  warnings.warn(message)\n",
      "/opt/anaconda3/envs/ee460_new_310/lib/python3.10/site-packages/optuna/distributions.py:515: UserWarning: Choices for a categorical distribution should be a tuple of None, bool, int, float and str for persistent storage but contains ('2002-01-01', '2012-01-01') which is of type tuple.\n",
      "  warnings.warn(message)\n",
      "/opt/anaconda3/envs/ee460_new_310/lib/python3.10/site-packages/optuna/distributions.py:515: UserWarning: Choices for a categorical distribution should be a tuple of None, bool, int, float and str for persistent storage but contains ('2004-01-01', '2014-01-01') which is of type tuple.\n",
      "  warnings.warn(message)\n",
      "/opt/anaconda3/envs/ee460_new_310/lib/python3.10/site-packages/optuna/distributions.py:515: UserWarning: Choices for a categorical distribution should be a tuple of None, bool, int, float and str for persistent storage but contains ('2006-01-01', '2016-01-01') which is of type tuple.\n",
      "  warnings.warn(message)\n",
      "/opt/anaconda3/envs/ee460_new_310/lib/python3.10/site-packages/optuna/distributions.py:515: UserWarning: Choices for a categorical distribution should be a tuple of None, bool, int, float and str for persistent storage but contains ('2008-01-01', '2018-01-01') which is of type tuple.\n",
      "  warnings.warn(message)\n",
      "/opt/anaconda3/envs/ee460_new_310/lib/python3.10/site-packages/optuna/distributions.py:515: UserWarning: Choices for a categorical distribution should be a tuple of None, bool, int, float and str for persistent storage but contains ('2010-01-01', '2020-01-01') which is of type tuple.\n",
      "  warnings.warn(message)\n",
      "/opt/anaconda3/envs/ee460_new_310/lib/python3.10/site-packages/optuna/distributions.py:515: UserWarning: Choices for a categorical distribution should be a tuple of None, bool, int, float and str for persistent storage but contains ('2012-01-01', '2022-01-01') which is of type tuple.\n",
      "  warnings.warn(message)\n",
      "/opt/anaconda3/envs/ee460_new_310/lib/python3.10/site-packages/optuna/distributions.py:515: UserWarning: Choices for a categorical distribution should be a tuple of None, bool, int, float and str for persistent storage but contains ('2014-01-01', '2024-01-01') which is of type tuple.\n",
      "  warnings.warn(message)\n",
      "/opt/anaconda3/envs/ee460_new_310/lib/python3.10/site-packages/optuna/distributions.py:515: UserWarning: Choices for a categorical distribution should be a tuple of None, bool, int, float and str for persistent storage but contains [64] which is of type list.\n",
      "  warnings.warn(message)\n",
      "/opt/anaconda3/envs/ee460_new_310/lib/python3.10/site-packages/optuna/distributions.py:515: UserWarning: Choices for a categorical distribution should be a tuple of None, bool, int, float and str for persistent storage but contains [128, 64] which is of type list.\n",
      "  warnings.warn(message)\n",
      "/opt/anaconda3/envs/ee460_new_310/lib/python3.10/site-packages/optuna/distributions.py:515: UserWarning: Choices for a categorical distribution should be a tuple of None, bool, int, float and str for persistent storage but contains [256, 128] which is of type list.\n",
      "  warnings.warn(message)\n",
      "/opt/anaconda3/envs/ee460_new_310/lib/python3.10/site-packages/optuna/distributions.py:515: UserWarning: Choices for a categorical distribution should be a tuple of None, bool, int, float and str for persistent storage but contains [256, 128, 64] which is of type list.\n",
      "  warnings.warn(message)\n",
      "/opt/anaconda3/envs/ee460_new_310/lib/python3.10/site-packages/optuna/distributions.py:515: UserWarning: Choices for a categorical distribution should be a tuple of None, bool, int, float and str for persistent storage but contains [512, 256, 128] which is of type list.\n",
      "  warnings.warn(message)\n",
      "/opt/anaconda3/envs/ee460_new_310/lib/python3.10/site-packages/optuna/distributions.py:515: UserWarning: Choices for a categorical distribution should be a tuple of None, bool, int, float and str for persistent storage but contains [512, 256, 128, 64] which is of type list.\n",
      "  warnings.warn(message)\n",
      "[I 2025-05-07 12:02:40,367] Trial 21 finished with value: -0.034502867609262466 and parameters: {'train_date_range': ('2006-01-01', '2016-01-01'), 'window': 40, 'stride': 15, 'batch_size': 64, 'lr': 0.0009518437431526103, 'epochs': 45, 'dropout_rate': 0.05, 'hidden_sizes': [256, 128]}. Best is trial 2 with value: -0.024667736142873764.\n",
      "/opt/anaconda3/envs/ee460_new_310/lib/python3.10/site-packages/optuna/distributions.py:515: UserWarning: Choices for a categorical distribution should be a tuple of None, bool, int, float and str for persistent storage but contains ('1990-01-01', '2000-01-01') which is of type tuple.\n",
      "  warnings.warn(message)\n",
      "/opt/anaconda3/envs/ee460_new_310/lib/python3.10/site-packages/optuna/distributions.py:515: UserWarning: Choices for a categorical distribution should be a tuple of None, bool, int, float and str for persistent storage but contains ('1992-01-01', '2002-01-01') which is of type tuple.\n",
      "  warnings.warn(message)\n",
      "/opt/anaconda3/envs/ee460_new_310/lib/python3.10/site-packages/optuna/distributions.py:515: UserWarning: Choices for a categorical distribution should be a tuple of None, bool, int, float and str for persistent storage but contains ('1994-01-01', '2004-01-01') which is of type tuple.\n",
      "  warnings.warn(message)\n",
      "/opt/anaconda3/envs/ee460_new_310/lib/python3.10/site-packages/optuna/distributions.py:515: UserWarning: Choices for a categorical distribution should be a tuple of None, bool, int, float and str for persistent storage but contains ('1996-01-01', '2006-01-01') which is of type tuple.\n",
      "  warnings.warn(message)\n",
      "/opt/anaconda3/envs/ee460_new_310/lib/python3.10/site-packages/optuna/distributions.py:515: UserWarning: Choices for a categorical distribution should be a tuple of None, bool, int, float and str for persistent storage but contains ('1998-01-01', '2008-01-01') which is of type tuple.\n",
      "  warnings.warn(message)\n",
      "/opt/anaconda3/envs/ee460_new_310/lib/python3.10/site-packages/optuna/distributions.py:515: UserWarning: Choices for a categorical distribution should be a tuple of None, bool, int, float and str for persistent storage but contains ('2000-01-01', '2010-01-01') which is of type tuple.\n",
      "  warnings.warn(message)\n",
      "/opt/anaconda3/envs/ee460_new_310/lib/python3.10/site-packages/optuna/distributions.py:515: UserWarning: Choices for a categorical distribution should be a tuple of None, bool, int, float and str for persistent storage but contains ('2002-01-01', '2012-01-01') which is of type tuple.\n",
      "  warnings.warn(message)\n",
      "/opt/anaconda3/envs/ee460_new_310/lib/python3.10/site-packages/optuna/distributions.py:515: UserWarning: Choices for a categorical distribution should be a tuple of None, bool, int, float and str for persistent storage but contains ('2004-01-01', '2014-01-01') which is of type tuple.\n",
      "  warnings.warn(message)\n",
      "/opt/anaconda3/envs/ee460_new_310/lib/python3.10/site-packages/optuna/distributions.py:515: UserWarning: Choices for a categorical distribution should be a tuple of None, bool, int, float and str for persistent storage but contains ('2006-01-01', '2016-01-01') which is of type tuple.\n",
      "  warnings.warn(message)\n",
      "/opt/anaconda3/envs/ee460_new_310/lib/python3.10/site-packages/optuna/distributions.py:515: UserWarning: Choices for a categorical distribution should be a tuple of None, bool, int, float and str for persistent storage but contains ('2008-01-01', '2018-01-01') which is of type tuple.\n",
      "  warnings.warn(message)\n",
      "/opt/anaconda3/envs/ee460_new_310/lib/python3.10/site-packages/optuna/distributions.py:515: UserWarning: Choices for a categorical distribution should be a tuple of None, bool, int, float and str for persistent storage but contains ('2010-01-01', '2020-01-01') which is of type tuple.\n",
      "  warnings.warn(message)\n",
      "/opt/anaconda3/envs/ee460_new_310/lib/python3.10/site-packages/optuna/distributions.py:515: UserWarning: Choices for a categorical distribution should be a tuple of None, bool, int, float and str for persistent storage but contains ('2012-01-01', '2022-01-01') which is of type tuple.\n",
      "  warnings.warn(message)\n",
      "/opt/anaconda3/envs/ee460_new_310/lib/python3.10/site-packages/optuna/distributions.py:515: UserWarning: Choices for a categorical distribution should be a tuple of None, bool, int, float and str for persistent storage but contains ('2014-01-01', '2024-01-01') which is of type tuple.\n",
      "  warnings.warn(message)\n",
      "/opt/anaconda3/envs/ee460_new_310/lib/python3.10/site-packages/optuna/distributions.py:515: UserWarning: Choices for a categorical distribution should be a tuple of None, bool, int, float and str for persistent storage but contains [64] which is of type list.\n",
      "  warnings.warn(message)\n",
      "/opt/anaconda3/envs/ee460_new_310/lib/python3.10/site-packages/optuna/distributions.py:515: UserWarning: Choices for a categorical distribution should be a tuple of None, bool, int, float and str for persistent storage but contains [128, 64] which is of type list.\n",
      "  warnings.warn(message)\n",
      "/opt/anaconda3/envs/ee460_new_310/lib/python3.10/site-packages/optuna/distributions.py:515: UserWarning: Choices for a categorical distribution should be a tuple of None, bool, int, float and str for persistent storage but contains [256, 128] which is of type list.\n",
      "  warnings.warn(message)\n",
      "/opt/anaconda3/envs/ee460_new_310/lib/python3.10/site-packages/optuna/distributions.py:515: UserWarning: Choices for a categorical distribution should be a tuple of None, bool, int, float and str for persistent storage but contains [256, 128, 64] which is of type list.\n",
      "  warnings.warn(message)\n",
      "/opt/anaconda3/envs/ee460_new_310/lib/python3.10/site-packages/optuna/distributions.py:515: UserWarning: Choices for a categorical distribution should be a tuple of None, bool, int, float and str for persistent storage but contains [512, 256, 128] which is of type list.\n",
      "  warnings.warn(message)\n",
      "/opt/anaconda3/envs/ee460_new_310/lib/python3.10/site-packages/optuna/distributions.py:515: UserWarning: Choices for a categorical distribution should be a tuple of None, bool, int, float and str for persistent storage but contains [512, 256, 128, 64] which is of type list.\n",
      "  warnings.warn(message)\n",
      "[I 2025-05-07 12:02:40,889] Trial 22 finished with value: -0.03636890649795532 and parameters: {'train_date_range': ('2002-01-01', '2012-01-01'), 'window': 100, 'stride': 25, 'batch_size': 64, 'lr': 0.0006382813837639467, 'epochs': 45, 'dropout_rate': 0.05, 'hidden_sizes': [512, 256, 128]}. Best is trial 2 with value: -0.024667736142873764.\n",
      "/opt/anaconda3/envs/ee460_new_310/lib/python3.10/site-packages/optuna/distributions.py:515: UserWarning: Choices for a categorical distribution should be a tuple of None, bool, int, float and str for persistent storage but contains ('1990-01-01', '2000-01-01') which is of type tuple.\n",
      "  warnings.warn(message)\n",
      "/opt/anaconda3/envs/ee460_new_310/lib/python3.10/site-packages/optuna/distributions.py:515: UserWarning: Choices for a categorical distribution should be a tuple of None, bool, int, float and str for persistent storage but contains ('1992-01-01', '2002-01-01') which is of type tuple.\n",
      "  warnings.warn(message)\n",
      "/opt/anaconda3/envs/ee460_new_310/lib/python3.10/site-packages/optuna/distributions.py:515: UserWarning: Choices for a categorical distribution should be a tuple of None, bool, int, float and str for persistent storage but contains ('1994-01-01', '2004-01-01') which is of type tuple.\n",
      "  warnings.warn(message)\n",
      "/opt/anaconda3/envs/ee460_new_310/lib/python3.10/site-packages/optuna/distributions.py:515: UserWarning: Choices for a categorical distribution should be a tuple of None, bool, int, float and str for persistent storage but contains ('1996-01-01', '2006-01-01') which is of type tuple.\n",
      "  warnings.warn(message)\n",
      "/opt/anaconda3/envs/ee460_new_310/lib/python3.10/site-packages/optuna/distributions.py:515: UserWarning: Choices for a categorical distribution should be a tuple of None, bool, int, float and str for persistent storage but contains ('1998-01-01', '2008-01-01') which is of type tuple.\n",
      "  warnings.warn(message)\n",
      "/opt/anaconda3/envs/ee460_new_310/lib/python3.10/site-packages/optuna/distributions.py:515: UserWarning: Choices for a categorical distribution should be a tuple of None, bool, int, float and str for persistent storage but contains ('2000-01-01', '2010-01-01') which is of type tuple.\n",
      "  warnings.warn(message)\n",
      "/opt/anaconda3/envs/ee460_new_310/lib/python3.10/site-packages/optuna/distributions.py:515: UserWarning: Choices for a categorical distribution should be a tuple of None, bool, int, float and str for persistent storage but contains ('2002-01-01', '2012-01-01') which is of type tuple.\n",
      "  warnings.warn(message)\n",
      "/opt/anaconda3/envs/ee460_new_310/lib/python3.10/site-packages/optuna/distributions.py:515: UserWarning: Choices for a categorical distribution should be a tuple of None, bool, int, float and str for persistent storage but contains ('2004-01-01', '2014-01-01') which is of type tuple.\n",
      "  warnings.warn(message)\n",
      "/opt/anaconda3/envs/ee460_new_310/lib/python3.10/site-packages/optuna/distributions.py:515: UserWarning: Choices for a categorical distribution should be a tuple of None, bool, int, float and str for persistent storage but contains ('2006-01-01', '2016-01-01') which is of type tuple.\n",
      "  warnings.warn(message)\n",
      "/opt/anaconda3/envs/ee460_new_310/lib/python3.10/site-packages/optuna/distributions.py:515: UserWarning: Choices for a categorical distribution should be a tuple of None, bool, int, float and str for persistent storage but contains ('2008-01-01', '2018-01-01') which is of type tuple.\n",
      "  warnings.warn(message)\n",
      "/opt/anaconda3/envs/ee460_new_310/lib/python3.10/site-packages/optuna/distributions.py:515: UserWarning: Choices for a categorical distribution should be a tuple of None, bool, int, float and str for persistent storage but contains ('2010-01-01', '2020-01-01') which is of type tuple.\n",
      "  warnings.warn(message)\n",
      "/opt/anaconda3/envs/ee460_new_310/lib/python3.10/site-packages/optuna/distributions.py:515: UserWarning: Choices for a categorical distribution should be a tuple of None, bool, int, float and str for persistent storage but contains ('2012-01-01', '2022-01-01') which is of type tuple.\n",
      "  warnings.warn(message)\n",
      "/opt/anaconda3/envs/ee460_new_310/lib/python3.10/site-packages/optuna/distributions.py:515: UserWarning: Choices for a categorical distribution should be a tuple of None, bool, int, float and str for persistent storage but contains ('2014-01-01', '2024-01-01') which is of type tuple.\n",
      "  warnings.warn(message)\n",
      "/opt/anaconda3/envs/ee460_new_310/lib/python3.10/site-packages/optuna/distributions.py:515: UserWarning: Choices for a categorical distribution should be a tuple of None, bool, int, float and str for persistent storage but contains [64] which is of type list.\n",
      "  warnings.warn(message)\n",
      "/opt/anaconda3/envs/ee460_new_310/lib/python3.10/site-packages/optuna/distributions.py:515: UserWarning: Choices for a categorical distribution should be a tuple of None, bool, int, float and str for persistent storage but contains [128, 64] which is of type list.\n",
      "  warnings.warn(message)\n",
      "/opt/anaconda3/envs/ee460_new_310/lib/python3.10/site-packages/optuna/distributions.py:515: UserWarning: Choices for a categorical distribution should be a tuple of None, bool, int, float and str for persistent storage but contains [256, 128] which is of type list.\n",
      "  warnings.warn(message)\n",
      "/opt/anaconda3/envs/ee460_new_310/lib/python3.10/site-packages/optuna/distributions.py:515: UserWarning: Choices for a categorical distribution should be a tuple of None, bool, int, float and str for persistent storage but contains [256, 128, 64] which is of type list.\n",
      "  warnings.warn(message)\n",
      "/opt/anaconda3/envs/ee460_new_310/lib/python3.10/site-packages/optuna/distributions.py:515: UserWarning: Choices for a categorical distribution should be a tuple of None, bool, int, float and str for persistent storage but contains [512, 256, 128] which is of type list.\n",
      "  warnings.warn(message)\n",
      "/opt/anaconda3/envs/ee460_new_310/lib/python3.10/site-packages/optuna/distributions.py:515: UserWarning: Choices for a categorical distribution should be a tuple of None, bool, int, float and str for persistent storage but contains [512, 256, 128, 64] which is of type list.\n",
      "  warnings.warn(message)\n",
      "[I 2025-05-07 12:02:41,335] Trial 23 finished with value: -0.04188947007060051 and parameters: {'train_date_range': ('2006-01-01', '2016-01-01'), 'window': 70, 'stride': 40, 'batch_size': 64, 'lr': 0.0026014202379643064, 'epochs': 45, 'dropout_rate': 0.15000000000000002, 'hidden_sizes': [256, 128]}. Best is trial 2 with value: -0.024667736142873764.\n",
      "/opt/anaconda3/envs/ee460_new_310/lib/python3.10/site-packages/optuna/distributions.py:515: UserWarning: Choices for a categorical distribution should be a tuple of None, bool, int, float and str for persistent storage but contains ('1990-01-01', '2000-01-01') which is of type tuple.\n",
      "  warnings.warn(message)\n",
      "/opt/anaconda3/envs/ee460_new_310/lib/python3.10/site-packages/optuna/distributions.py:515: UserWarning: Choices for a categorical distribution should be a tuple of None, bool, int, float and str for persistent storage but contains ('1992-01-01', '2002-01-01') which is of type tuple.\n",
      "  warnings.warn(message)\n",
      "/opt/anaconda3/envs/ee460_new_310/lib/python3.10/site-packages/optuna/distributions.py:515: UserWarning: Choices for a categorical distribution should be a tuple of None, bool, int, float and str for persistent storage but contains ('1994-01-01', '2004-01-01') which is of type tuple.\n",
      "  warnings.warn(message)\n",
      "/opt/anaconda3/envs/ee460_new_310/lib/python3.10/site-packages/optuna/distributions.py:515: UserWarning: Choices for a categorical distribution should be a tuple of None, bool, int, float and str for persistent storage but contains ('1996-01-01', '2006-01-01') which is of type tuple.\n",
      "  warnings.warn(message)\n",
      "/opt/anaconda3/envs/ee460_new_310/lib/python3.10/site-packages/optuna/distributions.py:515: UserWarning: Choices for a categorical distribution should be a tuple of None, bool, int, float and str for persistent storage but contains ('1998-01-01', '2008-01-01') which is of type tuple.\n",
      "  warnings.warn(message)\n",
      "/opt/anaconda3/envs/ee460_new_310/lib/python3.10/site-packages/optuna/distributions.py:515: UserWarning: Choices for a categorical distribution should be a tuple of None, bool, int, float and str for persistent storage but contains ('2000-01-01', '2010-01-01') which is of type tuple.\n",
      "  warnings.warn(message)\n",
      "/opt/anaconda3/envs/ee460_new_310/lib/python3.10/site-packages/optuna/distributions.py:515: UserWarning: Choices for a categorical distribution should be a tuple of None, bool, int, float and str for persistent storage but contains ('2002-01-01', '2012-01-01') which is of type tuple.\n",
      "  warnings.warn(message)\n",
      "/opt/anaconda3/envs/ee460_new_310/lib/python3.10/site-packages/optuna/distributions.py:515: UserWarning: Choices for a categorical distribution should be a tuple of None, bool, int, float and str for persistent storage but contains ('2004-01-01', '2014-01-01') which is of type tuple.\n",
      "  warnings.warn(message)\n",
      "/opt/anaconda3/envs/ee460_new_310/lib/python3.10/site-packages/optuna/distributions.py:515: UserWarning: Choices for a categorical distribution should be a tuple of None, bool, int, float and str for persistent storage but contains ('2006-01-01', '2016-01-01') which is of type tuple.\n",
      "  warnings.warn(message)\n",
      "/opt/anaconda3/envs/ee460_new_310/lib/python3.10/site-packages/optuna/distributions.py:515: UserWarning: Choices for a categorical distribution should be a tuple of None, bool, int, float and str for persistent storage but contains ('2008-01-01', '2018-01-01') which is of type tuple.\n",
      "  warnings.warn(message)\n",
      "/opt/anaconda3/envs/ee460_new_310/lib/python3.10/site-packages/optuna/distributions.py:515: UserWarning: Choices for a categorical distribution should be a tuple of None, bool, int, float and str for persistent storage but contains ('2010-01-01', '2020-01-01') which is of type tuple.\n",
      "  warnings.warn(message)\n",
      "/opt/anaconda3/envs/ee460_new_310/lib/python3.10/site-packages/optuna/distributions.py:515: UserWarning: Choices for a categorical distribution should be a tuple of None, bool, int, float and str for persistent storage but contains ('2012-01-01', '2022-01-01') which is of type tuple.\n",
      "  warnings.warn(message)\n",
      "/opt/anaconda3/envs/ee460_new_310/lib/python3.10/site-packages/optuna/distributions.py:515: UserWarning: Choices for a categorical distribution should be a tuple of None, bool, int, float and str for persistent storage but contains ('2014-01-01', '2024-01-01') which is of type tuple.\n",
      "  warnings.warn(message)\n",
      "/opt/anaconda3/envs/ee460_new_310/lib/python3.10/site-packages/optuna/distributions.py:515: UserWarning: Choices for a categorical distribution should be a tuple of None, bool, int, float and str for persistent storage but contains [64] which is of type list.\n",
      "  warnings.warn(message)\n",
      "/opt/anaconda3/envs/ee460_new_310/lib/python3.10/site-packages/optuna/distributions.py:515: UserWarning: Choices for a categorical distribution should be a tuple of None, bool, int, float and str for persistent storage but contains [128, 64] which is of type list.\n",
      "  warnings.warn(message)\n",
      "/opt/anaconda3/envs/ee460_new_310/lib/python3.10/site-packages/optuna/distributions.py:515: UserWarning: Choices for a categorical distribution should be a tuple of None, bool, int, float and str for persistent storage but contains [256, 128] which is of type list.\n",
      "  warnings.warn(message)\n",
      "/opt/anaconda3/envs/ee460_new_310/lib/python3.10/site-packages/optuna/distributions.py:515: UserWarning: Choices for a categorical distribution should be a tuple of None, bool, int, float and str for persistent storage but contains [256, 128, 64] which is of type list.\n",
      "  warnings.warn(message)\n",
      "/opt/anaconda3/envs/ee460_new_310/lib/python3.10/site-packages/optuna/distributions.py:515: UserWarning: Choices for a categorical distribution should be a tuple of None, bool, int, float and str for persistent storage but contains [512, 256, 128] which is of type list.\n",
      "  warnings.warn(message)\n",
      "/opt/anaconda3/envs/ee460_new_310/lib/python3.10/site-packages/optuna/distributions.py:515: UserWarning: Choices for a categorical distribution should be a tuple of None, bool, int, float and str for persistent storage but contains [512, 256, 128, 64] which is of type list.\n",
      "  warnings.warn(message)\n",
      "[I 2025-05-07 12:02:41,779] Trial 24 finished with value: -0.07667123526334763 and parameters: {'train_date_range': ('2010-01-01', '2020-01-01'), 'window': 40, 'stride': 20, 'batch_size': 64, 'lr': 0.0024565074710184553, 'epochs': 25, 'dropout_rate': 0.05, 'hidden_sizes': [64]}. Best is trial 2 with value: -0.024667736142873764.\n",
      "/opt/anaconda3/envs/ee460_new_310/lib/python3.10/site-packages/optuna/distributions.py:515: UserWarning: Choices for a categorical distribution should be a tuple of None, bool, int, float and str for persistent storage but contains ('1990-01-01', '2000-01-01') which is of type tuple.\n",
      "  warnings.warn(message)\n",
      "/opt/anaconda3/envs/ee460_new_310/lib/python3.10/site-packages/optuna/distributions.py:515: UserWarning: Choices for a categorical distribution should be a tuple of None, bool, int, float and str for persistent storage but contains ('1992-01-01', '2002-01-01') which is of type tuple.\n",
      "  warnings.warn(message)\n",
      "/opt/anaconda3/envs/ee460_new_310/lib/python3.10/site-packages/optuna/distributions.py:515: UserWarning: Choices for a categorical distribution should be a tuple of None, bool, int, float and str for persistent storage but contains ('1994-01-01', '2004-01-01') which is of type tuple.\n",
      "  warnings.warn(message)\n",
      "/opt/anaconda3/envs/ee460_new_310/lib/python3.10/site-packages/optuna/distributions.py:515: UserWarning: Choices for a categorical distribution should be a tuple of None, bool, int, float and str for persistent storage but contains ('1996-01-01', '2006-01-01') which is of type tuple.\n",
      "  warnings.warn(message)\n",
      "/opt/anaconda3/envs/ee460_new_310/lib/python3.10/site-packages/optuna/distributions.py:515: UserWarning: Choices for a categorical distribution should be a tuple of None, bool, int, float and str for persistent storage but contains ('1998-01-01', '2008-01-01') which is of type tuple.\n",
      "  warnings.warn(message)\n",
      "/opt/anaconda3/envs/ee460_new_310/lib/python3.10/site-packages/optuna/distributions.py:515: UserWarning: Choices for a categorical distribution should be a tuple of None, bool, int, float and str for persistent storage but contains ('2000-01-01', '2010-01-01') which is of type tuple.\n",
      "  warnings.warn(message)\n",
      "/opt/anaconda3/envs/ee460_new_310/lib/python3.10/site-packages/optuna/distributions.py:515: UserWarning: Choices for a categorical distribution should be a tuple of None, bool, int, float and str for persistent storage but contains ('2002-01-01', '2012-01-01') which is of type tuple.\n",
      "  warnings.warn(message)\n",
      "/opt/anaconda3/envs/ee460_new_310/lib/python3.10/site-packages/optuna/distributions.py:515: UserWarning: Choices for a categorical distribution should be a tuple of None, bool, int, float and str for persistent storage but contains ('2004-01-01', '2014-01-01') which is of type tuple.\n",
      "  warnings.warn(message)\n",
      "/opt/anaconda3/envs/ee460_new_310/lib/python3.10/site-packages/optuna/distributions.py:515: UserWarning: Choices for a categorical distribution should be a tuple of None, bool, int, float and str for persistent storage but contains ('2006-01-01', '2016-01-01') which is of type tuple.\n",
      "  warnings.warn(message)\n",
      "/opt/anaconda3/envs/ee460_new_310/lib/python3.10/site-packages/optuna/distributions.py:515: UserWarning: Choices for a categorical distribution should be a tuple of None, bool, int, float and str for persistent storage but contains ('2008-01-01', '2018-01-01') which is of type tuple.\n",
      "  warnings.warn(message)\n",
      "/opt/anaconda3/envs/ee460_new_310/lib/python3.10/site-packages/optuna/distributions.py:515: UserWarning: Choices for a categorical distribution should be a tuple of None, bool, int, float and str for persistent storage but contains ('2010-01-01', '2020-01-01') which is of type tuple.\n",
      "  warnings.warn(message)\n",
      "/opt/anaconda3/envs/ee460_new_310/lib/python3.10/site-packages/optuna/distributions.py:515: UserWarning: Choices for a categorical distribution should be a tuple of None, bool, int, float and str for persistent storage but contains ('2012-01-01', '2022-01-01') which is of type tuple.\n",
      "  warnings.warn(message)\n",
      "/opt/anaconda3/envs/ee460_new_310/lib/python3.10/site-packages/optuna/distributions.py:515: UserWarning: Choices for a categorical distribution should be a tuple of None, bool, int, float and str for persistent storage but contains ('2014-01-01', '2024-01-01') which is of type tuple.\n",
      "  warnings.warn(message)\n",
      "/opt/anaconda3/envs/ee460_new_310/lib/python3.10/site-packages/optuna/distributions.py:515: UserWarning: Choices for a categorical distribution should be a tuple of None, bool, int, float and str for persistent storage but contains [64] which is of type list.\n",
      "  warnings.warn(message)\n",
      "/opt/anaconda3/envs/ee460_new_310/lib/python3.10/site-packages/optuna/distributions.py:515: UserWarning: Choices for a categorical distribution should be a tuple of None, bool, int, float and str for persistent storage but contains [128, 64] which is of type list.\n",
      "  warnings.warn(message)\n",
      "/opt/anaconda3/envs/ee460_new_310/lib/python3.10/site-packages/optuna/distributions.py:515: UserWarning: Choices for a categorical distribution should be a tuple of None, bool, int, float and str for persistent storage but contains [256, 128] which is of type list.\n",
      "  warnings.warn(message)\n",
      "/opt/anaconda3/envs/ee460_new_310/lib/python3.10/site-packages/optuna/distributions.py:515: UserWarning: Choices for a categorical distribution should be a tuple of None, bool, int, float and str for persistent storage but contains [256, 128, 64] which is of type list.\n",
      "  warnings.warn(message)\n",
      "/opt/anaconda3/envs/ee460_new_310/lib/python3.10/site-packages/optuna/distributions.py:515: UserWarning: Choices for a categorical distribution should be a tuple of None, bool, int, float and str for persistent storage but contains [512, 256, 128] which is of type list.\n",
      "  warnings.warn(message)\n",
      "/opt/anaconda3/envs/ee460_new_310/lib/python3.10/site-packages/optuna/distributions.py:515: UserWarning: Choices for a categorical distribution should be a tuple of None, bool, int, float and str for persistent storage but contains [512, 256, 128, 64] which is of type list.\n",
      "  warnings.warn(message)\n",
      "[I 2025-05-07 12:02:42,761] Trial 25 finished with value: -0.02984943427145481 and parameters: {'train_date_range': ('2000-01-01', '2010-01-01'), 'window': 20, 'stride': 5, 'batch_size': 128, 'lr': 0.00020202133693525732, 'epochs': 50, 'dropout_rate': 0.2, 'hidden_sizes': [128, 64]}. Best is trial 2 with value: -0.024667736142873764.\n",
      "/opt/anaconda3/envs/ee460_new_310/lib/python3.10/site-packages/optuna/distributions.py:515: UserWarning: Choices for a categorical distribution should be a tuple of None, bool, int, float and str for persistent storage but contains ('1990-01-01', '2000-01-01') which is of type tuple.\n",
      "  warnings.warn(message)\n",
      "/opt/anaconda3/envs/ee460_new_310/lib/python3.10/site-packages/optuna/distributions.py:515: UserWarning: Choices for a categorical distribution should be a tuple of None, bool, int, float and str for persistent storage but contains ('1992-01-01', '2002-01-01') which is of type tuple.\n",
      "  warnings.warn(message)\n",
      "/opt/anaconda3/envs/ee460_new_310/lib/python3.10/site-packages/optuna/distributions.py:515: UserWarning: Choices for a categorical distribution should be a tuple of None, bool, int, float and str for persistent storage but contains ('1994-01-01', '2004-01-01') which is of type tuple.\n",
      "  warnings.warn(message)\n",
      "/opt/anaconda3/envs/ee460_new_310/lib/python3.10/site-packages/optuna/distributions.py:515: UserWarning: Choices for a categorical distribution should be a tuple of None, bool, int, float and str for persistent storage but contains ('1996-01-01', '2006-01-01') which is of type tuple.\n",
      "  warnings.warn(message)\n",
      "/opt/anaconda3/envs/ee460_new_310/lib/python3.10/site-packages/optuna/distributions.py:515: UserWarning: Choices for a categorical distribution should be a tuple of None, bool, int, float and str for persistent storage but contains ('1998-01-01', '2008-01-01') which is of type tuple.\n",
      "  warnings.warn(message)\n",
      "/opt/anaconda3/envs/ee460_new_310/lib/python3.10/site-packages/optuna/distributions.py:515: UserWarning: Choices for a categorical distribution should be a tuple of None, bool, int, float and str for persistent storage but contains ('2000-01-01', '2010-01-01') which is of type tuple.\n",
      "  warnings.warn(message)\n",
      "/opt/anaconda3/envs/ee460_new_310/lib/python3.10/site-packages/optuna/distributions.py:515: UserWarning: Choices for a categorical distribution should be a tuple of None, bool, int, float and str for persistent storage but contains ('2002-01-01', '2012-01-01') which is of type tuple.\n",
      "  warnings.warn(message)\n",
      "/opt/anaconda3/envs/ee460_new_310/lib/python3.10/site-packages/optuna/distributions.py:515: UserWarning: Choices for a categorical distribution should be a tuple of None, bool, int, float and str for persistent storage but contains ('2004-01-01', '2014-01-01') which is of type tuple.\n",
      "  warnings.warn(message)\n",
      "/opt/anaconda3/envs/ee460_new_310/lib/python3.10/site-packages/optuna/distributions.py:515: UserWarning: Choices for a categorical distribution should be a tuple of None, bool, int, float and str for persistent storage but contains ('2006-01-01', '2016-01-01') which is of type tuple.\n",
      "  warnings.warn(message)\n",
      "/opt/anaconda3/envs/ee460_new_310/lib/python3.10/site-packages/optuna/distributions.py:515: UserWarning: Choices for a categorical distribution should be a tuple of None, bool, int, float and str for persistent storage but contains ('2008-01-01', '2018-01-01') which is of type tuple.\n",
      "  warnings.warn(message)\n",
      "/opt/anaconda3/envs/ee460_new_310/lib/python3.10/site-packages/optuna/distributions.py:515: UserWarning: Choices for a categorical distribution should be a tuple of None, bool, int, float and str for persistent storage but contains ('2010-01-01', '2020-01-01') which is of type tuple.\n",
      "  warnings.warn(message)\n",
      "/opt/anaconda3/envs/ee460_new_310/lib/python3.10/site-packages/optuna/distributions.py:515: UserWarning: Choices for a categorical distribution should be a tuple of None, bool, int, float and str for persistent storage but contains ('2012-01-01', '2022-01-01') which is of type tuple.\n",
      "  warnings.warn(message)\n",
      "/opt/anaconda3/envs/ee460_new_310/lib/python3.10/site-packages/optuna/distributions.py:515: UserWarning: Choices for a categorical distribution should be a tuple of None, bool, int, float and str for persistent storage but contains ('2014-01-01', '2024-01-01') which is of type tuple.\n",
      "  warnings.warn(message)\n",
      "/opt/anaconda3/envs/ee460_new_310/lib/python3.10/site-packages/optuna/distributions.py:515: UserWarning: Choices for a categorical distribution should be a tuple of None, bool, int, float and str for persistent storage but contains [64] which is of type list.\n",
      "  warnings.warn(message)\n",
      "/opt/anaconda3/envs/ee460_new_310/lib/python3.10/site-packages/optuna/distributions.py:515: UserWarning: Choices for a categorical distribution should be a tuple of None, bool, int, float and str for persistent storage but contains [128, 64] which is of type list.\n",
      "  warnings.warn(message)\n",
      "/opt/anaconda3/envs/ee460_new_310/lib/python3.10/site-packages/optuna/distributions.py:515: UserWarning: Choices for a categorical distribution should be a tuple of None, bool, int, float and str for persistent storage but contains [256, 128] which is of type list.\n",
      "  warnings.warn(message)\n",
      "/opt/anaconda3/envs/ee460_new_310/lib/python3.10/site-packages/optuna/distributions.py:515: UserWarning: Choices for a categorical distribution should be a tuple of None, bool, int, float and str for persistent storage but contains [256, 128, 64] which is of type list.\n",
      "  warnings.warn(message)\n",
      "/opt/anaconda3/envs/ee460_new_310/lib/python3.10/site-packages/optuna/distributions.py:515: UserWarning: Choices for a categorical distribution should be a tuple of None, bool, int, float and str for persistent storage but contains [512, 256, 128] which is of type list.\n",
      "  warnings.warn(message)\n",
      "/opt/anaconda3/envs/ee460_new_310/lib/python3.10/site-packages/optuna/distributions.py:515: UserWarning: Choices for a categorical distribution should be a tuple of None, bool, int, float and str for persistent storage but contains [512, 256, 128, 64] which is of type list.\n",
      "  warnings.warn(message)\n",
      "[I 2025-05-07 12:02:43,531] Trial 26 finished with value: -0.06512142717838287 and parameters: {'train_date_range': ('2008-01-01', '2018-01-01'), 'window': 50, 'stride': 45, 'batch_size': 16, 'lr': 7.39891786687268e-05, 'epochs': 40, 'dropout_rate': 0.0, 'hidden_sizes': [256, 128, 64]}. Best is trial 2 with value: -0.024667736142873764.\n",
      "/opt/anaconda3/envs/ee460_new_310/lib/python3.10/site-packages/optuna/distributions.py:515: UserWarning: Choices for a categorical distribution should be a tuple of None, bool, int, float and str for persistent storage but contains ('1990-01-01', '2000-01-01') which is of type tuple.\n",
      "  warnings.warn(message)\n",
      "/opt/anaconda3/envs/ee460_new_310/lib/python3.10/site-packages/optuna/distributions.py:515: UserWarning: Choices for a categorical distribution should be a tuple of None, bool, int, float and str for persistent storage but contains ('1992-01-01', '2002-01-01') which is of type tuple.\n",
      "  warnings.warn(message)\n",
      "/opt/anaconda3/envs/ee460_new_310/lib/python3.10/site-packages/optuna/distributions.py:515: UserWarning: Choices for a categorical distribution should be a tuple of None, bool, int, float and str for persistent storage but contains ('1994-01-01', '2004-01-01') which is of type tuple.\n",
      "  warnings.warn(message)\n",
      "/opt/anaconda3/envs/ee460_new_310/lib/python3.10/site-packages/optuna/distributions.py:515: UserWarning: Choices for a categorical distribution should be a tuple of None, bool, int, float and str for persistent storage but contains ('1996-01-01', '2006-01-01') which is of type tuple.\n",
      "  warnings.warn(message)\n",
      "/opt/anaconda3/envs/ee460_new_310/lib/python3.10/site-packages/optuna/distributions.py:515: UserWarning: Choices for a categorical distribution should be a tuple of None, bool, int, float and str for persistent storage but contains ('1998-01-01', '2008-01-01') which is of type tuple.\n",
      "  warnings.warn(message)\n",
      "/opt/anaconda3/envs/ee460_new_310/lib/python3.10/site-packages/optuna/distributions.py:515: UserWarning: Choices for a categorical distribution should be a tuple of None, bool, int, float and str for persistent storage but contains ('2000-01-01', '2010-01-01') which is of type tuple.\n",
      "  warnings.warn(message)\n",
      "/opt/anaconda3/envs/ee460_new_310/lib/python3.10/site-packages/optuna/distributions.py:515: UserWarning: Choices for a categorical distribution should be a tuple of None, bool, int, float and str for persistent storage but contains ('2002-01-01', '2012-01-01') which is of type tuple.\n",
      "  warnings.warn(message)\n",
      "/opt/anaconda3/envs/ee460_new_310/lib/python3.10/site-packages/optuna/distributions.py:515: UserWarning: Choices for a categorical distribution should be a tuple of None, bool, int, float and str for persistent storage but contains ('2004-01-01', '2014-01-01') which is of type tuple.\n",
      "  warnings.warn(message)\n",
      "/opt/anaconda3/envs/ee460_new_310/lib/python3.10/site-packages/optuna/distributions.py:515: UserWarning: Choices for a categorical distribution should be a tuple of None, bool, int, float and str for persistent storage but contains ('2006-01-01', '2016-01-01') which is of type tuple.\n",
      "  warnings.warn(message)\n",
      "/opt/anaconda3/envs/ee460_new_310/lib/python3.10/site-packages/optuna/distributions.py:515: UserWarning: Choices for a categorical distribution should be a tuple of None, bool, int, float and str for persistent storage but contains ('2008-01-01', '2018-01-01') which is of type tuple.\n",
      "  warnings.warn(message)\n",
      "/opt/anaconda3/envs/ee460_new_310/lib/python3.10/site-packages/optuna/distributions.py:515: UserWarning: Choices for a categorical distribution should be a tuple of None, bool, int, float and str for persistent storage but contains ('2010-01-01', '2020-01-01') which is of type tuple.\n",
      "  warnings.warn(message)\n",
      "/opt/anaconda3/envs/ee460_new_310/lib/python3.10/site-packages/optuna/distributions.py:515: UserWarning: Choices for a categorical distribution should be a tuple of None, bool, int, float and str for persistent storage but contains ('2012-01-01', '2022-01-01') which is of type tuple.\n",
      "  warnings.warn(message)\n",
      "/opt/anaconda3/envs/ee460_new_310/lib/python3.10/site-packages/optuna/distributions.py:515: UserWarning: Choices for a categorical distribution should be a tuple of None, bool, int, float and str for persistent storage but contains ('2014-01-01', '2024-01-01') which is of type tuple.\n",
      "  warnings.warn(message)\n",
      "/opt/anaconda3/envs/ee460_new_310/lib/python3.10/site-packages/optuna/distributions.py:515: UserWarning: Choices for a categorical distribution should be a tuple of None, bool, int, float and str for persistent storage but contains [64] which is of type list.\n",
      "  warnings.warn(message)\n",
      "/opt/anaconda3/envs/ee460_new_310/lib/python3.10/site-packages/optuna/distributions.py:515: UserWarning: Choices for a categorical distribution should be a tuple of None, bool, int, float and str for persistent storage but contains [128, 64] which is of type list.\n",
      "  warnings.warn(message)\n",
      "/opt/anaconda3/envs/ee460_new_310/lib/python3.10/site-packages/optuna/distributions.py:515: UserWarning: Choices for a categorical distribution should be a tuple of None, bool, int, float and str for persistent storage but contains [256, 128] which is of type list.\n",
      "  warnings.warn(message)\n",
      "/opt/anaconda3/envs/ee460_new_310/lib/python3.10/site-packages/optuna/distributions.py:515: UserWarning: Choices for a categorical distribution should be a tuple of None, bool, int, float and str for persistent storage but contains [256, 128, 64] which is of type list.\n",
      "  warnings.warn(message)\n",
      "/opt/anaconda3/envs/ee460_new_310/lib/python3.10/site-packages/optuna/distributions.py:515: UserWarning: Choices for a categorical distribution should be a tuple of None, bool, int, float and str for persistent storage but contains [512, 256, 128] which is of type list.\n",
      "  warnings.warn(message)\n",
      "/opt/anaconda3/envs/ee460_new_310/lib/python3.10/site-packages/optuna/distributions.py:515: UserWarning: Choices for a categorical distribution should be a tuple of None, bool, int, float and str for persistent storage but contains [512, 256, 128, 64] which is of type list.\n",
      "  warnings.warn(message)\n",
      "[I 2025-05-07 12:02:43,917] Trial 27 finished with value: -0.036353521049022675 and parameters: {'train_date_range': ('1990-01-01', '2000-01-01'), 'window': 20, 'stride': 60, 'batch_size': 32, 'lr': 2.6215725876682636e-05, 'epochs': 35, 'dropout_rate': 0.1, 'hidden_sizes': [512, 256, 128]}. Best is trial 2 with value: -0.024667736142873764.\n",
      "/opt/anaconda3/envs/ee460_new_310/lib/python3.10/site-packages/optuna/distributions.py:515: UserWarning: Choices for a categorical distribution should be a tuple of None, bool, int, float and str for persistent storage but contains ('1990-01-01', '2000-01-01') which is of type tuple.\n",
      "  warnings.warn(message)\n",
      "/opt/anaconda3/envs/ee460_new_310/lib/python3.10/site-packages/optuna/distributions.py:515: UserWarning: Choices for a categorical distribution should be a tuple of None, bool, int, float and str for persistent storage but contains ('1992-01-01', '2002-01-01') which is of type tuple.\n",
      "  warnings.warn(message)\n",
      "/opt/anaconda3/envs/ee460_new_310/lib/python3.10/site-packages/optuna/distributions.py:515: UserWarning: Choices for a categorical distribution should be a tuple of None, bool, int, float and str for persistent storage but contains ('1994-01-01', '2004-01-01') which is of type tuple.\n",
      "  warnings.warn(message)\n",
      "/opt/anaconda3/envs/ee460_new_310/lib/python3.10/site-packages/optuna/distributions.py:515: UserWarning: Choices for a categorical distribution should be a tuple of None, bool, int, float and str for persistent storage but contains ('1996-01-01', '2006-01-01') which is of type tuple.\n",
      "  warnings.warn(message)\n",
      "/opt/anaconda3/envs/ee460_new_310/lib/python3.10/site-packages/optuna/distributions.py:515: UserWarning: Choices for a categorical distribution should be a tuple of None, bool, int, float and str for persistent storage but contains ('1998-01-01', '2008-01-01') which is of type tuple.\n",
      "  warnings.warn(message)\n",
      "/opt/anaconda3/envs/ee460_new_310/lib/python3.10/site-packages/optuna/distributions.py:515: UserWarning: Choices for a categorical distribution should be a tuple of None, bool, int, float and str for persistent storage but contains ('2000-01-01', '2010-01-01') which is of type tuple.\n",
      "  warnings.warn(message)\n",
      "/opt/anaconda3/envs/ee460_new_310/lib/python3.10/site-packages/optuna/distributions.py:515: UserWarning: Choices for a categorical distribution should be a tuple of None, bool, int, float and str for persistent storage but contains ('2002-01-01', '2012-01-01') which is of type tuple.\n",
      "  warnings.warn(message)\n",
      "/opt/anaconda3/envs/ee460_new_310/lib/python3.10/site-packages/optuna/distributions.py:515: UserWarning: Choices for a categorical distribution should be a tuple of None, bool, int, float and str for persistent storage but contains ('2004-01-01', '2014-01-01') which is of type tuple.\n",
      "  warnings.warn(message)\n",
      "/opt/anaconda3/envs/ee460_new_310/lib/python3.10/site-packages/optuna/distributions.py:515: UserWarning: Choices for a categorical distribution should be a tuple of None, bool, int, float and str for persistent storage but contains ('2006-01-01', '2016-01-01') which is of type tuple.\n",
      "  warnings.warn(message)\n",
      "/opt/anaconda3/envs/ee460_new_310/lib/python3.10/site-packages/optuna/distributions.py:515: UserWarning: Choices for a categorical distribution should be a tuple of None, bool, int, float and str for persistent storage but contains ('2008-01-01', '2018-01-01') which is of type tuple.\n",
      "  warnings.warn(message)\n",
      "/opt/anaconda3/envs/ee460_new_310/lib/python3.10/site-packages/optuna/distributions.py:515: UserWarning: Choices for a categorical distribution should be a tuple of None, bool, int, float and str for persistent storage but contains ('2010-01-01', '2020-01-01') which is of type tuple.\n",
      "  warnings.warn(message)\n",
      "/opt/anaconda3/envs/ee460_new_310/lib/python3.10/site-packages/optuna/distributions.py:515: UserWarning: Choices for a categorical distribution should be a tuple of None, bool, int, float and str for persistent storage but contains ('2012-01-01', '2022-01-01') which is of type tuple.\n",
      "  warnings.warn(message)\n",
      "/opt/anaconda3/envs/ee460_new_310/lib/python3.10/site-packages/optuna/distributions.py:515: UserWarning: Choices for a categorical distribution should be a tuple of None, bool, int, float and str for persistent storage but contains ('2014-01-01', '2024-01-01') which is of type tuple.\n",
      "  warnings.warn(message)\n",
      "/opt/anaconda3/envs/ee460_new_310/lib/python3.10/site-packages/optuna/distributions.py:515: UserWarning: Choices for a categorical distribution should be a tuple of None, bool, int, float and str for persistent storage but contains [64] which is of type list.\n",
      "  warnings.warn(message)\n",
      "/opt/anaconda3/envs/ee460_new_310/lib/python3.10/site-packages/optuna/distributions.py:515: UserWarning: Choices for a categorical distribution should be a tuple of None, bool, int, float and str for persistent storage but contains [128, 64] which is of type list.\n",
      "  warnings.warn(message)\n",
      "/opt/anaconda3/envs/ee460_new_310/lib/python3.10/site-packages/optuna/distributions.py:515: UserWarning: Choices for a categorical distribution should be a tuple of None, bool, int, float and str for persistent storage but contains [256, 128] which is of type list.\n",
      "  warnings.warn(message)\n",
      "/opt/anaconda3/envs/ee460_new_310/lib/python3.10/site-packages/optuna/distributions.py:515: UserWarning: Choices for a categorical distribution should be a tuple of None, bool, int, float and str for persistent storage but contains [256, 128, 64] which is of type list.\n",
      "  warnings.warn(message)\n",
      "/opt/anaconda3/envs/ee460_new_310/lib/python3.10/site-packages/optuna/distributions.py:515: UserWarning: Choices for a categorical distribution should be a tuple of None, bool, int, float and str for persistent storage but contains [512, 256, 128] which is of type list.\n",
      "  warnings.warn(message)\n",
      "/opt/anaconda3/envs/ee460_new_310/lib/python3.10/site-packages/optuna/distributions.py:515: UserWarning: Choices for a categorical distribution should be a tuple of None, bool, int, float and str for persistent storage but contains [512, 256, 128, 64] which is of type list.\n",
      "  warnings.warn(message)\n",
      "[I 2025-05-07 12:02:44,235] Trial 28 finished with value: -0.04246850684285164 and parameters: {'train_date_range': ('2012-01-01', '2022-01-01'), 'window': 70, 'stride': 35, 'batch_size': 64, 'lr': 0.0004910421942138634, 'epochs': 30, 'dropout_rate': 0.25, 'hidden_sizes': [256, 128]}. Best is trial 2 with value: -0.024667736142873764.\n",
      "/opt/anaconda3/envs/ee460_new_310/lib/python3.10/site-packages/optuna/distributions.py:515: UserWarning: Choices for a categorical distribution should be a tuple of None, bool, int, float and str for persistent storage but contains ('1990-01-01', '2000-01-01') which is of type tuple.\n",
      "  warnings.warn(message)\n",
      "/opt/anaconda3/envs/ee460_new_310/lib/python3.10/site-packages/optuna/distributions.py:515: UserWarning: Choices for a categorical distribution should be a tuple of None, bool, int, float and str for persistent storage but contains ('1992-01-01', '2002-01-01') which is of type tuple.\n",
      "  warnings.warn(message)\n",
      "/opt/anaconda3/envs/ee460_new_310/lib/python3.10/site-packages/optuna/distributions.py:515: UserWarning: Choices for a categorical distribution should be a tuple of None, bool, int, float and str for persistent storage but contains ('1994-01-01', '2004-01-01') which is of type tuple.\n",
      "  warnings.warn(message)\n",
      "/opt/anaconda3/envs/ee460_new_310/lib/python3.10/site-packages/optuna/distributions.py:515: UserWarning: Choices for a categorical distribution should be a tuple of None, bool, int, float and str for persistent storage but contains ('1996-01-01', '2006-01-01') which is of type tuple.\n",
      "  warnings.warn(message)\n",
      "/opt/anaconda3/envs/ee460_new_310/lib/python3.10/site-packages/optuna/distributions.py:515: UserWarning: Choices for a categorical distribution should be a tuple of None, bool, int, float and str for persistent storage but contains ('1998-01-01', '2008-01-01') which is of type tuple.\n",
      "  warnings.warn(message)\n",
      "/opt/anaconda3/envs/ee460_new_310/lib/python3.10/site-packages/optuna/distributions.py:515: UserWarning: Choices for a categorical distribution should be a tuple of None, bool, int, float and str for persistent storage but contains ('2000-01-01', '2010-01-01') which is of type tuple.\n",
      "  warnings.warn(message)\n",
      "/opt/anaconda3/envs/ee460_new_310/lib/python3.10/site-packages/optuna/distributions.py:515: UserWarning: Choices for a categorical distribution should be a tuple of None, bool, int, float and str for persistent storage but contains ('2002-01-01', '2012-01-01') which is of type tuple.\n",
      "  warnings.warn(message)\n",
      "/opt/anaconda3/envs/ee460_new_310/lib/python3.10/site-packages/optuna/distributions.py:515: UserWarning: Choices for a categorical distribution should be a tuple of None, bool, int, float and str for persistent storage but contains ('2004-01-01', '2014-01-01') which is of type tuple.\n",
      "  warnings.warn(message)\n",
      "/opt/anaconda3/envs/ee460_new_310/lib/python3.10/site-packages/optuna/distributions.py:515: UserWarning: Choices for a categorical distribution should be a tuple of None, bool, int, float and str for persistent storage but contains ('2006-01-01', '2016-01-01') which is of type tuple.\n",
      "  warnings.warn(message)\n",
      "/opt/anaconda3/envs/ee460_new_310/lib/python3.10/site-packages/optuna/distributions.py:515: UserWarning: Choices for a categorical distribution should be a tuple of None, bool, int, float and str for persistent storage but contains ('2008-01-01', '2018-01-01') which is of type tuple.\n",
      "  warnings.warn(message)\n",
      "/opt/anaconda3/envs/ee460_new_310/lib/python3.10/site-packages/optuna/distributions.py:515: UserWarning: Choices for a categorical distribution should be a tuple of None, bool, int, float and str for persistent storage but contains ('2010-01-01', '2020-01-01') which is of type tuple.\n",
      "  warnings.warn(message)\n",
      "/opt/anaconda3/envs/ee460_new_310/lib/python3.10/site-packages/optuna/distributions.py:515: UserWarning: Choices for a categorical distribution should be a tuple of None, bool, int, float and str for persistent storage but contains ('2012-01-01', '2022-01-01') which is of type tuple.\n",
      "  warnings.warn(message)\n",
      "/opt/anaconda3/envs/ee460_new_310/lib/python3.10/site-packages/optuna/distributions.py:515: UserWarning: Choices for a categorical distribution should be a tuple of None, bool, int, float and str for persistent storage but contains ('2014-01-01', '2024-01-01') which is of type tuple.\n",
      "  warnings.warn(message)\n",
      "/opt/anaconda3/envs/ee460_new_310/lib/python3.10/site-packages/optuna/distributions.py:515: UserWarning: Choices for a categorical distribution should be a tuple of None, bool, int, float and str for persistent storage but contains [64] which is of type list.\n",
      "  warnings.warn(message)\n",
      "/opt/anaconda3/envs/ee460_new_310/lib/python3.10/site-packages/optuna/distributions.py:515: UserWarning: Choices for a categorical distribution should be a tuple of None, bool, int, float and str for persistent storage but contains [128, 64] which is of type list.\n",
      "  warnings.warn(message)\n",
      "/opt/anaconda3/envs/ee460_new_310/lib/python3.10/site-packages/optuna/distributions.py:515: UserWarning: Choices for a categorical distribution should be a tuple of None, bool, int, float and str for persistent storage but contains [256, 128] which is of type list.\n",
      "  warnings.warn(message)\n",
      "/opt/anaconda3/envs/ee460_new_310/lib/python3.10/site-packages/optuna/distributions.py:515: UserWarning: Choices for a categorical distribution should be a tuple of None, bool, int, float and str for persistent storage but contains [256, 128, 64] which is of type list.\n",
      "  warnings.warn(message)\n",
      "/opt/anaconda3/envs/ee460_new_310/lib/python3.10/site-packages/optuna/distributions.py:515: UserWarning: Choices for a categorical distribution should be a tuple of None, bool, int, float and str for persistent storage but contains [512, 256, 128] which is of type list.\n",
      "  warnings.warn(message)\n",
      "/opt/anaconda3/envs/ee460_new_310/lib/python3.10/site-packages/optuna/distributions.py:515: UserWarning: Choices for a categorical distribution should be a tuple of None, bool, int, float and str for persistent storage but contains [512, 256, 128, 64] which is of type list.\n",
      "  warnings.warn(message)\n",
      "[I 2025-05-07 12:02:44,551] Trial 29 finished with value: -0.04273899272084236 and parameters: {'train_date_range': ('2014-01-01', '2024-01-01'), 'window': 30, 'stride': 75, 'batch_size': 16, 'lr': 0.007662313052305139, 'epochs': 20, 'dropout_rate': 0.15000000000000002, 'hidden_sizes': [64]}. Best is trial 2 with value: -0.024667736142873764.\n"
     ]
    }
   ],
   "source": [
    "study = optuna.create_study(direction=\"maximize\")\n",
    "study.optimize(objective, n_trials=30)"
   ]
  },
  {
   "cell_type": "code",
   "execution_count": 9,
   "id": "f49dfca9",
   "metadata": {},
   "outputs": [
    {
     "data": {
      "application/vnd.plotly.v1+json": {
       "config": {
        "plotlyServerURL": "https://plot.ly"
       },
       "data": [
        {
         "mode": "markers",
         "name": "Objective Value",
         "type": "scatter",
         "x": [
          0,
          1,
          2,
          3,
          4,
          5,
          6,
          7,
          8,
          9,
          10,
          11,
          12,
          13,
          14,
          15,
          16,
          17,
          18,
          19,
          20,
          21,
          22,
          23,
          24,
          25,
          26,
          27,
          28,
          29
         ],
         "y": [
          -0.0573275201022625,
          -0.04266154021024704,
          -0.024667736142873764,
          -0.04189107567071915,
          -0.028500229120254517,
          -0.03363228961825371,
          -0.07873596996068954,
          -0.04526889696717262,
          -0.06251249462366104,
          -0.02967969700694084,
          -0.05848614126443863,
          -0.04238513484597206,
          -0.05290205404162407,
          -0.02664261683821678,
          -0.0389152429997921,
          -0.0615791380405426,
          -0.08515187352895737,
          -0.08455894887447357,
          -0.05477534979581833,
          -0.04730210453271866,
          -0.05171050503849983,
          -0.034502867609262466,
          -0.03636890649795532,
          -0.04188947007060051,
          -0.07667123526334763,
          -0.02984943427145481,
          -0.06512142717838287,
          -0.036353521049022675,
          -0.04246850684285164,
          -0.04273899272084236
         ]
        },
        {
         "mode": "lines",
         "name": "Best Value",
         "type": "scatter",
         "x": [
          0,
          1,
          2,
          3,
          4,
          5,
          6,
          7,
          8,
          9,
          10,
          11,
          12,
          13,
          14,
          15,
          16,
          17,
          18,
          19,
          20,
          21,
          22,
          23,
          24,
          25,
          26,
          27,
          28,
          29
         ],
         "y": [
          -0.0573275201022625,
          -0.04266154021024704,
          -0.024667736142873764,
          -0.024667736142873764,
          -0.024667736142873764,
          -0.024667736142873764,
          -0.024667736142873764,
          -0.024667736142873764,
          -0.024667736142873764,
          -0.024667736142873764,
          -0.024667736142873764,
          -0.024667736142873764,
          -0.024667736142873764,
          -0.024667736142873764,
          -0.024667736142873764,
          -0.024667736142873764,
          -0.024667736142873764,
          -0.024667736142873764,
          -0.024667736142873764,
          -0.024667736142873764,
          -0.024667736142873764,
          -0.024667736142873764,
          -0.024667736142873764,
          -0.024667736142873764,
          -0.024667736142873764,
          -0.024667736142873764,
          -0.024667736142873764,
          -0.024667736142873764,
          -0.024667736142873764,
          -0.024667736142873764
         ]
        },
        {
         "marker": {
          "color": "#cccccc"
         },
         "mode": "markers",
         "name": "Infeasible Trial",
         "showlegend": false,
         "type": "scatter",
         "x": [],
         "y": []
        }
       ],
       "layout": {
        "height": 600,
        "template": {
         "data": {
          "bar": [
           {
            "error_x": {
             "color": "#2a3f5f"
            },
            "error_y": {
             "color": "#2a3f5f"
            },
            "marker": {
             "line": {
              "color": "#E5ECF6",
              "width": 0.5
             },
             "pattern": {
              "fillmode": "overlay",
              "size": 10,
              "solidity": 0.2
             }
            },
            "type": "bar"
           }
          ],
          "barpolar": [
           {
            "marker": {
             "line": {
              "color": "#E5ECF6",
              "width": 0.5
             },
             "pattern": {
              "fillmode": "overlay",
              "size": 10,
              "solidity": 0.2
             }
            },
            "type": "barpolar"
           }
          ],
          "carpet": [
           {
            "aaxis": {
             "endlinecolor": "#2a3f5f",
             "gridcolor": "white",
             "linecolor": "white",
             "minorgridcolor": "white",
             "startlinecolor": "#2a3f5f"
            },
            "baxis": {
             "endlinecolor": "#2a3f5f",
             "gridcolor": "white",
             "linecolor": "white",
             "minorgridcolor": "white",
             "startlinecolor": "#2a3f5f"
            },
            "type": "carpet"
           }
          ],
          "choropleth": [
           {
            "colorbar": {
             "outlinewidth": 0,
             "ticks": ""
            },
            "type": "choropleth"
           }
          ],
          "contour": [
           {
            "colorbar": {
             "outlinewidth": 0,
             "ticks": ""
            },
            "colorscale": [
             [
              0,
              "#0d0887"
             ],
             [
              0.1111111111111111,
              "#46039f"
             ],
             [
              0.2222222222222222,
              "#7201a8"
             ],
             [
              0.3333333333333333,
              "#9c179e"
             ],
             [
              0.4444444444444444,
              "#bd3786"
             ],
             [
              0.5555555555555556,
              "#d8576b"
             ],
             [
              0.6666666666666666,
              "#ed7953"
             ],
             [
              0.7777777777777778,
              "#fb9f3a"
             ],
             [
              0.8888888888888888,
              "#fdca26"
             ],
             [
              1,
              "#f0f921"
             ]
            ],
            "type": "contour"
           }
          ],
          "contourcarpet": [
           {
            "colorbar": {
             "outlinewidth": 0,
             "ticks": ""
            },
            "type": "contourcarpet"
           }
          ],
          "heatmap": [
           {
            "colorbar": {
             "outlinewidth": 0,
             "ticks": ""
            },
            "colorscale": [
             [
              0,
              "#0d0887"
             ],
             [
              0.1111111111111111,
              "#46039f"
             ],
             [
              0.2222222222222222,
              "#7201a8"
             ],
             [
              0.3333333333333333,
              "#9c179e"
             ],
             [
              0.4444444444444444,
              "#bd3786"
             ],
             [
              0.5555555555555556,
              "#d8576b"
             ],
             [
              0.6666666666666666,
              "#ed7953"
             ],
             [
              0.7777777777777778,
              "#fb9f3a"
             ],
             [
              0.8888888888888888,
              "#fdca26"
             ],
             [
              1,
              "#f0f921"
             ]
            ],
            "type": "heatmap"
           }
          ],
          "histogram": [
           {
            "marker": {
             "pattern": {
              "fillmode": "overlay",
              "size": 10,
              "solidity": 0.2
             }
            },
            "type": "histogram"
           }
          ],
          "histogram2d": [
           {
            "colorbar": {
             "outlinewidth": 0,
             "ticks": ""
            },
            "colorscale": [
             [
              0,
              "#0d0887"
             ],
             [
              0.1111111111111111,
              "#46039f"
             ],
             [
              0.2222222222222222,
              "#7201a8"
             ],
             [
              0.3333333333333333,
              "#9c179e"
             ],
             [
              0.4444444444444444,
              "#bd3786"
             ],
             [
              0.5555555555555556,
              "#d8576b"
             ],
             [
              0.6666666666666666,
              "#ed7953"
             ],
             [
              0.7777777777777778,
              "#fb9f3a"
             ],
             [
              0.8888888888888888,
              "#fdca26"
             ],
             [
              1,
              "#f0f921"
             ]
            ],
            "type": "histogram2d"
           }
          ],
          "histogram2dcontour": [
           {
            "colorbar": {
             "outlinewidth": 0,
             "ticks": ""
            },
            "colorscale": [
             [
              0,
              "#0d0887"
             ],
             [
              0.1111111111111111,
              "#46039f"
             ],
             [
              0.2222222222222222,
              "#7201a8"
             ],
             [
              0.3333333333333333,
              "#9c179e"
             ],
             [
              0.4444444444444444,
              "#bd3786"
             ],
             [
              0.5555555555555556,
              "#d8576b"
             ],
             [
              0.6666666666666666,
              "#ed7953"
             ],
             [
              0.7777777777777778,
              "#fb9f3a"
             ],
             [
              0.8888888888888888,
              "#fdca26"
             ],
             [
              1,
              "#f0f921"
             ]
            ],
            "type": "histogram2dcontour"
           }
          ],
          "mesh3d": [
           {
            "colorbar": {
             "outlinewidth": 0,
             "ticks": ""
            },
            "type": "mesh3d"
           }
          ],
          "parcoords": [
           {
            "line": {
             "colorbar": {
              "outlinewidth": 0,
              "ticks": ""
             }
            },
            "type": "parcoords"
           }
          ],
          "pie": [
           {
            "automargin": true,
            "type": "pie"
           }
          ],
          "scatter": [
           {
            "fillpattern": {
             "fillmode": "overlay",
             "size": 10,
             "solidity": 0.2
            },
            "type": "scatter"
           }
          ],
          "scatter3d": [
           {
            "line": {
             "colorbar": {
              "outlinewidth": 0,
              "ticks": ""
             }
            },
            "marker": {
             "colorbar": {
              "outlinewidth": 0,
              "ticks": ""
             }
            },
            "type": "scatter3d"
           }
          ],
          "scattercarpet": [
           {
            "marker": {
             "colorbar": {
              "outlinewidth": 0,
              "ticks": ""
             }
            },
            "type": "scattercarpet"
           }
          ],
          "scattergeo": [
           {
            "marker": {
             "colorbar": {
              "outlinewidth": 0,
              "ticks": ""
             }
            },
            "type": "scattergeo"
           }
          ],
          "scattergl": [
           {
            "marker": {
             "colorbar": {
              "outlinewidth": 0,
              "ticks": ""
             }
            },
            "type": "scattergl"
           }
          ],
          "scattermap": [
           {
            "marker": {
             "colorbar": {
              "outlinewidth": 0,
              "ticks": ""
             }
            },
            "type": "scattermap"
           }
          ],
          "scattermapbox": [
           {
            "marker": {
             "colorbar": {
              "outlinewidth": 0,
              "ticks": ""
             }
            },
            "type": "scattermapbox"
           }
          ],
          "scatterpolar": [
           {
            "marker": {
             "colorbar": {
              "outlinewidth": 0,
              "ticks": ""
             }
            },
            "type": "scatterpolar"
           }
          ],
          "scatterpolargl": [
           {
            "marker": {
             "colorbar": {
              "outlinewidth": 0,
              "ticks": ""
             }
            },
            "type": "scatterpolargl"
           }
          ],
          "scatterternary": [
           {
            "marker": {
             "colorbar": {
              "outlinewidth": 0,
              "ticks": ""
             }
            },
            "type": "scatterternary"
           }
          ],
          "surface": [
           {
            "colorbar": {
             "outlinewidth": 0,
             "ticks": ""
            },
            "colorscale": [
             [
              0,
              "#0d0887"
             ],
             [
              0.1111111111111111,
              "#46039f"
             ],
             [
              0.2222222222222222,
              "#7201a8"
             ],
             [
              0.3333333333333333,
              "#9c179e"
             ],
             [
              0.4444444444444444,
              "#bd3786"
             ],
             [
              0.5555555555555556,
              "#d8576b"
             ],
             [
              0.6666666666666666,
              "#ed7953"
             ],
             [
              0.7777777777777778,
              "#fb9f3a"
             ],
             [
              0.8888888888888888,
              "#fdca26"
             ],
             [
              1,
              "#f0f921"
             ]
            ],
            "type": "surface"
           }
          ],
          "table": [
           {
            "cells": {
             "fill": {
              "color": "#EBF0F8"
             },
             "line": {
              "color": "white"
             }
            },
            "header": {
             "fill": {
              "color": "#C8D4E3"
             },
             "line": {
              "color": "white"
             }
            },
            "type": "table"
           }
          ]
         },
         "layout": {
          "annotationdefaults": {
           "arrowcolor": "#2a3f5f",
           "arrowhead": 0,
           "arrowwidth": 1
          },
          "autotypenumbers": "strict",
          "coloraxis": {
           "colorbar": {
            "outlinewidth": 0,
            "ticks": ""
           }
          },
          "colorscale": {
           "diverging": [
            [
             0,
             "#8e0152"
            ],
            [
             0.1,
             "#c51b7d"
            ],
            [
             0.2,
             "#de77ae"
            ],
            [
             0.3,
             "#f1b6da"
            ],
            [
             0.4,
             "#fde0ef"
            ],
            [
             0.5,
             "#f7f7f7"
            ],
            [
             0.6,
             "#e6f5d0"
            ],
            [
             0.7,
             "#b8e186"
            ],
            [
             0.8,
             "#7fbc41"
            ],
            [
             0.9,
             "#4d9221"
            ],
            [
             1,
             "#276419"
            ]
           ],
           "sequential": [
            [
             0,
             "#0d0887"
            ],
            [
             0.1111111111111111,
             "#46039f"
            ],
            [
             0.2222222222222222,
             "#7201a8"
            ],
            [
             0.3333333333333333,
             "#9c179e"
            ],
            [
             0.4444444444444444,
             "#bd3786"
            ],
            [
             0.5555555555555556,
             "#d8576b"
            ],
            [
             0.6666666666666666,
             "#ed7953"
            ],
            [
             0.7777777777777778,
             "#fb9f3a"
            ],
            [
             0.8888888888888888,
             "#fdca26"
            ],
            [
             1,
             "#f0f921"
            ]
           ],
           "sequentialminus": [
            [
             0,
             "#0d0887"
            ],
            [
             0.1111111111111111,
             "#46039f"
            ],
            [
             0.2222222222222222,
             "#7201a8"
            ],
            [
             0.3333333333333333,
             "#9c179e"
            ],
            [
             0.4444444444444444,
             "#bd3786"
            ],
            [
             0.5555555555555556,
             "#d8576b"
            ],
            [
             0.6666666666666666,
             "#ed7953"
            ],
            [
             0.7777777777777778,
             "#fb9f3a"
            ],
            [
             0.8888888888888888,
             "#fdca26"
            ],
            [
             1,
             "#f0f921"
            ]
           ]
          },
          "colorway": [
           "#636efa",
           "#EF553B",
           "#00cc96",
           "#ab63fa",
           "#FFA15A",
           "#19d3f3",
           "#FF6692",
           "#B6E880",
           "#FF97FF",
           "#FECB52"
          ],
          "font": {
           "color": "#2a3f5f"
          },
          "geo": {
           "bgcolor": "white",
           "lakecolor": "white",
           "landcolor": "#E5ECF6",
           "showlakes": true,
           "showland": true,
           "subunitcolor": "white"
          },
          "hoverlabel": {
           "align": "left"
          },
          "hovermode": "closest",
          "mapbox": {
           "style": "light"
          },
          "paper_bgcolor": "white",
          "plot_bgcolor": "#E5ECF6",
          "polar": {
           "angularaxis": {
            "gridcolor": "white",
            "linecolor": "white",
            "ticks": ""
           },
           "bgcolor": "#E5ECF6",
           "radialaxis": {
            "gridcolor": "white",
            "linecolor": "white",
            "ticks": ""
           }
          },
          "scene": {
           "xaxis": {
            "backgroundcolor": "#E5ECF6",
            "gridcolor": "white",
            "gridwidth": 2,
            "linecolor": "white",
            "showbackground": true,
            "ticks": "",
            "zerolinecolor": "white"
           },
           "yaxis": {
            "backgroundcolor": "#E5ECF6",
            "gridcolor": "white",
            "gridwidth": 2,
            "linecolor": "white",
            "showbackground": true,
            "ticks": "",
            "zerolinecolor": "white"
           },
           "zaxis": {
            "backgroundcolor": "#E5ECF6",
            "gridcolor": "white",
            "gridwidth": 2,
            "linecolor": "white",
            "showbackground": true,
            "ticks": "",
            "zerolinecolor": "white"
           }
          },
          "shapedefaults": {
           "line": {
            "color": "#2a3f5f"
           }
          },
          "ternary": {
           "aaxis": {
            "gridcolor": "white",
            "linecolor": "white",
            "ticks": ""
           },
           "baxis": {
            "gridcolor": "white",
            "linecolor": "white",
            "ticks": ""
           },
           "bgcolor": "#E5ECF6",
           "caxis": {
            "gridcolor": "white",
            "linecolor": "white",
            "ticks": ""
           }
          },
          "title": {
           "x": 0.05
          },
          "xaxis": {
           "automargin": true,
           "gridcolor": "white",
           "linecolor": "white",
           "ticks": "",
           "title": {
            "standoff": 15
           },
           "zerolinecolor": "white",
           "zerolinewidth": 2
          },
          "yaxis": {
           "automargin": true,
           "gridcolor": "white",
           "linecolor": "white",
           "ticks": "",
           "title": {
            "standoff": 15
           },
           "zerolinecolor": "white",
           "zerolinewidth": 2
          }
         }
        },
        "title": {
         "text": "Optimization History Plot"
        },
        "width": 1000,
        "xaxis": {
         "title": {
          "text": "Trial"
         }
        },
        "yaxis": {
         "title": {
          "text": "Objective Value"
         }
        }
       }
      }
     },
     "metadata": {},
     "output_type": "display_data"
    },
    {
     "data": {
      "application/vnd.plotly.v1+json": {
       "config": {
        "plotlyServerURL": "https://plot.ly"
       },
       "data": [
        {
         "cliponaxis": false,
         "hovertemplate": [
          "lr (FloatDistribution): 0.02130618136104847<extra></extra>",
          "dropout_rate (FloatDistribution): 0.05541823310520183<extra></extra>",
          "window (IntDistribution): 0.06311510659195282<extra></extra>",
          "batch_size (CategoricalDistribution): 0.07450706581794606<extra></extra>",
          "stride (IntDistribution): 0.1579268866151255<extra></extra>",
          "hidden_sizes (CategoricalDistribution): 0.17828789245866486<extra></extra>",
          "epochs (IntDistribution): 0.20043710687857824<extra></extra>",
          "train_date_range (CategoricalDistribution): 0.2490015271714822<extra></extra>"
         ],
         "name": "Objective Value",
         "orientation": "h",
         "text": [
          "0.02",
          "0.06",
          "0.06",
          "0.07",
          "0.16",
          "0.18",
          "0.20",
          "0.25"
         ],
         "textposition": "outside",
         "type": "bar",
         "x": [
          0.02130618136104847,
          0.05541823310520183,
          0.06311510659195282,
          0.07450706581794606,
          0.1579268866151255,
          0.17828789245866486,
          0.20043710687857824,
          0.2490015271714822
         ],
         "y": [
          "lr",
          "dropout_rate",
          "window",
          "batch_size",
          "stride",
          "hidden_sizes",
          "epochs",
          "train_date_range"
         ]
        }
       ],
       "layout": {
        "height": 600,
        "template": {
         "data": {
          "bar": [
           {
            "error_x": {
             "color": "#2a3f5f"
            },
            "error_y": {
             "color": "#2a3f5f"
            },
            "marker": {
             "line": {
              "color": "#E5ECF6",
              "width": 0.5
             },
             "pattern": {
              "fillmode": "overlay",
              "size": 10,
              "solidity": 0.2
             }
            },
            "type": "bar"
           }
          ],
          "barpolar": [
           {
            "marker": {
             "line": {
              "color": "#E5ECF6",
              "width": 0.5
             },
             "pattern": {
              "fillmode": "overlay",
              "size": 10,
              "solidity": 0.2
             }
            },
            "type": "barpolar"
           }
          ],
          "carpet": [
           {
            "aaxis": {
             "endlinecolor": "#2a3f5f",
             "gridcolor": "white",
             "linecolor": "white",
             "minorgridcolor": "white",
             "startlinecolor": "#2a3f5f"
            },
            "baxis": {
             "endlinecolor": "#2a3f5f",
             "gridcolor": "white",
             "linecolor": "white",
             "minorgridcolor": "white",
             "startlinecolor": "#2a3f5f"
            },
            "type": "carpet"
           }
          ],
          "choropleth": [
           {
            "colorbar": {
             "outlinewidth": 0,
             "ticks": ""
            },
            "type": "choropleth"
           }
          ],
          "contour": [
           {
            "colorbar": {
             "outlinewidth": 0,
             "ticks": ""
            },
            "colorscale": [
             [
              0,
              "#0d0887"
             ],
             [
              0.1111111111111111,
              "#46039f"
             ],
             [
              0.2222222222222222,
              "#7201a8"
             ],
             [
              0.3333333333333333,
              "#9c179e"
             ],
             [
              0.4444444444444444,
              "#bd3786"
             ],
             [
              0.5555555555555556,
              "#d8576b"
             ],
             [
              0.6666666666666666,
              "#ed7953"
             ],
             [
              0.7777777777777778,
              "#fb9f3a"
             ],
             [
              0.8888888888888888,
              "#fdca26"
             ],
             [
              1,
              "#f0f921"
             ]
            ],
            "type": "contour"
           }
          ],
          "contourcarpet": [
           {
            "colorbar": {
             "outlinewidth": 0,
             "ticks": ""
            },
            "type": "contourcarpet"
           }
          ],
          "heatmap": [
           {
            "colorbar": {
             "outlinewidth": 0,
             "ticks": ""
            },
            "colorscale": [
             [
              0,
              "#0d0887"
             ],
             [
              0.1111111111111111,
              "#46039f"
             ],
             [
              0.2222222222222222,
              "#7201a8"
             ],
             [
              0.3333333333333333,
              "#9c179e"
             ],
             [
              0.4444444444444444,
              "#bd3786"
             ],
             [
              0.5555555555555556,
              "#d8576b"
             ],
             [
              0.6666666666666666,
              "#ed7953"
             ],
             [
              0.7777777777777778,
              "#fb9f3a"
             ],
             [
              0.8888888888888888,
              "#fdca26"
             ],
             [
              1,
              "#f0f921"
             ]
            ],
            "type": "heatmap"
           }
          ],
          "histogram": [
           {
            "marker": {
             "pattern": {
              "fillmode": "overlay",
              "size": 10,
              "solidity": 0.2
             }
            },
            "type": "histogram"
           }
          ],
          "histogram2d": [
           {
            "colorbar": {
             "outlinewidth": 0,
             "ticks": ""
            },
            "colorscale": [
             [
              0,
              "#0d0887"
             ],
             [
              0.1111111111111111,
              "#46039f"
             ],
             [
              0.2222222222222222,
              "#7201a8"
             ],
             [
              0.3333333333333333,
              "#9c179e"
             ],
             [
              0.4444444444444444,
              "#bd3786"
             ],
             [
              0.5555555555555556,
              "#d8576b"
             ],
             [
              0.6666666666666666,
              "#ed7953"
             ],
             [
              0.7777777777777778,
              "#fb9f3a"
             ],
             [
              0.8888888888888888,
              "#fdca26"
             ],
             [
              1,
              "#f0f921"
             ]
            ],
            "type": "histogram2d"
           }
          ],
          "histogram2dcontour": [
           {
            "colorbar": {
             "outlinewidth": 0,
             "ticks": ""
            },
            "colorscale": [
             [
              0,
              "#0d0887"
             ],
             [
              0.1111111111111111,
              "#46039f"
             ],
             [
              0.2222222222222222,
              "#7201a8"
             ],
             [
              0.3333333333333333,
              "#9c179e"
             ],
             [
              0.4444444444444444,
              "#bd3786"
             ],
             [
              0.5555555555555556,
              "#d8576b"
             ],
             [
              0.6666666666666666,
              "#ed7953"
             ],
             [
              0.7777777777777778,
              "#fb9f3a"
             ],
             [
              0.8888888888888888,
              "#fdca26"
             ],
             [
              1,
              "#f0f921"
             ]
            ],
            "type": "histogram2dcontour"
           }
          ],
          "mesh3d": [
           {
            "colorbar": {
             "outlinewidth": 0,
             "ticks": ""
            },
            "type": "mesh3d"
           }
          ],
          "parcoords": [
           {
            "line": {
             "colorbar": {
              "outlinewidth": 0,
              "ticks": ""
             }
            },
            "type": "parcoords"
           }
          ],
          "pie": [
           {
            "automargin": true,
            "type": "pie"
           }
          ],
          "scatter": [
           {
            "fillpattern": {
             "fillmode": "overlay",
             "size": 10,
             "solidity": 0.2
            },
            "type": "scatter"
           }
          ],
          "scatter3d": [
           {
            "line": {
             "colorbar": {
              "outlinewidth": 0,
              "ticks": ""
             }
            },
            "marker": {
             "colorbar": {
              "outlinewidth": 0,
              "ticks": ""
             }
            },
            "type": "scatter3d"
           }
          ],
          "scattercarpet": [
           {
            "marker": {
             "colorbar": {
              "outlinewidth": 0,
              "ticks": ""
             }
            },
            "type": "scattercarpet"
           }
          ],
          "scattergeo": [
           {
            "marker": {
             "colorbar": {
              "outlinewidth": 0,
              "ticks": ""
             }
            },
            "type": "scattergeo"
           }
          ],
          "scattergl": [
           {
            "marker": {
             "colorbar": {
              "outlinewidth": 0,
              "ticks": ""
             }
            },
            "type": "scattergl"
           }
          ],
          "scattermap": [
           {
            "marker": {
             "colorbar": {
              "outlinewidth": 0,
              "ticks": ""
             }
            },
            "type": "scattermap"
           }
          ],
          "scattermapbox": [
           {
            "marker": {
             "colorbar": {
              "outlinewidth": 0,
              "ticks": ""
             }
            },
            "type": "scattermapbox"
           }
          ],
          "scatterpolar": [
           {
            "marker": {
             "colorbar": {
              "outlinewidth": 0,
              "ticks": ""
             }
            },
            "type": "scatterpolar"
           }
          ],
          "scatterpolargl": [
           {
            "marker": {
             "colorbar": {
              "outlinewidth": 0,
              "ticks": ""
             }
            },
            "type": "scatterpolargl"
           }
          ],
          "scatterternary": [
           {
            "marker": {
             "colorbar": {
              "outlinewidth": 0,
              "ticks": ""
             }
            },
            "type": "scatterternary"
           }
          ],
          "surface": [
           {
            "colorbar": {
             "outlinewidth": 0,
             "ticks": ""
            },
            "colorscale": [
             [
              0,
              "#0d0887"
             ],
             [
              0.1111111111111111,
              "#46039f"
             ],
             [
              0.2222222222222222,
              "#7201a8"
             ],
             [
              0.3333333333333333,
              "#9c179e"
             ],
             [
              0.4444444444444444,
              "#bd3786"
             ],
             [
              0.5555555555555556,
              "#d8576b"
             ],
             [
              0.6666666666666666,
              "#ed7953"
             ],
             [
              0.7777777777777778,
              "#fb9f3a"
             ],
             [
              0.8888888888888888,
              "#fdca26"
             ],
             [
              1,
              "#f0f921"
             ]
            ],
            "type": "surface"
           }
          ],
          "table": [
           {
            "cells": {
             "fill": {
              "color": "#EBF0F8"
             },
             "line": {
              "color": "white"
             }
            },
            "header": {
             "fill": {
              "color": "#C8D4E3"
             },
             "line": {
              "color": "white"
             }
            },
            "type": "table"
           }
          ]
         },
         "layout": {
          "annotationdefaults": {
           "arrowcolor": "#2a3f5f",
           "arrowhead": 0,
           "arrowwidth": 1
          },
          "autotypenumbers": "strict",
          "coloraxis": {
           "colorbar": {
            "outlinewidth": 0,
            "ticks": ""
           }
          },
          "colorscale": {
           "diverging": [
            [
             0,
             "#8e0152"
            ],
            [
             0.1,
             "#c51b7d"
            ],
            [
             0.2,
             "#de77ae"
            ],
            [
             0.3,
             "#f1b6da"
            ],
            [
             0.4,
             "#fde0ef"
            ],
            [
             0.5,
             "#f7f7f7"
            ],
            [
             0.6,
             "#e6f5d0"
            ],
            [
             0.7,
             "#b8e186"
            ],
            [
             0.8,
             "#7fbc41"
            ],
            [
             0.9,
             "#4d9221"
            ],
            [
             1,
             "#276419"
            ]
           ],
           "sequential": [
            [
             0,
             "#0d0887"
            ],
            [
             0.1111111111111111,
             "#46039f"
            ],
            [
             0.2222222222222222,
             "#7201a8"
            ],
            [
             0.3333333333333333,
             "#9c179e"
            ],
            [
             0.4444444444444444,
             "#bd3786"
            ],
            [
             0.5555555555555556,
             "#d8576b"
            ],
            [
             0.6666666666666666,
             "#ed7953"
            ],
            [
             0.7777777777777778,
             "#fb9f3a"
            ],
            [
             0.8888888888888888,
             "#fdca26"
            ],
            [
             1,
             "#f0f921"
            ]
           ],
           "sequentialminus": [
            [
             0,
             "#0d0887"
            ],
            [
             0.1111111111111111,
             "#46039f"
            ],
            [
             0.2222222222222222,
             "#7201a8"
            ],
            [
             0.3333333333333333,
             "#9c179e"
            ],
            [
             0.4444444444444444,
             "#bd3786"
            ],
            [
             0.5555555555555556,
             "#d8576b"
            ],
            [
             0.6666666666666666,
             "#ed7953"
            ],
            [
             0.7777777777777778,
             "#fb9f3a"
            ],
            [
             0.8888888888888888,
             "#fdca26"
            ],
            [
             1,
             "#f0f921"
            ]
           ]
          },
          "colorway": [
           "#636efa",
           "#EF553B",
           "#00cc96",
           "#ab63fa",
           "#FFA15A",
           "#19d3f3",
           "#FF6692",
           "#B6E880",
           "#FF97FF",
           "#FECB52"
          ],
          "font": {
           "color": "#2a3f5f"
          },
          "geo": {
           "bgcolor": "white",
           "lakecolor": "white",
           "landcolor": "#E5ECF6",
           "showlakes": true,
           "showland": true,
           "subunitcolor": "white"
          },
          "hoverlabel": {
           "align": "left"
          },
          "hovermode": "closest",
          "mapbox": {
           "style": "light"
          },
          "paper_bgcolor": "white",
          "plot_bgcolor": "#E5ECF6",
          "polar": {
           "angularaxis": {
            "gridcolor": "white",
            "linecolor": "white",
            "ticks": ""
           },
           "bgcolor": "#E5ECF6",
           "radialaxis": {
            "gridcolor": "white",
            "linecolor": "white",
            "ticks": ""
           }
          },
          "scene": {
           "xaxis": {
            "backgroundcolor": "#E5ECF6",
            "gridcolor": "white",
            "gridwidth": 2,
            "linecolor": "white",
            "showbackground": true,
            "ticks": "",
            "zerolinecolor": "white"
           },
           "yaxis": {
            "backgroundcolor": "#E5ECF6",
            "gridcolor": "white",
            "gridwidth": 2,
            "linecolor": "white",
            "showbackground": true,
            "ticks": "",
            "zerolinecolor": "white"
           },
           "zaxis": {
            "backgroundcolor": "#E5ECF6",
            "gridcolor": "white",
            "gridwidth": 2,
            "linecolor": "white",
            "showbackground": true,
            "ticks": "",
            "zerolinecolor": "white"
           }
          },
          "shapedefaults": {
           "line": {
            "color": "#2a3f5f"
           }
          },
          "ternary": {
           "aaxis": {
            "gridcolor": "white",
            "linecolor": "white",
            "ticks": ""
           },
           "baxis": {
            "gridcolor": "white",
            "linecolor": "white",
            "ticks": ""
           },
           "bgcolor": "#E5ECF6",
           "caxis": {
            "gridcolor": "white",
            "linecolor": "white",
            "ticks": ""
           }
          },
          "title": {
           "x": 0.05
          },
          "xaxis": {
           "automargin": true,
           "gridcolor": "white",
           "linecolor": "white",
           "ticks": "",
           "title": {
            "standoff": 15
           },
           "zerolinecolor": "white",
           "zerolinewidth": 2
          },
          "yaxis": {
           "automargin": true,
           "gridcolor": "white",
           "linecolor": "white",
           "ticks": "",
           "title": {
            "standoff": 15
           },
           "zerolinecolor": "white",
           "zerolinewidth": 2
          }
         }
        },
        "title": {
         "text": "Hyperparameter Importances"
        },
        "width": 1000,
        "xaxis": {
         "title": {
          "text": "Hyperparameter Importance"
         }
        },
        "yaxis": {
         "title": {
          "text": "Hyperparameter"
         }
        }
       }
      }
     },
     "metadata": {},
     "output_type": "display_data"
    },
    {
     "data": {
      "application/vnd.plotly.v1+json": {
       "config": {
        "plotlyServerURL": "https://plot.ly"
       },
       "data": [
        {
         "marker": {
          "color": [
           0,
           1,
           2,
           3,
           4,
           5,
           6,
           7,
           8,
           9,
           10,
           11,
           12,
           13,
           14,
           15,
           16,
           17,
           18,
           19,
           20,
           21,
           22,
           23,
           24,
           25,
           26,
           27,
           28,
           29
          ],
          "colorbar": {
           "title": {
            "text": "Trial"
           },
           "x": 1,
           "xpad": 40
          },
          "colorscale": [
           [
            0,
            "rgb(247,251,255)"
           ],
           [
            0.125,
            "rgb(222,235,247)"
           ],
           [
            0.25,
            "rgb(198,219,239)"
           ],
           [
            0.375,
            "rgb(158,202,225)"
           ],
           [
            0.5,
            "rgb(107,174,214)"
           ],
           [
            0.625,
            "rgb(66,146,198)"
           ],
           [
            0.75,
            "rgb(33,113,181)"
           ],
           [
            0.875,
            "rgb(8,81,156)"
           ],
           [
            1,
            "rgb(8,48,107)"
           ]
          ],
          "line": {
           "color": "Grey",
           "width": 0.5
          },
          "showscale": true
         },
         "mode": "markers",
         "name": "Feasible Trial",
         "showlegend": false,
         "type": "scatter",
         "x": [
          16,
          16,
          64,
          64,
          64,
          64,
          16,
          64,
          32,
          32,
          128,
          64,
          64,
          128,
          128,
          128,
          128,
          128,
          32,
          128,
          64,
          64,
          64,
          64,
          64,
          128,
          16,
          32,
          64,
          16
         ],
         "xaxis": "x",
         "y": [
          -0.0573275201022625,
          -0.04266154021024704,
          -0.024667736142873764,
          -0.04189107567071915,
          -0.028500229120254517,
          -0.03363228961825371,
          -0.07873596996068954,
          -0.04526889696717262,
          -0.06251249462366104,
          -0.02967969700694084,
          -0.05848614126443863,
          -0.04238513484597206,
          -0.05290205404162407,
          -0.02664261683821678,
          -0.0389152429997921,
          -0.0615791380405426,
          -0.08515187352895737,
          -0.08455894887447357,
          -0.05477534979581833,
          -0.04730210453271866,
          -0.05171050503849983,
          -0.034502867609262466,
          -0.03636890649795532,
          -0.04188947007060051,
          -0.07667123526334763,
          -0.02984943427145481,
          -0.06512142717838287,
          -0.036353521049022675,
          -0.04246850684285164,
          -0.04273899272084236
         ],
         "yaxis": "y"
        },
        {
         "marker": {
          "color": [
           0,
           1,
           2,
           3,
           4,
           5,
           6,
           7,
           8,
           9,
           10,
           11,
           12,
           13,
           14,
           15,
           16,
           17,
           18,
           19,
           20,
           21,
           22,
           23,
           24,
           25,
           26,
           27,
           28,
           29
          ],
          "colorbar": {
           "title": {
            "text": "Trial"
           },
           "x": 1,
           "xpad": 40
          },
          "colorscale": [
           [
            0,
            "rgb(247,251,255)"
           ],
           [
            0.125,
            "rgb(222,235,247)"
           ],
           [
            0.25,
            "rgb(198,219,239)"
           ],
           [
            0.375,
            "rgb(158,202,225)"
           ],
           [
            0.5,
            "rgb(107,174,214)"
           ],
           [
            0.625,
            "rgb(66,146,198)"
           ],
           [
            0.75,
            "rgb(33,113,181)"
           ],
           [
            0.875,
            "rgb(8,81,156)"
           ],
           [
            1,
            "rgb(8,48,107)"
           ]
          ],
          "line": {
           "color": "Grey",
           "width": 0.5
          },
          "showscale": false
         },
         "mode": "markers",
         "name": "Feasible Trial",
         "showlegend": false,
         "type": "scatter",
         "x": [
          0.1,
          0.15000000000000002,
          0.2,
          0.2,
          0.05,
          0.55,
          0.55,
          0.25,
          0.45,
          0.25,
          0.4,
          0,
          0,
          0.1,
          0.35000000000000003,
          0.15000000000000002,
          0.30000000000000004,
          0.1,
          0.2,
          0.1,
          0.30000000000000004,
          0.05,
          0.05,
          0.15000000000000002,
          0.05,
          0.2,
          0,
          0.1,
          0.25,
          0.15000000000000002
         ],
         "xaxis": "x2",
         "y": [
          -0.0573275201022625,
          -0.04266154021024704,
          -0.024667736142873764,
          -0.04189107567071915,
          -0.028500229120254517,
          -0.03363228961825371,
          -0.07873596996068954,
          -0.04526889696717262,
          -0.06251249462366104,
          -0.02967969700694084,
          -0.05848614126443863,
          -0.04238513484597206,
          -0.05290205404162407,
          -0.02664261683821678,
          -0.0389152429997921,
          -0.0615791380405426,
          -0.08515187352895737,
          -0.08455894887447357,
          -0.05477534979581833,
          -0.04730210453271866,
          -0.05171050503849983,
          -0.034502867609262466,
          -0.03636890649795532,
          -0.04188947007060051,
          -0.07667123526334763,
          -0.02984943427145481,
          -0.06512142717838287,
          -0.036353521049022675,
          -0.04246850684285164,
          -0.04273899272084236
         ],
         "yaxis": "y2"
        },
        {
         "marker": {
          "color": [
           0,
           1,
           2,
           3,
           4,
           5,
           6,
           7,
           8,
           9,
           10,
           11,
           12,
           13,
           14,
           15,
           16,
           17,
           18,
           19,
           20,
           21,
           22,
           23,
           24,
           25,
           26,
           27,
           28,
           29
          ],
          "colorbar": {
           "title": {
            "text": "Trial"
           },
           "x": 1,
           "xpad": 40
          },
          "colorscale": [
           [
            0,
            "rgb(247,251,255)"
           ],
           [
            0.125,
            "rgb(222,235,247)"
           ],
           [
            0.25,
            "rgb(198,219,239)"
           ],
           [
            0.375,
            "rgb(158,202,225)"
           ],
           [
            0.5,
            "rgb(107,174,214)"
           ],
           [
            0.625,
            "rgb(66,146,198)"
           ],
           [
            0.75,
            "rgb(33,113,181)"
           ],
           [
            0.875,
            "rgb(8,81,156)"
           ],
           [
            1,
            "rgb(8,48,107)"
           ]
          ],
          "line": {
           "color": "Grey",
           "width": 0.5
          },
          "showscale": false
         },
         "mode": "markers",
         "name": "Feasible Trial",
         "showlegend": false,
         "type": "scatter",
         "x": [
          15,
          20,
          45,
          50,
          50,
          45,
          40,
          50,
          20,
          35,
          30,
          40,
          50,
          30,
          30,
          25,
          10,
          35,
          40,
          25,
          35,
          45,
          45,
          45,
          25,
          50,
          40,
          35,
          30,
          20
         ],
         "xaxis": "x3",
         "y": [
          -0.0573275201022625,
          -0.04266154021024704,
          -0.024667736142873764,
          -0.04189107567071915,
          -0.028500229120254517,
          -0.03363228961825371,
          -0.07873596996068954,
          -0.04526889696717262,
          -0.06251249462366104,
          -0.02967969700694084,
          -0.05848614126443863,
          -0.04238513484597206,
          -0.05290205404162407,
          -0.02664261683821678,
          -0.0389152429997921,
          -0.0615791380405426,
          -0.08515187352895737,
          -0.08455894887447357,
          -0.05477534979581833,
          -0.04730210453271866,
          -0.05171050503849983,
          -0.034502867609262466,
          -0.03636890649795532,
          -0.04188947007060051,
          -0.07667123526334763,
          -0.02984943427145481,
          -0.06512142717838287,
          -0.036353521049022675,
          -0.04246850684285164,
          -0.04273899272084236
         ],
         "yaxis": "y3"
        },
        {
         "marker": {
          "color": [
           0,
           1,
           2,
           3,
           4,
           5,
           6,
           7,
           8,
           9,
           10,
           11,
           12,
           13,
           14,
           15,
           16,
           17,
           18,
           19,
           20,
           21,
           22,
           23,
           24,
           25,
           26,
           27,
           28,
           29
          ],
          "colorbar": {
           "title": {
            "text": "Trial"
           },
           "x": 1,
           "xpad": 40
          },
          "colorscale": [
           [
            0,
            "rgb(247,251,255)"
           ],
           [
            0.125,
            "rgb(222,235,247)"
           ],
           [
            0.25,
            "rgb(198,219,239)"
           ],
           [
            0.375,
            "rgb(158,202,225)"
           ],
           [
            0.5,
            "rgb(107,174,214)"
           ],
           [
            0.625,
            "rgb(66,146,198)"
           ],
           [
            0.75,
            "rgb(33,113,181)"
           ],
           [
            0.875,
            "rgb(8,81,156)"
           ],
           [
            1,
            "rgb(8,48,107)"
           ]
          ],
          "line": {
           "color": "Grey",
           "width": 0.5
          },
          "showscale": false
         },
         "mode": "markers",
         "name": "Feasible Trial",
         "showlegend": false,
         "type": "scatter",
         "x": [
          [
           64
          ],
          [
           128,
           64
          ],
          [
           512,
           256,
           128
          ],
          [
           512,
           256,
           128
          ],
          [
           256,
           128
          ],
          [
           256,
           128,
           64
          ],
          [
           512,
           256,
           128
          ],
          [
           512,
           256,
           128
          ],
          [
           256,
           128,
           64
          ],
          [
           256,
           128
          ],
          [
           512,
           256,
           128,
           64
          ],
          [
           256,
           128
          ],
          [
           256,
           128
          ],
          [
           512,
           256,
           128,
           64
          ],
          [
           512,
           256,
           128,
           64
          ],
          [
           512,
           256,
           128,
           64
          ],
          [
           128,
           64
          ],
          [
           64
          ],
          [
           512,
           256,
           128,
           64
          ],
          [
           512,
           256,
           128
          ],
          [
           512,
           256,
           128,
           64
          ],
          [
           256,
           128
          ],
          [
           512,
           256,
           128
          ],
          [
           256,
           128
          ],
          [
           64
          ],
          [
           128,
           64
          ],
          [
           256,
           128,
           64
          ],
          [
           512,
           256,
           128
          ],
          [
           256,
           128
          ],
          [
           64
          ]
         ],
         "xaxis": "x4",
         "y": [
          -0.0573275201022625,
          -0.04266154021024704,
          -0.024667736142873764,
          -0.04189107567071915,
          -0.028500229120254517,
          -0.03363228961825371,
          -0.07873596996068954,
          -0.04526889696717262,
          -0.06251249462366104,
          -0.02967969700694084,
          -0.05848614126443863,
          -0.04238513484597206,
          -0.05290205404162407,
          -0.02664261683821678,
          -0.0389152429997921,
          -0.0615791380405426,
          -0.08515187352895737,
          -0.08455894887447357,
          -0.05477534979581833,
          -0.04730210453271866,
          -0.05171050503849983,
          -0.034502867609262466,
          -0.03636890649795532,
          -0.04188947007060051,
          -0.07667123526334763,
          -0.02984943427145481,
          -0.06512142717838287,
          -0.036353521049022675,
          -0.04246850684285164,
          -0.04273899272084236
         ],
         "yaxis": "y4"
        },
        {
         "marker": {
          "color": [
           0,
           1,
           2,
           3,
           4,
           5,
           6,
           7,
           8,
           9,
           10,
           11,
           12,
           13,
           14,
           15,
           16,
           17,
           18,
           19,
           20,
           21,
           22,
           23,
           24,
           25,
           26,
           27,
           28,
           29
          ],
          "colorbar": {
           "title": {
            "text": "Trial"
           },
           "x": 1,
           "xpad": 40
          },
          "colorscale": [
           [
            0,
            "rgb(247,251,255)"
           ],
           [
            0.125,
            "rgb(222,235,247)"
           ],
           [
            0.25,
            "rgb(198,219,239)"
           ],
           [
            0.375,
            "rgb(158,202,225)"
           ],
           [
            0.5,
            "rgb(107,174,214)"
           ],
           [
            0.625,
            "rgb(66,146,198)"
           ],
           [
            0.75,
            "rgb(33,113,181)"
           ],
           [
            0.875,
            "rgb(8,81,156)"
           ],
           [
            1,
            "rgb(8,48,107)"
           ]
          ],
          "line": {
           "color": "Grey",
           "width": 0.5
          },
          "showscale": false
         },
         "mode": "markers",
         "name": "Feasible Trial",
         "showlegend": false,
         "type": "scatter",
         "x": [
          0.007934665820650784,
          0.0003984885823732006,
          0.00012529423813260806,
          0.004998651660820274,
          0.0019568610809569498,
          0.0002695973670615611,
          0.004316608150135173,
          0.0001296919081731308,
          0.00006642304427251069,
          0.00011281915932638805,
          0.000013185905186874883,
          0.0012368839727018906,
          0.0012424260143687666,
          0.000026118442293982028,
          0.000020241322602292686,
          0.00003590379898004342,
          0.00003724238173956125,
          0.0003672480764188798,
          0.00015849851389450242,
          0.000011761401420007657,
          0.00005800261095055858,
          0.0009518437431526103,
          0.0006382813837639467,
          0.0026014202379643064,
          0.0024565074710184553,
          0.00020202133693525732,
          0.0000739891786687268,
          0.000026215725876682636,
          0.0004910421942138634,
          0.007662313052305139
         ],
         "xaxis": "x5",
         "y": [
          -0.0573275201022625,
          -0.04266154021024704,
          -0.024667736142873764,
          -0.04189107567071915,
          -0.028500229120254517,
          -0.03363228961825371,
          -0.07873596996068954,
          -0.04526889696717262,
          -0.06251249462366104,
          -0.02967969700694084,
          -0.05848614126443863,
          -0.04238513484597206,
          -0.05290205404162407,
          -0.02664261683821678,
          -0.0389152429997921,
          -0.0615791380405426,
          -0.08515187352895737,
          -0.08455894887447357,
          -0.05477534979581833,
          -0.04730210453271866,
          -0.05171050503849983,
          -0.034502867609262466,
          -0.03636890649795532,
          -0.04188947007060051,
          -0.07667123526334763,
          -0.02984943427145481,
          -0.06512142717838287,
          -0.036353521049022675,
          -0.04246850684285164,
          -0.04273899272084236
         ],
         "yaxis": "y5"
        },
        {
         "marker": {
          "color": [
           0,
           1,
           2,
           3,
           4,
           5,
           6,
           7,
           8,
           9,
           10,
           11,
           12,
           13,
           14,
           15,
           16,
           17,
           18,
           19,
           20,
           21,
           22,
           23,
           24,
           25,
           26,
           27,
           28,
           29
          ],
          "colorbar": {
           "title": {
            "text": "Trial"
           },
           "x": 1,
           "xpad": 40
          },
          "colorscale": [
           [
            0,
            "rgb(247,251,255)"
           ],
           [
            0.125,
            "rgb(222,235,247)"
           ],
           [
            0.25,
            "rgb(198,219,239)"
           ],
           [
            0.375,
            "rgb(158,202,225)"
           ],
           [
            0.5,
            "rgb(107,174,214)"
           ],
           [
            0.625,
            "rgb(66,146,198)"
           ],
           [
            0.75,
            "rgb(33,113,181)"
           ],
           [
            0.875,
            "rgb(8,81,156)"
           ],
           [
            1,
            "rgb(8,48,107)"
           ]
          ],
          "line": {
           "color": "Grey",
           "width": 0.5
          },
          "showscale": false
         },
         "mode": "markers",
         "name": "Feasible Trial",
         "showlegend": false,
         "type": "scatter",
         "x": [
          65,
          55,
          80,
          10,
          30,
          65,
          100,
          25,
          80,
          35,
          100,
          30,
          80,
          5,
          5,
          45,
          80,
          15,
          90,
          50,
          65,
          15,
          25,
          40,
          20,
          5,
          45,
          60,
          35,
          75
         ],
         "xaxis": "x6",
         "y": [
          -0.0573275201022625,
          -0.04266154021024704,
          -0.024667736142873764,
          -0.04189107567071915,
          -0.028500229120254517,
          -0.03363228961825371,
          -0.07873596996068954,
          -0.04526889696717262,
          -0.06251249462366104,
          -0.02967969700694084,
          -0.05848614126443863,
          -0.04238513484597206,
          -0.05290205404162407,
          -0.02664261683821678,
          -0.0389152429997921,
          -0.0615791380405426,
          -0.08515187352895737,
          -0.08455894887447357,
          -0.05477534979581833,
          -0.04730210453271866,
          -0.05171050503849983,
          -0.034502867609262466,
          -0.03636890649795532,
          -0.04188947007060051,
          -0.07667123526334763,
          -0.02984943427145481,
          -0.06512142717838287,
          -0.036353521049022675,
          -0.04246850684285164,
          -0.04273899272084236
         ],
         "yaxis": "y6"
        },
        {
         "marker": {
          "color": [
           0,
           1,
           2,
           3,
           4,
           5,
           6,
           7,
           8,
           9,
           10,
           11,
           12,
           13,
           14,
           15,
           16,
           17,
           18,
           19,
           20,
           21,
           22,
           23,
           24,
           25,
           26,
           27,
           28,
           29
          ],
          "colorbar": {
           "title": {
            "text": "Trial"
           },
           "x": 1,
           "xpad": 40
          },
          "colorscale": [
           [
            0,
            "rgb(247,251,255)"
           ],
           [
            0.125,
            "rgb(222,235,247)"
           ],
           [
            0.25,
            "rgb(198,219,239)"
           ],
           [
            0.375,
            "rgb(158,202,225)"
           ],
           [
            0.5,
            "rgb(107,174,214)"
           ],
           [
            0.625,
            "rgb(66,146,198)"
           ],
           [
            0.75,
            "rgb(33,113,181)"
           ],
           [
            0.875,
            "rgb(8,81,156)"
           ],
           [
            1,
            "rgb(8,48,107)"
           ]
          ],
          "line": {
           "color": "Grey",
           "width": 0.5
          },
          "showscale": false
         },
         "mode": "markers",
         "name": "Feasible Trial",
         "showlegend": false,
         "type": "scatter",
         "x": [
          [
           "1994-01-01",
           "2004-01-01"
          ],
          [
           "2000-01-01",
           "2010-01-01"
          ],
          [
           "2006-01-01",
           "2016-01-01"
          ],
          [
           "1998-01-01",
           "2008-01-01"
          ],
          [
           "2006-01-01",
           "2016-01-01"
          ],
          [
           "2012-01-01",
           "2022-01-01"
          ],
          [
           "2014-01-01",
           "2024-01-01"
          ],
          [
           "1994-01-01",
           "2004-01-01"
          ],
          [
           "2004-01-01",
           "2014-01-01"
          ],
          [
           "2004-01-01",
           "2014-01-01"
          ],
          [
           "2006-01-01",
           "2016-01-01"
          ],
          [
           "2006-01-01",
           "2016-01-01"
          ],
          [
           "2006-01-01",
           "2016-01-01"
          ],
          [
           "2002-01-01",
           "2012-01-01"
          ],
          [
           "2002-01-01",
           "2012-01-01"
          ],
          [
           "1996-01-01",
           "2006-01-01"
          ],
          [
           "1992-01-01",
           "2002-01-01"
          ],
          [
           "2002-01-01",
           "2012-01-01"
          ],
          [
           "2010-01-01",
           "2020-01-01"
          ],
          [
           "1990-01-01",
           "2000-01-01"
          ],
          [
           "2008-01-01",
           "2018-01-01"
          ],
          [
           "2006-01-01",
           "2016-01-01"
          ],
          [
           "2002-01-01",
           "2012-01-01"
          ],
          [
           "2006-01-01",
           "2016-01-01"
          ],
          [
           "2010-01-01",
           "2020-01-01"
          ],
          [
           "2000-01-01",
           "2010-01-01"
          ],
          [
           "2008-01-01",
           "2018-01-01"
          ],
          [
           "1990-01-01",
           "2000-01-01"
          ],
          [
           "2012-01-01",
           "2022-01-01"
          ],
          [
           "2014-01-01",
           "2024-01-01"
          ]
         ],
         "xaxis": "x7",
         "y": [
          -0.0573275201022625,
          -0.04266154021024704,
          -0.024667736142873764,
          -0.04189107567071915,
          -0.028500229120254517,
          -0.03363228961825371,
          -0.07873596996068954,
          -0.04526889696717262,
          -0.06251249462366104,
          -0.02967969700694084,
          -0.05848614126443863,
          -0.04238513484597206,
          -0.05290205404162407,
          -0.02664261683821678,
          -0.0389152429997921,
          -0.0615791380405426,
          -0.08515187352895737,
          -0.08455894887447357,
          -0.05477534979581833,
          -0.04730210453271866,
          -0.05171050503849983,
          -0.034502867609262466,
          -0.03636890649795532,
          -0.04188947007060051,
          -0.07667123526334763,
          -0.02984943427145481,
          -0.06512142717838287,
          -0.036353521049022675,
          -0.04246850684285164,
          -0.04273899272084236
         ],
         "yaxis": "y7"
        },
        {
         "marker": {
          "color": [
           0,
           1,
           2,
           3,
           4,
           5,
           6,
           7,
           8,
           9,
           10,
           11,
           12,
           13,
           14,
           15,
           16,
           17,
           18,
           19,
           20,
           21,
           22,
           23,
           24,
           25,
           26,
           27,
           28,
           29
          ],
          "colorbar": {
           "title": {
            "text": "Trial"
           },
           "x": 1,
           "xpad": 40
          },
          "colorscale": [
           [
            0,
            "rgb(247,251,255)"
           ],
           [
            0.125,
            "rgb(222,235,247)"
           ],
           [
            0.25,
            "rgb(198,219,239)"
           ],
           [
            0.375,
            "rgb(158,202,225)"
           ],
           [
            0.5,
            "rgb(107,174,214)"
           ],
           [
            0.625,
            "rgb(66,146,198)"
           ],
           [
            0.75,
            "rgb(33,113,181)"
           ],
           [
            0.875,
            "rgb(8,81,156)"
           ],
           [
            1,
            "rgb(8,48,107)"
           ]
          ],
          "line": {
           "color": "Grey",
           "width": 0.5
          },
          "showscale": false
         },
         "mode": "markers",
         "name": "Feasible Trial",
         "showlegend": false,
         "type": "scatter",
         "x": [
          40,
          30,
          20,
          50,
          60,
          50,
          30,
          110,
          60,
          60,
          90,
          10,
          80,
          10,
          10,
          20,
          10,
          30,
          120,
          80,
          20,
          40,
          100,
          70,
          40,
          20,
          50,
          20,
          70,
          30
         ],
         "xaxis": "x8",
         "y": [
          -0.0573275201022625,
          -0.04266154021024704,
          -0.024667736142873764,
          -0.04189107567071915,
          -0.028500229120254517,
          -0.03363228961825371,
          -0.07873596996068954,
          -0.04526889696717262,
          -0.06251249462366104,
          -0.02967969700694084,
          -0.05848614126443863,
          -0.04238513484597206,
          -0.05290205404162407,
          -0.02664261683821678,
          -0.0389152429997921,
          -0.0615791380405426,
          -0.08515187352895737,
          -0.08455894887447357,
          -0.05477534979581833,
          -0.04730210453271866,
          -0.05171050503849983,
          -0.034502867609262466,
          -0.03636890649795532,
          -0.04188947007060051,
          -0.07667123526334763,
          -0.02984943427145481,
          -0.06512142717838287,
          -0.036353521049022675,
          -0.04246850684285164,
          -0.04273899272084236
         ],
         "yaxis": "y8"
        }
       ],
       "layout": {
        "height": 600,
        "template": {
         "data": {
          "bar": [
           {
            "error_x": {
             "color": "#2a3f5f"
            },
            "error_y": {
             "color": "#2a3f5f"
            },
            "marker": {
             "line": {
              "color": "#E5ECF6",
              "width": 0.5
             },
             "pattern": {
              "fillmode": "overlay",
              "size": 10,
              "solidity": 0.2
             }
            },
            "type": "bar"
           }
          ],
          "barpolar": [
           {
            "marker": {
             "line": {
              "color": "#E5ECF6",
              "width": 0.5
             },
             "pattern": {
              "fillmode": "overlay",
              "size": 10,
              "solidity": 0.2
             }
            },
            "type": "barpolar"
           }
          ],
          "carpet": [
           {
            "aaxis": {
             "endlinecolor": "#2a3f5f",
             "gridcolor": "white",
             "linecolor": "white",
             "minorgridcolor": "white",
             "startlinecolor": "#2a3f5f"
            },
            "baxis": {
             "endlinecolor": "#2a3f5f",
             "gridcolor": "white",
             "linecolor": "white",
             "minorgridcolor": "white",
             "startlinecolor": "#2a3f5f"
            },
            "type": "carpet"
           }
          ],
          "choropleth": [
           {
            "colorbar": {
             "outlinewidth": 0,
             "ticks": ""
            },
            "type": "choropleth"
           }
          ],
          "contour": [
           {
            "colorbar": {
             "outlinewidth": 0,
             "ticks": ""
            },
            "colorscale": [
             [
              0,
              "#0d0887"
             ],
             [
              0.1111111111111111,
              "#46039f"
             ],
             [
              0.2222222222222222,
              "#7201a8"
             ],
             [
              0.3333333333333333,
              "#9c179e"
             ],
             [
              0.4444444444444444,
              "#bd3786"
             ],
             [
              0.5555555555555556,
              "#d8576b"
             ],
             [
              0.6666666666666666,
              "#ed7953"
             ],
             [
              0.7777777777777778,
              "#fb9f3a"
             ],
             [
              0.8888888888888888,
              "#fdca26"
             ],
             [
              1,
              "#f0f921"
             ]
            ],
            "type": "contour"
           }
          ],
          "contourcarpet": [
           {
            "colorbar": {
             "outlinewidth": 0,
             "ticks": ""
            },
            "type": "contourcarpet"
           }
          ],
          "heatmap": [
           {
            "colorbar": {
             "outlinewidth": 0,
             "ticks": ""
            },
            "colorscale": [
             [
              0,
              "#0d0887"
             ],
             [
              0.1111111111111111,
              "#46039f"
             ],
             [
              0.2222222222222222,
              "#7201a8"
             ],
             [
              0.3333333333333333,
              "#9c179e"
             ],
             [
              0.4444444444444444,
              "#bd3786"
             ],
             [
              0.5555555555555556,
              "#d8576b"
             ],
             [
              0.6666666666666666,
              "#ed7953"
             ],
             [
              0.7777777777777778,
              "#fb9f3a"
             ],
             [
              0.8888888888888888,
              "#fdca26"
             ],
             [
              1,
              "#f0f921"
             ]
            ],
            "type": "heatmap"
           }
          ],
          "histogram": [
           {
            "marker": {
             "pattern": {
              "fillmode": "overlay",
              "size": 10,
              "solidity": 0.2
             }
            },
            "type": "histogram"
           }
          ],
          "histogram2d": [
           {
            "colorbar": {
             "outlinewidth": 0,
             "ticks": ""
            },
            "colorscale": [
             [
              0,
              "#0d0887"
             ],
             [
              0.1111111111111111,
              "#46039f"
             ],
             [
              0.2222222222222222,
              "#7201a8"
             ],
             [
              0.3333333333333333,
              "#9c179e"
             ],
             [
              0.4444444444444444,
              "#bd3786"
             ],
             [
              0.5555555555555556,
              "#d8576b"
             ],
             [
              0.6666666666666666,
              "#ed7953"
             ],
             [
              0.7777777777777778,
              "#fb9f3a"
             ],
             [
              0.8888888888888888,
              "#fdca26"
             ],
             [
              1,
              "#f0f921"
             ]
            ],
            "type": "histogram2d"
           }
          ],
          "histogram2dcontour": [
           {
            "colorbar": {
             "outlinewidth": 0,
             "ticks": ""
            },
            "colorscale": [
             [
              0,
              "#0d0887"
             ],
             [
              0.1111111111111111,
              "#46039f"
             ],
             [
              0.2222222222222222,
              "#7201a8"
             ],
             [
              0.3333333333333333,
              "#9c179e"
             ],
             [
              0.4444444444444444,
              "#bd3786"
             ],
             [
              0.5555555555555556,
              "#d8576b"
             ],
             [
              0.6666666666666666,
              "#ed7953"
             ],
             [
              0.7777777777777778,
              "#fb9f3a"
             ],
             [
              0.8888888888888888,
              "#fdca26"
             ],
             [
              1,
              "#f0f921"
             ]
            ],
            "type": "histogram2dcontour"
           }
          ],
          "mesh3d": [
           {
            "colorbar": {
             "outlinewidth": 0,
             "ticks": ""
            },
            "type": "mesh3d"
           }
          ],
          "parcoords": [
           {
            "line": {
             "colorbar": {
              "outlinewidth": 0,
              "ticks": ""
             }
            },
            "type": "parcoords"
           }
          ],
          "pie": [
           {
            "automargin": true,
            "type": "pie"
           }
          ],
          "scatter": [
           {
            "fillpattern": {
             "fillmode": "overlay",
             "size": 10,
             "solidity": 0.2
            },
            "type": "scatter"
           }
          ],
          "scatter3d": [
           {
            "line": {
             "colorbar": {
              "outlinewidth": 0,
              "ticks": ""
             }
            },
            "marker": {
             "colorbar": {
              "outlinewidth": 0,
              "ticks": ""
             }
            },
            "type": "scatter3d"
           }
          ],
          "scattercarpet": [
           {
            "marker": {
             "colorbar": {
              "outlinewidth": 0,
              "ticks": ""
             }
            },
            "type": "scattercarpet"
           }
          ],
          "scattergeo": [
           {
            "marker": {
             "colorbar": {
              "outlinewidth": 0,
              "ticks": ""
             }
            },
            "type": "scattergeo"
           }
          ],
          "scattergl": [
           {
            "marker": {
             "colorbar": {
              "outlinewidth": 0,
              "ticks": ""
             }
            },
            "type": "scattergl"
           }
          ],
          "scattermap": [
           {
            "marker": {
             "colorbar": {
              "outlinewidth": 0,
              "ticks": ""
             }
            },
            "type": "scattermap"
           }
          ],
          "scattermapbox": [
           {
            "marker": {
             "colorbar": {
              "outlinewidth": 0,
              "ticks": ""
             }
            },
            "type": "scattermapbox"
           }
          ],
          "scatterpolar": [
           {
            "marker": {
             "colorbar": {
              "outlinewidth": 0,
              "ticks": ""
             }
            },
            "type": "scatterpolar"
           }
          ],
          "scatterpolargl": [
           {
            "marker": {
             "colorbar": {
              "outlinewidth": 0,
              "ticks": ""
             }
            },
            "type": "scatterpolargl"
           }
          ],
          "scatterternary": [
           {
            "marker": {
             "colorbar": {
              "outlinewidth": 0,
              "ticks": ""
             }
            },
            "type": "scatterternary"
           }
          ],
          "surface": [
           {
            "colorbar": {
             "outlinewidth": 0,
             "ticks": ""
            },
            "colorscale": [
             [
              0,
              "#0d0887"
             ],
             [
              0.1111111111111111,
              "#46039f"
             ],
             [
              0.2222222222222222,
              "#7201a8"
             ],
             [
              0.3333333333333333,
              "#9c179e"
             ],
             [
              0.4444444444444444,
              "#bd3786"
             ],
             [
              0.5555555555555556,
              "#d8576b"
             ],
             [
              0.6666666666666666,
              "#ed7953"
             ],
             [
              0.7777777777777778,
              "#fb9f3a"
             ],
             [
              0.8888888888888888,
              "#fdca26"
             ],
             [
              1,
              "#f0f921"
             ]
            ],
            "type": "surface"
           }
          ],
          "table": [
           {
            "cells": {
             "fill": {
              "color": "#EBF0F8"
             },
             "line": {
              "color": "white"
             }
            },
            "header": {
             "fill": {
              "color": "#C8D4E3"
             },
             "line": {
              "color": "white"
             }
            },
            "type": "table"
           }
          ]
         },
         "layout": {
          "annotationdefaults": {
           "arrowcolor": "#2a3f5f",
           "arrowhead": 0,
           "arrowwidth": 1
          },
          "autotypenumbers": "strict",
          "coloraxis": {
           "colorbar": {
            "outlinewidth": 0,
            "ticks": ""
           }
          },
          "colorscale": {
           "diverging": [
            [
             0,
             "#8e0152"
            ],
            [
             0.1,
             "#c51b7d"
            ],
            [
             0.2,
             "#de77ae"
            ],
            [
             0.3,
             "#f1b6da"
            ],
            [
             0.4,
             "#fde0ef"
            ],
            [
             0.5,
             "#f7f7f7"
            ],
            [
             0.6,
             "#e6f5d0"
            ],
            [
             0.7,
             "#b8e186"
            ],
            [
             0.8,
             "#7fbc41"
            ],
            [
             0.9,
             "#4d9221"
            ],
            [
             1,
             "#276419"
            ]
           ],
           "sequential": [
            [
             0,
             "#0d0887"
            ],
            [
             0.1111111111111111,
             "#46039f"
            ],
            [
             0.2222222222222222,
             "#7201a8"
            ],
            [
             0.3333333333333333,
             "#9c179e"
            ],
            [
             0.4444444444444444,
             "#bd3786"
            ],
            [
             0.5555555555555556,
             "#d8576b"
            ],
            [
             0.6666666666666666,
             "#ed7953"
            ],
            [
             0.7777777777777778,
             "#fb9f3a"
            ],
            [
             0.8888888888888888,
             "#fdca26"
            ],
            [
             1,
             "#f0f921"
            ]
           ],
           "sequentialminus": [
            [
             0,
             "#0d0887"
            ],
            [
             0.1111111111111111,
             "#46039f"
            ],
            [
             0.2222222222222222,
             "#7201a8"
            ],
            [
             0.3333333333333333,
             "#9c179e"
            ],
            [
             0.4444444444444444,
             "#bd3786"
            ],
            [
             0.5555555555555556,
             "#d8576b"
            ],
            [
             0.6666666666666666,
             "#ed7953"
            ],
            [
             0.7777777777777778,
             "#fb9f3a"
            ],
            [
             0.8888888888888888,
             "#fdca26"
            ],
            [
             1,
             "#f0f921"
            ]
           ]
          },
          "colorway": [
           "#636efa",
           "#EF553B",
           "#00cc96",
           "#ab63fa",
           "#FFA15A",
           "#19d3f3",
           "#FF6692",
           "#B6E880",
           "#FF97FF",
           "#FECB52"
          ],
          "font": {
           "color": "#2a3f5f"
          },
          "geo": {
           "bgcolor": "white",
           "lakecolor": "white",
           "landcolor": "#E5ECF6",
           "showlakes": true,
           "showland": true,
           "subunitcolor": "white"
          },
          "hoverlabel": {
           "align": "left"
          },
          "hovermode": "closest",
          "mapbox": {
           "style": "light"
          },
          "paper_bgcolor": "white",
          "plot_bgcolor": "#E5ECF6",
          "polar": {
           "angularaxis": {
            "gridcolor": "white",
            "linecolor": "white",
            "ticks": ""
           },
           "bgcolor": "#E5ECF6",
           "radialaxis": {
            "gridcolor": "white",
            "linecolor": "white",
            "ticks": ""
           }
          },
          "scene": {
           "xaxis": {
            "backgroundcolor": "#E5ECF6",
            "gridcolor": "white",
            "gridwidth": 2,
            "linecolor": "white",
            "showbackground": true,
            "ticks": "",
            "zerolinecolor": "white"
           },
           "yaxis": {
            "backgroundcolor": "#E5ECF6",
            "gridcolor": "white",
            "gridwidth": 2,
            "linecolor": "white",
            "showbackground": true,
            "ticks": "",
            "zerolinecolor": "white"
           },
           "zaxis": {
            "backgroundcolor": "#E5ECF6",
            "gridcolor": "white",
            "gridwidth": 2,
            "linecolor": "white",
            "showbackground": true,
            "ticks": "",
            "zerolinecolor": "white"
           }
          },
          "shapedefaults": {
           "line": {
            "color": "#2a3f5f"
           }
          },
          "ternary": {
           "aaxis": {
            "gridcolor": "white",
            "linecolor": "white",
            "ticks": ""
           },
           "baxis": {
            "gridcolor": "white",
            "linecolor": "white",
            "ticks": ""
           },
           "bgcolor": "#E5ECF6",
           "caxis": {
            "gridcolor": "white",
            "linecolor": "white",
            "ticks": ""
           }
          },
          "title": {
           "x": 0.05
          },
          "xaxis": {
           "automargin": true,
           "gridcolor": "white",
           "linecolor": "white",
           "ticks": "",
           "title": {
            "standoff": 15
           },
           "zerolinecolor": "white",
           "zerolinewidth": 2
          },
          "yaxis": {
           "automargin": true,
           "gridcolor": "white",
           "linecolor": "white",
           "ticks": "",
           "title": {
            "standoff": 15
           },
           "zerolinecolor": "white",
           "zerolinewidth": 2
          }
         }
        },
        "title": {
         "text": "Slice Plot"
        },
        "width": 1000,
        "xaxis": {
         "anchor": "y",
         "categoryarray": [
          16,
          32,
          64,
          128
         ],
         "categoryorder": "array",
         "domain": [
          0,
          0.103125
         ],
         "title": {
          "text": "batch_size"
         },
         "type": "category"
        },
        "xaxis2": {
         "anchor": "y2",
         "domain": [
          0.128125,
          0.23124999999999998
         ],
         "title": {
          "text": "dropout_rate"
         }
        },
        "xaxis3": {
         "anchor": "y3",
         "domain": [
          0.25625,
          0.359375
         ],
         "title": {
          "text": "epochs"
         }
        },
        "xaxis4": {
         "anchor": "y4",
         "categoryarray": [
          [
           64
          ],
          [
           128,
           64
          ],
          [
           256,
           128
          ],
          [
           256,
           128,
           64
          ],
          [
           512,
           256,
           128
          ],
          [
           512,
           256,
           128,
           64
          ]
         ],
         "categoryorder": "array",
         "domain": [
          0.38437499999999997,
          0.48749999999999993
         ],
         "title": {
          "text": "hidden_sizes"
         },
         "type": "category"
        },
        "xaxis5": {
         "anchor": "y5",
         "domain": [
          0.5125,
          0.615625
         ],
         "title": {
          "text": "lr"
         },
         "type": "log"
        },
        "xaxis6": {
         "anchor": "y6",
         "domain": [
          0.640625,
          0.74375
         ],
         "title": {
          "text": "stride"
         }
        },
        "xaxis7": {
         "anchor": "y7",
         "categoryarray": [
          [
           "1990-01-01",
           "2000-01-01"
          ],
          [
           "1992-01-01",
           "2002-01-01"
          ],
          [
           "1994-01-01",
           "2004-01-01"
          ],
          [
           "1996-01-01",
           "2006-01-01"
          ],
          [
           "1998-01-01",
           "2008-01-01"
          ],
          [
           "2000-01-01",
           "2010-01-01"
          ],
          [
           "2002-01-01",
           "2012-01-01"
          ],
          [
           "2004-01-01",
           "2014-01-01"
          ],
          [
           "2006-01-01",
           "2016-01-01"
          ],
          [
           "2008-01-01",
           "2018-01-01"
          ],
          [
           "2010-01-01",
           "2020-01-01"
          ],
          [
           "2012-01-01",
           "2022-01-01"
          ],
          [
           "2014-01-01",
           "2024-01-01"
          ]
         ],
         "categoryorder": "array",
         "domain": [
          0.76875,
          0.8718750000000001
         ],
         "title": {
          "text": "train_date_range"
         },
         "type": "category"
        },
        "xaxis8": {
         "anchor": "y8",
         "domain": [
          0.8968750000000001,
          1
         ],
         "title": {
          "text": "window"
         }
        },
        "yaxis": {
         "anchor": "x",
         "domain": [
          0,
          1
         ],
         "title": {
          "text": "Objective Value"
         }
        },
        "yaxis2": {
         "anchor": "x2",
         "domain": [
          0,
          1
         ],
         "matches": "y",
         "showticklabels": false
        },
        "yaxis3": {
         "anchor": "x3",
         "domain": [
          0,
          1
         ],
         "matches": "y",
         "showticklabels": false
        },
        "yaxis4": {
         "anchor": "x4",
         "domain": [
          0,
          1
         ],
         "matches": "y",
         "showticklabels": false
        },
        "yaxis5": {
         "anchor": "x5",
         "domain": [
          0,
          1
         ],
         "matches": "y",
         "showticklabels": false
        },
        "yaxis6": {
         "anchor": "x6",
         "domain": [
          0,
          1
         ],
         "matches": "y",
         "showticklabels": false
        },
        "yaxis7": {
         "anchor": "x7",
         "domain": [
          0,
          1
         ],
         "matches": "y",
         "showticklabels": false
        },
        "yaxis8": {
         "anchor": "x8",
         "domain": [
          0,
          1
         ],
         "matches": "y",
         "showticklabels": false
        }
       }
      }
     },
     "metadata": {},
     "output_type": "display_data"
    },
    {
     "data": {
      "application/vnd.plotly.v1+json": {
       "config": {
        "plotlyServerURL": "https://plot.ly"
       },
       "data": [
        {
         "type": "scatter",
         "xaxis": "x",
         "yaxis": "y"
        },
        {
         "colorbar": {
          "title": {
           "text": "Objective Value"
          }
         },
         "colorscale": [
          [
           0,
           "rgb(247,251,255)"
          ],
          [
           0.125,
           "rgb(222,235,247)"
          ],
          [
           0.25,
           "rgb(198,219,239)"
          ],
          [
           0.375,
           "rgb(158,202,225)"
          ],
          [
           0.5,
           "rgb(107,174,214)"
          ],
          [
           0.625,
           "rgb(66,146,198)"
          ],
          [
           0.75,
           "rgb(33,113,181)"
          ],
          [
           0.875,
           "rgb(8,81,156)"
          ],
          [
           1,
           "rgb(8,48,107)"
          ]
         ],
         "connectgaps": true,
         "contours": {
          "coloring": "heatmap"
         },
         "hoverinfo": "none",
         "line": {
          "smoothing": 1.3
         },
         "reversescale": false,
         "showscale": true,
         "type": "contour",
         "x": [
          -0.027500000000000004,
          0,
          0.05,
          0.1,
          0.15000000000000002,
          0.2,
          0.25,
          0.30000000000000004,
          0.35000000000000003,
          0.4,
          0.45,
          0.55,
          0.5775
         ],
         "xaxis": "x5",
         "y": [
          0.000008491914139611434,
          0.000011761401420007657,
          0.000013185905186874883,
          0.000020241322602292686,
          0.000026118442293982028,
          0.000026215725876682636,
          0.00003590379898004342,
          0.00003724238173956125,
          0.00005800261095055858,
          0.00006642304427251069,
          0.0000739891786687268,
          0.00011281915932638805,
          0.00012529423813260806,
          0.0001296919081731308,
          0.00015849851389450242,
          0.00020202133693525732,
          0.0002695973670615611,
          0.0003672480764188798,
          0.0003984885823732006,
          0.0004910421942138634,
          0.0006382813837639467,
          0.0009518437431526103,
          0.0012368839727018906,
          0.0012424260143687666,
          0.0019568610809569498,
          0.0024565074710184553,
          0.0026014202379643064,
          0.004316608150135173,
          0.004998651660820274,
          0.007662313052305139,
          0.007934665820650784,
          0.010989605914051143
         ],
         "yaxis": "y5",
         "z": {
          "bdata": "AAAAAAAA+H8AAAAAAAD4fwAAAAAAAPh/AAAAAAAA+H8AAAAAAAD4fwAAAAAAAPh/AAAAAAAA+H8AAAAAAAD4fwAAAAAAAPh/AAAAAAAA+H8AAAAAAAD4fwAAAAAAAPh/AAAAAAAA+H8AAAAAAAD4fwAAAAAAAPh/AAAAAAAA+H8AAABA+zeovwAAAAAAAPh/AAAAAAAA+H8AAAAAAAD4fwAAAAAAAPh/AAAAAAAA+H8AAAAAAAD4fwAAAAAAAPh/AAAAAAAA+H8AAAAAAAD4fwAAAAAAAPh/AAAAAAAA+H8AAAAAAAD4fwAAAAAAAPh/AAAAAAAA+H8AAAAAAAD4fwAAAAAAAPh/AAAAAAAA+H8AAAAAAAD4fwAAAEDl8a2/AAAAAAAA+H8AAAAAAAD4fwAAAAAAAPh/AAAAAAAA+H8AAAAAAAD4fwAAAAAAAPh/AAAAAAAA+H8AAAAAAAD4fwAAAAAAAPh/AAAAAAAA+H8AAAAAAAD4fwAAAOCy7KO/AAAAAAAA+H8AAAAAAAD4fwAAAAAAAPh/AAAAAAAA+H8AAAAAAAD4fwAAAAAAAPh/AAAAAAAA+H8AAADAM0ibvwAAAAAAAPh/AAAAAAAA+H8AAAAAAAD4fwAAAAAAAPh/AAAAAAAA+H8AAAAAAAD4fwAAAAAAAPh/AAAAAAAA+H8AAAAAAAD4fwAAAAAAAPh/AAAAAAAA+H8AAAAAAAD4fwAAAMDtnKK/AAAAAAAA+H8AAAAAAAD4fwAAAAAAAPh/AAAAAAAA+H8AAAAAAAD4fwAAAAAAAPh/AAAAAAAA+H8AAAAAAAD4fwAAAAAAAPh/AAAAAAAA+H8AAAAAAAD4fwAAAAAAAPh/AAAAAAAA+H8AAAAATYevvwAAAAAAAPh/AAAAAAAA+H8AAAAAAAD4fwAAAAAAAPh/AAAAAAAA+H8AAAAAAAD4fwAAAAAAAPh/AAAAAAAA+H8AAAAAAAD4fwAAAAAAAPh/AAAAAAAA+H8AAAAAAAD4fwAAAAAAAPh/AAAAAAAA+H8AAAAAAAD4fwAAAGCDzLW/AAAAAAAA+H8AAAAAAAD4fwAAAAAAAPh/AAAAAAAA+H8AAAAAAAD4fwAAAAAAAPh/AAAAAAAA+H8AAAAAAAD4fwAAAAAAAPh/AAAAAAAA+H8AAAAAAAD4fwAAAAAAAPh/AAAAoMx5qr8AAAAAAAD4fwAAAAAAAPh/AAAAAAAA+H8AAAAAAAD4fwAAAAAAAPh/AAAAAAAA+H8AAAAAAAD4fwAAAAAAAPh/AAAAAAAA+H8AAAAAAAD4fwAAAAAAAPh/AAAAAAAA+H8AAAAAAAD4fwAAAAAAAPh/AAAAAAAA+H8AAACg0QCwvwAAAAAAAPh/AAAAAAAA+H8AAAAAAAD4fwAAAEDMq7C/AAAAAAAA+H8AAAAAAAD4fwAAAAAAAPh/AAAAAAAA+H8AAAAAAAD4fwAAAAAAAPh/AAAAAAAA+H8AAAAAAAD4fwAAAAAAAPh/AAAAAAAA+H8AAAAAAAD4fwAAAAAAAPh/AAAAAAAA+H8AAAAAAAD4fwAAAAAAAPh/AAAAAAAA+H8AAAAAAAD4fwAAAMBaZJ6/AAAAAAAA+H8AAAAAAAD4fwAAAAAAAPh/AAAAAAAA+H8AAAAAAAD4fwAAAAAAAPh/AAAAAAAA+H8AAAAAAAD4fwAAAAAAAPh/AAAAAAAA+H8AAAAAAAD4fwAAAMB/Qpm/AAAAAAAA+H8AAAAAAAD4fwAAAAAAAPh/AAAAAAAA+H8AAAAAAAD4fwAAAAAAAPh/AAAAAAAA+H8AAAAAAAD4fwAAAAAAAPh/AAAAAAAA+H8AAAAAAAD4fwAAAAAAAPh/AAAAAAAA+H8AAAAgfC2nvwAAAAAAAPh/AAAAAAAA+H8AAAAAAAD4fwAAAAAAAPh/AAAAAAAA+H8AAAAAAAD4fwAAAAAAAPh/AAAAAAAA+H8AAAAAAAD4fwAAAAAAAPh/AAAAAAAA+H8AAADAgwusvwAAAAAAAPh/AAAAAAAA+H8AAAAAAAD4fwAAAAAAAPh/AAAAAAAA+H8AAAAAAAD4fwAAAAAAAPh/AAAAAAAA+H8AAAAAAAD4fwAAAAAAAPh/AAAAAAAA+H8AAAAAAAD4fwAAAKDZkJ6/AAAAAAAA+H8AAAAAAAD4fwAAAAAAAPh/AAAAAAAA+H8AAAAAAAD4fwAAAAAAAPh/AAAAAAAA+H8AAAAAAAD4fwAAAAAAAPh/AAAAAAAA+H8AAAAAAAD4fwAAAAAAAPh/AAAAAAAA+H8AAAAAAAD4fwAAAAAAAPh/AAAAAAAA+H8AAAAAAAD4fwAAAAAAAPh/AAAAYEA4ob8AAAAAAAD4fwAAAAAAAPh/AAAAAAAA+H8AAAAAAAD4fwAAAMCnpbW/AAAAAAAA+H8AAAAAAAD4fwAAAAAAAPh/AAAAAAAA+H8AAAAAAAD4fwAAAAAAAPh/AAAAAAAA+H8AAAAAAAD4fwAAAAAAAPh/AAAAAAAA+H8AAAAAAAD4fwAAAAAAAPh/AAAAAAAA+H8AAADAu9elvwAAAAAAAPh/AAAAAAAA+H8AAAAAAAD4fwAAAAAAAPh/AAAAAAAA+H8AAAAAAAD4fwAAAAAAAPh/AAAAAAAA+H8AAAAAAAD4fwAAAAAAAPh/AAAAAAAA+H8AAAAAAAD4fwAAAAAAAPh/AAAAAAAA+H8AAACgbr6lvwAAAAAAAPh/AAAAAAAA+H8AAAAAAAD4fwAAAAAAAPh/AAAAAAAA+H8AAAAAAAD4fwAAAAAAAPh/AAAAAAAA+H8AAAAA8p6ivwAAAAAAAPh/AAAAAAAA+H8AAAAAAAD4fwAAAAAAAPh/AAAAAAAA+H8AAAAAAAD4fwAAAAAAAPh/AAAAAAAA+H8AAAAAAAD4fwAAAAAAAPh/AAAAAAAA+H8AAAAAAAD4fwAAACBcqqG/AAAAAAAA+H8AAAAAAAD4fwAAAAAAAPh/AAAAAAAA+H8AAAAAAAD4fwAAAAAAAPh/AAAAAAAA+H8AAAAAAAD4fwAAAAAAAPh/AAAAAAAA+H8AAAAAAAD4fwAAACCBs6W/AAAAAAAA+H8AAAAAAAD4fwAAAAAAAPh/AAAAAAAA+H8AAAAAAAD4fwAAAAAAAPh/AAAAAAAA+H8AAAAAAAD4fwAAAAAAAPh/AAAAAAAA+H8AAAAAAAD4fwAAAAAAAPh/AAAAYPoVq78AAAAAAAD4fwAAAAAAAPh/AAAAAAAA+H8AAAAAAAD4fwAAAAAAAPh/AAAAAAAA+H8AAAAAAAD4fwAAAAAAAPh/AAAAAAAA+H8AAAAAAAD4fwAAAAAAAPh/AAAAAAAA+H8AAAAAAAD4fwAAAAAqL52/AAAAAAAA+H8AAAAAAAD4fwAAAAAAAPh/AAAAAAAA+H8AAAAAAAD4fwAAAAAAAPh/AAAAAAAA+H8AAAAAAAD4fwAAAAAAAPh/AAAAAAAA+H8AAAAAAAD4fwAAAAAAAPh/AAAA4Lmgs78AAAAAAAD4fwAAAAAAAPh/AAAAAAAA+H8AAAAAAAD4fwAAAAAAAPh/AAAAAAAA+H8AAAAAAAD4fwAAAAAAAPh/AAAAAAAA+H8AAAAAAAD4fwAAAAAAAPh/AAAAAAAA+H8AAAAAAAD4fwAAAAAAAPh/AAAAYIlypb8AAAAAAAD4fwAAAAAAAPh/AAAAAAAA+H8AAAAAAAD4fwAAAAAAAPh/AAAAAAAA+H8AAAAAAAD4fwAAAAAAAPh/AAAAAAAA+H8AAAAAAAD4fwAAAAAAAPh/AAAAAAAA+H8AAAAAAAD4fwAAAAAAAPh/AAAAAAAA+H8AAAAAAAD4fwAAAAAAAPh/AAAAAAAA+H8AAAAAAAD4fwAAAGAKKLS/AAAAAAAA+H8AAAAAAAD4fwAAAAAAAPh/AAAAAAAA+H8AAAAAAAD4fwAAAAAAAPh/AAAAQL9ypb8AAAAAAAD4fwAAAAAAAPh/AAAAAAAA+H8AAAAAAAD4fwAAAAAAAPh/AAAAAAAA+H8AAAAAAAD4fwAAAAAAAPh/AAAAAAAA+H8AAAAAAAD4fwAAAAAAAPh/AAAAoOLhpb8AAAAAAAD4fwAAAAAAAPh/AAAAAAAA+H8AAAAAAAD4fwAAAAAAAPh/AAAAAAAA+H8AAAAAAAD4fwAAAAAAAPh/AAAAAAAA+H8AAAAAAAD4fwAAAAAAAPh/AAAAYAharb8AAAAAAAD4fwAAAAAAAPh/AAAAAAAA+H8AAAAAAAD4fwAAAAAAAPh/AAAAAAAA+H8AAAAAAAD4fwAAAAAAAPh/AAAAAAAA+H8AAAAAAAD4fwAAAAAAAPh/AAAAAAAA+H8AAAAAAAD4fwAAAAAAAPh/AAAAAAAA+H8AAAAAAAD4fwAAAAAAAPh/AAAAAAAA+H8AAAAAAAD4fwAAAAAAAPh/AAAAAAAA+H8AAAAAAAD4fw==",
          "dtype": "f8",
          "shape": "32, 13"
         }
        },
        {
         "marker": {
          "color": "black",
          "line": {
           "color": "Gray",
           "width": 2
          }
         },
         "mode": "markers",
         "name": "Feasible Trial",
         "showlegend": false,
         "type": "scatter",
         "x": [
          0.1,
          0.15000000000000002,
          0.2,
          0.2,
          0.05,
          0.55,
          0.55,
          0.25,
          0.45,
          0.25,
          0.4,
          0,
          0,
          0.1,
          0.35000000000000003,
          0.15000000000000002,
          0.30000000000000004,
          0.1,
          0.2,
          0.1,
          0.30000000000000004,
          0.05,
          0.05,
          0.15000000000000002,
          0.05,
          0.2,
          0,
          0.1,
          0.25,
          0.15000000000000002
         ],
         "xaxis": "x5",
         "y": [
          0.007934665820650784,
          0.0003984885823732006,
          0.00012529423813260806,
          0.004998651660820274,
          0.0019568610809569498,
          0.0002695973670615611,
          0.004316608150135173,
          0.0001296919081731308,
          0.00006642304427251069,
          0.00011281915932638805,
          0.000013185905186874883,
          0.0012368839727018906,
          0.0012424260143687666,
          0.000026118442293982028,
          0.000020241322602292686,
          0.00003590379898004342,
          0.00003724238173956125,
          0.0003672480764188798,
          0.00015849851389450242,
          0.000011761401420007657,
          0.00005800261095055858,
          0.0009518437431526103,
          0.0006382813837639467,
          0.0026014202379643064,
          0.0024565074710184553,
          0.00020202133693525732,
          0.0000739891786687268,
          0.000026215725876682636,
          0.0004910421942138634,
          0.007662313052305139
         ],
         "yaxis": "y5"
        },
        {
         "colorbar": {
          "title": {
           "text": "Objective Value"
          }
         },
         "colorscale": [
          [
           0,
           "rgb(247,251,255)"
          ],
          [
           0.125,
           "rgb(222,235,247)"
          ],
          [
           0.25,
           "rgb(198,219,239)"
          ],
          [
           0.375,
           "rgb(158,202,225)"
          ],
          [
           0.5,
           "rgb(107,174,214)"
          ],
          [
           0.625,
           "rgb(66,146,198)"
          ],
          [
           0.75,
           "rgb(33,113,181)"
          ],
          [
           0.875,
           "rgb(8,81,156)"
          ],
          [
           1,
           "rgb(8,48,107)"
          ]
         ],
         "connectgaps": true,
         "contours": {
          "coloring": "heatmap"
         },
         "hoverinfo": "none",
         "line": {
          "smoothing": 1.3
         },
         "reversescale": false,
         "showscale": false,
         "type": "contour",
         "x": [
          -0.027500000000000004,
          0,
          0.05,
          0.1,
          0.15000000000000002,
          0.2,
          0.25,
          0.30000000000000004,
          0.35000000000000003,
          0.4,
          0.45,
          0.55,
          0.5775
         ],
         "xaxis": "x9",
         "y": [
          0.25,
          5,
          10,
          15,
          20,
          25,
          30,
          35,
          40,
          45,
          50,
          55,
          60,
          65,
          75,
          80,
          90,
          100,
          104.75
         ],
         "yaxis": "y9",
         "z": {
          "bdata": "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",
          "dtype": "f8",
          "shape": "19, 13"
         }
        },
        {
         "marker": {
          "color": "black",
          "line": {
           "color": "Gray",
           "width": 2
          }
         },
         "mode": "markers",
         "name": "Feasible Trial",
         "showlegend": false,
         "type": "scatter",
         "x": [
          0.1,
          0.15000000000000002,
          0.2,
          0.2,
          0.05,
          0.55,
          0.55,
          0.25,
          0.45,
          0.25,
          0.4,
          0,
          0,
          0.1,
          0.35000000000000003,
          0.15000000000000002,
          0.30000000000000004,
          0.1,
          0.2,
          0.1,
          0.30000000000000004,
          0.05,
          0.05,
          0.15000000000000002,
          0.05,
          0.2,
          0,
          0.1,
          0.25,
          0.15000000000000002
         ],
         "xaxis": "x9",
         "y": [
          65,
          55,
          80,
          10,
          30,
          65,
          100,
          25,
          80,
          35,
          100,
          30,
          80,
          5,
          5,
          45,
          80,
          15,
          90,
          50,
          65,
          15,
          25,
          40,
          20,
          5,
          45,
          60,
          35,
          75
         ],
         "yaxis": "y9"
        },
        {
         "colorbar": {
          "title": {
           "text": "Objective Value"
          }
         },
         "colorscale": [
          [
           0,
           "rgb(247,251,255)"
          ],
          [
           0.125,
           "rgb(222,235,247)"
          ],
          [
           0.25,
           "rgb(198,219,239)"
          ],
          [
           0.375,
           "rgb(158,202,225)"
          ],
          [
           0.5,
           "rgb(107,174,214)"
          ],
          [
           0.625,
           "rgb(66,146,198)"
          ],
          [
           0.75,
           "rgb(33,113,181)"
          ],
          [
           0.875,
           "rgb(8,81,156)"
          ],
          [
           1,
           "rgb(8,48,107)"
          ]
         ],
         "connectgaps": true,
         "contours": {
          "coloring": "heatmap"
         },
         "hoverinfo": "none",
         "line": {
          "smoothing": 1.3
         },
         "reversescale": false,
         "showscale": false,
         "type": "contour",
         "x": [
          -0.027500000000000004,
          0,
          0.05,
          0.1,
          0.15000000000000002,
          0.2,
          0.25,
          0.30000000000000004,
          0.35000000000000003,
          0.4,
          0.45,
          0.55,
          0.5775
         ],
         "xaxis": "x13",
         "y": [
          4.5,
          10,
          20,
          30,
          40,
          50,
          60,
          70,
          80,
          90,
          100,
          110,
          120,
          125.5
         ],
         "yaxis": "y13",
         "z": {
          "bdata": "AAAAAAAA+H8AAAAAAAD4fwAAAAAAAPh/AAAAAAAA+H8AAAAAAAD4fwAAAAAAAPh/AAAAAAAA+H8AAAAAAAD4fwAAAAAAAPh/AAAAAAAA+H8AAAAAAAD4fwAAAAAAAPh/AAAAAAAA+H8AAAAAAAD4fwAAACCBs6W/AAAAAAAA+H8AAADAM0ibvwAAAAAAAPh/AAAAAAAA+H8AAAAAAAD4fwAAAGCDzLW/AAAA4LLso78AAAAAAAD4fwAAAAAAAPh/AAAAAAAA+H8AAAAAAAD4fwAAAAAAAPh/AAAAAAAA+H8AAAAAAAD4fwAAAMDtnKK/AAAAAE2Hr78AAADAf0KZvwAAAAAAAPh/AAAAoMx5qr8AAAAAAAD4fwAAAAAAAPh/AAAAAAAA+H8AAAAAAAD4fwAAAAAAAPh/AAAAAAAA+H8AAAAAAAD4fwAAAAAAAPh/AAAAwKeltb8AAADAu9elvwAAAAAAAPh/AAAAAAAA+H8AAAAAAAD4fwAAAAAAAPh/AAAAAAAA+H8AAAAAAAD4fwAAAGAKKLS/AAAAAAAA+H8AAAAAAAD4fwAAAAAAAPh/AAAAIFyqob8AAABgCFqtvwAAAAAAAPh/AAAAAAAA+H8AAAAAAAD4fwAAAAAAAPh/AAAAAAAA+H8AAAAAAAD4fwAAAAAAAPh/AAAAAAAA+H8AAAAAAAD4fwAAAAAAAPh/AAAAQMyrsL8AAAAAAAD4fwAAAAAAAPh/AAAAAAAA+H8AAABAv3KlvwAAAAAAAPh/AAAAAAAA+H8AAAAAAAD4fwAAAAAAAPh/AAAAAAAA+H8AAABgQDihvwAAAAAAAPh/AAAAAAAA+H8AAAAAAAD4fwAAAAAqL52/AAAAAAAA+H8AAAAAAAD4fwAAAAAAAPh/AAAAwFpknr8AAAAAAAD4fwAAAAAAAPh/AAAAAAAA+H8AAACg0QCwvwAAAAAAAPh/AAAAAAAA+H8AAAAAAAD4fwAAAAAAAPh/AAAAAAAA+H8AAAAAAAD4fwAAAGCJcqW/AAAAAAAA+H8AAACgbr6lvwAAAAAAAPh/AAAAAAAA+H8AAAAAAAD4fwAAAAAAAPh/AAAAAAAA+H8AAAAAAAD4fwAAAAAAAPh/AAAAYPoVq78AAAAAAAD4fwAAAED7N6i/AAAAAAAA+H8AAAAAAAD4fwAAAAAAAPh/AAAAAAAA+H8AAAAAAAD4fwAAAAAAAPh/AAAAAAAA+H8AAAAAAAD4fwAAAAAAAPh/AAAAAAAA+H8AAAAAAAD4fwAAAAAAAPh/AAAAAAAA+H8AAAAAAAD4fwAAAAAAAPh/AAAAAAAA+H8AAAAAAAD4fwAAAAAAAPh/AAAAQOXxrb8AAAAAAAD4fwAAAAAAAPh/AAAAAAAA+H8AAAAAAAD4fwAAAAAAAPh/AAAAAPKeor8AAAAAAAD4fwAAAAAAAPh/AAAAAAAA+H8AAAAAAAD4fwAAAAAAAPh/AAAAAAAA+H8AAAAAAAD4fwAAAAAAAPh/AAAAAAAA+H8AAAAAAAD4fwAAAAAAAPh/AAAAAAAA+H8AAAAAAAD4fwAAAAAAAPh/AAAAAAAA+H8AAAAAAAD4fwAAACB8Lae/AAAAAAAA+H8AAAAAAAD4fwAAAAAAAPh/AAAAAAAA+H8AAAAAAAD4fwAAAAAAAPh/AAAAAAAA+H8AAAAAAAD4fwAAAAAAAPh/AAAAAAAA+H8AAAAAAAD4fwAAAMCDC6y/AAAAAAAA+H8AAAAAAAD4fwAAAAAAAPh/AAAAAAAA+H8AAAAAAAD4fwAAAAAAAPh/AAAAAAAA+H8AAAAAAAD4fwAAAAAAAPh/AAAAAAAA+H8AAAAAAAD4fwAAAAAAAPh/AAAAAAAA+H8AAAAAAAD4fwAAAAAAAPh/AAAAAAAA+H8AAAAAAAD4fwAAAAAAAPh/AAAAAAAA+H8AAAAAAAD4fw==",
          "dtype": "f8",
          "shape": "14, 13"
         }
        },
        {
         "marker": {
          "color": "black",
          "line": {
           "color": "Gray",
           "width": 2
          }
         },
         "mode": "markers",
         "name": "Feasible Trial",
         "showlegend": false,
         "type": "scatter",
         "x": [
          0.1,
          0.15000000000000002,
          0.2,
          0.2,
          0.05,
          0.55,
          0.55,
          0.25,
          0.45,
          0.25,
          0.4,
          0,
          0,
          0.1,
          0.35000000000000003,
          0.15000000000000002,
          0.30000000000000004,
          0.1,
          0.2,
          0.1,
          0.30000000000000004,
          0.05,
          0.05,
          0.15000000000000002,
          0.05,
          0.2,
          0,
          0.1,
          0.25,
          0.15000000000000002
         ],
         "xaxis": "x13",
         "y": [
          40,
          30,
          20,
          50,
          60,
          50,
          30,
          110,
          60,
          60,
          90,
          10,
          80,
          10,
          10,
          20,
          10,
          30,
          120,
          80,
          20,
          40,
          100,
          70,
          40,
          20,
          50,
          20,
          70,
          30
         ],
         "yaxis": "y13"
        },
        {
         "colorbar": {
          "title": {
           "text": "Objective Value"
          }
         },
         "colorscale": [
          [
           0,
           "rgb(247,251,255)"
          ],
          [
           0.125,
           "rgb(222,235,247)"
          ],
          [
           0.25,
           "rgb(198,219,239)"
          ],
          [
           0.375,
           "rgb(158,202,225)"
          ],
          [
           0.5,
           "rgb(107,174,214)"
          ],
          [
           0.625,
           "rgb(66,146,198)"
          ],
          [
           0.75,
           "rgb(33,113,181)"
          ],
          [
           0.875,
           "rgb(8,81,156)"
          ],
          [
           1,
           "rgb(8,48,107)"
          ]
         ],
         "connectgaps": true,
         "contours": {
          "coloring": "heatmap"
         },
         "hoverinfo": "none",
         "line": {
          "smoothing": 1.3
         },
         "reversescale": false,
         "showscale": false,
         "type": "contour",
         "x": [
          0.000008491914139611434,
          0.000011761401420007657,
          0.000013185905186874883,
          0.000020241322602292686,
          0.000026118442293982028,
          0.000026215725876682636,
          0.00003590379898004342,
          0.00003724238173956125,
          0.00005800261095055858,
          0.00006642304427251069,
          0.0000739891786687268,
          0.00011281915932638805,
          0.00012529423813260806,
          0.0001296919081731308,
          0.00015849851389450242,
          0.00020202133693525732,
          0.0002695973670615611,
          0.0003672480764188798,
          0.0003984885823732006,
          0.0004910421942138634,
          0.0006382813837639467,
          0.0009518437431526103,
          0.0012368839727018906,
          0.0012424260143687666,
          0.0019568610809569498,
          0.0024565074710184553,
          0.0026014202379643064,
          0.004316608150135173,
          0.004998651660820274,
          0.007662313052305139,
          0.007934665820650784,
          0.010989605914051143
         ],
         "xaxis": "x2",
         "y": [
          -0.027500000000000004,
          0,
          0.05,
          0.1,
          0.15000000000000002,
          0.2,
          0.25,
          0.30000000000000004,
          0.35000000000000003,
          0.4,
          0.45,
          0.55,
          0.5775
         ],
         "yaxis": "y2",
         "z": {
          "bdata": "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",
          "dtype": "f8",
          "shape": "13, 32"
         }
        },
        {
         "marker": {
          "color": "black",
          "line": {
           "color": "Gray",
           "width": 2
          }
         },
         "mode": "markers",
         "name": "Feasible Trial",
         "showlegend": false,
         "type": "scatter",
         "x": [
          0.007934665820650784,
          0.0003984885823732006,
          0.00012529423813260806,
          0.004998651660820274,
          0.0019568610809569498,
          0.0002695973670615611,
          0.004316608150135173,
          0.0001296919081731308,
          0.00006642304427251069,
          0.00011281915932638805,
          0.000013185905186874883,
          0.0012368839727018906,
          0.0012424260143687666,
          0.000026118442293982028,
          0.000020241322602292686,
          0.00003590379898004342,
          0.00003724238173956125,
          0.0003672480764188798,
          0.00015849851389450242,
          0.000011761401420007657,
          0.00005800261095055858,
          0.0009518437431526103,
          0.0006382813837639467,
          0.0026014202379643064,
          0.0024565074710184553,
          0.00020202133693525732,
          0.0000739891786687268,
          0.000026215725876682636,
          0.0004910421942138634,
          0.007662313052305139
         ],
         "xaxis": "x2",
         "y": [
          0.1,
          0.15000000000000002,
          0.2,
          0.2,
          0.05,
          0.55,
          0.55,
          0.25,
          0.45,
          0.25,
          0.4,
          0,
          0,
          0.1,
          0.35000000000000003,
          0.15000000000000002,
          0.30000000000000004,
          0.1,
          0.2,
          0.1,
          0.30000000000000004,
          0.05,
          0.05,
          0.15000000000000002,
          0.05,
          0.2,
          0,
          0.1,
          0.25,
          0.15000000000000002
         ],
         "yaxis": "y2"
        },
        {
         "type": "scatter",
         "xaxis": "x6",
         "yaxis": "y6"
        },
        {
         "colorbar": {
          "title": {
           "text": "Objective Value"
          }
         },
         "colorscale": [
          [
           0,
           "rgb(247,251,255)"
          ],
          [
           0.125,
           "rgb(222,235,247)"
          ],
          [
           0.25,
           "rgb(198,219,239)"
          ],
          [
           0.375,
           "rgb(158,202,225)"
          ],
          [
           0.5,
           "rgb(107,174,214)"
          ],
          [
           0.625,
           "rgb(66,146,198)"
          ],
          [
           0.75,
           "rgb(33,113,181)"
          ],
          [
           0.875,
           "rgb(8,81,156)"
          ],
          [
           1,
           "rgb(8,48,107)"
          ]
         ],
         "connectgaps": true,
         "contours": {
          "coloring": "heatmap"
         },
         "hoverinfo": "none",
         "line": {
          "smoothing": 1.3
         },
         "reversescale": false,
         "showscale": false,
         "type": "contour",
         "x": [
          0.000008491914139611434,
          0.000011761401420007657,
          0.000013185905186874883,
          0.000020241322602292686,
          0.000026118442293982028,
          0.000026215725876682636,
          0.00003590379898004342,
          0.00003724238173956125,
          0.00005800261095055858,
          0.00006642304427251069,
          0.0000739891786687268,
          0.00011281915932638805,
          0.00012529423813260806,
          0.0001296919081731308,
          0.00015849851389450242,
          0.00020202133693525732,
          0.0002695973670615611,
          0.0003672480764188798,
          0.0003984885823732006,
          0.0004910421942138634,
          0.0006382813837639467,
          0.0009518437431526103,
          0.0012368839727018906,
          0.0012424260143687666,
          0.0019568610809569498,
          0.0024565074710184553,
          0.0026014202379643064,
          0.004316608150135173,
          0.004998651660820274,
          0.007662313052305139,
          0.007934665820650784,
          0.010989605914051143
         ],
         "xaxis": "x10",
         "y": [
          0.25,
          5,
          10,
          15,
          20,
          25,
          30,
          35,
          40,
          45,
          50,
          55,
          60,
          65,
          75,
          80,
          90,
          100,
          104.75
         ],
         "yaxis": "y10",
         "z": {
          "bdata": "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",
          "dtype": "f8",
          "shape": "19, 32"
         }
        },
        {
         "marker": {
          "color": "black",
          "line": {
           "color": "Gray",
           "width": 2
          }
         },
         "mode": "markers",
         "name": "Feasible Trial",
         "showlegend": false,
         "type": "scatter",
         "x": [
          0.007934665820650784,
          0.0003984885823732006,
          0.00012529423813260806,
          0.004998651660820274,
          0.0019568610809569498,
          0.0002695973670615611,
          0.004316608150135173,
          0.0001296919081731308,
          0.00006642304427251069,
          0.00011281915932638805,
          0.000013185905186874883,
          0.0012368839727018906,
          0.0012424260143687666,
          0.000026118442293982028,
          0.000020241322602292686,
          0.00003590379898004342,
          0.00003724238173956125,
          0.0003672480764188798,
          0.00015849851389450242,
          0.000011761401420007657,
          0.00005800261095055858,
          0.0009518437431526103,
          0.0006382813837639467,
          0.0026014202379643064,
          0.0024565074710184553,
          0.00020202133693525732,
          0.0000739891786687268,
          0.000026215725876682636,
          0.0004910421942138634,
          0.007662313052305139
         ],
         "xaxis": "x10",
         "y": [
          65,
          55,
          80,
          10,
          30,
          65,
          100,
          25,
          80,
          35,
          100,
          30,
          80,
          5,
          5,
          45,
          80,
          15,
          90,
          50,
          65,
          15,
          25,
          40,
          20,
          5,
          45,
          60,
          35,
          75
         ],
         "yaxis": "y10"
        },
        {
         "colorbar": {
          "title": {
           "text": "Objective Value"
          }
         },
         "colorscale": [
          [
           0,
           "rgb(247,251,255)"
          ],
          [
           0.125,
           "rgb(222,235,247)"
          ],
          [
           0.25,
           "rgb(198,219,239)"
          ],
          [
           0.375,
           "rgb(158,202,225)"
          ],
          [
           0.5,
           "rgb(107,174,214)"
          ],
          [
           0.625,
           "rgb(66,146,198)"
          ],
          [
           0.75,
           "rgb(33,113,181)"
          ],
          [
           0.875,
           "rgb(8,81,156)"
          ],
          [
           1,
           "rgb(8,48,107)"
          ]
         ],
         "connectgaps": true,
         "contours": {
          "coloring": "heatmap"
         },
         "hoverinfo": "none",
         "line": {
          "smoothing": 1.3
         },
         "reversescale": false,
         "showscale": false,
         "type": "contour",
         "x": [
          0.000008491914139611434,
          0.000011761401420007657,
          0.000013185905186874883,
          0.000020241322602292686,
          0.000026118442293982028,
          0.000026215725876682636,
          0.00003590379898004342,
          0.00003724238173956125,
          0.00005800261095055858,
          0.00006642304427251069,
          0.0000739891786687268,
          0.00011281915932638805,
          0.00012529423813260806,
          0.0001296919081731308,
          0.00015849851389450242,
          0.00020202133693525732,
          0.0002695973670615611,
          0.0003672480764188798,
          0.0003984885823732006,
          0.0004910421942138634,
          0.0006382813837639467,
          0.0009518437431526103,
          0.0012368839727018906,
          0.0012424260143687666,
          0.0019568610809569498,
          0.0024565074710184553,
          0.0026014202379643064,
          0.004316608150135173,
          0.004998651660820274,
          0.007662313052305139,
          0.007934665820650784,
          0.010989605914051143
         ],
         "xaxis": "x14",
         "y": [
          4.5,
          10,
          20,
          30,
          40,
          50,
          60,
          70,
          80,
          90,
          100,
          110,
          120,
          125.5
         ],
         "yaxis": "y14",
         "z": {
          "bdata": "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",
          "dtype": "f8",
          "shape": "14, 32"
         }
        },
        {
         "marker": {
          "color": "black",
          "line": {
           "color": "Gray",
           "width": 2
          }
         },
         "mode": "markers",
         "name": "Feasible Trial",
         "showlegend": false,
         "type": "scatter",
         "x": [
          0.007934665820650784,
          0.0003984885823732006,
          0.00012529423813260806,
          0.004998651660820274,
          0.0019568610809569498,
          0.0002695973670615611,
          0.004316608150135173,
          0.0001296919081731308,
          0.00006642304427251069,
          0.00011281915932638805,
          0.000013185905186874883,
          0.0012368839727018906,
          0.0012424260143687666,
          0.000026118442293982028,
          0.000020241322602292686,
          0.00003590379898004342,
          0.00003724238173956125,
          0.0003672480764188798,
          0.00015849851389450242,
          0.000011761401420007657,
          0.00005800261095055858,
          0.0009518437431526103,
          0.0006382813837639467,
          0.0026014202379643064,
          0.0024565074710184553,
          0.00020202133693525732,
          0.0000739891786687268,
          0.000026215725876682636,
          0.0004910421942138634,
          0.007662313052305139
         ],
         "xaxis": "x14",
         "y": [
          40,
          30,
          20,
          50,
          60,
          50,
          30,
          110,
          60,
          60,
          90,
          10,
          80,
          10,
          10,
          20,
          10,
          30,
          120,
          80,
          20,
          40,
          100,
          70,
          40,
          20,
          50,
          20,
          70,
          30
         ],
         "yaxis": "y14"
        },
        {
         "colorbar": {
          "title": {
           "text": "Objective Value"
          }
         },
         "colorscale": [
          [
           0,
           "rgb(247,251,255)"
          ],
          [
           0.125,
           "rgb(222,235,247)"
          ],
          [
           0.25,
           "rgb(198,219,239)"
          ],
          [
           0.375,
           "rgb(158,202,225)"
          ],
          [
           0.5,
           "rgb(107,174,214)"
          ],
          [
           0.625,
           "rgb(66,146,198)"
          ],
          [
           0.75,
           "rgb(33,113,181)"
          ],
          [
           0.875,
           "rgb(8,81,156)"
          ],
          [
           1,
           "rgb(8,48,107)"
          ]
         ],
         "connectgaps": true,
         "contours": {
          "coloring": "heatmap"
         },
         "hoverinfo": "none",
         "line": {
          "smoothing": 1.3
         },
         "reversescale": false,
         "showscale": false,
         "type": "contour",
         "x": [
          0.25,
          5,
          10,
          15,
          20,
          25,
          30,
          35,
          40,
          45,
          50,
          55,
          60,
          65,
          75,
          80,
          90,
          100,
          104.75
         ],
         "xaxis": "x3",
         "y": [
          -0.027500000000000004,
          0,
          0.05,
          0.1,
          0.15000000000000002,
          0.2,
          0.25,
          0.30000000000000004,
          0.35000000000000003,
          0.4,
          0.45,
          0.55,
          0.5775
         ],
         "yaxis": "y3",
         "z": {
          "bdata": "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",
          "dtype": "f8",
          "shape": "13, 19"
         }
        },
        {
         "marker": {
          "color": "black",
          "line": {
           "color": "Gray",
           "width": 2
          }
         },
         "mode": "markers",
         "name": "Feasible Trial",
         "showlegend": false,
         "type": "scatter",
         "x": [
          65,
          55,
          80,
          10,
          30,
          65,
          100,
          25,
          80,
          35,
          100,
          30,
          80,
          5,
          5,
          45,
          80,
          15,
          90,
          50,
          65,
          15,
          25,
          40,
          20,
          5,
          45,
          60,
          35,
          75
         ],
         "xaxis": "x3",
         "y": [
          0.1,
          0.15000000000000002,
          0.2,
          0.2,
          0.05,
          0.55,
          0.55,
          0.25,
          0.45,
          0.25,
          0.4,
          0,
          0,
          0.1,
          0.35000000000000003,
          0.15000000000000002,
          0.30000000000000004,
          0.1,
          0.2,
          0.1,
          0.30000000000000004,
          0.05,
          0.05,
          0.15000000000000002,
          0.05,
          0.2,
          0,
          0.1,
          0.25,
          0.15000000000000002
         ],
         "yaxis": "y3"
        },
        {
         "colorbar": {
          "title": {
           "text": "Objective Value"
          }
         },
         "colorscale": [
          [
           0,
           "rgb(247,251,255)"
          ],
          [
           0.125,
           "rgb(222,235,247)"
          ],
          [
           0.25,
           "rgb(198,219,239)"
          ],
          [
           0.375,
           "rgb(158,202,225)"
          ],
          [
           0.5,
           "rgb(107,174,214)"
          ],
          [
           0.625,
           "rgb(66,146,198)"
          ],
          [
           0.75,
           "rgb(33,113,181)"
          ],
          [
           0.875,
           "rgb(8,81,156)"
          ],
          [
           1,
           "rgb(8,48,107)"
          ]
         ],
         "connectgaps": true,
         "contours": {
          "coloring": "heatmap"
         },
         "hoverinfo": "none",
         "line": {
          "smoothing": 1.3
         },
         "reversescale": false,
         "showscale": false,
         "type": "contour",
         "x": [
          0.25,
          5,
          10,
          15,
          20,
          25,
          30,
          35,
          40,
          45,
          50,
          55,
          60,
          65,
          75,
          80,
          90,
          100,
          104.75
         ],
         "xaxis": "x7",
         "y": [
          0.000008491914139611434,
          0.000011761401420007657,
          0.000013185905186874883,
          0.000020241322602292686,
          0.000026118442293982028,
          0.000026215725876682636,
          0.00003590379898004342,
          0.00003724238173956125,
          0.00005800261095055858,
          0.00006642304427251069,
          0.0000739891786687268,
          0.00011281915932638805,
          0.00012529423813260806,
          0.0001296919081731308,
          0.00015849851389450242,
          0.00020202133693525732,
          0.0002695973670615611,
          0.0003672480764188798,
          0.0003984885823732006,
          0.0004910421942138634,
          0.0006382813837639467,
          0.0009518437431526103,
          0.0012368839727018906,
          0.0012424260143687666,
          0.0019568610809569498,
          0.0024565074710184553,
          0.0026014202379643064,
          0.004316608150135173,
          0.004998651660820274,
          0.007662313052305139,
          0.007934665820650784,
          0.010989605914051143
         ],
         "yaxis": "y7",
         "z": {
          "bdata": "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",
          "dtype": "f8",
          "shape": "32, 19"
         }
        },
        {
         "marker": {
          "color": "black",
          "line": {
           "color": "Gray",
           "width": 2
          }
         },
         "mode": "markers",
         "name": "Feasible Trial",
         "showlegend": false,
         "type": "scatter",
         "x": [
          65,
          55,
          80,
          10,
          30,
          65,
          100,
          25,
          80,
          35,
          100,
          30,
          80,
          5,
          5,
          45,
          80,
          15,
          90,
          50,
          65,
          15,
          25,
          40,
          20,
          5,
          45,
          60,
          35,
          75
         ],
         "xaxis": "x7",
         "y": [
          0.007934665820650784,
          0.0003984885823732006,
          0.00012529423813260806,
          0.004998651660820274,
          0.0019568610809569498,
          0.0002695973670615611,
          0.004316608150135173,
          0.0001296919081731308,
          0.00006642304427251069,
          0.00011281915932638805,
          0.000013185905186874883,
          0.0012368839727018906,
          0.0012424260143687666,
          0.000026118442293982028,
          0.000020241322602292686,
          0.00003590379898004342,
          0.00003724238173956125,
          0.0003672480764188798,
          0.00015849851389450242,
          0.000011761401420007657,
          0.00005800261095055858,
          0.0009518437431526103,
          0.0006382813837639467,
          0.0026014202379643064,
          0.0024565074710184553,
          0.00020202133693525732,
          0.0000739891786687268,
          0.000026215725876682636,
          0.0004910421942138634,
          0.007662313052305139
         ],
         "yaxis": "y7"
        },
        {
         "type": "scatter",
         "xaxis": "x11",
         "yaxis": "y11"
        },
        {
         "colorbar": {
          "title": {
           "text": "Objective Value"
          }
         },
         "colorscale": [
          [
           0,
           "rgb(247,251,255)"
          ],
          [
           0.125,
           "rgb(222,235,247)"
          ],
          [
           0.25,
           "rgb(198,219,239)"
          ],
          [
           0.375,
           "rgb(158,202,225)"
          ],
          [
           0.5,
           "rgb(107,174,214)"
          ],
          [
           0.625,
           "rgb(66,146,198)"
          ],
          [
           0.75,
           "rgb(33,113,181)"
          ],
          [
           0.875,
           "rgb(8,81,156)"
          ],
          [
           1,
           "rgb(8,48,107)"
          ]
         ],
         "connectgaps": true,
         "contours": {
          "coloring": "heatmap"
         },
         "hoverinfo": "none",
         "line": {
          "smoothing": 1.3
         },
         "reversescale": false,
         "showscale": false,
         "type": "contour",
         "x": [
          0.25,
          5,
          10,
          15,
          20,
          25,
          30,
          35,
          40,
          45,
          50,
          55,
          60,
          65,
          75,
          80,
          90,
          100,
          104.75
         ],
         "xaxis": "x15",
         "y": [
          4.5,
          10,
          20,
          30,
          40,
          50,
          60,
          70,
          80,
          90,
          100,
          110,
          120,
          125.5
         ],
         "yaxis": "y15",
         "z": {
          "bdata": "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",
          "dtype": "f8",
          "shape": "14, 19"
         }
        },
        {
         "marker": {
          "color": "black",
          "line": {
           "color": "Gray",
           "width": 2
          }
         },
         "mode": "markers",
         "name": "Feasible Trial",
         "showlegend": false,
         "type": "scatter",
         "x": [
          65,
          55,
          80,
          10,
          30,
          65,
          100,
          25,
          80,
          35,
          100,
          30,
          80,
          5,
          5,
          45,
          80,
          15,
          90,
          50,
          65,
          15,
          25,
          40,
          20,
          5,
          45,
          60,
          35,
          75
         ],
         "xaxis": "x15",
         "y": [
          40,
          30,
          20,
          50,
          60,
          50,
          30,
          110,
          60,
          60,
          90,
          10,
          80,
          10,
          10,
          20,
          10,
          30,
          120,
          80,
          20,
          40,
          100,
          70,
          40,
          20,
          50,
          20,
          70,
          30
         ],
         "yaxis": "y15"
        },
        {
         "colorbar": {
          "title": {
           "text": "Objective Value"
          }
         },
         "colorscale": [
          [
           0,
           "rgb(247,251,255)"
          ],
          [
           0.125,
           "rgb(222,235,247)"
          ],
          [
           0.25,
           "rgb(198,219,239)"
          ],
          [
           0.375,
           "rgb(158,202,225)"
          ],
          [
           0.5,
           "rgb(107,174,214)"
          ],
          [
           0.625,
           "rgb(66,146,198)"
          ],
          [
           0.75,
           "rgb(33,113,181)"
          ],
          [
           0.875,
           "rgb(8,81,156)"
          ],
          [
           1,
           "rgb(8,48,107)"
          ]
         ],
         "connectgaps": true,
         "contours": {
          "coloring": "heatmap"
         },
         "hoverinfo": "none",
         "line": {
          "smoothing": 1.3
         },
         "reversescale": false,
         "showscale": false,
         "type": "contour",
         "x": [
          4.5,
          10,
          20,
          30,
          40,
          50,
          60,
          70,
          80,
          90,
          100,
          110,
          120,
          125.5
         ],
         "xaxis": "x4",
         "y": [
          -0.027500000000000004,
          0,
          0.05,
          0.1,
          0.15000000000000002,
          0.2,
          0.25,
          0.30000000000000004,
          0.35000000000000003,
          0.4,
          0.45,
          0.55,
          0.5775
         ],
         "yaxis": "y4",
         "z": {
          "bdata": "AAAAAAAA+H8AAAAAAAD4fwAAAAAAAPh/AAAAAAAA+H8AAAAAAAD4fwAAAAAAAPh/AAAAAAAA+H8AAAAAAAD4fwAAAAAAAPh/AAAAAAAA+H8AAAAAAAD4fwAAAAAAAPh/AAAAAAAA+H8AAAAAAAD4fwAAAAAAAPh/AAAAIIGzpb8AAAAAAAD4fwAAAAAAAPh/AAAAAAAA+H8AAABAzKuwvwAAAAAAAPh/AAAAAAAA+H8AAABg+hWrvwAAAAAAAPh/AAAAAAAA+H8AAAAAAAD4fwAAAAAAAPh/AAAAAAAA+H8AAAAAAAD4fwAAAAAAAPh/AAAAAAAA+H8AAAAAAAD4fwAAACBcqqG/AAAAAAAA+H8AAAAAKi+dvwAAAAAAAPh/AAAAAAAA+H8AAAAAAAD4fwAAAADynqK/AAAAAAAA+H8AAAAAAAD4fwAAAAAAAPh/AAAAAAAA+H8AAADAM0ibvwAAAMDtnKK/AAAAwKeltb8AAABgCFqtvwAAAAAAAPh/AAAAAAAA+H8AAAAAAAD4fwAAAED7N6i/AAAAAAAA+H8AAAAAAAD4fwAAAAAAAPh/AAAAAAAA+H8AAAAAAAD4fwAAAAAAAPh/AAAAAAAA+H8AAAAATYevvwAAAMC716W/AAAAAAAA+H8AAAAAAAD4fwAAAAAAAPh/AAAAYIlypb8AAAAAAAD4fwAAAAAAAPh/AAAAAAAA+H8AAAAAAAD4fwAAAAAAAPh/AAAAAAAA+H8AAAAAAAD4fwAAAAAAAPh/AAAAwH9Cmb8AAAAAAAD4fwAAAAAAAPh/AAAAQL9ypb8AAAAAAAD4fwAAAAAAAPh/AAAAAAAA+H8AAAAAAAD4fwAAAAAAAPh/AAAAAAAA+H8AAADAgwusvwAAAAAAAPh/AAAAAAAA+H8AAAAAAAD4fwAAAAAAAPh/AAAAAAAA+H8AAAAAAAD4fwAAAAAAAPh/AAAAwFpknr8AAACgbr6lvwAAAAAAAPh/AAAAAAAA+H8AAAAAAAD4fwAAACB8Lae/AAAAAAAA+H8AAAAAAAD4fwAAAAAAAPh/AAAAYIPMtb8AAACgzHmqvwAAAAAAAPh/AAAAAAAA+H8AAAAAAAD4fwAAAAAAAPh/AAAAAAAA+H8AAAAAAAD4fwAAAAAAAPh/AAAAAAAA+H8AAAAAAAD4fwAAAAAAAPh/AAAAAAAA+H8AAAAAAAD4fwAAAOCy7KO/AAAAAAAA+H8AAAAAAAD4fwAAAAAAAPh/AAAAAAAA+H8AAAAAAAD4fwAAAAAAAPh/AAAAAAAA+H8AAAAAAAD4fwAAAAAAAPh/AAAAAAAA+H8AAAAAAAD4fwAAAAAAAPh/AAAAAAAA+H8AAAAAAAD4fwAAAAAAAPh/AAAAAAAA+H8AAAAAAAD4fwAAAAAAAPh/AAAAAAAA+H8AAAAAAAD4fwAAAAAAAPh/AAAAQOXxrb8AAAAAAAD4fwAAAAAAAPh/AAAAAAAA+H8AAAAAAAD4fwAAAAAAAPh/AAAAAAAA+H8AAAAAAAD4fwAAAAAAAPh/AAAAAAAA+H8AAAAAAAD4fwAAAKDRALC/AAAAAAAA+H8AAAAAAAD4fwAAAAAAAPh/AAAAAAAA+H8AAAAAAAD4fwAAAAAAAPh/AAAAAAAA+H8AAAAAAAD4fwAAAAAAAPh/AAAAAAAA+H8AAABgCii0vwAAAAAAAPh/AAAAYEA4ob8AAAAAAAD4fwAAAAAAAPh/AAAAAAAA+H8AAAAAAAD4fwAAAAAAAPh/AAAAAAAA+H8AAAAAAAD4fwAAAAAAAPh/AAAAAAAA+H8AAAAAAAD4fwAAAAAAAPh/AAAAAAAA+H8AAAAAAAD4fwAAAAAAAPh/AAAAAAAA+H8AAAAAAAD4fwAAAAAAAPh/AAAAAAAA+H8AAAAAAAD4fwAAAAAAAPh/AAAAAAAA+H8AAAAAAAD4fw==",
          "dtype": "f8",
          "shape": "13, 14"
         }
        },
        {
         "marker": {
          "color": "black",
          "line": {
           "color": "Gray",
           "width": 2
          }
         },
         "mode": "markers",
         "name": "Feasible Trial",
         "showlegend": false,
         "type": "scatter",
         "x": [
          40,
          30,
          20,
          50,
          60,
          50,
          30,
          110,
          60,
          60,
          90,
          10,
          80,
          10,
          10,
          20,
          10,
          30,
          120,
          80,
          20,
          40,
          100,
          70,
          40,
          20,
          50,
          20,
          70,
          30
         ],
         "xaxis": "x4",
         "y": [
          0.1,
          0.15000000000000002,
          0.2,
          0.2,
          0.05,
          0.55,
          0.55,
          0.25,
          0.45,
          0.25,
          0.4,
          0,
          0,
          0.1,
          0.35000000000000003,
          0.15000000000000002,
          0.30000000000000004,
          0.1,
          0.2,
          0.1,
          0.30000000000000004,
          0.05,
          0.05,
          0.15000000000000002,
          0.05,
          0.2,
          0,
          0.1,
          0.25,
          0.15000000000000002
         ],
         "yaxis": "y4"
        },
        {
         "colorbar": {
          "title": {
           "text": "Objective Value"
          }
         },
         "colorscale": [
          [
           0,
           "rgb(247,251,255)"
          ],
          [
           0.125,
           "rgb(222,235,247)"
          ],
          [
           0.25,
           "rgb(198,219,239)"
          ],
          [
           0.375,
           "rgb(158,202,225)"
          ],
          [
           0.5,
           "rgb(107,174,214)"
          ],
          [
           0.625,
           "rgb(66,146,198)"
          ],
          [
           0.75,
           "rgb(33,113,181)"
          ],
          [
           0.875,
           "rgb(8,81,156)"
          ],
          [
           1,
           "rgb(8,48,107)"
          ]
         ],
         "connectgaps": true,
         "contours": {
          "coloring": "heatmap"
         },
         "hoverinfo": "none",
         "line": {
          "smoothing": 1.3
         },
         "reversescale": false,
         "showscale": false,
         "type": "contour",
         "x": [
          4.5,
          10,
          20,
          30,
          40,
          50,
          60,
          70,
          80,
          90,
          100,
          110,
          120,
          125.5
         ],
         "xaxis": "x8",
         "y": [
          0.000008491914139611434,
          0.000011761401420007657,
          0.000013185905186874883,
          0.000020241322602292686,
          0.000026118442293982028,
          0.000026215725876682636,
          0.00003590379898004342,
          0.00003724238173956125,
          0.00005800261095055858,
          0.00006642304427251069,
          0.0000739891786687268,
          0.00011281915932638805,
          0.00012529423813260806,
          0.0001296919081731308,
          0.00015849851389450242,
          0.00020202133693525732,
          0.0002695973670615611,
          0.0003672480764188798,
          0.0003984885823732006,
          0.0004910421942138634,
          0.0006382813837639467,
          0.0009518437431526103,
          0.0012368839727018906,
          0.0012424260143687666,
          0.0019568610809569498,
          0.0024565074710184553,
          0.0026014202379643064,
          0.004316608150135173,
          0.004998651660820274,
          0.007662313052305139,
          0.007934665820650784,
          0.010989605914051143
         ],
         "yaxis": "y8",
         "z": {
          "bdata": "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",
          "dtype": "f8",
          "shape": "32, 14"
         }
        },
        {
         "marker": {
          "color": "black",
          "line": {
           "color": "Gray",
           "width": 2
          }
         },
         "mode": "markers",
         "name": "Feasible Trial",
         "showlegend": false,
         "type": "scatter",
         "x": [
          40,
          30,
          20,
          50,
          60,
          50,
          30,
          110,
          60,
          60,
          90,
          10,
          80,
          10,
          10,
          20,
          10,
          30,
          120,
          80,
          20,
          40,
          100,
          70,
          40,
          20,
          50,
          20,
          70,
          30
         ],
         "xaxis": "x8",
         "y": [
          0.007934665820650784,
          0.0003984885823732006,
          0.00012529423813260806,
          0.004998651660820274,
          0.0019568610809569498,
          0.0002695973670615611,
          0.004316608150135173,
          0.0001296919081731308,
          0.00006642304427251069,
          0.00011281915932638805,
          0.000013185905186874883,
          0.0012368839727018906,
          0.0012424260143687666,
          0.000026118442293982028,
          0.000020241322602292686,
          0.00003590379898004342,
          0.00003724238173956125,
          0.0003672480764188798,
          0.00015849851389450242,
          0.000011761401420007657,
          0.00005800261095055858,
          0.0009518437431526103,
          0.0006382813837639467,
          0.0026014202379643064,
          0.0024565074710184553,
          0.00020202133693525732,
          0.0000739891786687268,
          0.000026215725876682636,
          0.0004910421942138634,
          0.007662313052305139
         ],
         "yaxis": "y8"
        },
        {
         "colorbar": {
          "title": {
           "text": "Objective Value"
          }
         },
         "colorscale": [
          [
           0,
           "rgb(247,251,255)"
          ],
          [
           0.125,
           "rgb(222,235,247)"
          ],
          [
           0.25,
           "rgb(198,219,239)"
          ],
          [
           0.375,
           "rgb(158,202,225)"
          ],
          [
           0.5,
           "rgb(107,174,214)"
          ],
          [
           0.625,
           "rgb(66,146,198)"
          ],
          [
           0.75,
           "rgb(33,113,181)"
          ],
          [
           0.875,
           "rgb(8,81,156)"
          ],
          [
           1,
           "rgb(8,48,107)"
          ]
         ],
         "connectgaps": true,
         "contours": {
          "coloring": "heatmap"
         },
         "hoverinfo": "none",
         "line": {
          "smoothing": 1.3
         },
         "reversescale": false,
         "showscale": false,
         "type": "contour",
         "x": [
          4.5,
          10,
          20,
          30,
          40,
          50,
          60,
          70,
          80,
          90,
          100,
          110,
          120,
          125.5
         ],
         "xaxis": "x12",
         "y": [
          0.25,
          5,
          10,
          15,
          20,
          25,
          30,
          35,
          40,
          45,
          50,
          55,
          60,
          65,
          75,
          80,
          90,
          100,
          104.75
         ],
         "yaxis": "y12",
         "z": {
          "bdata": "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",
          "dtype": "f8",
          "shape": "19, 14"
         }
        },
        {
         "marker": {
          "color": "black",
          "line": {
           "color": "Gray",
           "width": 2
          }
         },
         "mode": "markers",
         "name": "Feasible Trial",
         "showlegend": false,
         "type": "scatter",
         "x": [
          40,
          30,
          20,
          50,
          60,
          50,
          30,
          110,
          60,
          60,
          90,
          10,
          80,
          10,
          10,
          20,
          10,
          30,
          120,
          80,
          20,
          40,
          100,
          70,
          40,
          20,
          50,
          20,
          70,
          30
         ],
         "xaxis": "x12",
         "y": [
          65,
          55,
          80,
          10,
          30,
          65,
          100,
          25,
          80,
          35,
          100,
          30,
          80,
          5,
          5,
          45,
          80,
          15,
          90,
          50,
          65,
          15,
          25,
          40,
          20,
          5,
          45,
          60,
          35,
          75
         ],
         "yaxis": "y12"
        },
        {
         "type": "scatter",
         "xaxis": "x16",
         "yaxis": "y16"
        }
       ],
       "layout": {
        "height": 600,
        "template": {
         "data": {
          "bar": [
           {
            "error_x": {
             "color": "#2a3f5f"
            },
            "error_y": {
             "color": "#2a3f5f"
            },
            "marker": {
             "line": {
              "color": "#E5ECF6",
              "width": 0.5
             },
             "pattern": {
              "fillmode": "overlay",
              "size": 10,
              "solidity": 0.2
             }
            },
            "type": "bar"
           }
          ],
          "barpolar": [
           {
            "marker": {
             "line": {
              "color": "#E5ECF6",
              "width": 0.5
             },
             "pattern": {
              "fillmode": "overlay",
              "size": 10,
              "solidity": 0.2
             }
            },
            "type": "barpolar"
           }
          ],
          "carpet": [
           {
            "aaxis": {
             "endlinecolor": "#2a3f5f",
             "gridcolor": "white",
             "linecolor": "white",
             "minorgridcolor": "white",
             "startlinecolor": "#2a3f5f"
            },
            "baxis": {
             "endlinecolor": "#2a3f5f",
             "gridcolor": "white",
             "linecolor": "white",
             "minorgridcolor": "white",
             "startlinecolor": "#2a3f5f"
            },
            "type": "carpet"
           }
          ],
          "choropleth": [
           {
            "colorbar": {
             "outlinewidth": 0,
             "ticks": ""
            },
            "type": "choropleth"
           }
          ],
          "contour": [
           {
            "colorbar": {
             "outlinewidth": 0,
             "ticks": ""
            },
            "colorscale": [
             [
              0,
              "#0d0887"
             ],
             [
              0.1111111111111111,
              "#46039f"
             ],
             [
              0.2222222222222222,
              "#7201a8"
             ],
             [
              0.3333333333333333,
              "#9c179e"
             ],
             [
              0.4444444444444444,
              "#bd3786"
             ],
             [
              0.5555555555555556,
              "#d8576b"
             ],
             [
              0.6666666666666666,
              "#ed7953"
             ],
             [
              0.7777777777777778,
              "#fb9f3a"
             ],
             [
              0.8888888888888888,
              "#fdca26"
             ],
             [
              1,
              "#f0f921"
             ]
            ],
            "type": "contour"
           }
          ],
          "contourcarpet": [
           {
            "colorbar": {
             "outlinewidth": 0,
             "ticks": ""
            },
            "type": "contourcarpet"
           }
          ],
          "heatmap": [
           {
            "colorbar": {
             "outlinewidth": 0,
             "ticks": ""
            },
            "colorscale": [
             [
              0,
              "#0d0887"
             ],
             [
              0.1111111111111111,
              "#46039f"
             ],
             [
              0.2222222222222222,
              "#7201a8"
             ],
             [
              0.3333333333333333,
              "#9c179e"
             ],
             [
              0.4444444444444444,
              "#bd3786"
             ],
             [
              0.5555555555555556,
              "#d8576b"
             ],
             [
              0.6666666666666666,
              "#ed7953"
             ],
             [
              0.7777777777777778,
              "#fb9f3a"
             ],
             [
              0.8888888888888888,
              "#fdca26"
             ],
             [
              1,
              "#f0f921"
             ]
            ],
            "type": "heatmap"
           }
          ],
          "histogram": [
           {
            "marker": {
             "pattern": {
              "fillmode": "overlay",
              "size": 10,
              "solidity": 0.2
             }
            },
            "type": "histogram"
           }
          ],
          "histogram2d": [
           {
            "colorbar": {
             "outlinewidth": 0,
             "ticks": ""
            },
            "colorscale": [
             [
              0,
              "#0d0887"
             ],
             [
              0.1111111111111111,
              "#46039f"
             ],
             [
              0.2222222222222222,
              "#7201a8"
             ],
             [
              0.3333333333333333,
              "#9c179e"
             ],
             [
              0.4444444444444444,
              "#bd3786"
             ],
             [
              0.5555555555555556,
              "#d8576b"
             ],
             [
              0.6666666666666666,
              "#ed7953"
             ],
             [
              0.7777777777777778,
              "#fb9f3a"
             ],
             [
              0.8888888888888888,
              "#fdca26"
             ],
             [
              1,
              "#f0f921"
             ]
            ],
            "type": "histogram2d"
           }
          ],
          "histogram2dcontour": [
           {
            "colorbar": {
             "outlinewidth": 0,
             "ticks": ""
            },
            "colorscale": [
             [
              0,
              "#0d0887"
             ],
             [
              0.1111111111111111,
              "#46039f"
             ],
             [
              0.2222222222222222,
              "#7201a8"
             ],
             [
              0.3333333333333333,
              "#9c179e"
             ],
             [
              0.4444444444444444,
              "#bd3786"
             ],
             [
              0.5555555555555556,
              "#d8576b"
             ],
             [
              0.6666666666666666,
              "#ed7953"
             ],
             [
              0.7777777777777778,
              "#fb9f3a"
             ],
             [
              0.8888888888888888,
              "#fdca26"
             ],
             [
              1,
              "#f0f921"
             ]
            ],
            "type": "histogram2dcontour"
           }
          ],
          "mesh3d": [
           {
            "colorbar": {
             "outlinewidth": 0,
             "ticks": ""
            },
            "type": "mesh3d"
           }
          ],
          "parcoords": [
           {
            "line": {
             "colorbar": {
              "outlinewidth": 0,
              "ticks": ""
             }
            },
            "type": "parcoords"
           }
          ],
          "pie": [
           {
            "automargin": true,
            "type": "pie"
           }
          ],
          "scatter": [
           {
            "fillpattern": {
             "fillmode": "overlay",
             "size": 10,
             "solidity": 0.2
            },
            "type": "scatter"
           }
          ],
          "scatter3d": [
           {
            "line": {
             "colorbar": {
              "outlinewidth": 0,
              "ticks": ""
             }
            },
            "marker": {
             "colorbar": {
              "outlinewidth": 0,
              "ticks": ""
             }
            },
            "type": "scatter3d"
           }
          ],
          "scattercarpet": [
           {
            "marker": {
             "colorbar": {
              "outlinewidth": 0,
              "ticks": ""
             }
            },
            "type": "scattercarpet"
           }
          ],
          "scattergeo": [
           {
            "marker": {
             "colorbar": {
              "outlinewidth": 0,
              "ticks": ""
             }
            },
            "type": "scattergeo"
           }
          ],
          "scattergl": [
           {
            "marker": {
             "colorbar": {
              "outlinewidth": 0,
              "ticks": ""
             }
            },
            "type": "scattergl"
           }
          ],
          "scattermap": [
           {
            "marker": {
             "colorbar": {
              "outlinewidth": 0,
              "ticks": ""
             }
            },
            "type": "scattermap"
           }
          ],
          "scattermapbox": [
           {
            "marker": {
             "colorbar": {
              "outlinewidth": 0,
              "ticks": ""
             }
            },
            "type": "scattermapbox"
           }
          ],
          "scatterpolar": [
           {
            "marker": {
             "colorbar": {
              "outlinewidth": 0,
              "ticks": ""
             }
            },
            "type": "scatterpolar"
           }
          ],
          "scatterpolargl": [
           {
            "marker": {
             "colorbar": {
              "outlinewidth": 0,
              "ticks": ""
             }
            },
            "type": "scatterpolargl"
           }
          ],
          "scatterternary": [
           {
            "marker": {
             "colorbar": {
              "outlinewidth": 0,
              "ticks": ""
             }
            },
            "type": "scatterternary"
           }
          ],
          "surface": [
           {
            "colorbar": {
             "outlinewidth": 0,
             "ticks": ""
            },
            "colorscale": [
             [
              0,
              "#0d0887"
             ],
             [
              0.1111111111111111,
              "#46039f"
             ],
             [
              0.2222222222222222,
              "#7201a8"
             ],
             [
              0.3333333333333333,
              "#9c179e"
             ],
             [
              0.4444444444444444,
              "#bd3786"
             ],
             [
              0.5555555555555556,
              "#d8576b"
             ],
             [
              0.6666666666666666,
              "#ed7953"
             ],
             [
              0.7777777777777778,
              "#fb9f3a"
             ],
             [
              0.8888888888888888,
              "#fdca26"
             ],
             [
              1,
              "#f0f921"
             ]
            ],
            "type": "surface"
           }
          ],
          "table": [
           {
            "cells": {
             "fill": {
              "color": "#EBF0F8"
             },
             "line": {
              "color": "white"
             }
            },
            "header": {
             "fill": {
              "color": "#C8D4E3"
             },
             "line": {
              "color": "white"
             }
            },
            "type": "table"
           }
          ]
         },
         "layout": {
          "annotationdefaults": {
           "arrowcolor": "#2a3f5f",
           "arrowhead": 0,
           "arrowwidth": 1
          },
          "autotypenumbers": "strict",
          "coloraxis": {
           "colorbar": {
            "outlinewidth": 0,
            "ticks": ""
           }
          },
          "colorscale": {
           "diverging": [
            [
             0,
             "#8e0152"
            ],
            [
             0.1,
             "#c51b7d"
            ],
            [
             0.2,
             "#de77ae"
            ],
            [
             0.3,
             "#f1b6da"
            ],
            [
             0.4,
             "#fde0ef"
            ],
            [
             0.5,
             "#f7f7f7"
            ],
            [
             0.6,
             "#e6f5d0"
            ],
            [
             0.7,
             "#b8e186"
            ],
            [
             0.8,
             "#7fbc41"
            ],
            [
             0.9,
             "#4d9221"
            ],
            [
             1,
             "#276419"
            ]
           ],
           "sequential": [
            [
             0,
             "#0d0887"
            ],
            [
             0.1111111111111111,
             "#46039f"
            ],
            [
             0.2222222222222222,
             "#7201a8"
            ],
            [
             0.3333333333333333,
             "#9c179e"
            ],
            [
             0.4444444444444444,
             "#bd3786"
            ],
            [
             0.5555555555555556,
             "#d8576b"
            ],
            [
             0.6666666666666666,
             "#ed7953"
            ],
            [
             0.7777777777777778,
             "#fb9f3a"
            ],
            [
             0.8888888888888888,
             "#fdca26"
            ],
            [
             1,
             "#f0f921"
            ]
           ],
           "sequentialminus": [
            [
             0,
             "#0d0887"
            ],
            [
             0.1111111111111111,
             "#46039f"
            ],
            [
             0.2222222222222222,
             "#7201a8"
            ],
            [
             0.3333333333333333,
             "#9c179e"
            ],
            [
             0.4444444444444444,
             "#bd3786"
            ],
            [
             0.5555555555555556,
             "#d8576b"
            ],
            [
             0.6666666666666666,
             "#ed7953"
            ],
            [
             0.7777777777777778,
             "#fb9f3a"
            ],
            [
             0.8888888888888888,
             "#fdca26"
            ],
            [
             1,
             "#f0f921"
            ]
           ]
          },
          "colorway": [
           "#636efa",
           "#EF553B",
           "#00cc96",
           "#ab63fa",
           "#FFA15A",
           "#19d3f3",
           "#FF6692",
           "#B6E880",
           "#FF97FF",
           "#FECB52"
          ],
          "font": {
           "color": "#2a3f5f"
          },
          "geo": {
           "bgcolor": "white",
           "lakecolor": "white",
           "landcolor": "#E5ECF6",
           "showlakes": true,
           "showland": true,
           "subunitcolor": "white"
          },
          "hoverlabel": {
           "align": "left"
          },
          "hovermode": "closest",
          "mapbox": {
           "style": "light"
          },
          "paper_bgcolor": "white",
          "plot_bgcolor": "#E5ECF6",
          "polar": {
           "angularaxis": {
            "gridcolor": "white",
            "linecolor": "white",
            "ticks": ""
           },
           "bgcolor": "#E5ECF6",
           "radialaxis": {
            "gridcolor": "white",
            "linecolor": "white",
            "ticks": ""
           }
          },
          "scene": {
           "xaxis": {
            "backgroundcolor": "#E5ECF6",
            "gridcolor": "white",
            "gridwidth": 2,
            "linecolor": "white",
            "showbackground": true,
            "ticks": "",
            "zerolinecolor": "white"
           },
           "yaxis": {
            "backgroundcolor": "#E5ECF6",
            "gridcolor": "white",
            "gridwidth": 2,
            "linecolor": "white",
            "showbackground": true,
            "ticks": "",
            "zerolinecolor": "white"
           },
           "zaxis": {
            "backgroundcolor": "#E5ECF6",
            "gridcolor": "white",
            "gridwidth": 2,
            "linecolor": "white",
            "showbackground": true,
            "ticks": "",
            "zerolinecolor": "white"
           }
          },
          "shapedefaults": {
           "line": {
            "color": "#2a3f5f"
           }
          },
          "ternary": {
           "aaxis": {
            "gridcolor": "white",
            "linecolor": "white",
            "ticks": ""
           },
           "baxis": {
            "gridcolor": "white",
            "linecolor": "white",
            "ticks": ""
           },
           "bgcolor": "#E5ECF6",
           "caxis": {
            "gridcolor": "white",
            "linecolor": "white",
            "ticks": ""
           }
          },
          "title": {
           "x": 0.05
          },
          "xaxis": {
           "automargin": true,
           "gridcolor": "white",
           "linecolor": "white",
           "ticks": "",
           "title": {
            "standoff": 15
           },
           "zerolinecolor": "white",
           "zerolinewidth": 2
          },
          "yaxis": {
           "automargin": true,
           "gridcolor": "white",
           "linecolor": "white",
           "ticks": "",
           "title": {
            "standoff": 15
           },
           "zerolinecolor": "white",
           "zerolinewidth": 2
          }
         }
        },
        "title": {
         "text": "Contour Plot"
        },
        "width": 1000,
        "xaxis": {
         "anchor": "y",
         "domain": [
          0,
          0.2125
         ],
         "matches": "x13",
         "range": [
          -0.027500000000000004,
          0.5775
         ],
         "showticklabels": false
        },
        "xaxis10": {
         "anchor": "y10",
         "domain": [
          0.2625,
          0.475
         ],
         "matches": "x14",
         "range": [
          -5.070994405566034,
          -1.959017881045267
         ],
         "showticklabels": false,
         "type": "log"
        },
        "xaxis11": {
         "anchor": "y11",
         "domain": [
          0.525,
          0.7375
         ],
         "matches": "x15",
         "range": [
          0.25,
          104.75
         ],
         "showticklabels": false
        },
        "xaxis12": {
         "anchor": "y12",
         "domain": [
          0.7875,
          1
         ],
         "matches": "x16",
         "range": [
          4.5,
          125.5
         ],
         "showticklabels": false
        },
        "xaxis13": {
         "anchor": "y13",
         "domain": [
          0,
          0.2125
         ],
         "range": [
          -0.027500000000000004,
          0.5775
         ],
         "title": {
          "text": "dropout_rate"
         }
        },
        "xaxis14": {
         "anchor": "y14",
         "domain": [
          0.2625,
          0.475
         ],
         "range": [
          -5.070994405566034,
          -1.959017881045267
         ],
         "title": {
          "text": "lr"
         },
         "type": "log"
        },
        "xaxis15": {
         "anchor": "y15",
         "domain": [
          0.525,
          0.7375
         ],
         "range": [
          0.25,
          104.75
         ],
         "title": {
          "text": "stride"
         }
        },
        "xaxis16": {
         "anchor": "y16",
         "domain": [
          0.7875,
          1
         ],
         "range": [
          4.5,
          125.5
         ],
         "title": {
          "text": "window"
         }
        },
        "xaxis2": {
         "anchor": "y2",
         "domain": [
          0.2625,
          0.475
         ],
         "matches": "x14",
         "range": [
          -5.070994405566034,
          -1.959017881045267
         ],
         "showticklabels": false,
         "type": "log"
        },
        "xaxis3": {
         "anchor": "y3",
         "domain": [
          0.525,
          0.7375
         ],
         "matches": "x15",
         "range": [
          0.25,
          104.75
         ],
         "showticklabels": false
        },
        "xaxis4": {
         "anchor": "y4",
         "domain": [
          0.7875,
          1
         ],
         "matches": "x16",
         "range": [
          4.5,
          125.5
         ],
         "showticklabels": false
        },
        "xaxis5": {
         "anchor": "y5",
         "domain": [
          0,
          0.2125
         ],
         "matches": "x13",
         "range": [
          -0.027500000000000004,
          0.5775
         ],
         "showticklabels": false
        },
        "xaxis6": {
         "anchor": "y6",
         "domain": [
          0.2625,
          0.475
         ],
         "matches": "x14",
         "range": [
          -5.070994405566034,
          -1.959017881045267
         ],
         "showticklabels": false,
         "type": "log"
        },
        "xaxis7": {
         "anchor": "y7",
         "domain": [
          0.525,
          0.7375
         ],
         "matches": "x15",
         "range": [
          0.25,
          104.75
         ],
         "showticklabels": false
        },
        "xaxis8": {
         "anchor": "y8",
         "domain": [
          0.7875,
          1
         ],
         "matches": "x16",
         "range": [
          4.5,
          125.5
         ],
         "showticklabels": false
        },
        "xaxis9": {
         "anchor": "y9",
         "domain": [
          0,
          0.2125
         ],
         "matches": "x13",
         "range": [
          -0.027500000000000004,
          0.5775
         ],
         "showticklabels": false
        },
        "yaxis": {
         "anchor": "x",
         "domain": [
          0.80625,
          1
         ],
         "range": [
          -0.027500000000000004,
          0.5775
         ],
         "title": {
          "text": "dropout_rate"
         }
        },
        "yaxis10": {
         "anchor": "x10",
         "domain": [
          0.26875,
          0.4625
         ],
         "matches": "y9",
         "range": [
          0.25,
          104.75
         ],
         "showticklabels": false
        },
        "yaxis11": {
         "anchor": "x11",
         "domain": [
          0.26875,
          0.4625
         ],
         "matches": "y9",
         "range": [
          0.25,
          104.75
         ],
         "showticklabels": false
        },
        "yaxis12": {
         "anchor": "x12",
         "domain": [
          0.26875,
          0.4625
         ],
         "matches": "y9",
         "range": [
          0.25,
          104.75
         ],
         "showticklabels": false
        },
        "yaxis13": {
         "anchor": "x13",
         "domain": [
          0,
          0.19375
         ],
         "range": [
          4.5,
          125.5
         ],
         "title": {
          "text": "window"
         }
        },
        "yaxis14": {
         "anchor": "x14",
         "domain": [
          0,
          0.19375
         ],
         "matches": "y13",
         "range": [
          4.5,
          125.5
         ],
         "showticklabels": false
        },
        "yaxis15": {
         "anchor": "x15",
         "domain": [
          0,
          0.19375
         ],
         "matches": "y13",
         "range": [
          4.5,
          125.5
         ],
         "showticklabels": false
        },
        "yaxis16": {
         "anchor": "x16",
         "domain": [
          0,
          0.19375
         ],
         "matches": "y13",
         "range": [
          4.5,
          125.5
         ],
         "showticklabels": false
        },
        "yaxis2": {
         "anchor": "x2",
         "domain": [
          0.80625,
          1
         ],
         "matches": "y",
         "range": [
          -0.027500000000000004,
          0.5775
         ],
         "showticklabels": false
        },
        "yaxis3": {
         "anchor": "x3",
         "domain": [
          0.80625,
          1
         ],
         "matches": "y",
         "range": [
          -0.027500000000000004,
          0.5775
         ],
         "showticklabels": false
        },
        "yaxis4": {
         "anchor": "x4",
         "domain": [
          0.80625,
          1
         ],
         "matches": "y",
         "range": [
          -0.027500000000000004,
          0.5775
         ],
         "showticklabels": false
        },
        "yaxis5": {
         "anchor": "x5",
         "domain": [
          0.5375,
          0.73125
         ],
         "range": [
          -5.070994405566034,
          -1.959017881045267
         ],
         "title": {
          "text": "lr"
         },
         "type": "log"
        },
        "yaxis6": {
         "anchor": "x6",
         "domain": [
          0.5375,
          0.73125
         ],
         "matches": "y5",
         "range": [
          -5.070994405566034,
          -1.959017881045267
         ],
         "showticklabels": false,
         "type": "log"
        },
        "yaxis7": {
         "anchor": "x7",
         "domain": [
          0.5375,
          0.73125
         ],
         "matches": "y5",
         "range": [
          -5.070994405566034,
          -1.959017881045267
         ],
         "showticklabels": false,
         "type": "log"
        },
        "yaxis8": {
         "anchor": "x8",
         "domain": [
          0.5375,
          0.73125
         ],
         "matches": "y5",
         "range": [
          -5.070994405566034,
          -1.959017881045267
         ],
         "showticklabels": false,
         "type": "log"
        },
        "yaxis9": {
         "anchor": "x9",
         "domain": [
          0.26875,
          0.4625
         ],
         "range": [
          0.25,
          104.75
         ],
         "title": {
          "text": "stride"
         }
        }
       }
      }
     },
     "metadata": {},
     "output_type": "display_data"
    }
   ],
   "source": [
    "# Optimization history\n",
    "fig1 = vis.plot_optimization_history(study)\n",
    "fig1.update_layout(width=1000, height=600)\n",
    "fig1.show()\n",
    "\n",
    "# Hyperparameter importances\n",
    "fig2 = vis.plot_param_importances(study)\n",
    "fig2.update_layout(width=1000, height=600)\n",
    "fig2.show()\n",
    "\n",
    "# Slice plot\n",
    "fig3 = vis.plot_slice(study)\n",
    "fig3.update_layout(width=1000, height=600)\n",
    "fig3.show()\n",
    "\n",
    "# Contour plot\n",
    "fig4 = vis.plot_contour(study, params=[\"window\", \"dropout_rate\", \"lr\", \"stride\"])\n",
    "fig4.update_layout(width=1000, height=600)\n",
    "fig4.show()\n"
   ]
  },
  {
   "cell_type": "code",
   "execution_count": 10,
   "id": "ecb495b8",
   "metadata": {},
   "outputs": [
    {
     "name": "stdout",
     "output_type": "stream",
     "text": [
      "  Value (lowest Val RMSE): -0.024668\n"
     ]
    }
   ],
   "source": [
    "print(f\"  Value (lowest Val RMSE): {study.best_trial.value:.6f}\")"
   ]
  },
  {
   "cell_type": "code",
   "execution_count": 11,
   "id": "43f7f736",
   "metadata": {},
   "outputs": [
    {
     "name": "stdout",
     "output_type": "stream",
     "text": [
      "    train_date_range: ('2006-01-01', '2016-01-01')\n",
      "    window: 20\n",
      "    stride: 80\n",
      "    batch_size: 64\n",
      "    lr: 0.00012529423813260806\n",
      "    epochs: 45\n",
      "    dropout_rate: 0.2\n",
      "    hidden_sizes: [512, 256, 128]\n"
     ]
    }
   ],
   "source": [
    "for key, value in study.best_params.items():\n",
    "    print(f\"    {key}: {value}\")\n"
   ]
  },
  {
   "cell_type": "markdown",
   "id": "4d415d45",
   "metadata": {},
   "source": [
    "## Archive"
   ]
  },
  {
   "cell_type": "code",
   "execution_count": null,
   "id": "1401e243",
   "metadata": {},
   "outputs": [],
   "source": [
    "# features = [\n",
    "#     \"Open\", \"High\", \"Low\", \"Close\", \"Volume\",\n",
    "#     \"LogReturn_Lag1\", \"LogReturn_Lag2\", \"LogReturn_Lag3\",\n",
    "#     \"LogReturn_Lag4\", \"LogReturn_Lag5\"\n",
    "# ]\n",
    "\n",
    "# base_config_template = {\n",
    "#     \"csv_path\": \"stocks/AAPL.csv\",\n",
    "#     \"features\": features,\n",
    "#     \"target\": \"LogReturn\",\n",
    "#     \"loader_func\": load_data_with_logReturn\n",
    "# }\n",
    "\n",
    "# mlp_extra_config = {\n",
    "#     \"config\": {\n",
    "#         \"window\": 50,\n",
    "#         \"stride\": 50,\n",
    "#         \"batch_size\": 64,\n",
    "#         \"shuffle_train_set\": False,\n",
    "#         \"lr\": 1e-3,\n",
    "#         \"epochs\": 20,\n",
    "#         \"dropout_rate\": 0.2,\n",
    "#         \"device\": device\n",
    "#     }\n",
    "# }\n",
    "\n",
    "# sim_config = {\n",
    "#     \"csv_path\": base_config_template[\"csv_path\"],\n",
    "#     \"features\": base_config_template[\"features\"],\n",
    "#     \"target\": base_config_template[\"target\"],\n",
    "#     \"sim_start_date\": \"2019-05-01\",\n",
    "#     \"sim_end_date\": \"2025-05-01\",\n",
    "#     \"loader_func\": base_config_template[\"loader_func\"],\n",
    "#     \"window\": 50,\n",
    "#     \"stride\": 1,\n",
    "#     \"batch_size\": 64,\n",
    "#     \"device\": device\n",
    "# }\n",
    "\n",
    "# slide_start_dates = pd.date_range(\"1990-01-01\", \"2005-01-01\", freq=\"5YS\").strftime(\"%Y-%m-%d\").tolist()\n",
    "\n",
    "# for start in slide_start_dates:\n",
    "#     start_year = int(start[:4])\n",
    "#     end_year = start_year + 15\n",
    "#     end = f\"{end_year}-04-30\" \n",
    "\n",
    "#     print(f\"[INFO] Running experiment from {start} to {end}...\")\n",
    "\n",
    "#     base_config = {\n",
    "#         **base_config_template,\n",
    "#         \"train_val_test_start\": start,\n",
    "#         \"train_val_test_end\": end,\n",
    "#     }\n",
    "\n",
    "#     mlp_config = {**base_config, **mlp_extra_config}\n",
    "\n",
    "#     runner = BacktestRunner(MLP_Regression, mlp_config)\n",
    "#     runner.train_optimal_model()\n",
    "#     runner.evaluate_model()\n",
    "#     runner.run_real_world_simulation(MLP_Simulation, sim_config)\n",
    "#     runner.log_results(log_name=f\"{start}_to_{end}\")"
   ]
  }
 ],
 "metadata": {
  "kernelspec": {
   "display_name": "ee460_new_310",
   "language": "python",
   "name": "python3"
  },
  "language_info": {
   "codemirror_mode": {
    "name": "ipython",
    "version": 3
   },
   "file_extension": ".py",
   "mimetype": "text/x-python",
   "name": "python",
   "nbconvert_exporter": "python",
   "pygments_lexer": "ipython3",
   "version": "3.10.16"
  }
 },
 "nbformat": 4,
 "nbformat_minor": 5
}
