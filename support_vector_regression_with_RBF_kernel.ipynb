{
  "cells": [
    {
      "cell_type": "markdown",
      "metadata": {
        "id": "4QoYTAlBQ9jA"
      },
      "source": [
        "## Load Data"
      ]
    },
    {
      "cell_type": "code",
      "execution_count": null,
      "metadata": {
        "colab": {
          "base_uri": "https://localhost:8080/"
        },
        "id": "9HR6qqxN5bCN",
        "outputId": "8ede90f9-56b6-4561-f070-bc804477471f"
      },
      "outputs": [
        {
          "name": "stdout",
          "output_type": "stream",
          "text": [
            "YF.download() has changed argument auto_adjust default to True\n"
          ]
        },
        {
          "name": "stderr",
          "output_type": "stream",
          "text": [
            "\r[*********************100%***********************]  1 of 1 completed"
          ]
        },
        {
          "name": "stdout",
          "output_type": "stream",
          "text": [
            "Price          Close      High       Low      Open     Volume LogReturn  \\\n",
            "Ticker          AAPL      AAPL      AAPL      AAPL       AAPL             \n",
            "Date                                                                      \n",
            "2010-01-12  6.251043  6.312735  6.211921  6.295280  594459600 -0.011440   \n",
            "2010-01-13  6.339215  6.347642  6.142103  6.255556  605892000  0.014007   \n",
            "2010-01-14  6.302502  6.333498  6.290163  6.322966  432894000 -0.005808   \n",
            "2010-01-15  6.197175  6.367806  6.195369  6.347642  594067600 -0.016853   \n",
            "2010-01-19  6.471327  6.475841  6.236597  6.269399  730007600  0.043288   \n",
            "\n",
            "Price      LogReturn_Lag1 LogReturn_Lag2 LogReturn_Lag3 LogReturn_Lag4  \\\n",
            "Ticker                                                                   \n",
            "Date                                                                     \n",
            "2010-01-12      -0.008860       0.006626      -0.001851      -0.016034   \n",
            "2010-01-13      -0.011440      -0.008860       0.006626      -0.001851   \n",
            "2010-01-14       0.014007      -0.011440      -0.008860       0.006626   \n",
            "2010-01-15      -0.005808       0.014007      -0.011440      -0.008860   \n",
            "2010-01-19      -0.016853      -0.005808       0.014007      -0.011440   \n",
            "\n",
            "Price      LogReturn_Lag5  \n",
            "Ticker                     \n",
            "Date                       \n",
            "2010-01-12       0.001727  \n",
            "2010-01-13      -0.016034  \n",
            "2010-01-14      -0.001851  \n",
            "2010-01-15       0.006626  \n",
            "2010-01-19      -0.008860  \n"
          ]
        },
        {
          "name": "stderr",
          "output_type": "stream",
          "text": [
            "\n"
          ]
        }
      ],
      "source": [
        "import yfinance as yf\n",
        "import pandas as pd\n",
        "import numpy as np\n",
        "\n",
        "# Download AAPL data\n",
        "data = yf.download(\"AAPL\", start=\"2010-01-01\", end=\"2024-01-01\")\n",
        "\n",
        "# Compute log returns\n",
        "data[\"LogReturn\"] = np.log(data[\"Close\"] / data[\"Close\"].shift(1))\n",
        "\n",
        "# Add lagged log returns as features\n",
        "for lag in range(1, 6):\n",
        "    data[f\"LogReturn_Lag{lag}\"] = data[\"LogReturn\"].shift(lag)\n",
        "\n",
        "# Add percentage changes of other features\n",
        "data[\"Open\"] = data[\"Open\"]\n",
        "data[\"High\"] = data[\"High\"]\n",
        "data[\"Low\"] = data[\"Low\"]\n",
        "data[\"Close\"] = data[\"Close\"]\n",
        "data[\"Volume\"] = data[\"Volume\"]\n",
        "\n",
        "# Drop NaNs\n",
        "data.dropna(inplace=True)\n",
        "\n",
        "# Display prepared feature columns\n",
        "print(data.head())"
      ]
    },
    {
      "cell_type": "code",
      "execution_count": null,
      "metadata": {
        "colab": {
          "base_uri": "https://localhost:8080/",
          "height": 292
        },
        "id": "D6YWeYvl9w5p",
        "outputId": "32e44527-7653-4e05-a3b2-54d38d8df2fc"
      },
      "outputs": [
        {
          "name": "stderr",
          "output_type": "stream",
          "text": [
            "<ipython-input-2-22eac2cbd6ff>:6: UserWarning: Could not infer format, so each element will be parsed individually, falling back to `dateutil`. To ensure parsing is consistent and as-expected, please specify a format.\n",
            "  data = pd.read_csv(\"data.csv\", index_col=0, parse_dates=True)\n"
          ]
        },
        {
          "data": {
            "application/vnd.google.colaboratory.intrinsic+json": {
              "summary": "{\n  \"name\": \"data_clean\",\n  \"rows\": 3516,\n  \"fields\": [\n    {\n      \"column\": \"Date\",\n      \"properties\": {\n        \"dtype\": \"date\",\n        \"min\": \"2010-01-12 00:00:00\",\n        \"max\": \"2023-12-29 00:00:00\",\n        \"num_unique_values\": 3516,\n        \"samples\": [\n          \"2019-10-16 00:00:00\",\n          \"2010-04-23 00:00:00\",\n          \"2011-06-14 00:00:00\"\n        ],\n        \"semantic_type\": \"\",\n        \"description\": \"\"\n      }\n    },\n    {\n      \"column\": \"Close\",\n      \"properties\": {\n        \"dtype\": \"number\",\n        \"std\": 55.52713762351108,\n        \"min\": 5.779476165771484,\n        \"max\": 196.9276580810547,\n        \"num_unique_values\": 3467,\n        \"samples\": [\n          21.992721557617188,\n          13.305011749267578,\n          12.935358047485352\n        ],\n        \"semantic_type\": \"\",\n        \"description\": \"\"\n      }\n    },\n    {\n      \"column\": \"High\",\n      \"properties\": {\n        \"dtype\": \"number\",\n        \"std\": 56.09600039757621,\n        \"min\": 5.89834434204499,\n        \"max\": 198.42864077264184,\n        \"num_unique_values\": 3516,\n        \"samples\": [\n          56.78217697135607,\n          8.190876524525272,\n          10.028691346052328\n        ],\n        \"semantic_type\": \"\",\n        \"description\": \"\"\n      }\n    },\n    {\n      \"column\": \"Low\",\n      \"properties\": {\n        \"dtype\": \"number\",\n        \"std\": 54.896458731135176,\n        \"min\": 5.725308063759404,\n        \"max\": 195.82429416614897,\n        \"num_unique_values\": 3516,\n        \"samples\": [\n          56.289760190553885,\n          8.034992106715263,\n          9.910122270439144\n        ],\n        \"semantic_type\": \"\",\n        \"description\": \"\"\n      }\n    },\n    {\n      \"column\": \"Open\",\n      \"properties\": {\n        \"dtype\": \"number\",\n        \"std\": 55.47075924502788,\n        \"min\": 5.789106054008692,\n        \"max\": 196.83819885132337,\n        \"num_unique_values\": 3516,\n        \"samples\": [\n          56.33079430842692,\n          8.06478425102407,\n          9.930886925904034\n        ],\n        \"semantic_type\": \"\",\n        \"description\": \"\"\n      }\n    },\n    {\n      \"column\": \"Volume\",\n      \"properties\": {\n        \"dtype\": \"number\",\n        \"std\": 220365323,\n        \"min\": 24048300,\n        \"max\": 1880998000,\n        \"num_unique_values\": 3507,\n        \"samples\": [\n          82507500,\n          425639200,\n          197114800\n        ],\n        \"semantic_type\": \"\",\n        \"description\": \"\"\n      }\n    },\n    {\n      \"column\": \"LogReturn\",\n      \"properties\": {\n        \"dtype\": \"number\",\n        \"std\": 0.017783728727311467,\n        \"min\": -0.137708021242831,\n        \"max\": 0.1131576892871621,\n        \"num_unique_values\": 3511,\n        \"samples\": [\n          -0.009614817751926,\n          0.0067661944691285,\n          0.0089538978528099\n        ],\n        \"semantic_type\": \"\",\n        \"description\": \"\"\n      }\n    },\n    {\n      \"column\": \"LogReturn_Lag1\",\n      \"properties\": {\n        \"dtype\": \"number\",\n        \"std\": 0.01778417310491842,\n        \"min\": -0.137708021242831,\n        \"max\": 0.1131576892871621,\n        \"num_unique_values\": 3511,\n        \"samples\": [\n          0.0079026924350714,\n          0.0007546831437169,\n          -0.0103856615893526\n        ],\n        \"semantic_type\": \"\",\n        \"description\": \"\"\n      }\n    },\n    {\n      \"column\": \"LogReturn_Lag2\",\n      \"properties\": {\n        \"dtype\": \"number\",\n        \"std\": 0.0177844164644908,\n        \"min\": -0.137708021242831,\n        \"max\": 0.1131576892871621,\n        \"num_unique_values\": 3511,\n        \"samples\": [\n          0.0119222905013649,\n          -0.0055924356302925,\n          -0.0121646600042594\n        ],\n        \"semantic_type\": \"\",\n        \"description\": \"\"\n      }\n    },\n    {\n      \"column\": \"LogReturn_Lag3\",\n      \"properties\": {\n        \"dtype\": \"number\",\n        \"std\": 0.017784478452436244,\n        \"min\": -0.137708021242831,\n        \"max\": 0.1131576892871621,\n        \"num_unique_values\": 3511,\n        \"samples\": [\n          0.0052826815710253,\n          -0.0040673862512316,\n          -0.020925858442402\n        ],\n        \"semantic_type\": \"\",\n        \"description\": \"\"\n      }\n    },\n    {\n      \"column\": \"LogReturn_Lag4\",\n      \"properties\": {\n        \"dtype\": \"number\",\n        \"std\": 0.01778667410421843,\n        \"min\": -0.137708021242831,\n        \"max\": 0.1131576892871621,\n        \"num_unique_values\": 3511,\n        \"samples\": [\n          0.0012620920318042,\n          -0.0104559097728862,\n          0.0361683399598651\n        ],\n        \"semantic_type\": \"\",\n        \"description\": \"\"\n      }\n    },\n    {\n      \"column\": \"LogReturn_Lag5\",\n      \"properties\": {\n        \"dtype\": \"number\",\n        \"std\": 0.017786337747327297,\n        \"min\": -0.137708021242831,\n        \"max\": 0.1131576892871621,\n        \"num_unique_values\": 3511,\n        \"samples\": [\n          0.0353178674967794,\n          0.0163123583523302,\n          0.0087005185877849\n        ],\n        \"semantic_type\": \"\",\n        \"description\": \"\"\n      }\n    }\n  ]\n}",
              "type": "dataframe",
              "variable_name": "data_clean"
            },
            "text/html": [
              "\n",
              "  <div id=\"df-531decbe-98b7-4e80-8eb3-bdf598555c65\" class=\"colab-df-container\">\n",
              "    <div>\n",
              "<style scoped>\n",
              "    .dataframe tbody tr th:only-of-type {\n",
              "        vertical-align: middle;\n",
              "    }\n",
              "\n",
              "    .dataframe tbody tr th {\n",
              "        vertical-align: top;\n",
              "    }\n",
              "\n",
              "    .dataframe thead th {\n",
              "        text-align: right;\n",
              "    }\n",
              "</style>\n",
              "<table border=\"1\" class=\"dataframe\">\n",
              "  <thead>\n",
              "    <tr style=\"text-align: right;\">\n",
              "      <th></th>\n",
              "      <th>Close</th>\n",
              "      <th>High</th>\n",
              "      <th>Low</th>\n",
              "      <th>Open</th>\n",
              "      <th>Volume</th>\n",
              "      <th>LogReturn</th>\n",
              "      <th>LogReturn_Lag1</th>\n",
              "      <th>LogReturn_Lag2</th>\n",
              "      <th>LogReturn_Lag3</th>\n",
              "      <th>LogReturn_Lag4</th>\n",
              "      <th>LogReturn_Lag5</th>\n",
              "    </tr>\n",
              "    <tr>\n",
              "      <th>Date</th>\n",
              "      <th></th>\n",
              "      <th></th>\n",
              "      <th></th>\n",
              "      <th></th>\n",
              "      <th></th>\n",
              "      <th></th>\n",
              "      <th></th>\n",
              "      <th></th>\n",
              "      <th></th>\n",
              "      <th></th>\n",
              "      <th></th>\n",
              "    </tr>\n",
              "  </thead>\n",
              "  <tbody>\n",
              "    <tr>\n",
              "      <th>2010-01-12</th>\n",
              "      <td>6.251043</td>\n",
              "      <td>6.312735</td>\n",
              "      <td>6.211921</td>\n",
              "      <td>6.295280</td>\n",
              "      <td>594459600</td>\n",
              "      <td>-0.011440</td>\n",
              "      <td>-0.008860</td>\n",
              "      <td>0.006626</td>\n",
              "      <td>-0.001851</td>\n",
              "      <td>-0.016034</td>\n",
              "      <td>0.001727</td>\n",
              "    </tr>\n",
              "    <tr>\n",
              "      <th>2010-01-13</th>\n",
              "      <td>6.339215</td>\n",
              "      <td>6.347642</td>\n",
              "      <td>6.142103</td>\n",
              "      <td>6.255556</td>\n",
              "      <td>605892000</td>\n",
              "      <td>0.014007</td>\n",
              "      <td>-0.011440</td>\n",
              "      <td>-0.008860</td>\n",
              "      <td>0.006626</td>\n",
              "      <td>-0.001851</td>\n",
              "      <td>-0.016034</td>\n",
              "    </tr>\n",
              "    <tr>\n",
              "      <th>2010-01-14</th>\n",
              "      <td>6.302502</td>\n",
              "      <td>6.333498</td>\n",
              "      <td>6.290163</td>\n",
              "      <td>6.322966</td>\n",
              "      <td>432894000</td>\n",
              "      <td>-0.005808</td>\n",
              "      <td>0.014007</td>\n",
              "      <td>-0.011440</td>\n",
              "      <td>-0.008860</td>\n",
              "      <td>0.006626</td>\n",
              "      <td>-0.001851</td>\n",
              "    </tr>\n",
              "    <tr>\n",
              "      <th>2010-01-15</th>\n",
              "      <td>6.197175</td>\n",
              "      <td>6.367806</td>\n",
              "      <td>6.195369</td>\n",
              "      <td>6.347642</td>\n",
              "      <td>594067600</td>\n",
              "      <td>-0.016853</td>\n",
              "      <td>-0.005808</td>\n",
              "      <td>0.014007</td>\n",
              "      <td>-0.011440</td>\n",
              "      <td>-0.008860</td>\n",
              "      <td>0.006626</td>\n",
              "    </tr>\n",
              "    <tr>\n",
              "      <th>2010-01-19</th>\n",
              "      <td>6.471327</td>\n",
              "      <td>6.475841</td>\n",
              "      <td>6.236597</td>\n",
              "      <td>6.269399</td>\n",
              "      <td>730007600</td>\n",
              "      <td>0.043288</td>\n",
              "      <td>-0.016853</td>\n",
              "      <td>-0.005808</td>\n",
              "      <td>0.014007</td>\n",
              "      <td>-0.011440</td>\n",
              "      <td>-0.008860</td>\n",
              "    </tr>\n",
              "  </tbody>\n",
              "</table>\n",
              "</div>\n",
              "    <div class=\"colab-df-buttons\">\n",
              "\n",
              "  <div class=\"colab-df-container\">\n",
              "    <button class=\"colab-df-convert\" onclick=\"convertToInteractive('df-531decbe-98b7-4e80-8eb3-bdf598555c65')\"\n",
              "            title=\"Convert this dataframe to an interactive table.\"\n",
              "            style=\"display:none;\">\n",
              "\n",
              "  <svg xmlns=\"http://www.w3.org/2000/svg\" height=\"24px\" viewBox=\"0 -960 960 960\">\n",
              "    <path d=\"M120-120v-720h720v720H120Zm60-500h600v-160H180v160Zm220 220h160v-160H400v160Zm0 220h160v-160H400v160ZM180-400h160v-160H180v160Zm440 0h160v-160H620v160ZM180-180h160v-160H180v160Zm440 0h160v-160H620v160Z\"/>\n",
              "  </svg>\n",
              "    </button>\n",
              "\n",
              "  <style>\n",
              "    .colab-df-container {\n",
              "      display:flex;\n",
              "      gap: 12px;\n",
              "    }\n",
              "\n",
              "    .colab-df-convert {\n",
              "      background-color: #E8F0FE;\n",
              "      border: none;\n",
              "      border-radius: 50%;\n",
              "      cursor: pointer;\n",
              "      display: none;\n",
              "      fill: #1967D2;\n",
              "      height: 32px;\n",
              "      padding: 0 0 0 0;\n",
              "      width: 32px;\n",
              "    }\n",
              "\n",
              "    .colab-df-convert:hover {\n",
              "      background-color: #E2EBFA;\n",
              "      box-shadow: 0px 1px 2px rgba(60, 64, 67, 0.3), 0px 1px 3px 1px rgba(60, 64, 67, 0.15);\n",
              "      fill: #174EA6;\n",
              "    }\n",
              "\n",
              "    .colab-df-buttons div {\n",
              "      margin-bottom: 4px;\n",
              "    }\n",
              "\n",
              "    [theme=dark] .colab-df-convert {\n",
              "      background-color: #3B4455;\n",
              "      fill: #D2E3FC;\n",
              "    }\n",
              "\n",
              "    [theme=dark] .colab-df-convert:hover {\n",
              "      background-color: #434B5C;\n",
              "      box-shadow: 0px 1px 3px 1px rgba(0, 0, 0, 0.15);\n",
              "      filter: drop-shadow(0px 1px 2px rgba(0, 0, 0, 0.3));\n",
              "      fill: #FFFFFF;\n",
              "    }\n",
              "  </style>\n",
              "\n",
              "    <script>\n",
              "      const buttonEl =\n",
              "        document.querySelector('#df-531decbe-98b7-4e80-8eb3-bdf598555c65 button.colab-df-convert');\n",
              "      buttonEl.style.display =\n",
              "        google.colab.kernel.accessAllowed ? 'block' : 'none';\n",
              "\n",
              "      async function convertToInteractive(key) {\n",
              "        const element = document.querySelector('#df-531decbe-98b7-4e80-8eb3-bdf598555c65');\n",
              "        const dataTable =\n",
              "          await google.colab.kernel.invokeFunction('convertToInteractive',\n",
              "                                                    [key], {});\n",
              "        if (!dataTable) return;\n",
              "\n",
              "        const docLinkHtml = 'Like what you see? Visit the ' +\n",
              "          '<a target=\"_blank\" href=https://colab.research.google.com/notebooks/data_table.ipynb>data table notebook</a>'\n",
              "          + ' to learn more about interactive tables.';\n",
              "        element.innerHTML = '';\n",
              "        dataTable['output_type'] = 'display_data';\n",
              "        await google.colab.output.renderOutput(dataTable, element);\n",
              "        const docLink = document.createElement('div');\n",
              "        docLink.innerHTML = docLinkHtml;\n",
              "        element.appendChild(docLink);\n",
              "      }\n",
              "    </script>\n",
              "  </div>\n",
              "\n",
              "\n",
              "    <div id=\"df-71b8c98c-97c2-4db2-9fc2-c5e6a3422684\">\n",
              "      <button class=\"colab-df-quickchart\" onclick=\"quickchart('df-71b8c98c-97c2-4db2-9fc2-c5e6a3422684')\"\n",
              "                title=\"Suggest charts\"\n",
              "                style=\"display:none;\">\n",
              "\n",
              "<svg xmlns=\"http://www.w3.org/2000/svg\" height=\"24px\"viewBox=\"0 0 24 24\"\n",
              "     width=\"24px\">\n",
              "    <g>\n",
              "        <path d=\"M19 3H5c-1.1 0-2 .9-2 2v14c0 1.1.9 2 2 2h14c1.1 0 2-.9 2-2V5c0-1.1-.9-2-2-2zM9 17H7v-7h2v7zm4 0h-2V7h2v10zm4 0h-2v-4h2v4z\"/>\n",
              "    </g>\n",
              "</svg>\n",
              "      </button>\n",
              "\n",
              "<style>\n",
              "  .colab-df-quickchart {\n",
              "      --bg-color: #E8F0FE;\n",
              "      --fill-color: #1967D2;\n",
              "      --hover-bg-color: #E2EBFA;\n",
              "      --hover-fill-color: #174EA6;\n",
              "      --disabled-fill-color: #AAA;\n",
              "      --disabled-bg-color: #DDD;\n",
              "  }\n",
              "\n",
              "  [theme=dark] .colab-df-quickchart {\n",
              "      --bg-color: #3B4455;\n",
              "      --fill-color: #D2E3FC;\n",
              "      --hover-bg-color: #434B5C;\n",
              "      --hover-fill-color: #FFFFFF;\n",
              "      --disabled-bg-color: #3B4455;\n",
              "      --disabled-fill-color: #666;\n",
              "  }\n",
              "\n",
              "  .colab-df-quickchart {\n",
              "    background-color: var(--bg-color);\n",
              "    border: none;\n",
              "    border-radius: 50%;\n",
              "    cursor: pointer;\n",
              "    display: none;\n",
              "    fill: var(--fill-color);\n",
              "    height: 32px;\n",
              "    padding: 0;\n",
              "    width: 32px;\n",
              "  }\n",
              "\n",
              "  .colab-df-quickchart:hover {\n",
              "    background-color: var(--hover-bg-color);\n",
              "    box-shadow: 0 1px 2px rgba(60, 64, 67, 0.3), 0 1px 3px 1px rgba(60, 64, 67, 0.15);\n",
              "    fill: var(--button-hover-fill-color);\n",
              "  }\n",
              "\n",
              "  .colab-df-quickchart-complete:disabled,\n",
              "  .colab-df-quickchart-complete:disabled:hover {\n",
              "    background-color: var(--disabled-bg-color);\n",
              "    fill: var(--disabled-fill-color);\n",
              "    box-shadow: none;\n",
              "  }\n",
              "\n",
              "  .colab-df-spinner {\n",
              "    border: 2px solid var(--fill-color);\n",
              "    border-color: transparent;\n",
              "    border-bottom-color: var(--fill-color);\n",
              "    animation:\n",
              "      spin 1s steps(1) infinite;\n",
              "  }\n",
              "\n",
              "  @keyframes spin {\n",
              "    0% {\n",
              "      border-color: transparent;\n",
              "      border-bottom-color: var(--fill-color);\n",
              "      border-left-color: var(--fill-color);\n",
              "    }\n",
              "    20% {\n",
              "      border-color: transparent;\n",
              "      border-left-color: var(--fill-color);\n",
              "      border-top-color: var(--fill-color);\n",
              "    }\n",
              "    30% {\n",
              "      border-color: transparent;\n",
              "      border-left-color: var(--fill-color);\n",
              "      border-top-color: var(--fill-color);\n",
              "      border-right-color: var(--fill-color);\n",
              "    }\n",
              "    40% {\n",
              "      border-color: transparent;\n",
              "      border-right-color: var(--fill-color);\n",
              "      border-top-color: var(--fill-color);\n",
              "    }\n",
              "    60% {\n",
              "      border-color: transparent;\n",
              "      border-right-color: var(--fill-color);\n",
              "    }\n",
              "    80% {\n",
              "      border-color: transparent;\n",
              "      border-right-color: var(--fill-color);\n",
              "      border-bottom-color: var(--fill-color);\n",
              "    }\n",
              "    90% {\n",
              "      border-color: transparent;\n",
              "      border-bottom-color: var(--fill-color);\n",
              "    }\n",
              "  }\n",
              "</style>\n",
              "\n",
              "      <script>\n",
              "        async function quickchart(key) {\n",
              "          const quickchartButtonEl =\n",
              "            document.querySelector('#' + key + ' button');\n",
              "          quickchartButtonEl.disabled = true;  // To prevent multiple clicks.\n",
              "          quickchartButtonEl.classList.add('colab-df-spinner');\n",
              "          try {\n",
              "            const charts = await google.colab.kernel.invokeFunction(\n",
              "                'suggestCharts', [key], {});\n",
              "          } catch (error) {\n",
              "            console.error('Error during call to suggestCharts:', error);\n",
              "          }\n",
              "          quickchartButtonEl.classList.remove('colab-df-spinner');\n",
              "          quickchartButtonEl.classList.add('colab-df-quickchart-complete');\n",
              "        }\n",
              "        (() => {\n",
              "          let quickchartButtonEl =\n",
              "            document.querySelector('#df-71b8c98c-97c2-4db2-9fc2-c5e6a3422684 button');\n",
              "          quickchartButtonEl.style.display =\n",
              "            google.colab.kernel.accessAllowed ? 'block' : 'none';\n",
              "        })();\n",
              "      </script>\n",
              "    </div>\n",
              "\n",
              "    </div>\n",
              "  </div>\n"
            ],
            "text/plain": [
              "               Close      High       Low      Open     Volume  LogReturn  \\\n",
              "Date                                                                       \n",
              "2010-01-12  6.251043  6.312735  6.211921  6.295280  594459600  -0.011440   \n",
              "2010-01-13  6.339215  6.347642  6.142103  6.255556  605892000   0.014007   \n",
              "2010-01-14  6.302502  6.333498  6.290163  6.322966  432894000  -0.005808   \n",
              "2010-01-15  6.197175  6.367806  6.195369  6.347642  594067600  -0.016853   \n",
              "2010-01-19  6.471327  6.475841  6.236597  6.269399  730007600   0.043288   \n",
              "\n",
              "            LogReturn_Lag1  LogReturn_Lag2  LogReturn_Lag3  LogReturn_Lag4  \\\n",
              "Date                                                                         \n",
              "2010-01-12       -0.008860        0.006626       -0.001851       -0.016034   \n",
              "2010-01-13       -0.011440       -0.008860        0.006626       -0.001851   \n",
              "2010-01-14        0.014007       -0.011440       -0.008860        0.006626   \n",
              "2010-01-15       -0.005808        0.014007       -0.011440       -0.008860   \n",
              "2010-01-19       -0.016853       -0.005808        0.014007       -0.011440   \n",
              "\n",
              "            LogReturn_Lag5  \n",
              "Date                        \n",
              "2010-01-12        0.001727  \n",
              "2010-01-13       -0.016034  \n",
              "2010-01-14       -0.001851  \n",
              "2010-01-15        0.006626  \n",
              "2010-01-19       -0.008860  "
            ]
          },
          "execution_count": 2,
          "metadata": {},
          "output_type": "execute_result"
        }
      ],
      "source": [
        "# Save as CSV and then read it -- this is silly and I will remove this unnecessary\n",
        "# step. But for now, let's keep it (I first started with CSV but then switched to\n",
        "# yfinance)\n",
        "data.to_csv(\"data.csv\")\n",
        "\n",
        "data = pd.read_csv(\"data.csv\", index_col=0, parse_dates=True)\n",
        "data.head()\n",
        "\n",
        "# Clean up metadata rows\n",
        "data_clean = data.iloc[2:].copy()\n",
        "data_clean.index.name = \"Date\"\n",
        "\n",
        "# Convert index to datetime if not already\n",
        "data_clean.index = pd.to_datetime(data_clean.index)\n",
        "\n",
        "# Convert columns to numeric\n",
        "for col in data_clean.columns:\n",
        "    data_clean[col] = pd.to_numeric(data_clean[col], errors='coerce')\n",
        "\n",
        "# Drop rows with missing values\n",
        "data_clean.dropna(inplace=True)\n",
        "\n",
        "# Confirm cleanup\n",
        "data_clean.head()"
      ]
    },
    {
      "cell_type": "markdown",
      "metadata": {
        "id": "1XMkXxfjQ6Zm"
      },
      "source": [
        "## Train test split"
      ]
    },
    {
      "cell_type": "code",
      "execution_count": null,
      "metadata": {
        "colab": {
          "base_uri": "https://localhost:8080/"
        },
        "id": "C0CYIeF7Q57h",
        "outputId": "bd5ff9dc-b607-481b-bfde-7dcc20066a67"
      },
      "outputs": [
        {
          "data": {
            "text/plain": [
              "{'Train shape': (2763, 10),\n",
              " 'Validation shape': (503, 10),\n",
              " 'Test shape': (250, 10),\n",
              " 'Features': ['Open',\n",
              "  'High',\n",
              "  'Low',\n",
              "  'Close',\n",
              "  'Volume',\n",
              "  'LogReturn_Lag1',\n",
              "  'LogReturn_Lag2',\n",
              "  'LogReturn_Lag3',\n",
              "  'LogReturn_Lag4',\n",
              "  'LogReturn_Lag5']}"
            ]
          },
          "execution_count": 3,
          "metadata": {},
          "output_type": "execute_result"
        }
      ],
      "source": [
        "from sklearn.model_selection import train_test_split\n",
        "\n",
        "# Define features and target\n",
        "features = [\n",
        "    \"Open\", \"High\", \"Low\", \"Close\", \"Volume\",\n",
        "    \"LogReturn_Lag1\", \"LogReturn_Lag2\", \"LogReturn_Lag3\", \"LogReturn_Lag4\", \"LogReturn_Lag5\"\n",
        "]\n",
        "target = \"LogReturn\"\n",
        "\n",
        "# Detrend the log return target (learn deviation from rolling mean)\n",
        "rolling_window = 10\n",
        "log_return = data_clean[\"LogReturn\"]\n",
        "\n",
        "# Compute excess return: log return minus rolling mean\n",
        "data_clean[\"ExcessReturn\"] = log_return - log_return.rolling(rolling_window).mean()\n",
        "\n",
        "# Update the target column to use this new detrended version\n",
        "target = \"ExcessReturn\"\n",
        "\n",
        "X = data_clean[features]\n",
        "y = data_clean[target]\n",
        "\n",
        "# Split data by date ranges\n",
        "X_train = X.loc[\"2010-01-01\":\"2020-12-31\"]\n",
        "y_train = y.loc[\"2010-01-01\":\"2020-12-31\"]\n",
        "\n",
        "X_val = X.loc[\"2021-01-01\":\"2022-12-31\"]\n",
        "y_val = y.loc[\"2021-01-01\":\"2022-12-31\"]\n",
        "\n",
        "X_test = X.loc[\"2023-01-01\":\"2023-12-31\"]\n",
        "y_test = y.loc[\"2023-01-01\":\"2023-12-31\"]\n",
        "\n",
        "# Display summary\n",
        "{\n",
        "    \"Train shape\": X_train.shape,\n",
        "    \"Validation shape\": X_val.shape,\n",
        "    \"Test shape\": X_test.shape,\n",
        "    \"Features\": X.columns.tolist()\n",
        "}\n"
      ]
    },
    {
      "cell_type": "markdown",
      "metadata": {
        "id": "IiVwGoTlRa7G"
      },
      "source": [
        "## Make model and train it"
      ]
    },
    {
      "cell_type": "code",
      "execution_count": null,
      "metadata": {
        "colab": {
          "base_uri": "https://localhost:8080/"
        },
        "id": "qr4ArB7GRHPr",
        "outputId": "3efb4e1f-a70b-463a-ad14-fc2027d218c0"
      },
      "outputs": [
        {
          "data": {
            "text/plain": [
              "{'Val Pred Mean': np.float64(0.02829375226878398),\n",
              " 'Val Pred Std': np.float64(0.02024804339535323),\n",
              " 'Test Pred Mean': np.float64(0.02444813102632692),\n",
              " 'Test Pred Std': np.float64(0.014239591520858373)}"
            ]
          },
          "execution_count": 17,
          "metadata": {},
          "output_type": "execute_result"
        }
      ],
      "source": [
        "from sklearn.preprocessing import StandardScaler\n",
        "from sklearn.svm import SVR\n",
        "\n",
        "# Normalize features\n",
        "scaler = StandardScaler()\n",
        "X_train_scaled = scaler.fit_transform(X_train)\n",
        "X_val_scaled = scaler.transform(X_val)\n",
        "X_test_scaled = scaler.transform(X_test)\n",
        "\n",
        "# Train SVR with RBF kernel\n",
        "svr = SVR(kernel='rbf', C=1.0, epsilon=0.001)\n",
        "svr.fit(X_train_scaled, y_train)\n",
        "\n",
        "# Predict on validation and test\n",
        "y_val_pred = svr.predict(X_val_scaled)\n",
        "y_test_pred = svr.predict(X_test_scaled)\n",
        "\n",
        "# Display basic stats of predictions\n",
        "{\n",
        "    \"Val Pred Mean\": y_val_pred.mean(),\n",
        "    \"Val Pred Std\": y_val_pred.std(),\n",
        "    \"Test Pred Mean\": y_test_pred.mean(),\n",
        "    \"Test Pred Std\": y_test_pred.std()\n",
        "}\n"
      ]
    },
    {
      "cell_type": "markdown",
      "metadata": {
        "id": "GJ_ytVNzRluW"
      },
      "source": [
        "## Backtest this model"
      ]
    },
    {
      "cell_type": "code",
      "execution_count": null,
      "metadata": {
        "colab": {
          "base_uri": "https://localhost:8080/"
        },
        "id": "VaNv1PW4iT1B",
        "outputId": "678d8a33-bca5-43af-a672-f4a2b39041bd"
      },
      "outputs": [
        {
          "data": {
            "text/plain": [
              "array([0.03266361, 0.03787265, 0.03579702, 0.04322444, 0.03679656,\n",
              "       0.03891155, 0.03821906, 0.03848239, 0.02918299, 0.03917895,\n",
              "       0.04374775, 0.01498775, 0.01470399, 0.02208391, 0.00494935,\n",
              "       0.01284024, 0.01854031, 0.01226588, 0.00713846, 0.0154301 ,\n",
              "       0.01040901, 0.01122299, 0.01406585, 0.01157525, 0.01059836,\n",
              "       0.01378589, 0.01301795, 0.01477392, 0.0157137 , 0.01439851,\n",
              "       0.0177046 , 0.01552181, 0.01188199, 0.01527816, 0.00654025,\n",
              "       0.01113897, 0.01231402, 0.00871527, 0.01283627, 0.00653444,\n",
              "       0.00738949, 0.01188692, 0.00853829, 0.00927547, 0.0092346 ,\n",
              "       0.0134401 , 0.01251716, 0.01364113, 0.01410025, 0.01312054])"
            ]
          },
          "execution_count": 42,
          "metadata": {},
          "output_type": "execute_result"
        }
      ],
      "source": [
        "y_test_pred[-50:]"
      ]
    },
    {
      "cell_type": "code",
      "execution_count": null,
      "metadata": {
        "colab": {
          "base_uri": "https://localhost:8080/"
        },
        "id": "4CZ4tT_bRbWd",
        "outputId": "d8ca8bc7-f2c2-46f0-dc84-ae0f8013e42f"
      },
      "outputs": [
        {
          "name": "stdout",
          "output_type": "stream",
          "text": [
            "----- PERFORMANCE METRICS -----\n",
            "\n",
            "RETURNS\n",
            "Validation Cumulative Return: 57.99%\n",
            "Validation Sharpe Ratio:      0.7517\n",
            "Test Cumulative Return:       53.05%\n",
            "Test Sharpe Ratio:            2.1222\n",
            "\n",
            "CAPITAL\n",
            "Final Val Capital (Original):  $1,579,934.43\n",
            "Final Test Capital (Original): $1,530,478.68\n",
            "Total Val Profit (Original):   $579,934.43\n",
            "Total Test Profit (Original):  $530,478.68\n"
          ]
        }
      ],
      "source": [
        "import numpy as np\n",
        "\n",
        "# Generate positions\n",
        "threshold = 0.001\n",
        "val_positions = np.where(y_val_pred > threshold, 1, np.where(y_val_pred < -threshold, -1, 0))\n",
        "test_positions = np.where(y_test_pred > threshold, 1, np.where(y_test_pred < -threshold, -1, 0))\n",
        "\n",
        "# Compute strategy returns\n",
        "val_strategy_returns = val_positions * y_val.values\n",
        "test_strategy_returns = test_positions * y_test.values\n",
        "\n",
        "# Dollar returns with $1M starting capital\n",
        "initial_capital = 1000000\n",
        "val_dollar_returns = initial_capital * (np.exp(np.cumsum(val_strategy_returns)) - 1)\n",
        "test_dollar_returns = initial_capital * (np.exp(np.cumsum(test_strategy_returns)) - 1)\n",
        "\n",
        "# Cumulative return\n",
        "val_cum_return = np.exp(np.cumsum(val_strategy_returns)) - 1\n",
        "test_cum_return = np.exp(np.cumsum(test_strategy_returns)) - 1\n",
        "\n",
        "# Sharpe ratio (annualized, assuming 252 trading days)\n",
        "val_sharpe = np.mean(val_strategy_returns) / np.std(val_strategy_returns) * np.sqrt(252)\n",
        "test_sharpe = np.mean(test_strategy_returns) / np.std(test_strategy_returns) * np.sqrt(252)\n",
        "\n",
        "# Final return and sharpe\n",
        "returns = {\n",
        "    \"Validation Cumulative Return\": val_cum_return[-1],\n",
        "    \"Validation Sharpe Ratio\": val_sharpe,\n",
        "    \"Test Cumulative Return\": test_cum_return[-1],\n",
        "    \"Test Sharpe Ratio\": test_sharpe\n",
        "}\n",
        "\n",
        "# Output final capital and profits for original model\n",
        "capital = {\n",
        "    \"Final Val Capital\": val_dollar_returns[-1] + initial_capital,\n",
        "    \"Final Test Capital\": test_dollar_returns[-1] + initial_capital,\n",
        "    \"Total Val Profit\": val_dollar_returns[-1],\n",
        "    \"Total Test Profit\": test_dollar_returns[-1]\n",
        "}\n",
        "\n",
        "def print_formatted_metrics(returns, capital):\n",
        "    \"\"\"\n",
        "    Print returns and capital metrics in a nicely formatted way.\n",
        "\n",
        "    Parameters:\n",
        "    - returns: Dictionary containing return and Sharpe ratio metrics\n",
        "    - capital: Dictionary containing capital and profit metrics\n",
        "    \"\"\"\n",
        "    print(\"----- PERFORMANCE METRICS -----\\n\")\n",
        "\n",
        "    print(\"RETURNS\")\n",
        "    print(f\"Validation Cumulative Return: {returns['Validation Cumulative Return']:.2%}\")\n",
        "    print(f\"Validation Sharpe Ratio:      {returns['Validation Sharpe Ratio']:.4f}\")\n",
        "    print(f\"Test Cumulative Return:       {returns['Test Cumulative Return']:.2%}\")\n",
        "    print(f\"Test Sharpe Ratio:            {returns['Test Sharpe Ratio']:.4f}\")\n",
        "\n",
        "    print(\"\\nCAPITAL\")\n",
        "    print(f\"Final Val Capital:  ${capital['Final Val Capital']:,.2f}\")\n",
        "    print(f\"Final Test Capital: ${capital['Final Test Capital']:,.2f}\")\n",
        "    print(f\"Total Val Profit:   ${capital['Total Val Profit']:,.2f}\")\n",
        "    print(f\"Total Test Profit:  ${capital['Total Test Profit']:,.2f}\")\n",
        "\n",
        "print_formatted_metrics(returns, capital)"
      ]
    },
    {
      "cell_type": "code",
      "execution_count": null,
      "metadata": {
        "colab": {
          "base_uri": "https://localhost:8080/"
        },
        "id": "iGCj9oZtcfmi",
        "outputId": "cad2be69-df56-46bb-9a66-b48fac1f2136"
      },
      "outputs": [
        {
          "name": "stdout",
          "output_type": "stream",
          "text": [
            "Average PnL (with trade size $1MM):  $1,784.94\n",
            "Average PnL percentage:  0.18%\n"
          ]
        }
      ],
      "source": [
        "test_pnl = initial_capital * (np.exp(test_positions * y_test.values) - 1)\n",
        "average_pnl = np.mean(test_pnl)\n",
        "print(f\"Average PnL (with trade size $1MM):  ${average_pnl:,.2f}\")\n",
        "print(\"Average PnL percentage:\"  f\"  {average_pnl / initial_capital * 100:.2f}%\")"
      ]
    },
    {
      "cell_type": "code",
      "execution_count": null,
      "metadata": {
        "colab": {
          "base_uri": "https://localhost:8080/",
          "height": 564
        },
        "id": "W1pXD7nIcj5b",
        "outputId": "2b88f2c2-bd39-4981-9240-ae656200db75"
      },
      "outputs": [
        {
          "data": {
            "image/png": "[encoded data removed]",
            "text/plain": [
              "<Figure size 1000x600 with 1 Axes>"
            ]
          },
          "metadata": {},
          "output_type": "display_data"
        }
      ],
      "source": [
        "# prompt: plot test_pnl in an easy to comprehend way. i want to see the distribution of profits vs loss\n",
        "\n",
        "import matplotlib.pyplot as plt\n",
        "import seaborn as sns\n",
        "\n",
        "# Assuming 'test_pnl' is defined as in the provided code\n",
        "\n",
        "plt.figure(figsize=(10, 6))\n",
        "sns.histplot(test_pnl, kde=True, bins=30)\n",
        "plt.title('Distribution of Daily P&L on Test Data')\n",
        "plt.xlabel('Profit/Loss ($)')\n",
        "plt.ylabel('Frequency')\n",
        "plt.show()\n"
      ]
    },
    {
      "cell_type": "code",
      "execution_count": null,
      "metadata": {
        "id": "WSrw3S7PduYe"
      },
      "outputs": [],
      "source": [
        "# Long/Short markers\n",
        "long_signals = (test_positions == 1)\n",
        "short_signals = (test_positions == -1)\n",
        "\n",
        "# Get dates\n",
        "test_dates = y_test.index\n",
        "\n",
        "# Assume: prices is the actual price series for test window (2023)\n",
        "P_t = X_test.Close[:-1]              # P_t for days 0 to N-2\n",
        "r_hat_t_plus_1 = y_test_pred[1:]      # predicted log return for days 1 to N-1\n",
        "P_hat_t_plus_1 = P_t * np.exp(r_hat_t_plus_1)  # predicted P_{t+1}\n",
        "\n",
        "\n",
        "# Plot\n",
        "plt.figure(figsize=(15, 6))\n",
        "plt.plot(test_dates, X_test.Close, label=\"Actual Price\", alpha=0.7)\n",
        "plt.plot(test_dates[-249:], P_hat_t_plus_1, label=\"Reconstructed Price from Predicted Returns\", linestyle=\"--\", alpha=0.7)\n",
        "plt.scatter(test_dates[long_signals], X_test.Close.values[long_signals], marker='^', color='green', label='Long Entry', zorder=5)\n",
        "plt.scatter(test_dates[short_signals], X_test.Close.values[short_signals], marker='v', color='red', label='Short Entry', zorder=5)\n",
        "plt.title(\"AAPL 2023: Actual vs Reconstructed Price (from Predicted Log Returns)\")\n",
        "plt.xlabel(\"Date\")\n",
        "plt.ylabel(\"Price (USD)\")\n",
        "plt.legend()\n",
        "plt.grid(True)\n",
        "plt.tight_layout()\n",
        "plt.show()"
      ]
    },
    {
      "cell_type": "code",
      "execution_count": null,
      "metadata": {
        "id": "ZogA9c8vjowM"
      },
      "outputs": [],
      "source": []
    }
  ],
  "metadata": {
    "colab": {
      "provenance": []
    },
    "kernelspec": {
      "display_name": "ee460_project",
      "language": "python",
      "name": "python3"
    },
    "language_info": {
      "name": "python",
      "version": "3.12.2"
    }
  },
  "nbformat": 4,
  "nbformat_minor": 0
}
