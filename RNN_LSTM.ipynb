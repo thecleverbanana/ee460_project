{
  "cells": [
    {
      "cell_type": "code",
      "execution_count": null,
      "metadata": {
        "_uuid": "484ebc341906e4a8626cc86654812a71c2543950",
        "id": "qnV-Ee3MaYO_",
        "trusted": true
      },
      "outputs": [],
      "source": [
        "from __future__ import division\n",
        "import pandas as pd\n",
        "import numpy as np\n",
        "import datetime\n",
        "import time\n",
        "import matplotlib.pyplot as plt\n",
        "\n",
        "import keras\n",
        "from keras.models import Sequential\n",
        "from keras.layers import Dense, Dropout, BatchNormalization, Conv1D, Flatten, MaxPooling1D, LSTM\n",
        "from keras.callbacks import EarlyStopping, ModelCheckpoint, TensorBoard\n",
        "#from keras.wrappers.scikit_learn import KerasRegressor\n",
        "from keras.models import load_model\n",
        "from sklearn.preprocessing import MinMaxScaler"
      ]
    },
    {
      "cell_type": "code",
      "execution_count": null,
      "metadata": {
        "_uuid": "d3da9db4d23cf067cfcfd403f013f1167a1a1f11",
        "id": "Mgubhji1aYPA",
        "trusted": true
      },
      "outputs": [],
      "source": [
        "# df = pd.read_csv(\"aapl_data.csv\")\n",
        "df = pd.read_csv(\"sp500_data_v2.csv\")\n",
        "df.index = pd.to_datetime(df[\"Date\"])\n",
        "df = df.drop(\"Date\",axis=1)"
      ]
    },
    {
      "cell_type": "code",
      "execution_count": null,
      "metadata": {
        "_uuid": "5e3a58f7ff578aed5041f2069f7f96ddba3a21d3",
        "colab": {
          "base_uri": "https://localhost:8080/"
        },
        "id": "TRgFl9QYaYPA",
        "outputId": "7141ce80-f37f-4539-c2c6-f6e4a31794ad",
        "trusted": true
      },
      "outputs": [
        {
          "name": "stdout",
          "output_type": "stream",
          "text": [
            "               Close      High       Low      Open        Volume\n",
            "Date                                                            \n",
            "1980-12-31  0.104537  0.104967  0.104537  0.104669  1.034501e+08\n",
            "1981-01-31  0.108701  0.109294  0.108701  0.109048  2.899947e+07\n",
            "1981-02-28  0.090683  0.091248  0.090683  0.090932  1.692733e+07\n",
            "1981-03-31  0.085283  0.085907  0.085283  0.085634  3.185076e+07\n",
            "1981-04-30  0.093493  0.093984  0.093493  0.093698  2.556800e+07\n",
            "                 Close        High         Low        Open        Volume\n",
            "Date                                                                    \n",
            "2024-12-31  249.049032  250.535969  246.602673  248.058694  4.656743e+07\n",
            "2025-01-31  234.329359  237.312080  231.583879  234.844792  6.001458e+07\n",
            "2025-02-28  238.446972  240.519476  235.255780  237.307757  4.538275e+07\n",
            "2025-03-31  222.702858  225.947619  219.753809  223.035714  5.310664e+07\n",
            "2025-04-30  201.183811  205.282381  196.250476  199.765714  7.649944e+07\n"
          ]
        },
        {
          "name": "stderr",
          "output_type": "stream",
          "text": [
            "<ipython-input-67-58a790599e5f>:1: FutureWarning: 'M' is deprecated and will be removed in a future version, please use 'ME' instead.\n",
            "  dfm = df.resample(\"M\").mean()\n"
          ]
        }
      ],
      "source": [
        "dfm = df.resample(\"M\").mean()\n",
        "\n",
        "dfm = dfm[:-1] # As we said, we do not consider the month of end_date\n",
        "\n",
        "print(dfm.head())\n",
        "print(dfm.tail())"
      ]
    },
    {
      "cell_type": "code",
      "execution_count": null,
      "metadata": {
        "_uuid": "62fdb6302cb60620c0220d6506f5e448a38b89de",
        "id": "E-ZuMwp0aYPA",
        "trusted": false
      },
      "outputs": [],
      "source": [
        "# start_date = datetime.datetime(1980, 12, 12) # AAPL\n",
        "start_date = datetime.datetime(1982, 4, 20) # S&P500\n",
        "end_date = datetime.datetime(2025, 5, 6)\n",
        "\n",
        "start_year = start_date.year\n",
        "start_month = start_date.month\n",
        "start_day = start_date.day\n",
        "end_year = end_date.year\n",
        "end_month = end_date.month\n",
        "end_day = end_date.day\n",
        "\n",
        "first_days=[]\n",
        "# First year\n",
        "for month in range(start_month, 13):\n",
        "    first_days.append(df.loc[f\"{start_year}-{month:02d}\"].index.min())\n",
        "# Other years\n",
        "for year in range(start_year+1,end_year):\n",
        "    for month in range(1,13):\n",
        "        first_days.append(df.loc[f\"{year}-{month:02d}\"].index.min())\n",
        "# Last year\n",
        "for month in range(1,end_month+1):\n",
        "    first_days.append(df.loc[f\"{end_year}-{month:02d}\"].index.min())"
      ]
    },
    {
      "cell_type": "code",
      "execution_count": null,
      "metadata": {
        "_uuid": "cac843657a4c491e4ed69ffbd1f7a7264a72caf5",
        "id": "GaHsEkY3aYPA",
        "trusted": false
      },
      "outputs": [],
      "source": [
        "dfm[\"fd_cm\"] = first_days[:-1]\n",
        "dfm[\"fd_nm\"] = first_days[1:]\n",
        "dfm[\"fd_cm_open\"] = np.array(df.loc[first_days[:-1],\"Open\"])\n",
        "dfm[\"fd_nm_open\"] = np.array(df.loc[first_days[1:],\"Open\"])\n",
        "dfm[\"rapp\"] = dfm[\"fd_nm_open\"].divide(dfm[\"fd_cm_open\"])"
      ]
    },
    {
      "cell_type": "code",
      "execution_count": null,
      "metadata": {
        "_uuid": "c3be0901ea4280ea9a96796f91fe3076227e3833",
        "colab": {
          "base_uri": "https://localhost:8080/"
        },
        "collapsed": true,
        "id": "kBWNXPv4aYPA",
        "outputId": "f00a5da8-2df7-4222-e234-d7cb981aac18",
        "trusted": false
      },
      "outputs": [
        {
          "name": "stdout",
          "output_type": "stream",
          "text": [
            "               Close      High       Low      Open        Volume      fd_cm  \\\n",
            "Date                                                                          \n",
            "1980-12-31  0.104537  0.104967  0.104537  0.104669  1.034501e+08 1980-12-12   \n",
            "1981-01-31  0.108701  0.109294  0.108701  0.109048  2.899947e+07 1981-01-02   \n",
            "1981-02-28  0.090683  0.091248  0.090683  0.090932  1.692733e+07 1981-02-02   \n",
            "1981-03-31  0.085283  0.085907  0.085283  0.085634  3.185076e+07 1981-03-02   \n",
            "1981-04-30  0.093493  0.093984  0.093493  0.093698  2.556800e+07 1981-04-01   \n",
            "\n",
            "                fd_nm  fd_cm_open  fd_nm_open      rapp  \n",
            "Date                                                     \n",
            "1980-12-31 1981-01-02    0.098726    0.118471  1.200004  \n",
            "1981-01-31 1981-02-02    0.118471    0.091858  0.775364  \n",
            "1981-02-28 1981-03-02    0.091858    0.091429  0.995327  \n",
            "1981-03-31 1981-04-01    0.091429    0.083703  0.915490  \n",
            "1981-04-30 1981-05-01    0.083703    0.097438  1.164101  \n",
            "                 Close        High         Low        Open        Volume  \\\n",
            "Date                                                                       \n",
            "2024-12-31  249.049032  250.535969  246.602673  248.058694  4.656743e+07   \n",
            "2025-01-31  234.329359  237.312080  231.583879  234.844792  6.001458e+07   \n",
            "2025-02-28  238.446972  240.519476  235.255780  237.307757  4.538275e+07   \n",
            "2025-03-31  222.702858  225.947619  219.753809  223.035714  5.310664e+07   \n",
            "2025-04-30  201.183811  205.282381  196.250476  199.765714  7.649944e+07   \n",
            "\n",
            "                fd_cm      fd_nm  fd_cm_open  fd_nm_open      rapp  \n",
            "Date                                                                \n",
            "2024-12-31 2024-12-02 2025-01-02  237.009414  248.656607  1.049142  \n",
            "2025-01-31 2025-01-02 2025-02-03  248.656607  229.737419  0.923914  \n",
            "2025-02-28 2025-02-03 2025-03-03  229.737419  241.789993  1.052462  \n",
            "2025-03-31 2025-03-03 2025-04-01  241.789993  219.809998  0.909095  \n",
            "2025-04-30 2025-04-01 2025-05-01  219.809998  209.080002  0.951185  \n"
          ]
        }
      ],
      "source": [
        "print(dfm.head())\n",
        "print(dfm.tail())"
      ]
    },
    {
      "cell_type": "code",
      "execution_count": null,
      "metadata": {
        "_uuid": "8d2b05b24ed114ad3db5c4089fb293030387b695",
        "id": "_4j6Tj0DaYPA",
        "trusted": false
      },
      "outputs": [],
      "source": [
        "dfm[\"mv_avg_12\"]= dfm[\"Open\"].rolling(window=12).mean().shift(1)\n",
        "dfm[\"mv_avg_24\"]= dfm[\"Open\"].rolling(window=24).mean().shift(1)"
      ]
    },
    {
      "cell_type": "code",
      "execution_count": null,
      "metadata": {
        "_uuid": "369169f7e8f7e4b635491451c41fd1ff34aab15e",
        "colab": {
          "base_uri": "https://localhost:8080/"
        },
        "id": "5_4ysg0BaYPB",
        "outputId": "22361650-0d90-4914-be60-d642b1b4113b",
        "trusted": false
      },
      "outputs": [
        {
          "name": "stdout",
          "output_type": "stream",
          "text": [
            "Date\n",
            "1984-03-31    0.121552\n",
            "Freq: ME, Name: mv_avg_12, dtype: float64\n",
            "Date\n",
            "1983-03-31    0.149563\n",
            "1983-04-30    0.155858\n",
            "1983-05-31    0.186701\n",
            "1983-06-30    0.192691\n",
            "1983-07-31    0.151952\n",
            "1983-08-31    0.114310\n",
            "1983-09-30    0.104879\n",
            "1983-10-31    0.073135\n",
            "1983-11-30    0.071071\n",
            "1983-12-31    0.078020\n",
            "1984-01-31    0.094107\n",
            "1984-02-29    0.086342\n",
            "Freq: ME, Name: Open, dtype: float64\n",
            "0.12155247040896244\n"
          ]
        }
      ],
      "source": [
        "print(dfm.loc[\"1984-03\",\"mv_avg_12\"])\n",
        "print(dfm.loc[\"1983-03\":\"1984-02\",\"Open\"])\n",
        "print(dfm.loc[\"1983-03\":\"1984-02\",\"Open\"].mean())"
      ]
    },
    {
      "cell_type": "code",
      "execution_count": null,
      "metadata": {
        "_uuid": "1093eb8326b8a6d0a96908bbbdec20d7010d758a",
        "colab": {
          "base_uri": "https://localhost:8080/"
        },
        "id": "ufW1RujfaYPB",
        "outputId": "7d62df7c-9759-4934-e3ee-f6336d591126",
        "trusted": false
      },
      "outputs": [
        {
          "name": "stdout",
          "output_type": "stream",
          "text": [
            "DatetimeIndex(['1982-12-31', '1983-01-31', '1983-02-28', '1983-03-31',\n",
            "               '1983-04-30', '1983-05-31', '1983-06-30', '1983-07-31',\n",
            "               '1983-08-31', '1983-09-30',\n",
            "               ...\n",
            "               '2024-07-31', '2024-08-31', '2024-09-30', '2024-10-31',\n",
            "               '2024-11-30', '2024-12-31', '2025-01-31', '2025-02-28',\n",
            "               '2025-03-31', '2025-04-30'],\n",
            "              dtype='datetime64[ns]', name='Date', length=509, freq='ME')\n"
          ]
        }
      ],
      "source": [
        "dfm=dfm.iloc[24:,:] # WARNING: DO IT JUST ONE TIME!\n",
        "print(dfm.index)"
      ]
    },
    {
      "cell_type": "code",
      "execution_count": null,
      "metadata": {
        "_uuid": "ecadba35508c5a87527970e441f5a6c0a144ca64",
        "id": "epTSb_bMaYPB",
        "trusted": false
      },
      "outputs": [],
      "source": [
        "mtest=72\n",
        "train=dfm.iloc[:-mtest,:]\n",
        "test=dfm.iloc[-mtest:,:]"
      ]
    },
    {
      "cell_type": "code",
      "execution_count": null,
      "metadata": {
        "_uuid": "8aca16ca4ad0a58ac59ae5d8624e2e3087ee2dbf",
        "id": "HnLQqOL3aYPB",
        "trusted": false
      },
      "outputs": [],
      "source": [
        "# This function returns the total percentage gross yield and the annual percentage gross yield\n",
        "\n",
        "def yield_gross(df,v):\n",
        "    prod=(v*df[\"rapp\"]+1-v).prod()\n",
        "    n_years=len(v)/12\n",
        "    return (prod-1)*100,((prod**(1/n_years))-1)*100"
      ]
    },
    {
      "cell_type": "code",
      "execution_count": null,
      "metadata": {
        "_uuid": "d09cd283349704f853cb3dbedba18702df417523",
        "id": "HdAt3lZ2aYPB",
        "trusted": false
      },
      "outputs": [],
      "source": [
        "tax_cg = 0.26\n",
        "comm_bk = 0.001"
      ]
    },
    {
      "cell_type": "code",
      "execution_count": null,
      "metadata": {
        "_uuid": "b22efee37e6c5f2a384deb81381412197477f5e0",
        "id": "0wb1CXZPaYPB",
        "trusted": false
      },
      "outputs": [],
      "source": [
        "# This function will be used in the function yield_net\n",
        "\n",
        "# Given any vector v of ones and zeros, this function gives the corresponding vectors of \"islands\" of ones of v\n",
        "# and their number.\n",
        "# For example, given v = [0,1,1,0,1,0,1], expand_islands2D gives\n",
        "# out2D = [[0,1,1,0,0,0,0],[0,0,0,0,1,0,0],[0,0,0,0,0,0,1]] and N=3\n",
        "\n",
        "def expand_islands2D(v):\n",
        "\n",
        "    # Get start, stop of 1s islands\n",
        "    v1 = np.r_[0,v,0]\n",
        "    idx = np.flatnonzero(v1[:-1] != v1[1:])\n",
        "    s0,s1 = idx[::2],idx[1::2]\n",
        "    if len(s0)==0:\n",
        "        return np.zeros(len(v)),0\n",
        "\n",
        "    # Initialize 1D id array  of size same as expected o/p and has\n",
        "    # starts and stops assigned as 1s and -1s, so that a final cumsum\n",
        "    # gives us the desired o/p\n",
        "    N,M = len(s0),len(v)\n",
        "    out = np.zeros(N*M,dtype=int)\n",
        "\n",
        "    # Setup starts with 1s\n",
        "    r = np.arange(N)*M\n",
        "    out[s0+r] = 1\n",
        "\n",
        "\n",
        "    # Setup stops with -1s\n",
        "    if s1[-1] == M:\n",
        "        out[s1[:-1]+r[:-1]] = -1\n",
        "    else:\n",
        "        out[s1+r] -= 1\n",
        "\n",
        "    # Final cumsum on ID array\n",
        "    out2D = out.cumsum().reshape(N,-1)\n",
        "    return out2D,N"
      ]
    },
    {
      "cell_type": "code",
      "execution_count": null,
      "metadata": {
        "_uuid": "901eb656086dbc517806d3504c1ead3855e5b210",
        "id": "qimrgAcuaYPB",
        "trusted": false
      },
      "outputs": [],
      "source": [
        "# This function returns the total percentage net yield and the annual percentage net yield\n",
        "\n",
        "def yield_net(df,v):\n",
        "    n_years=len(v)/12\n",
        "\n",
        "    w, n = expand_islands2D(v)\n",
        "    A = (w*np.array(df[\"rapp\"])+(1-w)).prod(axis=1)  # A is the product of each island of ones of 1 for df[\"rapp\"]\n",
        "    A1p = np.maximum(0,np.sign(A-1)) # vector of ones where the corresponding element if  A  is > 1, other are 0\n",
        "    Ap = A*A1p # vector of elements of A > 1, other are 0\n",
        "    Am = A-Ap # vector of elements of A <= 1, other are 0\n",
        "    An = Am+(Ap-A1p)*(1-tax_cg)+A1p\n",
        "    prod = An.prod()*((1-comm_bk)**(2*n))\n",
        "\n",
        "    return (prod-1)*100,((prod**(1/n_years))-1)*100"
      ]
    },
    {
      "cell_type": "code",
      "execution_count": null,
      "metadata": {
        "_uuid": "ee3ba76b4a5ea6bbbe1ce6a37f504d18bd05a0be",
        "id": "-2ySB4PxaYPB",
        "trusted": false
      },
      "outputs": [],
      "source": [
        "def create_window(data, window_size = 1):\n",
        "    data_s = data.copy()\n",
        "    for i in range(window_size):\n",
        "        data = pd.concat([data, data_s.shift(-(i + 1))], axis = 1)\n",
        "\n",
        "    data.dropna(axis=0, inplace=True)\n",
        "    return(data)"
      ]
    },
    {
      "cell_type": "code",
      "execution_count": null,
      "metadata": {
        "_uuid": "27b774fa37c58ec4c331d7d90d0ededfe5190772",
        "colab": {
          "base_uri": "https://localhost:8080/"
        },
        "id": "avg-UNm8aYPB",
        "outputId": "0ffc46fa-b621-4399-8cda-51d481cd6e0b",
        "trusted": false
      },
      "outputs": [
        {
          "name": "stdout",
          "output_type": "stream",
          "text": [
            "(505, 5, 8)\n",
            "          0         1         2         3         4         5         6  \\\n",
            "0  0.000225  0.000213  0.000219  0.000219  0.047391  0.000233  0.000000   \n",
            "1  0.000261  0.000243  0.000248  0.000256  0.100859  0.000205  0.000014   \n",
            "2  0.000414  0.000398  0.000406  0.000409  0.071276  0.000357  0.000031   \n",
            "3  0.000396  0.000384  0.000392  0.000391  0.042414  0.000423  0.000065   \n",
            "\n",
            "              7         0         1  ...         6         7         0  \\\n",
            "0  0.000000e+00  0.000261  0.000243  ...  0.000065  0.000014  0.000427   \n",
            "1  3.893744e-07  0.000414  0.000398  ...  0.000100  0.000028  0.000549   \n",
            "2  1.394359e-06  0.000396  0.000384  ...  0.000138  0.000041  0.000570   \n",
            "3  1.438766e-05  0.000427  0.000413  ...  0.000190  0.000059  0.000406   \n",
            "\n",
            "          1         2         3         4         5         6         7  \n",
            "0  0.000413  0.000418  0.000423  0.071832  0.000376  0.000100  0.000028  \n",
            "1  0.000535  0.000542  0.000546  0.033391  0.000490  0.000138  0.000041  \n",
            "2  0.000552  0.000566  0.000560  0.049495  0.000591  0.000190  0.000059  \n",
            "3  0.000387  0.000402  0.000392  0.064988  0.000468  0.000246  0.000077  \n",
            "\n",
            "[4 rows x 40 columns]\n",
            "[[2.24646212e-04 2.12718570e-04 2.18707999e-04 2.19326597e-04\n",
            "  4.73914517e-02 2.33092687e-04 0.00000000e+00 0.00000000e+00]\n",
            " [2.61360328e-04 2.42975237e-04 2.48229112e-04 2.55692820e-04\n",
            "  1.00859222e-01 2.05468720e-04 1.41258574e-05 3.89374379e-07]\n",
            " [4.14206957e-04 3.98443281e-04 4.06228443e-04 4.09136049e-04\n",
            "  7.12764145e-02 3.57410005e-04 3.14114877e-05 1.39435873e-06]\n",
            " [3.95721310e-04 3.83793888e-04 3.92223470e-04 3.90666317e-04\n",
            "  4.24139335e-02 4.23020173e-04 6.48724628e-05 1.43876647e-05]\n",
            " [4.27271680e-04 4.12577111e-04 4.17605874e-04 4.22831758e-04\n",
            "  7.18323435e-02 3.76401567e-04 1.00048165e-04 2.77626899e-05]]\n"
          ]
        }
      ],
      "source": [
        "scaler = MinMaxScaler(feature_range=(0, 1))\n",
        "dg = pd.DataFrame(scaler.fit_transform(dfm[[\"High\",\"Low\",\"Open\",\"Close\",\"Volume\",\"fd_cm_open\",\\\n",
        "                                          \"mv_avg_12\",\"mv_avg_24\",\"fd_nm_open\"]].values))\n",
        "dg0 = dg[[0,1,2,3,4,5,6,7]]\n",
        "\n",
        "\n",
        "window = 4\n",
        "dfw = create_window(dg0, window)\n",
        "\n",
        "X_dfw = np.reshape(dfw.values, (dfw.shape[0], window+1,8))\n",
        "print(X_dfw.shape)\n",
        "print(dfw.iloc[:4,:])\n",
        "print(X_dfw[0,:,:])\n",
        "\n",
        "y_dfw = np.array(dg[8][window:])"
      ]
    },
    {
      "cell_type": "code",
      "execution_count": null,
      "metadata": {
        "_uuid": "87e7074b048a82d78bffbe94b62875eca6fbed97",
        "id": "4Sgt4RdcaYPB",
        "trusted": false
      },
      "outputs": [],
      "source": [
        "X_trainw = X_dfw[:-mtest-1, :, :]\n",
        "X_testw = X_dfw[-mtest-1:, :, :]\n",
        "y_trainw = y_dfw[:-mtest-1]\n",
        "y_testw = y_dfw[-mtest-1:]"
      ]
    },
    {
      "cell_type": "code",
      "execution_count": null,
      "metadata": {
        "_uuid": "b320bfdac7c8b6f3abdec41278bf780869e4419a",
        "id": "_n0L7AdWaYPB",
        "trusted": false
      },
      "outputs": [],
      "source": [
        "def model_lstm(window,features):\n",
        "\n",
        "    model = Sequential()\n",
        "    model.add(LSTM(300, input_shape = (window, features), return_sequences=True))\n",
        "    model.add(Dropout(0.5))\n",
        "    model.add(LSTM(200, input_shape=(window, features), return_sequences=False))\n",
        "    model.add(Dropout(0.5))\n",
        "    model.add(Dense(100, kernel_initializer='uniform', activation='relu'))\n",
        "    model.add(Dense(1, kernel_initializer='uniform', activation='relu'))\n",
        "    model.compile(loss='mse', optimizer='adam')\n",
        "\n",
        "    return model"
      ]
    },
    {
      "cell_type": "code",
      "execution_count": null,
      "metadata": {
        "_uuid": "b6e130eb9f3ae2e2bd4d9a4f3426cbef9458b4b3",
        "id": "xI8Lth1YaYPB",
        "trusted": false
      },
      "outputs": [],
      "source": [
        "model = model_lstm(window+1,8)\n",
        "# history = model.fit(X_trainw, y_trainw, epochs=100, batch_size=1, validation_data=(X_testw, y_testw), \\\n",
        "                  # verbose=1, callbacks=[], shuffle=False) # AAPL\n",
        "history = model.fit(X_trainw, y_trainw, epochs=100, batch_size=6, validation_data=(X_testw, y_testw), \\\n",
        "                  verbose=1, callbacks=[], shuffle=False) # S&P 500 profitable\n",
        "\n",
        "plt.plot(history.history['loss'])\n",
        "plt.plot(history.history['val_loss'])\n",
        "plt.title('model loss')\n",
        "plt.ylabel('loss')\n",
        "plt.xlabel('epoch')\n",
        "plt.legend(['train', 'test'], loc='upper right')\n",
        "plt.show()"
      ]
    },
    {
      "cell_type": "code",
      "execution_count": null,
      "metadata": {
        "_uuid": "16a85968d919dcf6663bc2b9904bca232c148e33",
        "id": "7tFGk81RaYPB",
        "trusted": false
      },
      "outputs": [],
      "source": [
        "y_pr = model.predict(X_trainw)"
      ]
    },
    {
      "cell_type": "code",
      "execution_count": null,
      "metadata": {
        "_uuid": "093a60b4a2c31142a57ae1c395f9a75d099579a8",
        "id": "ZgoaVmCAaYPC",
        "trusted": false
      },
      "outputs": [],
      "source": [
        "plt.figure(figsize=(30,10))\n",
        "plt.plot(y_trainw, label=\"actual\")\n",
        "plt.plot(y_pr, label=\"prediction\")\n",
        "plt.legend(fontsize=20)\n",
        "plt.grid(axis=\"both\")\n",
        "plt.title(\"Actual open price and pedicted one on train set\",fontsize=25)\n",
        "plt.show()"
      ]
    },
    {
      "cell_type": "code",
      "execution_count": null,
      "metadata": {
        "_uuid": "131f738447c17baff672b0dd1e890750afd31be0",
        "id": "AVni-Rr0aYPC",
        "trusted": false
      },
      "outputs": [],
      "source": [
        "y_pred=model.predict(X_testw)"
      ]
    },
    {
      "cell_type": "code",
      "execution_count": null,
      "metadata": {
        "_uuid": "794cb83a5da4e04768b9e6df8db124fbda5095d2",
        "id": "tdHnYsBsaYPC",
        "trusted": false
      },
      "outputs": [],
      "source": [
        "v=np.diff(y_pred.reshape(y_pred.shape[0]),1)\n",
        "v_lstm=np.maximum(np.sign(v),0)"
      ]
    },
    {
      "cell_type": "code",
      "execution_count": null,
      "metadata": {
        "_uuid": "39fe6e8bdf790120c8dd6faf11201b8689c4bb13",
        "id": "Ps-KgbKJaYPF",
        "trusted": false
      },
      "outputs": [],
      "source": [
        "plt.figure(figsize=(30,10))\n",
        "plt.plot(y_testw, label=\"actual\")\n",
        "plt.plot(y_pred, label=\"prediction\")\n",
        "plt.plot(v_lstm,label=\"In and out\")\n",
        "plt.legend(fontsize=20)\n",
        "plt.grid(axis=\"both\")\n",
        "plt.title(\"Actual open price, predicted one and vector v_lstm\",fontsize=25)\n",
        "plt.show()"
      ]
    },
    {
      "cell_type": "code",
      "execution_count": null,
      "metadata": {
        "_uuid": "fb410cef1c79f299223b474e9db4b2f69a33b61b",
        "id": "G2M5JlDWaYPF",
        "trusted": false
      },
      "outputs": [],
      "source": [
        "v_bh=np.ones(test.shape[0])\n",
        "v_ma=test[\"fd_cm_open\"]>test[\"mv_avg_12\"]"
      ]
    },
    {
      "cell_type": "code",
      "execution_count": null,
      "metadata": {
        "_uuid": "3679205d1727d1f02b26057440bf06f273579a75",
        "id": "X6zts_yLaYPF",
        "trusted": false
      },
      "outputs": [],
      "source": [
        "def gross_portfolio(df,w):\n",
        "    portfolio=[ (w*df[\"rapp\"]+(1-w))[:i].prod() for i in range(len(w))]\n",
        "    return portfolio"
      ]
    },
    {
      "cell_type": "code",
      "execution_count": null,
      "metadata": {
        "_uuid": "8aa0e2af981ff047835a8b6bcada903d261e26ad",
        "id": "Mb_5dKGjaYPF",
        "trusted": false
      },
      "outputs": [],
      "source": [
        "plt.figure(figsize=(30,10))\n",
        "plt.plot(gross_portfolio(test,v_bh),label=\"Portfolio Buy and Hold\")\n",
        "plt.plot(gross_portfolio(test,v_ma),label=\"Portfolio Moving Average\")\n",
        "plt.plot(gross_portfolio(test,v_lstm),label=\"Portfolio LSTM\")\n",
        "plt.legend(fontsize=20)\n",
        "plt.grid(axis=\"both\")\n",
        "plt.title(\"Gross portfolios of three methods\", fontsize=25)\n",
        "plt.show()"
      ]
    },
    {
      "cell_type": "code",
      "execution_count": null,
      "metadata": {
        "_uuid": "c293c160d758fcb96cebfe2911470594a82354db",
        "id": "ZaZvp0-YaYPG",
        "trusted": false
      },
      "outputs": [],
      "source": [
        "print(\"Test period of {:.2f} years, from {} to {} \\n\".format(len(v_bh)/12,str(test.loc[test.index[0],\"fd_cm\"])[:10],\\\n",
        "      str(test.loc[test.index[-1],\"fd_nm\"])[:10]))\n",
        "\n",
        "results0=pd.DataFrame({})\n",
        "results1=pd.DataFrame({})\n",
        "results2=pd.DataFrame({})\n",
        "results3=pd.DataFrame({})\n",
        "\n",
        "results0[\"Method\"]=[\"Buy and hold\",\"Moving average\",\"LSTM\"]\n",
        "results1[\"Method\"]=[\"Buy and hold\",\"Moving average\",\"LSTM\"]\n",
        "results2[\"Method\"]=[\"Buy and hold\",\"Moving average\",\"LSTM\"]\n",
        "results3[\"Method\"]=[\"Buy and hold\",\"Moving average\",\"LSTM\"]\n",
        "\n",
        "vs=[v_bh,v_ma,v_lstm]\n",
        "results0[\"Total gross yield\"]=[str(round(yield_gross(test,vi)[0],2))+\" %\" for vi in vs]\n",
        "results1[\"Annual gross yield\"]=[str(round(yield_gross(test,vi)[1],2))+\" %\" for vi in vs]\n",
        "results2[\"Total net yield\"]=[str(round(yield_net(test,vi)[0],2))+\" %\" for vi in vs]\n",
        "results3[\"Annual net yield\"]=[str(round(yield_net(test,vi)[1],2))+\" %\" for vi in vs]\n",
        "\n",
        "print(results0)\n",
        "print(\"\\n\")\n",
        "print(results1)\n",
        "print(\"\\n\")\n",
        "print(results2)\n",
        "print(\"\\n\")\n",
        "print(results3)"
      ]
    }
  ],
  "metadata": {
    "accelerator": "GPU",
    "colab": {
      "gpuType": "T4",
      "provenance": []
    },
    "kernelspec": {
      "display_name": "ee460_project",
      "language": "python",
      "name": "python3"
    },
    "language_info": {
      "codemirror_mode": {
        "name": "ipython",
        "version": 3
      },
      "file_extension": ".py",
      "mimetype": "text/x-python",
      "name": "python",
      "nbconvert_exporter": "python",
      "pygments_lexer": "ipython3",
      "version": "3.12.2"
    }
  },
  "nbformat": 4,
  "nbformat_minor": 0
}
