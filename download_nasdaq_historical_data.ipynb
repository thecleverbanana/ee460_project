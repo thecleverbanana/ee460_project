{
 "cells": [
  {
   "cell_type": "markdown",
   "metadata": {},
   "source": [
    "## Configs"
   ]
  },
  {
   "cell_type": "code",
   "execution_count": 53,
   "metadata": {
    "trusted": true
   },
   "outputs": [],
   "source": [
    "offset = 0\n",
    "limit = 10\n",
    "period = 'max' # valid periods: 1d,5d,1mo,3mo,6mo,1y,2y,5y,10y,ytd,max"
   ]
  },
  {
   "cell_type": "markdown",
   "metadata": {},
   "source": [
    "## Download all NASDAQ traded symbols"
   ]
  },
  {
   "cell_type": "code",
   "execution_count": 54,
   "metadata": {
    "trusted": true
   },
   "outputs": [
    {
     "name": "stdout",
     "output_type": "stream",
     "text": [
      "total number of symbols traded = 11305\n"
     ]
    }
   ],
   "source": [
    "import pandas as pd\n",
    "\n",
    "data = pd.read_csv(\"http://www.nasdaqtrader.com/dynamic/SymDir/nasdaqtraded.txt\", sep='|')\n",
    "data_clean = data[data['Test Issue'] == 'N']\n",
    "symbols = data_clean['NASDAQ Symbol'].tolist()\n",
    "print('total number of symbols traded = {}'.format(len(symbols)))"
   ]
  },
  {
   "cell_type": "markdown",
   "metadata": {},
   "source": [
    "## Download Historic data"
   ]
  },
  {
   "cell_type": "code",
   "execution_count": 55,
   "metadata": {
    "trusted": true
   },
   "outputs": [
    {
     "name": "stdout",
     "output_type": "stream",
     "text": [
      "mkdir: stocks: File exists\n"
     ]
    }
   ],
   "source": [
    "! pip install yfinance > /dev/null 2>&1\n",
    "! mkdir stocks"
   ]
  },
  {
   "cell_type": "code",
   "execution_count": 56,
   "metadata": {
    "trusted": true
   },
   "outputs": [],
   "source": [
    "import yfinance as yf\n",
    "import os, contextlib"
   ]
  },
  {
   "cell_type": "code",
   "execution_count": 60,
   "metadata": {},
   "outputs": [
    {
     "name": "stderr",
     "output_type": "stream",
     "text": [
      "[*********************100%***********************]  1 of 1 completed"
     ]
    },
    {
     "name": "stdout",
     "output_type": "stream",
     "text": [
      "✔ Downloaded AAPL to stocks/AAPL.csv\n"
     ]
    },
    {
     "name": "stderr",
     "output_type": "stream",
     "text": [
      "\n"
     ]
    }
   ],
   "source": [
    "# # Single Stock\n",
    "s = \"AAPL\"\n",
    "folder = \"stocks\"\n",
    "os.makedirs(folder, exist_ok=True) \n",
    "\n",
    "data = yf.download(s, period='max', auto_adjust=False)\n",
    "\n",
    "if len(data.index) > 0:\n",
    "    if isinstance(data.columns, pd.MultiIndex):\n",
    "        data.columns = data.columns.get_level_values(0)\n",
    "\n",
    "    filename = os.path.join(folder, f\"{s}.csv\")\n",
    "    data.to_csv(filename)\n",
    "    print(f\"✔ Downloaded {s} to {filename}\")\n",
    "else:\n",
    "    print(f\"✘ No data found for {s}\")"
   ]
  },
  {
   "cell_type": "code",
   "execution_count": 57,
   "metadata": {
    "scrolled": true,
    "trusted": true
   },
   "outputs": [
    {
     "name": "stderr",
     "output_type": "stream",
     "text": [
      "[*********************100%***********************]  1 of 1 completed\n",
      "[*********************100%***********************]  1 of 1 completed\n",
      "[*********************100%***********************]  1 of 1 completed\n",
      "\n",
      "1 Failed download:\n",
      "['CNO-A']: YFTzMissingError('possibly delisted; no timezone found')\n",
      "[*********************100%***********************]  1 of 1 completed\n",
      "[*********************100%***********************]  1 of 1 completed\n",
      "[*********************100%***********************]  1 of 1 completed\n",
      "[*********************100%***********************]  1 of 1 completed\n",
      "[*********************100%***********************]  1 of 1 completed\n",
      "[*********************100%***********************]  1 of 1 completed\n",
      "[*********************100%***********************]  1 of 1 completed"
     ]
    },
    {
     "name": "stdout",
     "output_type": "stream",
     "text": [
      "Total number of valid symbols downloaded = 9\n"
     ]
    },
    {
     "name": "stderr",
     "output_type": "stream",
     "text": [
      "\n"
     ]
    }
   ],
   "source": [
    "# %%time\n",
    "import random\n",
    "random_select = True\n",
    "\n",
    "if random_select:\n",
    "    symbols_sample = random.sample(symbols, k=limit)\n",
    "else:\n",
    "    limit = limit if limit else len(symbols)\n",
    "    end = min(offset + limit, len(symbols))\n",
    "    symbols_sample = symbols[offset:end]\n",
    "\n",
    "is_valid = [False] * len(symbols_sample)\n",
    "\n",
    "# force silencing of verbose API\n",
    "with open(os.devnull, 'w') as devnull:\n",
    "    with contextlib.redirect_stdout(devnull):\n",
    "        for i, s in enumerate(symbols_sample):\n",
    "            data = yf.download(s, period=period, auto_adjust=False)\n",
    "            if len(data.index) == 0:\n",
    "                continue\n",
    "            \n",
    "            if isinstance(data.columns, pd.MultiIndex):\n",
    "                data.columns = data.columns.get_level_values(0)\n",
    "        \n",
    "            is_valid[i] = True\n",
    "            data.to_csv('stocks/{}.csv'.format(s))\n",
    "\n",
    "print('Total number of valid symbols downloaded = {}'.format(sum(is_valid)))"
   ]
  },
  {
   "cell_type": "code",
   "execution_count": 58,
   "metadata": {},
   "outputs": [
    {
     "name": "stdout",
     "output_type": "stream",
     "text": [
      "Length of symbols: 11305\n",
      "Length of is_valid: 10\n"
     ]
    }
   ],
   "source": [
    "print(\"Length of symbols:\", len(symbols))\n",
    "print(\"Length of is_valid:\", len(is_valid))"
   ]
  },
  {
   "cell_type": "code",
   "execution_count": 59,
   "metadata": {
    "trusted": true
   },
   "outputs": [
    {
     "name": "stdout",
     "output_type": "stream",
     "text": [
      "['PSX', 'FYX', 'USMF', 'GECC', 'BAFE', 'SNCY', 'OTTR', 'AP', 'DFH']\n"
     ]
    }
   ],
   "source": [
    "valid_symbols = [s for i, s in enumerate(symbols_sample) if is_valid[i]]\n",
    "print(valid_symbols)"
   ]
  }
 ],
 "metadata": {
  "kaggle": {
   "accelerator": "none",
   "dataSources": [
    {
     "datasetId": 541298,
     "sourceId": 1054465,
     "sourceType": "datasetVersion"
    }
   ],
   "dockerImageVersionId": 29855,
   "isGpuEnabled": false,
   "isInternetEnabled": false,
   "language": "python",
   "sourceType": "notebook"
  },
  "kernelspec": {
   "display_name": "ee460_project",
   "language": "python",
   "name": "python3"
  },
  "language_info": {
   "codemirror_mode": {
    "name": "ipython",
    "version": 3
   },
   "file_extension": ".py",
   "mimetype": "text/x-python",
   "name": "python",
   "nbconvert_exporter": "python",
   "pygments_lexer": "ipython3",
   "version": "3.12.2"
  }
 },
 "nbformat": 4,
 "nbformat_minor": 4
}
